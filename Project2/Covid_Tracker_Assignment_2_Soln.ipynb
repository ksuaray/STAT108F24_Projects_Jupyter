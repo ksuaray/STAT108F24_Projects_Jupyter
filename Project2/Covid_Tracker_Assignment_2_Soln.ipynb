{
  "cells": [
    {
      "cell_type": "markdown",
      "metadata": {
        "colab_type": "text",
        "id": "view-in-github"
      },
      "source": [
        "<a href=\"https://colab.research.google.com/github/ksuaray/LAEP_S24/blob/Covid/Covid_Tracker_Assignment.ipynb\" target=\"_parent\"><img src=\"https://colab.research.google.com/assets/colab-badge.svg\" alt=\"Open In Colab\"/></a>"
      ]
    },
    {
      "cell_type": "markdown",
      "metadata": {
        "id": "WOWuLyetinsJ"
      },
      "source": [
        "**Covid-19 Case Tracker**"
      ]
    },
    {
      "cell_type": "markdown",
      "metadata": {
        "id": "AxPB-FE5lQIX"
      },
      "source": [
        "#**Importing Necessary Python Modules**\n",
        "\n",
        "Python incorporates a variety of open source add-ins called **modules** that enable us to be able to"
      ]
    },
    {
      "cell_type": "code",
      "execution_count": 2,
      "metadata": {
        "id": "DIbfBAiwmTlf"
      },
      "outputs": [],
      "source": [
        "import pandas as pd\n",
        "import numpy as np\n",
        "import plotly.express as px\n",
        "from IPython.display import Image\n",
        "import statsmodels.api as sm\n"
      ]
    },
    {
      "cell_type": "markdown",
      "metadata": {
        "id": "XJjnfq1hitm8"
      },
      "source": [
        "#**Context**\n",
        "\n",
        "The Associated Press (AP) is using data collected by the Johns Hopkins University Center for Systems Science and Engineering as our source for outbreak caseloads and death counts for the United States and globally.\n",
        "\n",
        "The Hopkins data is available at the county level in the United States. The AP has paired this data with population figures and county rural/urban designations, and has calculated caseload and death rates per 100,000 people. Be aware that caseloads may reflect the availability of tests -and the ability to turn around test results quickly -- rather than actual disease spread or true infection rates.\n",
        "\n",
        "This data is from the [Hopkins dashboard](https://www.arcgis.com/apps/dashboards/bda7594740fd40299423467b48e9ecf6) that is updated regularly throughout the day. Like all organizations dealing with data, Hopkins is constantly refining and cleaning up their feed, so there may be brief moments where data does not appear correctly. At [this link](https://github.com/CSSEGISandData/COVID-19/tree/master/csse_covid_19_data), you’ll find the Hopkins daily data reports, and a clean version of their feed.\n",
        "\n",
        "The AP is updates this dataset hourly at 45 minutes past the hour.\n",
        "\n",
        "To learn more about AP's data journalism capabilities for publishers, corporations and financial institutions, go [here](http://https/www.ap.org/en-us/formats/data-journalism) or email kromano@ap.org.\n",
        "\n",
        "Attribution: Johns Hopkins University COVID-19 tracking project"
      ]
    },
    {
      "cell_type": "code",
      "execution_count": 3,
      "metadata": {
        "colab": {
          "base_uri": "https://localhost:8080/",
          "height": 1000
        },
        "id": "oJft7wQooCFx",
        "outputId": "fcdd8eaf-9fc2-4277-cde1-9bc13944d4a1"
      },
      "outputs": [
        {
          "data": {
            "text/html": [
              "<img src=\"https://t3.ftcdn.net/jpg/03/33/03/90/240_F_333039083_vkw5CtEmwFSv4ibMFpOpmv49pPTawcDh.jpg\"/>"
            ],
            "text/plain": [
              "<IPython.core.display.Image object>"
            ]
          },
          "execution_count": 3,
          "metadata": {},
          "output_type": "execute_result"
        }
      ],
      "source": [
        "# Replace 'image_url' with the URL of the image you want to display\n",
        "image_url = 'https://t3.ftcdn.net/jpg/03/33/03/90/240_F_333039083_vkw5CtEmwFSv4ibMFpOpmv49pPTawcDh.jpg'\n",
        "\n",
        "# Display the image\n",
        "Image(url=image_url)"
      ]
    },
    {
      "cell_type": "markdown",
      "metadata": {
        "id": "bQfu7EYxi7Md"
      },
      "source": [
        "#**About the Dataset**\n",
        "\n",
        "This dataset contains 142 rows corresponding to a random sample of counties. A total of 7 variables are provided as listed below:"
      ]
    },
    {
      "cell_type": "markdown",
      "metadata": {
        "id": "XusIoTTPjC87"
      },
      "source": [
        "**Variables**\n",
        "\n",
        "| Variable Name(s)  | Description |\n",
        "|-------------------|-------------|\n",
        "| County_name       | The name of the county |\n",
        "| state             | State in which the county is located |\n",
        "| nchs_urbanization | Urban-Rural category. For more details see [CDC Urban-Rural Classification Scheme for Counties](https://www.cdc.gov/nchs/data/series/sr_02/sr02_166.pdf) |\n",
        "| total_population  | County population |\n",
        "| confirmed         | Number of confirmed covid-19 cases in county |\n",
        "| confirmed_per_100000 | Population adjusted confirmed covid-19 case rate per 100000 people |\n",
        "| deaths            | Number of deaths in county due to covid-19 |\n",
        "| deaths_per_100000 | Population adjusted covid-19 death rate per 100000 people |\n",
        "\n"
      ]
    },
    {
      "cell_type": "markdown",
      "metadata": {
        "id": "dzjbhJhzktKp"
      },
      "source": [
        "*Attribution:  FiveThirtyEight.com*\n",
        "\n",
        "We can view a snippet of the data by first importing it directly from the url below[link text](https://).\n",
        "\n",
        "**Data**"
      ]
    },
    {
      "cell_type": "code",
      "execution_count": 4,
      "metadata": {
        "id": "1RtdwLBwidY4"
      },
      "outputs": [],
      "source": [
        "file_path = \"https://raw.githubusercontent.com/ksuaray/LAEP_S24/Covid/covid_cases23.csv\"\n",
        "df = pd.read_csv(file_path)\n"
      ]
    },
    {
      "cell_type": "markdown",
      "metadata": {
        "id": "cj8T9vdrimYo"
      },
      "source": [
        "Next, we can display the data by typing the name of the DataFrame. To ensure we can see all columns, we'll use the *pd.set_option* method."
      ]
    },
    {
      "cell_type": "code",
      "execution_count": 5,
      "metadata": {
        "colab": {
          "base_uri": "https://localhost:8080/",
          "height": 774
        },
        "id": "YT5tP1d8pQli",
        "outputId": "d0fc8a37-eacb-47d0-dfbd-ff4d75b5e813"
      },
      "outputs": [
        {
          "data": {
            "text/html": [
              "<div>\n",
              "<style scoped>\n",
              "    .dataframe tbody tr th:only-of-type {\n",
              "        vertical-align: middle;\n",
              "    }\n",
              "\n",
              "    .dataframe tbody tr th {\n",
              "        vertical-align: top;\n",
              "    }\n",
              "\n",
              "    .dataframe thead th {\n",
              "        text-align: right;\n",
              "    }\n",
              "</style>\n",
              "<table border=\"1\" class=\"dataframe\">\n",
              "  <thead>\n",
              "    <tr style=\"text-align: right;\">\n",
              "      <th></th>\n",
              "      <th>county_name</th>\n",
              "      <th>state</th>\n",
              "      <th>nchs_urbanization</th>\n",
              "      <th>total_population</th>\n",
              "      <th>confirmed</th>\n",
              "      <th>confirmed_per_100000</th>\n",
              "      <th>deaths</th>\n",
              "      <th>deaths_per_100000</th>\n",
              "    </tr>\n",
              "  </thead>\n",
              "  <tbody>\n",
              "    <tr>\n",
              "      <th>0</th>\n",
              "      <td>Lowndes</td>\n",
              "      <td>Alabama</td>\n",
              "      <td>Medium metro</td>\n",
              "      <td>10236</td>\n",
              "      <td>3251</td>\n",
              "      <td>31760.45</td>\n",
              "      <td>80</td>\n",
              "      <td>781.56</td>\n",
              "    </tr>\n",
              "    <tr>\n",
              "      <th>1</th>\n",
              "      <td>Ontario</td>\n",
              "      <td>New York</td>\n",
              "      <td>Large fringe metro</td>\n",
              "      <td>109472</td>\n",
              "      <td>25821</td>\n",
              "      <td>23586.85</td>\n",
              "      <td>212</td>\n",
              "      <td>193.66</td>\n",
              "    </tr>\n",
              "    <tr>\n",
              "      <th>2</th>\n",
              "      <td>Waukesha</td>\n",
              "      <td>Wisconsin</td>\n",
              "      <td>Large fringe metro</td>\n",
              "      <td>398879</td>\n",
              "      <td>137985</td>\n",
              "      <td>34593.20</td>\n",
              "      <td>1216</td>\n",
              "      <td>304.85</td>\n",
              "    </tr>\n",
              "    <tr>\n",
              "      <th>3</th>\n",
              "      <td>Escambia</td>\n",
              "      <td>Florida</td>\n",
              "      <td>Medium metro</td>\n",
              "      <td>311522</td>\n",
              "      <td>96194</td>\n",
              "      <td>30878.72</td>\n",
              "      <td>1452</td>\n",
              "      <td>466.10</td>\n",
              "    </tr>\n",
              "    <tr>\n",
              "      <th>4</th>\n",
              "      <td>Greenbrier</td>\n",
              "      <td>West Virginia</td>\n",
              "      <td>Non-core</td>\n",
              "      <td>35347</td>\n",
              "      <td>12633</td>\n",
              "      <td>35739.95</td>\n",
              "      <td>182</td>\n",
              "      <td>514.90</td>\n",
              "    </tr>\n",
              "    <tr>\n",
              "      <th>...</th>\n",
              "      <td>...</td>\n",
              "      <td>...</td>\n",
              "      <td>...</td>\n",
              "      <td>...</td>\n",
              "      <td>...</td>\n",
              "      <td>...</td>\n",
              "      <td>...</td>\n",
              "      <td>...</td>\n",
              "    </tr>\n",
              "    <tr>\n",
              "      <th>137</th>\n",
              "      <td>Bourbon</td>\n",
              "      <td>Kentucky</td>\n",
              "      <td>Medium metro</td>\n",
              "      <td>20144</td>\n",
              "      <td>7688</td>\n",
              "      <td>38165.21</td>\n",
              "      <td>73</td>\n",
              "      <td>362.39</td>\n",
              "    </tr>\n",
              "    <tr>\n",
              "      <th>138</th>\n",
              "      <td>Schley</td>\n",
              "      <td>Georgia</td>\n",
              "      <td>Micropolitan</td>\n",
              "      <td>5211</td>\n",
              "      <td>1387</td>\n",
              "      <td>26616.77</td>\n",
              "      <td>11</td>\n",
              "      <td>211.09</td>\n",
              "    </tr>\n",
              "    <tr>\n",
              "      <th>139</th>\n",
              "      <td>Neshoba</td>\n",
              "      <td>Mississippi</td>\n",
              "      <td>Non-core</td>\n",
              "      <td>29376</td>\n",
              "      <td>12475</td>\n",
              "      <td>42466.64</td>\n",
              "      <td>247</td>\n",
              "      <td>840.82</td>\n",
              "    </tr>\n",
              "    <tr>\n",
              "      <th>140</th>\n",
              "      <td>Wise</td>\n",
              "      <td>Virginia</td>\n",
              "      <td>Micropolitan</td>\n",
              "      <td>39025</td>\n",
              "      <td>13596</td>\n",
              "      <td>34839.21</td>\n",
              "      <td>225</td>\n",
              "      <td>576.55</td>\n",
              "    </tr>\n",
              "    <tr>\n",
              "      <th>141</th>\n",
              "      <td>Cottonwood</td>\n",
              "      <td>Minnesota</td>\n",
              "      <td>Non-core</td>\n",
              "      <td>11372</td>\n",
              "      <td>3714</td>\n",
              "      <td>32659.16</td>\n",
              "      <td>42</td>\n",
              "      <td>369.33</td>\n",
              "    </tr>\n",
              "  </tbody>\n",
              "</table>\n",
              "<p>142 rows × 8 columns</p>\n",
              "</div>"
            ],
            "text/plain": [
              "    county_name          state   nchs_urbanization  total_population  \\\n",
              "0       Lowndes        Alabama        Medium metro             10236   \n",
              "1       Ontario       New York  Large fringe metro            109472   \n",
              "2      Waukesha      Wisconsin  Large fringe metro            398879   \n",
              "3      Escambia        Florida        Medium metro            311522   \n",
              "4    Greenbrier  West Virginia            Non-core             35347   \n",
              "..          ...            ...                 ...               ...   \n",
              "137     Bourbon       Kentucky        Medium metro             20144   \n",
              "138      Schley        Georgia        Micropolitan              5211   \n",
              "139     Neshoba    Mississippi            Non-core             29376   \n",
              "140        Wise       Virginia        Micropolitan             39025   \n",
              "141  Cottonwood      Minnesota            Non-core             11372   \n",
              "\n",
              "     confirmed  confirmed_per_100000  deaths  deaths_per_100000  \n",
              "0         3251              31760.45      80             781.56  \n",
              "1        25821              23586.85     212             193.66  \n",
              "2       137985              34593.20    1216             304.85  \n",
              "3        96194              30878.72    1452             466.10  \n",
              "4        12633              35739.95     182             514.90  \n",
              "..         ...                   ...     ...                ...  \n",
              "137       7688              38165.21      73             362.39  \n",
              "138       1387              26616.77      11             211.09  \n",
              "139      12475              42466.64     247             840.82  \n",
              "140      13596              34839.21     225             576.55  \n",
              "141       3714              32659.16      42             369.33  \n",
              "\n",
              "[142 rows x 8 columns]"
            ]
          },
          "execution_count": 5,
          "metadata": {},
          "output_type": "execute_result"
        }
      ],
      "source": [
        "# Set display options to show all columns\n",
        "pd.set_option('display.max_columns', None)\n",
        "df"
      ]
    },
    {
      "cell_type": "markdown",
      "metadata": {
        "id": "U7JAQ1iOyzty"
      },
      "source": [
        "#**ASSIGNMENT 1 - Correlation and Regression Analysis**"
      ]
    },
    {
      "cell_type": "markdown",
      "metadata": {
        "id": "VEm2KmlyzJGY"
      },
      "source": [
        "**INSTRUCTIONS**\n",
        "\n",
        "This assignment is intended to explore the univariate linear relationships between quantitative variables in the data. Use SPSS to analyze the relationship between the two variables and complete each of the following questions. As appropriate, copy the SPSS output and paste it into the correct part below. For problems that require a written response, type the answer below."
      ]
    },
    {
      "cell_type": "markdown",
      "metadata": {
        "id": "xkEtDHs70CzZ"
      },
      "source": [
        "##**QUESTION 1**\n",
        "\n",
        "Construct two scatterplots, each with independent variable TOTAL_POPULATION (x) and dependent variables based on your last name:"
      ]
    },
    {
      "cell_type": "markdown",
      "metadata": {
        "id": "c_N4nnLD3O_Y"
      },
      "source": [
        "| LAST NAME | Dependent Variable 1 (y) | Dependent Variable 2 (y) |\n",
        "|-----------|--------------------------|--------------------------|\n",
        "| A-M       | CONFIRMED                | CONFIRMED_PER_100000     |\n",
        "| N-Z       | DEATHS                   | DEATHS_PER_100000        |\n",
        "\n"
      ]
    },
    {
      "cell_type": "code",
      "execution_count": 6,
      "metadata": {},
      "outputs": [
        {
          "data": {
            "application/vnd.plotly.v1+json": {
              "config": {
                "plotlyServerURL": "https://plot.ly"
              },
              "data": [
                {
                  "hovertemplate": "total_population=%{x}<br>confirmed=%{y}<extra></extra>",
                  "legendgroup": "",
                  "marker": {
                    "color": "#636efa",
                    "symbol": "circle"
                  },
                  "mode": "markers",
                  "name": "",
                  "orientation": "v",
                  "showlegend": false,
                  "type": "scatter",
                  "x": [
                    10236,
                    109472,
                    398879,
                    311522,
                    35347,
                    2609,
                    29167,
                    64902,
                    66532,
                    69105,
                    6600,
                    15712,
                    140217,
                    777,
                    13976,
                    239164,
                    306713,
                    3058,
                    14443,
                    15500,
                    14120,
                    1951,
                    34113,
                    176515,
                    27819,
                    6222,
                    17635,
                    14960,
                    8426,
                    24440,
                    317884,
                    5582,
                    85755,
                    43983,
                    15622,
                    5872,
                    5270,
                    3667,
                    17153,
                    13374,
                    8796,
                    6032,
                    25076,
                    52724,
                    5525,
                    8827,
                    158913,
                    6399,
                    11417,
                    3275,
                    168838,
                    92152,
                    113625,
                    13389,
                    668631,
                    33837,
                    68472,
                    12468,
                    944348,
                    45114,
                    14702,
                    207829,
                    17672,
                    26028,
                    4967,
                    2460,
                    25066,
                    576808,
                    33403,
                    21926,
                    15796,
                    138674,
                    188482,
                    9996,
                    8019,
                    39307,
                    1546,
                    40980,
                    357546,
                    98136,
                    849389,
                    89811,
                    45694,
                    286316,
                    25737,
                    23877,
                    81893,
                    75757,
                    14288,
                    12424,
                    812037,
                    73830,
                    24231,
                    13331,
                    49355,
                    80216,
                    8218,
                    2029,
                    1133247,
                    134473,
                    6343,
                    5929,
                    94860,
                    7110,
                    1780,
                    1200,
                    72206,
                    23160,
                    27668,
                    15177,
                    8205,
                    179473,
                    3932,
                    5174,
                    81427,
                    5234,
                    42256,
                    19430,
                    15504,
                    3994,
                    859840,
                    21103,
                    8842,
                    2518,
                    8536,
                    296112,
                    36683,
                    81746,
                    7188,
                    696,
                    40127,
                    418201,
                    8570,
                    62568,
                    389648,
                    527634,
                    28495,
                    20144,
                    5211,
                    29376,
                    39025,
                    11372
                  ],
                  "xaxis": "x",
                  "y": [
                    3251,
                    25821,
                    137985,
                    96194,
                    12633,
                    611,
                    11303,
                    26015,
                    21220,
                    25040,
                    1390,
                    4092,
                    52308,
                    147,
                    5113,
                    33054,
                    87472,
                    524,
                    3862,
                    5581,
                    2807,
                    280,
                    8305,
                    52324,
                    6617,
                    1750,
                    7604,
                    4755,
                    2240,
                    8311,
                    92360,
                    1850,
                    21493,
                    13060,
                    3991,
                    2327,
                    1798,
                    828,
                    6230,
                    3035,
                    2050,
                    1712,
                    6860,
                    16796,
                    1599,
                    1724,
                    49773,
                    2241,
                    3014,
                    1061,
                    57157,
                    19466,
                    32491,
                    4604,
                    233624,
                    10943,
                    18864,
                    3837,
                    260498,
                    13384,
                    5502,
                    70420,
                    3986,
                    5787,
                    1528,
                    588,
                    5434,
                    171168,
                    9082,
                    7393,
                    5293,
                    44698,
                    57562,
                    4397,
                    2449,
                    13180,
                    570,
                    12814,
                    119588,
                    25336,
                    262948,
                    22857,
                    14119,
                    121109,
                    6109,
                    5575,
                    26106,
                    23939,
                    4367,
                    2974,
                    233656,
                    24759,
                    10228,
                    4552,
                    8727,
                    23894,
                    2371,
                    475,
                    289187,
                    42048,
                    1913,
                    1651,
                    31022,
                    2610,
                    544,
                    391,
                    23649,
                    6216,
                    8602,
                    4323,
                    2529,
                    64195,
                    1368,
                    676,
                    20158,
                    1110,
                    11901,
                    6257,
                    3903,
                    1049,
                    241341,
                    5839,
                    1649,
                    793,
                    2487,
                    122828,
                    11864,
                    29703,
                    1425,
                    102,
                    13561,
                    134556,
                    2951,
                    18642,
                    111398,
                    147538,
                    8480,
                    7688,
                    1387,
                    12475,
                    13596,
                    3714
                  ],
                  "yaxis": "y"
                }
              ],
              "layout": {
                "legend": {
                  "tracegroupgap": 0
                },
                "template": {
                  "data": {
                    "bar": [
                      {
                        "error_x": {
                          "color": "#2a3f5f"
                        },
                        "error_y": {
                          "color": "#2a3f5f"
                        },
                        "marker": {
                          "line": {
                            "color": "#E5ECF6",
                            "width": 0.5
                          },
                          "pattern": {
                            "fillmode": "overlay",
                            "size": 10,
                            "solidity": 0.2
                          }
                        },
                        "type": "bar"
                      }
                    ],
                    "barpolar": [
                      {
                        "marker": {
                          "line": {
                            "color": "#E5ECF6",
                            "width": 0.5
                          },
                          "pattern": {
                            "fillmode": "overlay",
                            "size": 10,
                            "solidity": 0.2
                          }
                        },
                        "type": "barpolar"
                      }
                    ],
                    "carpet": [
                      {
                        "aaxis": {
                          "endlinecolor": "#2a3f5f",
                          "gridcolor": "white",
                          "linecolor": "white",
                          "minorgridcolor": "white",
                          "startlinecolor": "#2a3f5f"
                        },
                        "baxis": {
                          "endlinecolor": "#2a3f5f",
                          "gridcolor": "white",
                          "linecolor": "white",
                          "minorgridcolor": "white",
                          "startlinecolor": "#2a3f5f"
                        },
                        "type": "carpet"
                      }
                    ],
                    "choropleth": [
                      {
                        "colorbar": {
                          "outlinewidth": 0,
                          "ticks": ""
                        },
                        "type": "choropleth"
                      }
                    ],
                    "contour": [
                      {
                        "colorbar": {
                          "outlinewidth": 0,
                          "ticks": ""
                        },
                        "colorscale": [
                          [
                            0,
                            "#0d0887"
                          ],
                          [
                            0.1111111111111111,
                            "#46039f"
                          ],
                          [
                            0.2222222222222222,
                            "#7201a8"
                          ],
                          [
                            0.3333333333333333,
                            "#9c179e"
                          ],
                          [
                            0.4444444444444444,
                            "#bd3786"
                          ],
                          [
                            0.5555555555555556,
                            "#d8576b"
                          ],
                          [
                            0.6666666666666666,
                            "#ed7953"
                          ],
                          [
                            0.7777777777777778,
                            "#fb9f3a"
                          ],
                          [
                            0.8888888888888888,
                            "#fdca26"
                          ],
                          [
                            1,
                            "#f0f921"
                          ]
                        ],
                        "type": "contour"
                      }
                    ],
                    "contourcarpet": [
                      {
                        "colorbar": {
                          "outlinewidth": 0,
                          "ticks": ""
                        },
                        "type": "contourcarpet"
                      }
                    ],
                    "heatmap": [
                      {
                        "colorbar": {
                          "outlinewidth": 0,
                          "ticks": ""
                        },
                        "colorscale": [
                          [
                            0,
                            "#0d0887"
                          ],
                          [
                            0.1111111111111111,
                            "#46039f"
                          ],
                          [
                            0.2222222222222222,
                            "#7201a8"
                          ],
                          [
                            0.3333333333333333,
                            "#9c179e"
                          ],
                          [
                            0.4444444444444444,
                            "#bd3786"
                          ],
                          [
                            0.5555555555555556,
                            "#d8576b"
                          ],
                          [
                            0.6666666666666666,
                            "#ed7953"
                          ],
                          [
                            0.7777777777777778,
                            "#fb9f3a"
                          ],
                          [
                            0.8888888888888888,
                            "#fdca26"
                          ],
                          [
                            1,
                            "#f0f921"
                          ]
                        ],
                        "type": "heatmap"
                      }
                    ],
                    "heatmapgl": [
                      {
                        "colorbar": {
                          "outlinewidth": 0,
                          "ticks": ""
                        },
                        "colorscale": [
                          [
                            0,
                            "#0d0887"
                          ],
                          [
                            0.1111111111111111,
                            "#46039f"
                          ],
                          [
                            0.2222222222222222,
                            "#7201a8"
                          ],
                          [
                            0.3333333333333333,
                            "#9c179e"
                          ],
                          [
                            0.4444444444444444,
                            "#bd3786"
                          ],
                          [
                            0.5555555555555556,
                            "#d8576b"
                          ],
                          [
                            0.6666666666666666,
                            "#ed7953"
                          ],
                          [
                            0.7777777777777778,
                            "#fb9f3a"
                          ],
                          [
                            0.8888888888888888,
                            "#fdca26"
                          ],
                          [
                            1,
                            "#f0f921"
                          ]
                        ],
                        "type": "heatmapgl"
                      }
                    ],
                    "histogram": [
                      {
                        "marker": {
                          "pattern": {
                            "fillmode": "overlay",
                            "size": 10,
                            "solidity": 0.2
                          }
                        },
                        "type": "histogram"
                      }
                    ],
                    "histogram2d": [
                      {
                        "colorbar": {
                          "outlinewidth": 0,
                          "ticks": ""
                        },
                        "colorscale": [
                          [
                            0,
                            "#0d0887"
                          ],
                          [
                            0.1111111111111111,
                            "#46039f"
                          ],
                          [
                            0.2222222222222222,
                            "#7201a8"
                          ],
                          [
                            0.3333333333333333,
                            "#9c179e"
                          ],
                          [
                            0.4444444444444444,
                            "#bd3786"
                          ],
                          [
                            0.5555555555555556,
                            "#d8576b"
                          ],
                          [
                            0.6666666666666666,
                            "#ed7953"
                          ],
                          [
                            0.7777777777777778,
                            "#fb9f3a"
                          ],
                          [
                            0.8888888888888888,
                            "#fdca26"
                          ],
                          [
                            1,
                            "#f0f921"
                          ]
                        ],
                        "type": "histogram2d"
                      }
                    ],
                    "histogram2dcontour": [
                      {
                        "colorbar": {
                          "outlinewidth": 0,
                          "ticks": ""
                        },
                        "colorscale": [
                          [
                            0,
                            "#0d0887"
                          ],
                          [
                            0.1111111111111111,
                            "#46039f"
                          ],
                          [
                            0.2222222222222222,
                            "#7201a8"
                          ],
                          [
                            0.3333333333333333,
                            "#9c179e"
                          ],
                          [
                            0.4444444444444444,
                            "#bd3786"
                          ],
                          [
                            0.5555555555555556,
                            "#d8576b"
                          ],
                          [
                            0.6666666666666666,
                            "#ed7953"
                          ],
                          [
                            0.7777777777777778,
                            "#fb9f3a"
                          ],
                          [
                            0.8888888888888888,
                            "#fdca26"
                          ],
                          [
                            1,
                            "#f0f921"
                          ]
                        ],
                        "type": "histogram2dcontour"
                      }
                    ],
                    "mesh3d": [
                      {
                        "colorbar": {
                          "outlinewidth": 0,
                          "ticks": ""
                        },
                        "type": "mesh3d"
                      }
                    ],
                    "parcoords": [
                      {
                        "line": {
                          "colorbar": {
                            "outlinewidth": 0,
                            "ticks": ""
                          }
                        },
                        "type": "parcoords"
                      }
                    ],
                    "pie": [
                      {
                        "automargin": true,
                        "type": "pie"
                      }
                    ],
                    "scatter": [
                      {
                        "fillpattern": {
                          "fillmode": "overlay",
                          "size": 10,
                          "solidity": 0.2
                        },
                        "type": "scatter"
                      }
                    ],
                    "scatter3d": [
                      {
                        "line": {
                          "colorbar": {
                            "outlinewidth": 0,
                            "ticks": ""
                          }
                        },
                        "marker": {
                          "colorbar": {
                            "outlinewidth": 0,
                            "ticks": ""
                          }
                        },
                        "type": "scatter3d"
                      }
                    ],
                    "scattercarpet": [
                      {
                        "marker": {
                          "colorbar": {
                            "outlinewidth": 0,
                            "ticks": ""
                          }
                        },
                        "type": "scattercarpet"
                      }
                    ],
                    "scattergeo": [
                      {
                        "marker": {
                          "colorbar": {
                            "outlinewidth": 0,
                            "ticks": ""
                          }
                        },
                        "type": "scattergeo"
                      }
                    ],
                    "scattergl": [
                      {
                        "marker": {
                          "colorbar": {
                            "outlinewidth": 0,
                            "ticks": ""
                          }
                        },
                        "type": "scattergl"
                      }
                    ],
                    "scattermapbox": [
                      {
                        "marker": {
                          "colorbar": {
                            "outlinewidth": 0,
                            "ticks": ""
                          }
                        },
                        "type": "scattermapbox"
                      }
                    ],
                    "scatterpolar": [
                      {
                        "marker": {
                          "colorbar": {
                            "outlinewidth": 0,
                            "ticks": ""
                          }
                        },
                        "type": "scatterpolar"
                      }
                    ],
                    "scatterpolargl": [
                      {
                        "marker": {
                          "colorbar": {
                            "outlinewidth": 0,
                            "ticks": ""
                          }
                        },
                        "type": "scatterpolargl"
                      }
                    ],
                    "scatterternary": [
                      {
                        "marker": {
                          "colorbar": {
                            "outlinewidth": 0,
                            "ticks": ""
                          }
                        },
                        "type": "scatterternary"
                      }
                    ],
                    "surface": [
                      {
                        "colorbar": {
                          "outlinewidth": 0,
                          "ticks": ""
                        },
                        "colorscale": [
                          [
                            0,
                            "#0d0887"
                          ],
                          [
                            0.1111111111111111,
                            "#46039f"
                          ],
                          [
                            0.2222222222222222,
                            "#7201a8"
                          ],
                          [
                            0.3333333333333333,
                            "#9c179e"
                          ],
                          [
                            0.4444444444444444,
                            "#bd3786"
                          ],
                          [
                            0.5555555555555556,
                            "#d8576b"
                          ],
                          [
                            0.6666666666666666,
                            "#ed7953"
                          ],
                          [
                            0.7777777777777778,
                            "#fb9f3a"
                          ],
                          [
                            0.8888888888888888,
                            "#fdca26"
                          ],
                          [
                            1,
                            "#f0f921"
                          ]
                        ],
                        "type": "surface"
                      }
                    ],
                    "table": [
                      {
                        "cells": {
                          "fill": {
                            "color": "#EBF0F8"
                          },
                          "line": {
                            "color": "white"
                          }
                        },
                        "header": {
                          "fill": {
                            "color": "#C8D4E3"
                          },
                          "line": {
                            "color": "white"
                          }
                        },
                        "type": "table"
                      }
                    ]
                  },
                  "layout": {
                    "annotationdefaults": {
                      "arrowcolor": "#2a3f5f",
                      "arrowhead": 0,
                      "arrowwidth": 1
                    },
                    "autotypenumbers": "strict",
                    "coloraxis": {
                      "colorbar": {
                        "outlinewidth": 0,
                        "ticks": ""
                      }
                    },
                    "colorscale": {
                      "diverging": [
                        [
                          0,
                          "#8e0152"
                        ],
                        [
                          0.1,
                          "#c51b7d"
                        ],
                        [
                          0.2,
                          "#de77ae"
                        ],
                        [
                          0.3,
                          "#f1b6da"
                        ],
                        [
                          0.4,
                          "#fde0ef"
                        ],
                        [
                          0.5,
                          "#f7f7f7"
                        ],
                        [
                          0.6,
                          "#e6f5d0"
                        ],
                        [
                          0.7,
                          "#b8e186"
                        ],
                        [
                          0.8,
                          "#7fbc41"
                        ],
                        [
                          0.9,
                          "#4d9221"
                        ],
                        [
                          1,
                          "#276419"
                        ]
                      ],
                      "sequential": [
                        [
                          0,
                          "#0d0887"
                        ],
                        [
                          0.1111111111111111,
                          "#46039f"
                        ],
                        [
                          0.2222222222222222,
                          "#7201a8"
                        ],
                        [
                          0.3333333333333333,
                          "#9c179e"
                        ],
                        [
                          0.4444444444444444,
                          "#bd3786"
                        ],
                        [
                          0.5555555555555556,
                          "#d8576b"
                        ],
                        [
                          0.6666666666666666,
                          "#ed7953"
                        ],
                        [
                          0.7777777777777778,
                          "#fb9f3a"
                        ],
                        [
                          0.8888888888888888,
                          "#fdca26"
                        ],
                        [
                          1,
                          "#f0f921"
                        ]
                      ],
                      "sequentialminus": [
                        [
                          0,
                          "#0d0887"
                        ],
                        [
                          0.1111111111111111,
                          "#46039f"
                        ],
                        [
                          0.2222222222222222,
                          "#7201a8"
                        ],
                        [
                          0.3333333333333333,
                          "#9c179e"
                        ],
                        [
                          0.4444444444444444,
                          "#bd3786"
                        ],
                        [
                          0.5555555555555556,
                          "#d8576b"
                        ],
                        [
                          0.6666666666666666,
                          "#ed7953"
                        ],
                        [
                          0.7777777777777778,
                          "#fb9f3a"
                        ],
                        [
                          0.8888888888888888,
                          "#fdca26"
                        ],
                        [
                          1,
                          "#f0f921"
                        ]
                      ]
                    },
                    "colorway": [
                      "#636efa",
                      "#EF553B",
                      "#00cc96",
                      "#ab63fa",
                      "#FFA15A",
                      "#19d3f3",
                      "#FF6692",
                      "#B6E880",
                      "#FF97FF",
                      "#FECB52"
                    ],
                    "font": {
                      "color": "#2a3f5f"
                    },
                    "geo": {
                      "bgcolor": "white",
                      "lakecolor": "white",
                      "landcolor": "#E5ECF6",
                      "showlakes": true,
                      "showland": true,
                      "subunitcolor": "white"
                    },
                    "hoverlabel": {
                      "align": "left"
                    },
                    "hovermode": "closest",
                    "mapbox": {
                      "style": "light"
                    },
                    "paper_bgcolor": "white",
                    "plot_bgcolor": "#E5ECF6",
                    "polar": {
                      "angularaxis": {
                        "gridcolor": "white",
                        "linecolor": "white",
                        "ticks": ""
                      },
                      "bgcolor": "#E5ECF6",
                      "radialaxis": {
                        "gridcolor": "white",
                        "linecolor": "white",
                        "ticks": ""
                      }
                    },
                    "scene": {
                      "xaxis": {
                        "backgroundcolor": "#E5ECF6",
                        "gridcolor": "white",
                        "gridwidth": 2,
                        "linecolor": "white",
                        "showbackground": true,
                        "ticks": "",
                        "zerolinecolor": "white"
                      },
                      "yaxis": {
                        "backgroundcolor": "#E5ECF6",
                        "gridcolor": "white",
                        "gridwidth": 2,
                        "linecolor": "white",
                        "showbackground": true,
                        "ticks": "",
                        "zerolinecolor": "white"
                      },
                      "zaxis": {
                        "backgroundcolor": "#E5ECF6",
                        "gridcolor": "white",
                        "gridwidth": 2,
                        "linecolor": "white",
                        "showbackground": true,
                        "ticks": "",
                        "zerolinecolor": "white"
                      }
                    },
                    "shapedefaults": {
                      "line": {
                        "color": "#2a3f5f"
                      }
                    },
                    "ternary": {
                      "aaxis": {
                        "gridcolor": "white",
                        "linecolor": "white",
                        "ticks": ""
                      },
                      "baxis": {
                        "gridcolor": "white",
                        "linecolor": "white",
                        "ticks": ""
                      },
                      "bgcolor": "#E5ECF6",
                      "caxis": {
                        "gridcolor": "white",
                        "linecolor": "white",
                        "ticks": ""
                      }
                    },
                    "title": {
                      "x": 0.05
                    },
                    "xaxis": {
                      "automargin": true,
                      "gridcolor": "white",
                      "linecolor": "white",
                      "ticks": "",
                      "title": {
                        "standoff": 15
                      },
                      "zerolinecolor": "white",
                      "zerolinewidth": 2
                    },
                    "yaxis": {
                      "automargin": true,
                      "gridcolor": "white",
                      "linecolor": "white",
                      "ticks": "",
                      "title": {
                        "standoff": 15
                      },
                      "zerolinecolor": "white",
                      "zerolinewidth": 2
                    }
                  }
                },
                "title": {
                  "text": "Scatter Plot of confirmed by total_population for A-M"
                },
                "xaxis": {
                  "anchor": "y",
                  "domain": [
                    0,
                    1
                  ],
                  "title": {
                    "text": "total_population"
                  }
                },
                "yaxis": {
                  "anchor": "x",
                  "domain": [
                    0,
                    1
                  ],
                  "title": {
                    "text": "confirmed"
                  }
                }
              }
            }
          },
          "metadata": {},
          "output_type": "display_data"
        },
        {
          "data": {
            "application/vnd.plotly.v1+json": {
              "config": {
                "plotlyServerURL": "https://plot.ly"
              },
              "data": [
                {
                  "hovertemplate": "total_population=%{x}<br>confirmed_per_100000=%{y}<extra></extra>",
                  "legendgroup": "",
                  "marker": {
                    "color": "#636efa",
                    "symbol": "circle"
                  },
                  "mode": "markers",
                  "name": "",
                  "orientation": "v",
                  "showlegend": false,
                  "type": "scatter",
                  "x": [
                    10236,
                    109472,
                    398879,
                    311522,
                    35347,
                    2609,
                    29167,
                    64902,
                    66532,
                    69105,
                    6600,
                    15712,
                    140217,
                    777,
                    13976,
                    239164,
                    306713,
                    3058,
                    14443,
                    15500,
                    14120,
                    1951,
                    34113,
                    176515,
                    27819,
                    6222,
                    17635,
                    14960,
                    8426,
                    24440,
                    317884,
                    5582,
                    85755,
                    43983,
                    15622,
                    5872,
                    5270,
                    3667,
                    17153,
                    13374,
                    8796,
                    6032,
                    25076,
                    52724,
                    5525,
                    8827,
                    158913,
                    6399,
                    11417,
                    3275,
                    168838,
                    92152,
                    113625,
                    13389,
                    668631,
                    33837,
                    68472,
                    12468,
                    944348,
                    45114,
                    14702,
                    207829,
                    17672,
                    26028,
                    4967,
                    2460,
                    25066,
                    576808,
                    33403,
                    21926,
                    15796,
                    138674,
                    188482,
                    9996,
                    8019,
                    39307,
                    1546,
                    40980,
                    357546,
                    98136,
                    849389,
                    89811,
                    45694,
                    286316,
                    25737,
                    23877,
                    81893,
                    75757,
                    14288,
                    12424,
                    812037,
                    73830,
                    24231,
                    13331,
                    49355,
                    80216,
                    8218,
                    2029,
                    1133247,
                    134473,
                    6343,
                    5929,
                    94860,
                    7110,
                    1780,
                    1200,
                    72206,
                    23160,
                    27668,
                    15177,
                    8205,
                    179473,
                    3932,
                    5174,
                    81427,
                    5234,
                    42256,
                    19430,
                    15504,
                    3994,
                    859840,
                    21103,
                    8842,
                    2518,
                    8536,
                    296112,
                    36683,
                    81746,
                    7188,
                    696,
                    40127,
                    418201,
                    8570,
                    62568,
                    389648,
                    527634,
                    28495,
                    20144,
                    5211,
                    29376,
                    39025,
                    11372
                  ],
                  "xaxis": "x",
                  "y": [
                    31760.45,
                    23586.85,
                    34593.2,
                    30878.72,
                    35739.95,
                    23418.93,
                    38752.7,
                    40083.51,
                    31894.43,
                    36234.72,
                    21060.61,
                    26043.79,
                    37305.03,
                    18918.92,
                    36584.14,
                    13820.64,
                    28519.17,
                    17135.38,
                    26739.6,
                    36006.45,
                    19879.6,
                    14351.61,
                    24345.56,
                    29642.81,
                    23785.9,
                    28126,
                    43118.8,
                    31784.76,
                    26584.38,
                    34005.73,
                    29054.62,
                    33142.24,
                    25063.26,
                    29693.29,
                    25547.31,
                    39628.75,
                    34117.65,
                    22579.77,
                    36320.18,
                    22693.29,
                    23306.05,
                    28381.96,
                    27356.84,
                    31856.46,
                    28941.18,
                    19530.98,
                    31320.91,
                    35021.1,
                    26399.23,
                    32396.95,
                    33853.16,
                    21123.8,
                    28594.94,
                    34386.44,
                    34940.65,
                    32340.34,
                    27549.95,
                    30774.78,
                    27584.96,
                    29667.07,
                    37423.48,
                    33883.63,
                    22555.45,
                    22233.75,
                    30763.04,
                    23902.44,
                    21678.77,
                    29675.04,
                    27189.17,
                    33717.96,
                    33508.48,
                    32232.43,
                    30539.79,
                    43987.6,
                    30539.97,
                    33530.92,
                    36869.34,
                    31268.91,
                    33446.89,
                    25817.23,
                    30957.31,
                    25450.11,
                    30899.02,
                    42299.07,
                    23736.26,
                    23348.83,
                    31878.18,
                    31599.72,
                    30564.11,
                    23937.54,
                    28774.06,
                    33535.15,
                    42210.39,
                    34145.98,
                    17682.1,
                    29787.07,
                    28851.3,
                    23410.55,
                    25518.44,
                    31268.73,
                    30159.23,
                    27846.18,
                    32702.93,
                    36708.86,
                    30561.8,
                    32583.33,
                    32752.13,
                    26839.38,
                    31090.07,
                    28483.89,
                    30822.67,
                    35768.61,
                    34791.45,
                    13065.33,
                    24755.92,
                    21207.49,
                    28164.05,
                    32202.78,
                    25174.15,
                    26264.4,
                    28068.13,
                    27669.05,
                    18649.63,
                    31493.25,
                    29135.43,
                    41480.25,
                    32341.96,
                    36335.72,
                    19824.71,
                    14655.17,
                    33795.2,
                    32174.96,
                    34434.07,
                    29794.78,
                    28589.39,
                    27962.19,
                    29759.61,
                    38165.21,
                    26616.77,
                    42466.64,
                    34839.21,
                    32659.16
                  ],
                  "yaxis": "y"
                }
              ],
              "layout": {
                "legend": {
                  "tracegroupgap": 0
                },
                "template": {
                  "data": {
                    "bar": [
                      {
                        "error_x": {
                          "color": "#2a3f5f"
                        },
                        "error_y": {
                          "color": "#2a3f5f"
                        },
                        "marker": {
                          "line": {
                            "color": "#E5ECF6",
                            "width": 0.5
                          },
                          "pattern": {
                            "fillmode": "overlay",
                            "size": 10,
                            "solidity": 0.2
                          }
                        },
                        "type": "bar"
                      }
                    ],
                    "barpolar": [
                      {
                        "marker": {
                          "line": {
                            "color": "#E5ECF6",
                            "width": 0.5
                          },
                          "pattern": {
                            "fillmode": "overlay",
                            "size": 10,
                            "solidity": 0.2
                          }
                        },
                        "type": "barpolar"
                      }
                    ],
                    "carpet": [
                      {
                        "aaxis": {
                          "endlinecolor": "#2a3f5f",
                          "gridcolor": "white",
                          "linecolor": "white",
                          "minorgridcolor": "white",
                          "startlinecolor": "#2a3f5f"
                        },
                        "baxis": {
                          "endlinecolor": "#2a3f5f",
                          "gridcolor": "white",
                          "linecolor": "white",
                          "minorgridcolor": "white",
                          "startlinecolor": "#2a3f5f"
                        },
                        "type": "carpet"
                      }
                    ],
                    "choropleth": [
                      {
                        "colorbar": {
                          "outlinewidth": 0,
                          "ticks": ""
                        },
                        "type": "choropleth"
                      }
                    ],
                    "contour": [
                      {
                        "colorbar": {
                          "outlinewidth": 0,
                          "ticks": ""
                        },
                        "colorscale": [
                          [
                            0,
                            "#0d0887"
                          ],
                          [
                            0.1111111111111111,
                            "#46039f"
                          ],
                          [
                            0.2222222222222222,
                            "#7201a8"
                          ],
                          [
                            0.3333333333333333,
                            "#9c179e"
                          ],
                          [
                            0.4444444444444444,
                            "#bd3786"
                          ],
                          [
                            0.5555555555555556,
                            "#d8576b"
                          ],
                          [
                            0.6666666666666666,
                            "#ed7953"
                          ],
                          [
                            0.7777777777777778,
                            "#fb9f3a"
                          ],
                          [
                            0.8888888888888888,
                            "#fdca26"
                          ],
                          [
                            1,
                            "#f0f921"
                          ]
                        ],
                        "type": "contour"
                      }
                    ],
                    "contourcarpet": [
                      {
                        "colorbar": {
                          "outlinewidth": 0,
                          "ticks": ""
                        },
                        "type": "contourcarpet"
                      }
                    ],
                    "heatmap": [
                      {
                        "colorbar": {
                          "outlinewidth": 0,
                          "ticks": ""
                        },
                        "colorscale": [
                          [
                            0,
                            "#0d0887"
                          ],
                          [
                            0.1111111111111111,
                            "#46039f"
                          ],
                          [
                            0.2222222222222222,
                            "#7201a8"
                          ],
                          [
                            0.3333333333333333,
                            "#9c179e"
                          ],
                          [
                            0.4444444444444444,
                            "#bd3786"
                          ],
                          [
                            0.5555555555555556,
                            "#d8576b"
                          ],
                          [
                            0.6666666666666666,
                            "#ed7953"
                          ],
                          [
                            0.7777777777777778,
                            "#fb9f3a"
                          ],
                          [
                            0.8888888888888888,
                            "#fdca26"
                          ],
                          [
                            1,
                            "#f0f921"
                          ]
                        ],
                        "type": "heatmap"
                      }
                    ],
                    "heatmapgl": [
                      {
                        "colorbar": {
                          "outlinewidth": 0,
                          "ticks": ""
                        },
                        "colorscale": [
                          [
                            0,
                            "#0d0887"
                          ],
                          [
                            0.1111111111111111,
                            "#46039f"
                          ],
                          [
                            0.2222222222222222,
                            "#7201a8"
                          ],
                          [
                            0.3333333333333333,
                            "#9c179e"
                          ],
                          [
                            0.4444444444444444,
                            "#bd3786"
                          ],
                          [
                            0.5555555555555556,
                            "#d8576b"
                          ],
                          [
                            0.6666666666666666,
                            "#ed7953"
                          ],
                          [
                            0.7777777777777778,
                            "#fb9f3a"
                          ],
                          [
                            0.8888888888888888,
                            "#fdca26"
                          ],
                          [
                            1,
                            "#f0f921"
                          ]
                        ],
                        "type": "heatmapgl"
                      }
                    ],
                    "histogram": [
                      {
                        "marker": {
                          "pattern": {
                            "fillmode": "overlay",
                            "size": 10,
                            "solidity": 0.2
                          }
                        },
                        "type": "histogram"
                      }
                    ],
                    "histogram2d": [
                      {
                        "colorbar": {
                          "outlinewidth": 0,
                          "ticks": ""
                        },
                        "colorscale": [
                          [
                            0,
                            "#0d0887"
                          ],
                          [
                            0.1111111111111111,
                            "#46039f"
                          ],
                          [
                            0.2222222222222222,
                            "#7201a8"
                          ],
                          [
                            0.3333333333333333,
                            "#9c179e"
                          ],
                          [
                            0.4444444444444444,
                            "#bd3786"
                          ],
                          [
                            0.5555555555555556,
                            "#d8576b"
                          ],
                          [
                            0.6666666666666666,
                            "#ed7953"
                          ],
                          [
                            0.7777777777777778,
                            "#fb9f3a"
                          ],
                          [
                            0.8888888888888888,
                            "#fdca26"
                          ],
                          [
                            1,
                            "#f0f921"
                          ]
                        ],
                        "type": "histogram2d"
                      }
                    ],
                    "histogram2dcontour": [
                      {
                        "colorbar": {
                          "outlinewidth": 0,
                          "ticks": ""
                        },
                        "colorscale": [
                          [
                            0,
                            "#0d0887"
                          ],
                          [
                            0.1111111111111111,
                            "#46039f"
                          ],
                          [
                            0.2222222222222222,
                            "#7201a8"
                          ],
                          [
                            0.3333333333333333,
                            "#9c179e"
                          ],
                          [
                            0.4444444444444444,
                            "#bd3786"
                          ],
                          [
                            0.5555555555555556,
                            "#d8576b"
                          ],
                          [
                            0.6666666666666666,
                            "#ed7953"
                          ],
                          [
                            0.7777777777777778,
                            "#fb9f3a"
                          ],
                          [
                            0.8888888888888888,
                            "#fdca26"
                          ],
                          [
                            1,
                            "#f0f921"
                          ]
                        ],
                        "type": "histogram2dcontour"
                      }
                    ],
                    "mesh3d": [
                      {
                        "colorbar": {
                          "outlinewidth": 0,
                          "ticks": ""
                        },
                        "type": "mesh3d"
                      }
                    ],
                    "parcoords": [
                      {
                        "line": {
                          "colorbar": {
                            "outlinewidth": 0,
                            "ticks": ""
                          }
                        },
                        "type": "parcoords"
                      }
                    ],
                    "pie": [
                      {
                        "automargin": true,
                        "type": "pie"
                      }
                    ],
                    "scatter": [
                      {
                        "fillpattern": {
                          "fillmode": "overlay",
                          "size": 10,
                          "solidity": 0.2
                        },
                        "type": "scatter"
                      }
                    ],
                    "scatter3d": [
                      {
                        "line": {
                          "colorbar": {
                            "outlinewidth": 0,
                            "ticks": ""
                          }
                        },
                        "marker": {
                          "colorbar": {
                            "outlinewidth": 0,
                            "ticks": ""
                          }
                        },
                        "type": "scatter3d"
                      }
                    ],
                    "scattercarpet": [
                      {
                        "marker": {
                          "colorbar": {
                            "outlinewidth": 0,
                            "ticks": ""
                          }
                        },
                        "type": "scattercarpet"
                      }
                    ],
                    "scattergeo": [
                      {
                        "marker": {
                          "colorbar": {
                            "outlinewidth": 0,
                            "ticks": ""
                          }
                        },
                        "type": "scattergeo"
                      }
                    ],
                    "scattergl": [
                      {
                        "marker": {
                          "colorbar": {
                            "outlinewidth": 0,
                            "ticks": ""
                          }
                        },
                        "type": "scattergl"
                      }
                    ],
                    "scattermapbox": [
                      {
                        "marker": {
                          "colorbar": {
                            "outlinewidth": 0,
                            "ticks": ""
                          }
                        },
                        "type": "scattermapbox"
                      }
                    ],
                    "scatterpolar": [
                      {
                        "marker": {
                          "colorbar": {
                            "outlinewidth": 0,
                            "ticks": ""
                          }
                        },
                        "type": "scatterpolar"
                      }
                    ],
                    "scatterpolargl": [
                      {
                        "marker": {
                          "colorbar": {
                            "outlinewidth": 0,
                            "ticks": ""
                          }
                        },
                        "type": "scatterpolargl"
                      }
                    ],
                    "scatterternary": [
                      {
                        "marker": {
                          "colorbar": {
                            "outlinewidth": 0,
                            "ticks": ""
                          }
                        },
                        "type": "scatterternary"
                      }
                    ],
                    "surface": [
                      {
                        "colorbar": {
                          "outlinewidth": 0,
                          "ticks": ""
                        },
                        "colorscale": [
                          [
                            0,
                            "#0d0887"
                          ],
                          [
                            0.1111111111111111,
                            "#46039f"
                          ],
                          [
                            0.2222222222222222,
                            "#7201a8"
                          ],
                          [
                            0.3333333333333333,
                            "#9c179e"
                          ],
                          [
                            0.4444444444444444,
                            "#bd3786"
                          ],
                          [
                            0.5555555555555556,
                            "#d8576b"
                          ],
                          [
                            0.6666666666666666,
                            "#ed7953"
                          ],
                          [
                            0.7777777777777778,
                            "#fb9f3a"
                          ],
                          [
                            0.8888888888888888,
                            "#fdca26"
                          ],
                          [
                            1,
                            "#f0f921"
                          ]
                        ],
                        "type": "surface"
                      }
                    ],
                    "table": [
                      {
                        "cells": {
                          "fill": {
                            "color": "#EBF0F8"
                          },
                          "line": {
                            "color": "white"
                          }
                        },
                        "header": {
                          "fill": {
                            "color": "#C8D4E3"
                          },
                          "line": {
                            "color": "white"
                          }
                        },
                        "type": "table"
                      }
                    ]
                  },
                  "layout": {
                    "annotationdefaults": {
                      "arrowcolor": "#2a3f5f",
                      "arrowhead": 0,
                      "arrowwidth": 1
                    },
                    "autotypenumbers": "strict",
                    "coloraxis": {
                      "colorbar": {
                        "outlinewidth": 0,
                        "ticks": ""
                      }
                    },
                    "colorscale": {
                      "diverging": [
                        [
                          0,
                          "#8e0152"
                        ],
                        [
                          0.1,
                          "#c51b7d"
                        ],
                        [
                          0.2,
                          "#de77ae"
                        ],
                        [
                          0.3,
                          "#f1b6da"
                        ],
                        [
                          0.4,
                          "#fde0ef"
                        ],
                        [
                          0.5,
                          "#f7f7f7"
                        ],
                        [
                          0.6,
                          "#e6f5d0"
                        ],
                        [
                          0.7,
                          "#b8e186"
                        ],
                        [
                          0.8,
                          "#7fbc41"
                        ],
                        [
                          0.9,
                          "#4d9221"
                        ],
                        [
                          1,
                          "#276419"
                        ]
                      ],
                      "sequential": [
                        [
                          0,
                          "#0d0887"
                        ],
                        [
                          0.1111111111111111,
                          "#46039f"
                        ],
                        [
                          0.2222222222222222,
                          "#7201a8"
                        ],
                        [
                          0.3333333333333333,
                          "#9c179e"
                        ],
                        [
                          0.4444444444444444,
                          "#bd3786"
                        ],
                        [
                          0.5555555555555556,
                          "#d8576b"
                        ],
                        [
                          0.6666666666666666,
                          "#ed7953"
                        ],
                        [
                          0.7777777777777778,
                          "#fb9f3a"
                        ],
                        [
                          0.8888888888888888,
                          "#fdca26"
                        ],
                        [
                          1,
                          "#f0f921"
                        ]
                      ],
                      "sequentialminus": [
                        [
                          0,
                          "#0d0887"
                        ],
                        [
                          0.1111111111111111,
                          "#46039f"
                        ],
                        [
                          0.2222222222222222,
                          "#7201a8"
                        ],
                        [
                          0.3333333333333333,
                          "#9c179e"
                        ],
                        [
                          0.4444444444444444,
                          "#bd3786"
                        ],
                        [
                          0.5555555555555556,
                          "#d8576b"
                        ],
                        [
                          0.6666666666666666,
                          "#ed7953"
                        ],
                        [
                          0.7777777777777778,
                          "#fb9f3a"
                        ],
                        [
                          0.8888888888888888,
                          "#fdca26"
                        ],
                        [
                          1,
                          "#f0f921"
                        ]
                      ]
                    },
                    "colorway": [
                      "#636efa",
                      "#EF553B",
                      "#00cc96",
                      "#ab63fa",
                      "#FFA15A",
                      "#19d3f3",
                      "#FF6692",
                      "#B6E880",
                      "#FF97FF",
                      "#FECB52"
                    ],
                    "font": {
                      "color": "#2a3f5f"
                    },
                    "geo": {
                      "bgcolor": "white",
                      "lakecolor": "white",
                      "landcolor": "#E5ECF6",
                      "showlakes": true,
                      "showland": true,
                      "subunitcolor": "white"
                    },
                    "hoverlabel": {
                      "align": "left"
                    },
                    "hovermode": "closest",
                    "mapbox": {
                      "style": "light"
                    },
                    "paper_bgcolor": "white",
                    "plot_bgcolor": "#E5ECF6",
                    "polar": {
                      "angularaxis": {
                        "gridcolor": "white",
                        "linecolor": "white",
                        "ticks": ""
                      },
                      "bgcolor": "#E5ECF6",
                      "radialaxis": {
                        "gridcolor": "white",
                        "linecolor": "white",
                        "ticks": ""
                      }
                    },
                    "scene": {
                      "xaxis": {
                        "backgroundcolor": "#E5ECF6",
                        "gridcolor": "white",
                        "gridwidth": 2,
                        "linecolor": "white",
                        "showbackground": true,
                        "ticks": "",
                        "zerolinecolor": "white"
                      },
                      "yaxis": {
                        "backgroundcolor": "#E5ECF6",
                        "gridcolor": "white",
                        "gridwidth": 2,
                        "linecolor": "white",
                        "showbackground": true,
                        "ticks": "",
                        "zerolinecolor": "white"
                      },
                      "zaxis": {
                        "backgroundcolor": "#E5ECF6",
                        "gridcolor": "white",
                        "gridwidth": 2,
                        "linecolor": "white",
                        "showbackground": true,
                        "ticks": "",
                        "zerolinecolor": "white"
                      }
                    },
                    "shapedefaults": {
                      "line": {
                        "color": "#2a3f5f"
                      }
                    },
                    "ternary": {
                      "aaxis": {
                        "gridcolor": "white",
                        "linecolor": "white",
                        "ticks": ""
                      },
                      "baxis": {
                        "gridcolor": "white",
                        "linecolor": "white",
                        "ticks": ""
                      },
                      "bgcolor": "#E5ECF6",
                      "caxis": {
                        "gridcolor": "white",
                        "linecolor": "white",
                        "ticks": ""
                      }
                    },
                    "title": {
                      "x": 0.05
                    },
                    "xaxis": {
                      "automargin": true,
                      "gridcolor": "white",
                      "linecolor": "white",
                      "ticks": "",
                      "title": {
                        "standoff": 15
                      },
                      "zerolinecolor": "white",
                      "zerolinewidth": 2
                    },
                    "yaxis": {
                      "automargin": true,
                      "gridcolor": "white",
                      "linecolor": "white",
                      "ticks": "",
                      "title": {
                        "standoff": 15
                      },
                      "zerolinecolor": "white",
                      "zerolinewidth": 2
                    }
                  }
                },
                "title": {
                  "text": "Scatter Plot of confirmed_per_100000 by total_population for A-M"
                },
                "xaxis": {
                  "anchor": "y",
                  "domain": [
                    0,
                    1
                  ],
                  "title": {
                    "text": "total_population"
                  }
                },
                "yaxis": {
                  "anchor": "x",
                  "domain": [
                    0,
                    1
                  ],
                  "title": {
                    "text": "confirmed_per_100000"
                  }
                }
              }
            }
          },
          "metadata": {},
          "output_type": "display_data"
        }
      ],
      "source": [
        "# Scatter plot for A-L\n",
        "\n",
        "scatter_al = px.scatter(\n",
        "    df, \n",
        "    x='total_population', \n",
        "    y='confirmed',\n",
        "    title='Scatter Plot of confirmed by total_population for A-M'\n",
        ")\n",
        "\n",
        "scatter_al.show()\n",
        "# Scatter plot for A-L\n",
        "\n",
        "scatter_al2 = px.scatter(\n",
        "    df, \n",
        "    x='total_population', \n",
        "    y='confirmed_per_100000',\n",
        "    title='Scatter Plot of confirmed_per_100000 by total_population for A-M'\n",
        ")\n",
        "\n",
        "scatter_al2.show()\n"
      ]
    },
    {
      "cell_type": "code",
      "execution_count": 7,
      "metadata": {},
      "outputs": [
        {
          "data": {
            "application/vnd.plotly.v1+json": {
              "config": {
                "plotlyServerURL": "https://plot.ly"
              },
              "data": [
                {
                  "hovertemplate": "total_population=%{x}<br>deaths=%{y}<extra></extra>",
                  "legendgroup": "",
                  "marker": {
                    "color": "#636efa",
                    "symbol": "circle"
                  },
                  "mode": "markers",
                  "name": "",
                  "orientation": "v",
                  "showlegend": false,
                  "type": "scatter",
                  "x": [
                    10236,
                    109472,
                    398879,
                    311522,
                    35347,
                    2609,
                    29167,
                    64902,
                    66532,
                    69105,
                    6600,
                    15712,
                    140217,
                    777,
                    13976,
                    239164,
                    306713,
                    3058,
                    14443,
                    15500,
                    14120,
                    1951,
                    34113,
                    176515,
                    27819,
                    6222,
                    17635,
                    14960,
                    8426,
                    24440,
                    317884,
                    5582,
                    85755,
                    43983,
                    15622,
                    5872,
                    5270,
                    3667,
                    17153,
                    13374,
                    8796,
                    6032,
                    25076,
                    52724,
                    5525,
                    8827,
                    158913,
                    6399,
                    11417,
                    3275,
                    168838,
                    92152,
                    113625,
                    13389,
                    668631,
                    33837,
                    68472,
                    12468,
                    944348,
                    45114,
                    14702,
                    207829,
                    17672,
                    26028,
                    4967,
                    2460,
                    25066,
                    576808,
                    33403,
                    21926,
                    15796,
                    138674,
                    188482,
                    9996,
                    8019,
                    39307,
                    1546,
                    40980,
                    357546,
                    98136,
                    849389,
                    89811,
                    45694,
                    286316,
                    25737,
                    23877,
                    81893,
                    75757,
                    14288,
                    12424,
                    812037,
                    73830,
                    24231,
                    13331,
                    49355,
                    80216,
                    8218,
                    2029,
                    1133247,
                    134473,
                    6343,
                    5929,
                    94860,
                    7110,
                    1780,
                    1200,
                    72206,
                    23160,
                    27668,
                    15177,
                    8205,
                    179473,
                    3932,
                    5174,
                    81427,
                    5234,
                    42256,
                    19430,
                    15504,
                    3994,
                    859840,
                    21103,
                    8842,
                    2518,
                    8536,
                    296112,
                    36683,
                    81746,
                    7188,
                    696,
                    40127,
                    418201,
                    8570,
                    62568,
                    389648,
                    527634,
                    28495,
                    20144,
                    5211,
                    29376,
                    39025,
                    11372
                  ],
                  "xaxis": "x",
                  "y": [
                    80,
                    212,
                    1216,
                    1452,
                    182,
                    4,
                    209,
                    94,
                    426,
                    458,
                    23,
                    42,
                    519,
                    1,
                    76,
                    407,
                    1047,
                    16,
                    61,
                    101,
                    39,
                    1,
                    250,
                    293,
                    109,
                    26,
                    90,
                    65,
                    53,
                    72,
                    1552,
                    30,
                    388,
                    216,
                    96,
                    50,
                    24,
                    16,
                    115,
                    86,
                    53,
                    38,
                    162,
                    155,
                    27,
                    68,
                    632,
                    47,
                    125,
                    20,
                    612,
                    374,
                    366,
                    60,
                    2837,
                    145,
                    330,
                    70,
                    2931,
                    159,
                    64,
                    1244,
                    80,
                    95,
                    27,
                    13,
                    116,
                    2449,
                    141,
                    86,
                    83,
                    565,
                    521,
                    55,
                    26,
                    163,
                    8,
                    172,
                    1260,
                    464,
                    4032,
                    92,
                    117,
                    937,
                    78,
                    128,
                    268,
                    194,
                    18,
                    75,
                    2198,
                    294,
                    105,
                    80,
                    130,
                    392,
                    23,
                    20,
                    1505,
                    666,
                    24,
                    35,
                    237,
                    34,
                    18,
                    6,
                    269,
                    102,
                    137,
                    55,
                    23,
                    799,
                    22,
                    10,
                    160,
                    40,
                    108,
                    105,
                    91,
                    12,
                    1581,
                    43,
                    31,
                    1,
                    19,
                    598,
                    153,
                    373,
                    15,
                    2,
                    173,
                    882,
                    24,
                    308,
                    1187,
                    2277,
                    130,
                    73,
                    11,
                    247,
                    225,
                    42
                  ],
                  "yaxis": "y"
                }
              ],
              "layout": {
                "legend": {
                  "tracegroupgap": 0
                },
                "template": {
                  "data": {
                    "bar": [
                      {
                        "error_x": {
                          "color": "#2a3f5f"
                        },
                        "error_y": {
                          "color": "#2a3f5f"
                        },
                        "marker": {
                          "line": {
                            "color": "#E5ECF6",
                            "width": 0.5
                          },
                          "pattern": {
                            "fillmode": "overlay",
                            "size": 10,
                            "solidity": 0.2
                          }
                        },
                        "type": "bar"
                      }
                    ],
                    "barpolar": [
                      {
                        "marker": {
                          "line": {
                            "color": "#E5ECF6",
                            "width": 0.5
                          },
                          "pattern": {
                            "fillmode": "overlay",
                            "size": 10,
                            "solidity": 0.2
                          }
                        },
                        "type": "barpolar"
                      }
                    ],
                    "carpet": [
                      {
                        "aaxis": {
                          "endlinecolor": "#2a3f5f",
                          "gridcolor": "white",
                          "linecolor": "white",
                          "minorgridcolor": "white",
                          "startlinecolor": "#2a3f5f"
                        },
                        "baxis": {
                          "endlinecolor": "#2a3f5f",
                          "gridcolor": "white",
                          "linecolor": "white",
                          "minorgridcolor": "white",
                          "startlinecolor": "#2a3f5f"
                        },
                        "type": "carpet"
                      }
                    ],
                    "choropleth": [
                      {
                        "colorbar": {
                          "outlinewidth": 0,
                          "ticks": ""
                        },
                        "type": "choropleth"
                      }
                    ],
                    "contour": [
                      {
                        "colorbar": {
                          "outlinewidth": 0,
                          "ticks": ""
                        },
                        "colorscale": [
                          [
                            0,
                            "#0d0887"
                          ],
                          [
                            0.1111111111111111,
                            "#46039f"
                          ],
                          [
                            0.2222222222222222,
                            "#7201a8"
                          ],
                          [
                            0.3333333333333333,
                            "#9c179e"
                          ],
                          [
                            0.4444444444444444,
                            "#bd3786"
                          ],
                          [
                            0.5555555555555556,
                            "#d8576b"
                          ],
                          [
                            0.6666666666666666,
                            "#ed7953"
                          ],
                          [
                            0.7777777777777778,
                            "#fb9f3a"
                          ],
                          [
                            0.8888888888888888,
                            "#fdca26"
                          ],
                          [
                            1,
                            "#f0f921"
                          ]
                        ],
                        "type": "contour"
                      }
                    ],
                    "contourcarpet": [
                      {
                        "colorbar": {
                          "outlinewidth": 0,
                          "ticks": ""
                        },
                        "type": "contourcarpet"
                      }
                    ],
                    "heatmap": [
                      {
                        "colorbar": {
                          "outlinewidth": 0,
                          "ticks": ""
                        },
                        "colorscale": [
                          [
                            0,
                            "#0d0887"
                          ],
                          [
                            0.1111111111111111,
                            "#46039f"
                          ],
                          [
                            0.2222222222222222,
                            "#7201a8"
                          ],
                          [
                            0.3333333333333333,
                            "#9c179e"
                          ],
                          [
                            0.4444444444444444,
                            "#bd3786"
                          ],
                          [
                            0.5555555555555556,
                            "#d8576b"
                          ],
                          [
                            0.6666666666666666,
                            "#ed7953"
                          ],
                          [
                            0.7777777777777778,
                            "#fb9f3a"
                          ],
                          [
                            0.8888888888888888,
                            "#fdca26"
                          ],
                          [
                            1,
                            "#f0f921"
                          ]
                        ],
                        "type": "heatmap"
                      }
                    ],
                    "heatmapgl": [
                      {
                        "colorbar": {
                          "outlinewidth": 0,
                          "ticks": ""
                        },
                        "colorscale": [
                          [
                            0,
                            "#0d0887"
                          ],
                          [
                            0.1111111111111111,
                            "#46039f"
                          ],
                          [
                            0.2222222222222222,
                            "#7201a8"
                          ],
                          [
                            0.3333333333333333,
                            "#9c179e"
                          ],
                          [
                            0.4444444444444444,
                            "#bd3786"
                          ],
                          [
                            0.5555555555555556,
                            "#d8576b"
                          ],
                          [
                            0.6666666666666666,
                            "#ed7953"
                          ],
                          [
                            0.7777777777777778,
                            "#fb9f3a"
                          ],
                          [
                            0.8888888888888888,
                            "#fdca26"
                          ],
                          [
                            1,
                            "#f0f921"
                          ]
                        ],
                        "type": "heatmapgl"
                      }
                    ],
                    "histogram": [
                      {
                        "marker": {
                          "pattern": {
                            "fillmode": "overlay",
                            "size": 10,
                            "solidity": 0.2
                          }
                        },
                        "type": "histogram"
                      }
                    ],
                    "histogram2d": [
                      {
                        "colorbar": {
                          "outlinewidth": 0,
                          "ticks": ""
                        },
                        "colorscale": [
                          [
                            0,
                            "#0d0887"
                          ],
                          [
                            0.1111111111111111,
                            "#46039f"
                          ],
                          [
                            0.2222222222222222,
                            "#7201a8"
                          ],
                          [
                            0.3333333333333333,
                            "#9c179e"
                          ],
                          [
                            0.4444444444444444,
                            "#bd3786"
                          ],
                          [
                            0.5555555555555556,
                            "#d8576b"
                          ],
                          [
                            0.6666666666666666,
                            "#ed7953"
                          ],
                          [
                            0.7777777777777778,
                            "#fb9f3a"
                          ],
                          [
                            0.8888888888888888,
                            "#fdca26"
                          ],
                          [
                            1,
                            "#f0f921"
                          ]
                        ],
                        "type": "histogram2d"
                      }
                    ],
                    "histogram2dcontour": [
                      {
                        "colorbar": {
                          "outlinewidth": 0,
                          "ticks": ""
                        },
                        "colorscale": [
                          [
                            0,
                            "#0d0887"
                          ],
                          [
                            0.1111111111111111,
                            "#46039f"
                          ],
                          [
                            0.2222222222222222,
                            "#7201a8"
                          ],
                          [
                            0.3333333333333333,
                            "#9c179e"
                          ],
                          [
                            0.4444444444444444,
                            "#bd3786"
                          ],
                          [
                            0.5555555555555556,
                            "#d8576b"
                          ],
                          [
                            0.6666666666666666,
                            "#ed7953"
                          ],
                          [
                            0.7777777777777778,
                            "#fb9f3a"
                          ],
                          [
                            0.8888888888888888,
                            "#fdca26"
                          ],
                          [
                            1,
                            "#f0f921"
                          ]
                        ],
                        "type": "histogram2dcontour"
                      }
                    ],
                    "mesh3d": [
                      {
                        "colorbar": {
                          "outlinewidth": 0,
                          "ticks": ""
                        },
                        "type": "mesh3d"
                      }
                    ],
                    "parcoords": [
                      {
                        "line": {
                          "colorbar": {
                            "outlinewidth": 0,
                            "ticks": ""
                          }
                        },
                        "type": "parcoords"
                      }
                    ],
                    "pie": [
                      {
                        "automargin": true,
                        "type": "pie"
                      }
                    ],
                    "scatter": [
                      {
                        "fillpattern": {
                          "fillmode": "overlay",
                          "size": 10,
                          "solidity": 0.2
                        },
                        "type": "scatter"
                      }
                    ],
                    "scatter3d": [
                      {
                        "line": {
                          "colorbar": {
                            "outlinewidth": 0,
                            "ticks": ""
                          }
                        },
                        "marker": {
                          "colorbar": {
                            "outlinewidth": 0,
                            "ticks": ""
                          }
                        },
                        "type": "scatter3d"
                      }
                    ],
                    "scattercarpet": [
                      {
                        "marker": {
                          "colorbar": {
                            "outlinewidth": 0,
                            "ticks": ""
                          }
                        },
                        "type": "scattercarpet"
                      }
                    ],
                    "scattergeo": [
                      {
                        "marker": {
                          "colorbar": {
                            "outlinewidth": 0,
                            "ticks": ""
                          }
                        },
                        "type": "scattergeo"
                      }
                    ],
                    "scattergl": [
                      {
                        "marker": {
                          "colorbar": {
                            "outlinewidth": 0,
                            "ticks": ""
                          }
                        },
                        "type": "scattergl"
                      }
                    ],
                    "scattermapbox": [
                      {
                        "marker": {
                          "colorbar": {
                            "outlinewidth": 0,
                            "ticks": ""
                          }
                        },
                        "type": "scattermapbox"
                      }
                    ],
                    "scatterpolar": [
                      {
                        "marker": {
                          "colorbar": {
                            "outlinewidth": 0,
                            "ticks": ""
                          }
                        },
                        "type": "scatterpolar"
                      }
                    ],
                    "scatterpolargl": [
                      {
                        "marker": {
                          "colorbar": {
                            "outlinewidth": 0,
                            "ticks": ""
                          }
                        },
                        "type": "scatterpolargl"
                      }
                    ],
                    "scatterternary": [
                      {
                        "marker": {
                          "colorbar": {
                            "outlinewidth": 0,
                            "ticks": ""
                          }
                        },
                        "type": "scatterternary"
                      }
                    ],
                    "surface": [
                      {
                        "colorbar": {
                          "outlinewidth": 0,
                          "ticks": ""
                        },
                        "colorscale": [
                          [
                            0,
                            "#0d0887"
                          ],
                          [
                            0.1111111111111111,
                            "#46039f"
                          ],
                          [
                            0.2222222222222222,
                            "#7201a8"
                          ],
                          [
                            0.3333333333333333,
                            "#9c179e"
                          ],
                          [
                            0.4444444444444444,
                            "#bd3786"
                          ],
                          [
                            0.5555555555555556,
                            "#d8576b"
                          ],
                          [
                            0.6666666666666666,
                            "#ed7953"
                          ],
                          [
                            0.7777777777777778,
                            "#fb9f3a"
                          ],
                          [
                            0.8888888888888888,
                            "#fdca26"
                          ],
                          [
                            1,
                            "#f0f921"
                          ]
                        ],
                        "type": "surface"
                      }
                    ],
                    "table": [
                      {
                        "cells": {
                          "fill": {
                            "color": "#EBF0F8"
                          },
                          "line": {
                            "color": "white"
                          }
                        },
                        "header": {
                          "fill": {
                            "color": "#C8D4E3"
                          },
                          "line": {
                            "color": "white"
                          }
                        },
                        "type": "table"
                      }
                    ]
                  },
                  "layout": {
                    "annotationdefaults": {
                      "arrowcolor": "#2a3f5f",
                      "arrowhead": 0,
                      "arrowwidth": 1
                    },
                    "autotypenumbers": "strict",
                    "coloraxis": {
                      "colorbar": {
                        "outlinewidth": 0,
                        "ticks": ""
                      }
                    },
                    "colorscale": {
                      "diverging": [
                        [
                          0,
                          "#8e0152"
                        ],
                        [
                          0.1,
                          "#c51b7d"
                        ],
                        [
                          0.2,
                          "#de77ae"
                        ],
                        [
                          0.3,
                          "#f1b6da"
                        ],
                        [
                          0.4,
                          "#fde0ef"
                        ],
                        [
                          0.5,
                          "#f7f7f7"
                        ],
                        [
                          0.6,
                          "#e6f5d0"
                        ],
                        [
                          0.7,
                          "#b8e186"
                        ],
                        [
                          0.8,
                          "#7fbc41"
                        ],
                        [
                          0.9,
                          "#4d9221"
                        ],
                        [
                          1,
                          "#276419"
                        ]
                      ],
                      "sequential": [
                        [
                          0,
                          "#0d0887"
                        ],
                        [
                          0.1111111111111111,
                          "#46039f"
                        ],
                        [
                          0.2222222222222222,
                          "#7201a8"
                        ],
                        [
                          0.3333333333333333,
                          "#9c179e"
                        ],
                        [
                          0.4444444444444444,
                          "#bd3786"
                        ],
                        [
                          0.5555555555555556,
                          "#d8576b"
                        ],
                        [
                          0.6666666666666666,
                          "#ed7953"
                        ],
                        [
                          0.7777777777777778,
                          "#fb9f3a"
                        ],
                        [
                          0.8888888888888888,
                          "#fdca26"
                        ],
                        [
                          1,
                          "#f0f921"
                        ]
                      ],
                      "sequentialminus": [
                        [
                          0,
                          "#0d0887"
                        ],
                        [
                          0.1111111111111111,
                          "#46039f"
                        ],
                        [
                          0.2222222222222222,
                          "#7201a8"
                        ],
                        [
                          0.3333333333333333,
                          "#9c179e"
                        ],
                        [
                          0.4444444444444444,
                          "#bd3786"
                        ],
                        [
                          0.5555555555555556,
                          "#d8576b"
                        ],
                        [
                          0.6666666666666666,
                          "#ed7953"
                        ],
                        [
                          0.7777777777777778,
                          "#fb9f3a"
                        ],
                        [
                          0.8888888888888888,
                          "#fdca26"
                        ],
                        [
                          1,
                          "#f0f921"
                        ]
                      ]
                    },
                    "colorway": [
                      "#636efa",
                      "#EF553B",
                      "#00cc96",
                      "#ab63fa",
                      "#FFA15A",
                      "#19d3f3",
                      "#FF6692",
                      "#B6E880",
                      "#FF97FF",
                      "#FECB52"
                    ],
                    "font": {
                      "color": "#2a3f5f"
                    },
                    "geo": {
                      "bgcolor": "white",
                      "lakecolor": "white",
                      "landcolor": "#E5ECF6",
                      "showlakes": true,
                      "showland": true,
                      "subunitcolor": "white"
                    },
                    "hoverlabel": {
                      "align": "left"
                    },
                    "hovermode": "closest",
                    "mapbox": {
                      "style": "light"
                    },
                    "paper_bgcolor": "white",
                    "plot_bgcolor": "#E5ECF6",
                    "polar": {
                      "angularaxis": {
                        "gridcolor": "white",
                        "linecolor": "white",
                        "ticks": ""
                      },
                      "bgcolor": "#E5ECF6",
                      "radialaxis": {
                        "gridcolor": "white",
                        "linecolor": "white",
                        "ticks": ""
                      }
                    },
                    "scene": {
                      "xaxis": {
                        "backgroundcolor": "#E5ECF6",
                        "gridcolor": "white",
                        "gridwidth": 2,
                        "linecolor": "white",
                        "showbackground": true,
                        "ticks": "",
                        "zerolinecolor": "white"
                      },
                      "yaxis": {
                        "backgroundcolor": "#E5ECF6",
                        "gridcolor": "white",
                        "gridwidth": 2,
                        "linecolor": "white",
                        "showbackground": true,
                        "ticks": "",
                        "zerolinecolor": "white"
                      },
                      "zaxis": {
                        "backgroundcolor": "#E5ECF6",
                        "gridcolor": "white",
                        "gridwidth": 2,
                        "linecolor": "white",
                        "showbackground": true,
                        "ticks": "",
                        "zerolinecolor": "white"
                      }
                    },
                    "shapedefaults": {
                      "line": {
                        "color": "#2a3f5f"
                      }
                    },
                    "ternary": {
                      "aaxis": {
                        "gridcolor": "white",
                        "linecolor": "white",
                        "ticks": ""
                      },
                      "baxis": {
                        "gridcolor": "white",
                        "linecolor": "white",
                        "ticks": ""
                      },
                      "bgcolor": "#E5ECF6",
                      "caxis": {
                        "gridcolor": "white",
                        "linecolor": "white",
                        "ticks": ""
                      }
                    },
                    "title": {
                      "x": 0.05
                    },
                    "xaxis": {
                      "automargin": true,
                      "gridcolor": "white",
                      "linecolor": "white",
                      "ticks": "",
                      "title": {
                        "standoff": 15
                      },
                      "zerolinecolor": "white",
                      "zerolinewidth": 2
                    },
                    "yaxis": {
                      "automargin": true,
                      "gridcolor": "white",
                      "linecolor": "white",
                      "ticks": "",
                      "title": {
                        "standoff": 15
                      },
                      "zerolinecolor": "white",
                      "zerolinewidth": 2
                    }
                  }
                },
                "title": {
                  "text": "Scatter Plot of deaths by total_population for N-Z"
                },
                "xaxis": {
                  "anchor": "y",
                  "domain": [
                    0,
                    1
                  ],
                  "title": {
                    "text": "total_population"
                  }
                },
                "yaxis": {
                  "anchor": "x",
                  "domain": [
                    0,
                    1
                  ],
                  "title": {
                    "text": "deaths"
                  }
                }
              }
            }
          },
          "metadata": {},
          "output_type": "display_data"
        },
        {
          "data": {
            "application/vnd.plotly.v1+json": {
              "config": {
                "plotlyServerURL": "https://plot.ly"
              },
              "data": [
                {
                  "hovertemplate": "total_population=%{x}<br>deaths_per_100000=%{y}<extra></extra>",
                  "legendgroup": "",
                  "marker": {
                    "color": "#636efa",
                    "symbol": "circle"
                  },
                  "mode": "markers",
                  "name": "",
                  "orientation": "v",
                  "showlegend": false,
                  "type": "scatter",
                  "x": [
                    10236,
                    109472,
                    398879,
                    311522,
                    35347,
                    2609,
                    29167,
                    64902,
                    66532,
                    69105,
                    6600,
                    15712,
                    140217,
                    777,
                    13976,
                    239164,
                    306713,
                    3058,
                    14443,
                    15500,
                    14120,
                    1951,
                    34113,
                    176515,
                    27819,
                    6222,
                    17635,
                    14960,
                    8426,
                    24440,
                    317884,
                    5582,
                    85755,
                    43983,
                    15622,
                    5872,
                    5270,
                    3667,
                    17153,
                    13374,
                    8796,
                    6032,
                    25076,
                    52724,
                    5525,
                    8827,
                    158913,
                    6399,
                    11417,
                    3275,
                    168838,
                    92152,
                    113625,
                    13389,
                    668631,
                    33837,
                    68472,
                    12468,
                    944348,
                    45114,
                    14702,
                    207829,
                    17672,
                    26028,
                    4967,
                    2460,
                    25066,
                    576808,
                    33403,
                    21926,
                    15796,
                    138674,
                    188482,
                    9996,
                    8019,
                    39307,
                    1546,
                    40980,
                    357546,
                    98136,
                    849389,
                    89811,
                    45694,
                    286316,
                    25737,
                    23877,
                    81893,
                    75757,
                    14288,
                    12424,
                    812037,
                    73830,
                    24231,
                    13331,
                    49355,
                    80216,
                    8218,
                    2029,
                    1133247,
                    134473,
                    6343,
                    5929,
                    94860,
                    7110,
                    1780,
                    1200,
                    72206,
                    23160,
                    27668,
                    15177,
                    8205,
                    179473,
                    3932,
                    5174,
                    81427,
                    5234,
                    42256,
                    19430,
                    15504,
                    3994,
                    859840,
                    21103,
                    8842,
                    2518,
                    8536,
                    296112,
                    36683,
                    81746,
                    7188,
                    696,
                    40127,
                    418201,
                    8570,
                    62568,
                    389648,
                    527634,
                    28495,
                    20144,
                    5211,
                    29376,
                    39025,
                    11372
                  ],
                  "xaxis": "x",
                  "y": [
                    781.56,
                    193.66,
                    304.85,
                    466.1,
                    514.9,
                    153.32,
                    716.56,
                    144.83,
                    640.29,
                    662.76,
                    348.48,
                    267.31,
                    370.14,
                    128.7,
                    543.79,
                    170.18,
                    341.36,
                    523.22,
                    422.35,
                    651.61,
                    276.2,
                    51.26,
                    732.86,
                    165.99,
                    391.82,
                    417.87,
                    510.35,
                    434.49,
                    629.01,
                    294.6,
                    488.23,
                    537.44,
                    452.45,
                    491.1,
                    614.52,
                    851.5,
                    455.41,
                    436.32,
                    670.44,
                    643.04,
                    602.55,
                    629.97,
                    646.04,
                    293.98,
                    488.69,
                    770.36,
                    397.7,
                    734.49,
                    1094.86,
                    610.69,
                    362.48,
                    405.85,
                    322.11,
                    448.13,
                    424.3,
                    428.52,
                    481.95,
                    561.44,
                    310.37,
                    352.44,
                    435.31,
                    598.57,
                    452.69,
                    364.99,
                    543.59,
                    528.46,
                    462.78,
                    424.58,
                    422.12,
                    392.23,
                    525.45,
                    407.43,
                    276.42,
                    550.22,
                    324.23,
                    414.68,
                    517.46,
                    419.72,
                    352.4,
                    472.81,
                    474.69,
                    102.44,
                    256.05,
                    327.26,
                    303.07,
                    536.08,
                    327.26,
                    256.08,
                    125.98,
                    603.67,
                    270.68,
                    398.21,
                    433.33,
                    600.11,
                    263.4,
                    488.68,
                    279.87,
                    985.71,
                    132.8,
                    495.27,
                    378.37,
                    590.32,
                    249.84,
                    478.2,
                    1011.24,
                    500,
                    372.55,
                    440.41,
                    495.16,
                    362.39,
                    280.32,
                    445.19,
                    559.51,
                    193.27,
                    196.5,
                    764.23,
                    255.59,
                    540.4,
                    586.95,
                    300.45,
                    183.87,
                    203.76,
                    350.6,
                    39.71,
                    222.59,
                    201.95,
                    417.09,
                    456.29,
                    208.68,
                    287.36,
                    431.13,
                    210.9,
                    280.05,
                    492.26,
                    304.63,
                    431.55,
                    456.22,
                    362.39,
                    211.09,
                    840.82,
                    576.55,
                    369.33
                  ],
                  "yaxis": "y"
                }
              ],
              "layout": {
                "legend": {
                  "tracegroupgap": 0
                },
                "template": {
                  "data": {
                    "bar": [
                      {
                        "error_x": {
                          "color": "#2a3f5f"
                        },
                        "error_y": {
                          "color": "#2a3f5f"
                        },
                        "marker": {
                          "line": {
                            "color": "#E5ECF6",
                            "width": 0.5
                          },
                          "pattern": {
                            "fillmode": "overlay",
                            "size": 10,
                            "solidity": 0.2
                          }
                        },
                        "type": "bar"
                      }
                    ],
                    "barpolar": [
                      {
                        "marker": {
                          "line": {
                            "color": "#E5ECF6",
                            "width": 0.5
                          },
                          "pattern": {
                            "fillmode": "overlay",
                            "size": 10,
                            "solidity": 0.2
                          }
                        },
                        "type": "barpolar"
                      }
                    ],
                    "carpet": [
                      {
                        "aaxis": {
                          "endlinecolor": "#2a3f5f",
                          "gridcolor": "white",
                          "linecolor": "white",
                          "minorgridcolor": "white",
                          "startlinecolor": "#2a3f5f"
                        },
                        "baxis": {
                          "endlinecolor": "#2a3f5f",
                          "gridcolor": "white",
                          "linecolor": "white",
                          "minorgridcolor": "white",
                          "startlinecolor": "#2a3f5f"
                        },
                        "type": "carpet"
                      }
                    ],
                    "choropleth": [
                      {
                        "colorbar": {
                          "outlinewidth": 0,
                          "ticks": ""
                        },
                        "type": "choropleth"
                      }
                    ],
                    "contour": [
                      {
                        "colorbar": {
                          "outlinewidth": 0,
                          "ticks": ""
                        },
                        "colorscale": [
                          [
                            0,
                            "#0d0887"
                          ],
                          [
                            0.1111111111111111,
                            "#46039f"
                          ],
                          [
                            0.2222222222222222,
                            "#7201a8"
                          ],
                          [
                            0.3333333333333333,
                            "#9c179e"
                          ],
                          [
                            0.4444444444444444,
                            "#bd3786"
                          ],
                          [
                            0.5555555555555556,
                            "#d8576b"
                          ],
                          [
                            0.6666666666666666,
                            "#ed7953"
                          ],
                          [
                            0.7777777777777778,
                            "#fb9f3a"
                          ],
                          [
                            0.8888888888888888,
                            "#fdca26"
                          ],
                          [
                            1,
                            "#f0f921"
                          ]
                        ],
                        "type": "contour"
                      }
                    ],
                    "contourcarpet": [
                      {
                        "colorbar": {
                          "outlinewidth": 0,
                          "ticks": ""
                        },
                        "type": "contourcarpet"
                      }
                    ],
                    "heatmap": [
                      {
                        "colorbar": {
                          "outlinewidth": 0,
                          "ticks": ""
                        },
                        "colorscale": [
                          [
                            0,
                            "#0d0887"
                          ],
                          [
                            0.1111111111111111,
                            "#46039f"
                          ],
                          [
                            0.2222222222222222,
                            "#7201a8"
                          ],
                          [
                            0.3333333333333333,
                            "#9c179e"
                          ],
                          [
                            0.4444444444444444,
                            "#bd3786"
                          ],
                          [
                            0.5555555555555556,
                            "#d8576b"
                          ],
                          [
                            0.6666666666666666,
                            "#ed7953"
                          ],
                          [
                            0.7777777777777778,
                            "#fb9f3a"
                          ],
                          [
                            0.8888888888888888,
                            "#fdca26"
                          ],
                          [
                            1,
                            "#f0f921"
                          ]
                        ],
                        "type": "heatmap"
                      }
                    ],
                    "heatmapgl": [
                      {
                        "colorbar": {
                          "outlinewidth": 0,
                          "ticks": ""
                        },
                        "colorscale": [
                          [
                            0,
                            "#0d0887"
                          ],
                          [
                            0.1111111111111111,
                            "#46039f"
                          ],
                          [
                            0.2222222222222222,
                            "#7201a8"
                          ],
                          [
                            0.3333333333333333,
                            "#9c179e"
                          ],
                          [
                            0.4444444444444444,
                            "#bd3786"
                          ],
                          [
                            0.5555555555555556,
                            "#d8576b"
                          ],
                          [
                            0.6666666666666666,
                            "#ed7953"
                          ],
                          [
                            0.7777777777777778,
                            "#fb9f3a"
                          ],
                          [
                            0.8888888888888888,
                            "#fdca26"
                          ],
                          [
                            1,
                            "#f0f921"
                          ]
                        ],
                        "type": "heatmapgl"
                      }
                    ],
                    "histogram": [
                      {
                        "marker": {
                          "pattern": {
                            "fillmode": "overlay",
                            "size": 10,
                            "solidity": 0.2
                          }
                        },
                        "type": "histogram"
                      }
                    ],
                    "histogram2d": [
                      {
                        "colorbar": {
                          "outlinewidth": 0,
                          "ticks": ""
                        },
                        "colorscale": [
                          [
                            0,
                            "#0d0887"
                          ],
                          [
                            0.1111111111111111,
                            "#46039f"
                          ],
                          [
                            0.2222222222222222,
                            "#7201a8"
                          ],
                          [
                            0.3333333333333333,
                            "#9c179e"
                          ],
                          [
                            0.4444444444444444,
                            "#bd3786"
                          ],
                          [
                            0.5555555555555556,
                            "#d8576b"
                          ],
                          [
                            0.6666666666666666,
                            "#ed7953"
                          ],
                          [
                            0.7777777777777778,
                            "#fb9f3a"
                          ],
                          [
                            0.8888888888888888,
                            "#fdca26"
                          ],
                          [
                            1,
                            "#f0f921"
                          ]
                        ],
                        "type": "histogram2d"
                      }
                    ],
                    "histogram2dcontour": [
                      {
                        "colorbar": {
                          "outlinewidth": 0,
                          "ticks": ""
                        },
                        "colorscale": [
                          [
                            0,
                            "#0d0887"
                          ],
                          [
                            0.1111111111111111,
                            "#46039f"
                          ],
                          [
                            0.2222222222222222,
                            "#7201a8"
                          ],
                          [
                            0.3333333333333333,
                            "#9c179e"
                          ],
                          [
                            0.4444444444444444,
                            "#bd3786"
                          ],
                          [
                            0.5555555555555556,
                            "#d8576b"
                          ],
                          [
                            0.6666666666666666,
                            "#ed7953"
                          ],
                          [
                            0.7777777777777778,
                            "#fb9f3a"
                          ],
                          [
                            0.8888888888888888,
                            "#fdca26"
                          ],
                          [
                            1,
                            "#f0f921"
                          ]
                        ],
                        "type": "histogram2dcontour"
                      }
                    ],
                    "mesh3d": [
                      {
                        "colorbar": {
                          "outlinewidth": 0,
                          "ticks": ""
                        },
                        "type": "mesh3d"
                      }
                    ],
                    "parcoords": [
                      {
                        "line": {
                          "colorbar": {
                            "outlinewidth": 0,
                            "ticks": ""
                          }
                        },
                        "type": "parcoords"
                      }
                    ],
                    "pie": [
                      {
                        "automargin": true,
                        "type": "pie"
                      }
                    ],
                    "scatter": [
                      {
                        "fillpattern": {
                          "fillmode": "overlay",
                          "size": 10,
                          "solidity": 0.2
                        },
                        "type": "scatter"
                      }
                    ],
                    "scatter3d": [
                      {
                        "line": {
                          "colorbar": {
                            "outlinewidth": 0,
                            "ticks": ""
                          }
                        },
                        "marker": {
                          "colorbar": {
                            "outlinewidth": 0,
                            "ticks": ""
                          }
                        },
                        "type": "scatter3d"
                      }
                    ],
                    "scattercarpet": [
                      {
                        "marker": {
                          "colorbar": {
                            "outlinewidth": 0,
                            "ticks": ""
                          }
                        },
                        "type": "scattercarpet"
                      }
                    ],
                    "scattergeo": [
                      {
                        "marker": {
                          "colorbar": {
                            "outlinewidth": 0,
                            "ticks": ""
                          }
                        },
                        "type": "scattergeo"
                      }
                    ],
                    "scattergl": [
                      {
                        "marker": {
                          "colorbar": {
                            "outlinewidth": 0,
                            "ticks": ""
                          }
                        },
                        "type": "scattergl"
                      }
                    ],
                    "scattermapbox": [
                      {
                        "marker": {
                          "colorbar": {
                            "outlinewidth": 0,
                            "ticks": ""
                          }
                        },
                        "type": "scattermapbox"
                      }
                    ],
                    "scatterpolar": [
                      {
                        "marker": {
                          "colorbar": {
                            "outlinewidth": 0,
                            "ticks": ""
                          }
                        },
                        "type": "scatterpolar"
                      }
                    ],
                    "scatterpolargl": [
                      {
                        "marker": {
                          "colorbar": {
                            "outlinewidth": 0,
                            "ticks": ""
                          }
                        },
                        "type": "scatterpolargl"
                      }
                    ],
                    "scatterternary": [
                      {
                        "marker": {
                          "colorbar": {
                            "outlinewidth": 0,
                            "ticks": ""
                          }
                        },
                        "type": "scatterternary"
                      }
                    ],
                    "surface": [
                      {
                        "colorbar": {
                          "outlinewidth": 0,
                          "ticks": ""
                        },
                        "colorscale": [
                          [
                            0,
                            "#0d0887"
                          ],
                          [
                            0.1111111111111111,
                            "#46039f"
                          ],
                          [
                            0.2222222222222222,
                            "#7201a8"
                          ],
                          [
                            0.3333333333333333,
                            "#9c179e"
                          ],
                          [
                            0.4444444444444444,
                            "#bd3786"
                          ],
                          [
                            0.5555555555555556,
                            "#d8576b"
                          ],
                          [
                            0.6666666666666666,
                            "#ed7953"
                          ],
                          [
                            0.7777777777777778,
                            "#fb9f3a"
                          ],
                          [
                            0.8888888888888888,
                            "#fdca26"
                          ],
                          [
                            1,
                            "#f0f921"
                          ]
                        ],
                        "type": "surface"
                      }
                    ],
                    "table": [
                      {
                        "cells": {
                          "fill": {
                            "color": "#EBF0F8"
                          },
                          "line": {
                            "color": "white"
                          }
                        },
                        "header": {
                          "fill": {
                            "color": "#C8D4E3"
                          },
                          "line": {
                            "color": "white"
                          }
                        },
                        "type": "table"
                      }
                    ]
                  },
                  "layout": {
                    "annotationdefaults": {
                      "arrowcolor": "#2a3f5f",
                      "arrowhead": 0,
                      "arrowwidth": 1
                    },
                    "autotypenumbers": "strict",
                    "coloraxis": {
                      "colorbar": {
                        "outlinewidth": 0,
                        "ticks": ""
                      }
                    },
                    "colorscale": {
                      "diverging": [
                        [
                          0,
                          "#8e0152"
                        ],
                        [
                          0.1,
                          "#c51b7d"
                        ],
                        [
                          0.2,
                          "#de77ae"
                        ],
                        [
                          0.3,
                          "#f1b6da"
                        ],
                        [
                          0.4,
                          "#fde0ef"
                        ],
                        [
                          0.5,
                          "#f7f7f7"
                        ],
                        [
                          0.6,
                          "#e6f5d0"
                        ],
                        [
                          0.7,
                          "#b8e186"
                        ],
                        [
                          0.8,
                          "#7fbc41"
                        ],
                        [
                          0.9,
                          "#4d9221"
                        ],
                        [
                          1,
                          "#276419"
                        ]
                      ],
                      "sequential": [
                        [
                          0,
                          "#0d0887"
                        ],
                        [
                          0.1111111111111111,
                          "#46039f"
                        ],
                        [
                          0.2222222222222222,
                          "#7201a8"
                        ],
                        [
                          0.3333333333333333,
                          "#9c179e"
                        ],
                        [
                          0.4444444444444444,
                          "#bd3786"
                        ],
                        [
                          0.5555555555555556,
                          "#d8576b"
                        ],
                        [
                          0.6666666666666666,
                          "#ed7953"
                        ],
                        [
                          0.7777777777777778,
                          "#fb9f3a"
                        ],
                        [
                          0.8888888888888888,
                          "#fdca26"
                        ],
                        [
                          1,
                          "#f0f921"
                        ]
                      ],
                      "sequentialminus": [
                        [
                          0,
                          "#0d0887"
                        ],
                        [
                          0.1111111111111111,
                          "#46039f"
                        ],
                        [
                          0.2222222222222222,
                          "#7201a8"
                        ],
                        [
                          0.3333333333333333,
                          "#9c179e"
                        ],
                        [
                          0.4444444444444444,
                          "#bd3786"
                        ],
                        [
                          0.5555555555555556,
                          "#d8576b"
                        ],
                        [
                          0.6666666666666666,
                          "#ed7953"
                        ],
                        [
                          0.7777777777777778,
                          "#fb9f3a"
                        ],
                        [
                          0.8888888888888888,
                          "#fdca26"
                        ],
                        [
                          1,
                          "#f0f921"
                        ]
                      ]
                    },
                    "colorway": [
                      "#636efa",
                      "#EF553B",
                      "#00cc96",
                      "#ab63fa",
                      "#FFA15A",
                      "#19d3f3",
                      "#FF6692",
                      "#B6E880",
                      "#FF97FF",
                      "#FECB52"
                    ],
                    "font": {
                      "color": "#2a3f5f"
                    },
                    "geo": {
                      "bgcolor": "white",
                      "lakecolor": "white",
                      "landcolor": "#E5ECF6",
                      "showlakes": true,
                      "showland": true,
                      "subunitcolor": "white"
                    },
                    "hoverlabel": {
                      "align": "left"
                    },
                    "hovermode": "closest",
                    "mapbox": {
                      "style": "light"
                    },
                    "paper_bgcolor": "white",
                    "plot_bgcolor": "#E5ECF6",
                    "polar": {
                      "angularaxis": {
                        "gridcolor": "white",
                        "linecolor": "white",
                        "ticks": ""
                      },
                      "bgcolor": "#E5ECF6",
                      "radialaxis": {
                        "gridcolor": "white",
                        "linecolor": "white",
                        "ticks": ""
                      }
                    },
                    "scene": {
                      "xaxis": {
                        "backgroundcolor": "#E5ECF6",
                        "gridcolor": "white",
                        "gridwidth": 2,
                        "linecolor": "white",
                        "showbackground": true,
                        "ticks": "",
                        "zerolinecolor": "white"
                      },
                      "yaxis": {
                        "backgroundcolor": "#E5ECF6",
                        "gridcolor": "white",
                        "gridwidth": 2,
                        "linecolor": "white",
                        "showbackground": true,
                        "ticks": "",
                        "zerolinecolor": "white"
                      },
                      "zaxis": {
                        "backgroundcolor": "#E5ECF6",
                        "gridcolor": "white",
                        "gridwidth": 2,
                        "linecolor": "white",
                        "showbackground": true,
                        "ticks": "",
                        "zerolinecolor": "white"
                      }
                    },
                    "shapedefaults": {
                      "line": {
                        "color": "#2a3f5f"
                      }
                    },
                    "ternary": {
                      "aaxis": {
                        "gridcolor": "white",
                        "linecolor": "white",
                        "ticks": ""
                      },
                      "baxis": {
                        "gridcolor": "white",
                        "linecolor": "white",
                        "ticks": ""
                      },
                      "bgcolor": "#E5ECF6",
                      "caxis": {
                        "gridcolor": "white",
                        "linecolor": "white",
                        "ticks": ""
                      }
                    },
                    "title": {
                      "x": 0.05
                    },
                    "xaxis": {
                      "automargin": true,
                      "gridcolor": "white",
                      "linecolor": "white",
                      "ticks": "",
                      "title": {
                        "standoff": 15
                      },
                      "zerolinecolor": "white",
                      "zerolinewidth": 2
                    },
                    "yaxis": {
                      "automargin": true,
                      "gridcolor": "white",
                      "linecolor": "white",
                      "ticks": "",
                      "title": {
                        "standoff": 15
                      },
                      "zerolinecolor": "white",
                      "zerolinewidth": 2
                    }
                  }
                },
                "title": {
                  "text": "Scatter Plot of deaths_per_100000 by total_population for N-Z"
                },
                "xaxis": {
                  "anchor": "y",
                  "domain": [
                    0,
                    1
                  ],
                  "title": {
                    "text": "total_population"
                  }
                },
                "yaxis": {
                  "anchor": "x",
                  "domain": [
                    0,
                    1
                  ],
                  "title": {
                    "text": "deaths_per_100000"
                  }
                }
              }
            }
          },
          "metadata": {},
          "output_type": "display_data"
        }
      ],
      "source": [
        "# Scatter plot for M-Z\n",
        "scatter_mz = px.scatter(\n",
        "    df, \n",
        "    x='total_population', \n",
        "    y='deaths',\n",
        "    title='Scatter Plot of deaths by total_population for N-Z'\n",
        ")\n",
        "\n",
        "scatter_mz.show()\n",
        "# Scatter plot for M-Z\n",
        "\n",
        "scatter_mz2 = px.scatter(\n",
        "    df, \n",
        "    x='total_population', \n",
        "    y='deaths_per_100000',\n",
        "    title='Scatter Plot of deaths_per_100000 by total_population for N-Z'\n",
        ")\n",
        "\n",
        "scatter_mz2.show()"
      ]
    },
    {
      "cell_type": "markdown",
      "metadata": {
        "id": "Hjz7Oc8N0acy"
      },
      "source": [
        "##**QUESTION 2**\n",
        "\n",
        " Compute and interpret the values of the correlation coefficient between the two pairs of variables represented in question 1 above."
      ]
    },
    {
      "cell_type": "code",
      "execution_count": 9,
      "metadata": {
        "colab": {
          "base_uri": "https://localhost:8080/"
        },
        "id": "P4qIa7po3Sms",
        "outputId": "4d6ee76f-8f49-41b6-b34e-fda4e9f3ee68"
      },
      "outputs": [],
      "source": [
        "# Function to compute regression statistics and return them in a DataFrame\n",
        "def compute_regression_stats(df, independent_var, dependent_var):\n",
        "    X = df[independent_var]\n",
        "    Y = df[dependent_var]\n",
        "    X = sm.add_constant(X)  # Adds a constant term to the predictor\n",
        "\n",
        "    # Fit the OLS model\n",
        "    model = sm.OLS(Y, X).fit()\n",
        "    predictions = model.predict()\n",
        "    residuals = Y - predictions\n",
        "    see = np.sqrt((residuals**2).sum() / (len(Y) - 2))\n",
        "    # Compute the correlation coefficient\n",
        "    correlation = X[independent_var].corr(Y)\n",
        "\n",
        "    # Compile the statistics\n",
        "    stats_df = pd.DataFrame({\n",
        "        'R': [correlation],\n",
        "        'R Squared': [model.rsquared],\n",
        "        'Adjusted R Squared': [model.rsquared_adj],\n",
        "        'Std. Error of the Estimate': see\n",
        "    })\n",
        "    \n",
        "    return stats_df\n"
      ]
    },
    {
      "cell_type": "code",
      "execution_count": 13,
      "metadata": {},
      "outputs": [
        {
          "name": "stdout",
          "output_type": "stream",
          "text": [
            "A-M Group: confirmed\n"
          ]
        },
        {
          "data": {
            "text/html": [
              "<div>\n",
              "<style scoped>\n",
              "    .dataframe tbody tr th:only-of-type {\n",
              "        vertical-align: middle;\n",
              "    }\n",
              "\n",
              "    .dataframe tbody tr th {\n",
              "        vertical-align: top;\n",
              "    }\n",
              "\n",
              "    .dataframe thead th {\n",
              "        text-align: right;\n",
              "    }\n",
              "</style>\n",
              "<table border=\"1\" class=\"dataframe\">\n",
              "  <thead>\n",
              "    <tr style=\"text-align: right;\">\n",
              "      <th></th>\n",
              "      <th>R</th>\n",
              "      <th>R Squared</th>\n",
              "      <th>Adjusted R Squared</th>\n",
              "      <th>Std. Error of the Estimate</th>\n",
              "    </tr>\n",
              "  </thead>\n",
              "  <tbody>\n",
              "    <tr>\n",
              "      <th>0</th>\n",
              "      <td>0.989809</td>\n",
              "      <td>0.979721</td>\n",
              "      <td>0.979576</td>\n",
              "      <td>8255.189622</td>\n",
              "    </tr>\n",
              "  </tbody>\n",
              "</table>\n",
              "</div>"
            ],
            "text/plain": [
              "          R  R Squared  Adjusted R Squared  Std. Error of the Estimate\n",
              "0  0.989809   0.979721            0.979576                 8255.189622"
            ]
          },
          "metadata": {},
          "output_type": "display_data"
        }
      ],
      "source": [
        "# Calculate statistics for A-L group\n",
        "stats_am_confirmed = compute_regression_stats(df, 'total_population', 'confirmed')\n",
        "# Display the results\n",
        "print(\"A-M Group: confirmed\")\n",
        "display(stats_am_confirmed)"
      ]
    },
    {
      "cell_type": "markdown",
      "metadata": {},
      "source": [
        "• There is a strong, positive, linear relationship between the total population size and the number of confirmed cases.\n",
        "• (Explanation of whether it was what the student expected.)"
      ]
    },
    {
      "cell_type": "code",
      "execution_count": 12,
      "metadata": {},
      "outputs": [
        {
          "name": "stdout",
          "output_type": "stream",
          "text": [
            "\n",
            "A-M Group: confirmed_per_100000\n"
          ]
        },
        {
          "data": {
            "text/html": [
              "<div>\n",
              "<style scoped>\n",
              "    .dataframe tbody tr th:only-of-type {\n",
              "        vertical-align: middle;\n",
              "    }\n",
              "\n",
              "    .dataframe tbody tr th {\n",
              "        vertical-align: top;\n",
              "    }\n",
              "\n",
              "    .dataframe thead th {\n",
              "        text-align: right;\n",
              "    }\n",
              "</style>\n",
              "<table border=\"1\" class=\"dataframe\">\n",
              "  <thead>\n",
              "    <tr style=\"text-align: right;\">\n",
              "      <th></th>\n",
              "      <th>R</th>\n",
              "      <th>R Squared</th>\n",
              "      <th>Adjusted R Squared</th>\n",
              "      <th>Std. Error of the Estimate</th>\n",
              "    </tr>\n",
              "  </thead>\n",
              "  <tbody>\n",
              "    <tr>\n",
              "      <th>0</th>\n",
              "      <td>0.045733</td>\n",
              "      <td>0.002091</td>\n",
              "      <td>-0.005036</td>\n",
              "      <td>6149.666741</td>\n",
              "    </tr>\n",
              "  </tbody>\n",
              "</table>\n",
              "</div>"
            ],
            "text/plain": [
              "          R  R Squared  Adjusted R Squared  Std. Error of the Estimate\n",
              "0  0.045733   0.002091           -0.005036                 6149.666741"
            ]
          },
          "metadata": {},
          "output_type": "display_data"
        }
      ],
      "source": [
        "stats_am_confirmed_per_100000 = compute_regression_stats(df, 'total_population', 'confirmed_per_100000')\n",
        "print(\"\\nA-M Group: confirmed_per_100000\")\n",
        "display(stats_am_confirmed_per_100000)"
      ]
    },
    {
      "cell_type": "markdown",
      "metadata": {},
      "source": [
        "There is a (very) weak, positive, linear relationship between the total population size and the number of confirmed cases per 100,000.\n",
        "• (Explanation of whether it was what the student expected.)"
      ]
    },
    {
      "cell_type": "code",
      "execution_count": 14,
      "metadata": {},
      "outputs": [
        {
          "name": "stdout",
          "output_type": "stream",
          "text": [
            "\n",
            "N-Z Group: Deaths\n"
          ]
        },
        {
          "data": {
            "text/html": [
              "<div>\n",
              "<style scoped>\n",
              "    .dataframe tbody tr th:only-of-type {\n",
              "        vertical-align: middle;\n",
              "    }\n",
              "\n",
              "    .dataframe tbody tr th {\n",
              "        vertical-align: top;\n",
              "    }\n",
              "\n",
              "    .dataframe thead th {\n",
              "        text-align: right;\n",
              "    }\n",
              "</style>\n",
              "<table border=\"1\" class=\"dataframe\">\n",
              "  <thead>\n",
              "    <tr style=\"text-align: right;\">\n",
              "      <th></th>\n",
              "      <th>R</th>\n",
              "      <th>R Squared</th>\n",
              "      <th>Adjusted R Squared</th>\n",
              "      <th>Std. Error of the Estimate</th>\n",
              "    </tr>\n",
              "  </thead>\n",
              "  <tbody>\n",
              "    <tr>\n",
              "      <th>0</th>\n",
              "      <td>0.903118</td>\n",
              "      <td>0.815622</td>\n",
              "      <td>0.814305</td>\n",
              "      <td>271.948043</td>\n",
              "    </tr>\n",
              "  </tbody>\n",
              "</table>\n",
              "</div>"
            ],
            "text/plain": [
              "          R  R Squared  Adjusted R Squared  Std. Error of the Estimate\n",
              "0  0.903118   0.815622            0.814305                  271.948043"
            ]
          },
          "metadata": {},
          "output_type": "display_data"
        }
      ],
      "source": [
        "# Calculate statistics for M-Z group\n",
        "stats_nz_deaths = compute_regression_stats(df, 'total_population', 'deaths')\n",
        "print(\"\\nN-Z Group: Deaths\")\n",
        "display(stats_nz_deaths)"
      ]
    },
    {
      "cell_type": "markdown",
      "metadata": {},
      "source": [
        "There is a strong, positive, linear relationship between the total population size and the number of deaths due to COVID.\n",
        "• (Explanation of whether it was what the student expected.)\n",
        "Confirmed per 100,000\n",
        "• There is a (very) weak, positive, linear relationship between the total population size and the number of confirmed cases per 100,000.\n",
        "• (Explanation of whether it was what the student expected.)"
      ]
    },
    {
      "cell_type": "code",
      "execution_count": 15,
      "metadata": {},
      "outputs": [
        {
          "name": "stdout",
          "output_type": "stream",
          "text": [
            "\n",
            "N-Z Group: Deaths_per_100000\n"
          ]
        },
        {
          "data": {
            "text/html": [
              "<div>\n",
              "<style scoped>\n",
              "    .dataframe tbody tr th:only-of-type {\n",
              "        vertical-align: middle;\n",
              "    }\n",
              "\n",
              "    .dataframe tbody tr th {\n",
              "        vertical-align: top;\n",
              "    }\n",
              "\n",
              "    .dataframe thead th {\n",
              "        text-align: right;\n",
              "    }\n",
              "</style>\n",
              "<table border=\"1\" class=\"dataframe\">\n",
              "  <thead>\n",
              "    <tr style=\"text-align: right;\">\n",
              "      <th></th>\n",
              "      <th>R</th>\n",
              "      <th>R Squared</th>\n",
              "      <th>Adjusted R Squared</th>\n",
              "      <th>Std. Error of the Estimate</th>\n",
              "    </tr>\n",
              "  </thead>\n",
              "  <tbody>\n",
              "    <tr>\n",
              "      <th>0</th>\n",
              "      <td>-0.246867</td>\n",
              "      <td>0.060943</td>\n",
              "      <td>0.054236</td>\n",
              "      <td>182.133379</td>\n",
              "    </tr>\n",
              "  </tbody>\n",
              "</table>\n",
              "</div>"
            ],
            "text/plain": [
              "          R  R Squared  Adjusted R Squared  Std. Error of the Estimate\n",
              "0 -0.246867   0.060943            0.054236                  182.133379"
            ]
          },
          "metadata": {},
          "output_type": "display_data"
        }
      ],
      "source": [
        "stats_nz_deaths_per_100000 = compute_regression_stats(df, 'total_population', 'deaths_per_100000')\n",
        "print(\"\\nN-Z Group: Deaths_per_100000\")\n",
        "display(stats_nz_deaths_per_100000)"
      ]
    },
    {
      "cell_type": "markdown",
      "metadata": {},
      "source": [
        "There is a weak, positive, linear relationship between the total population size and the number of deaths due to COVID.\n",
        "• (Explanation of whether it was what the student expected.)"
      ]
    },
    {
      "cell_type": "markdown",
      "metadata": {
        "id": "BdkQcF691E74"
      },
      "source": [
        "## **QUESTION 3**\n",
        "\n",
        "Which relationship appears strongest? Is this what you expected?\n"
      ]
    },
    {
      "cell_type": "markdown",
      "metadata": {},
      "source": [
        "A-M: • The relationship between total population size and the number of confirmed cases.\n",
        "• (What you expected?)"
      ]
    },
    {
      "cell_type": "markdown",
      "metadata": {},
      "source": [
        "N-Z:  The relationship between total population size and the number of deaths due to COVID.\n",
        "• (What you expected?)"
      ]
    },
    {
      "cell_type": "markdown",
      "metadata": {
        "id": "A2uHwoKa0a1Y"
      },
      "source": [
        "## **QUESTION 4**\n",
        "\n",
        "Compute the least squares regression line using the dependent (y) variable and independent (x) variables indicated below. Add the regression line to the scatterplot. Paste the new scatterplot and output table below. Then type out the prediction equation.\n",
        "\n",
        "| LAST NAME | Independent Variable (x) | Dependent Variable (y)   |\n",
        "|-----------|--------------------------|--------------------------|\n",
        "| A-L       | TOTAL_POPULATION         | CONFIRMED_PER_100000     |\n",
        "| M-Z       | TOTAL_POPULATION         | DEATHS_PER_100000        |\n"
      ]
    },
    {
      "cell_type": "code",
      "execution_count": 16,
      "metadata": {
        "colab": {
          "base_uri": "https://localhost:8080/",
          "height": 542
        },
        "id": "GOOXz_eQAmcE",
        "outputId": "ebe4b261-c0d4-48f6-e2ff-51d1057d5fb5"
      },
      "outputs": [
        {
          "data": {
            "application/vnd.plotly.v1+json": {
              "config": {
                "plotlyServerURL": "https://plot.ly"
              },
              "data": [
                {
                  "hovertemplate": "total_population=%{x}<br>confirmed_per_100000=%{y}<extra></extra>",
                  "legendgroup": "",
                  "marker": {
                    "color": "#636efa",
                    "symbol": "circle"
                  },
                  "mode": "markers",
                  "name": "",
                  "orientation": "v",
                  "showlegend": false,
                  "type": "scatter",
                  "x": [
                    10236,
                    109472,
                    398879,
                    311522,
                    35347,
                    2609,
                    29167,
                    64902,
                    66532,
                    69105,
                    6600,
                    15712,
                    140217,
                    777,
                    13976,
                    239164,
                    306713,
                    3058,
                    14443,
                    15500,
                    14120,
                    1951,
                    34113,
                    176515,
                    27819,
                    6222,
                    17635,
                    14960,
                    8426,
                    24440,
                    317884,
                    5582,
                    85755,
                    43983,
                    15622,
                    5872,
                    5270,
                    3667,
                    17153,
                    13374,
                    8796,
                    6032,
                    25076,
                    52724,
                    5525,
                    8827,
                    158913,
                    6399,
                    11417,
                    3275,
                    168838,
                    92152,
                    113625,
                    13389,
                    668631,
                    33837,
                    68472,
                    12468,
                    944348,
                    45114,
                    14702,
                    207829,
                    17672,
                    26028,
                    4967,
                    2460,
                    25066,
                    576808,
                    33403,
                    21926,
                    15796,
                    138674,
                    188482,
                    9996,
                    8019,
                    39307,
                    1546,
                    40980,
                    357546,
                    98136,
                    849389,
                    89811,
                    45694,
                    286316,
                    25737,
                    23877,
                    81893,
                    75757,
                    14288,
                    12424,
                    812037,
                    73830,
                    24231,
                    13331,
                    49355,
                    80216,
                    8218,
                    2029,
                    1133247,
                    134473,
                    6343,
                    5929,
                    94860,
                    7110,
                    1780,
                    1200,
                    72206,
                    23160,
                    27668,
                    15177,
                    8205,
                    179473,
                    3932,
                    5174,
                    81427,
                    5234,
                    42256,
                    19430,
                    15504,
                    3994,
                    859840,
                    21103,
                    8842,
                    2518,
                    8536,
                    296112,
                    36683,
                    81746,
                    7188,
                    696,
                    40127,
                    418201,
                    8570,
                    62568,
                    389648,
                    527634,
                    28495,
                    20144,
                    5211,
                    29376,
                    39025,
                    11372
                  ],
                  "xaxis": "x",
                  "y": [
                    31760.45,
                    23586.85,
                    34593.2,
                    30878.72,
                    35739.95,
                    23418.93,
                    38752.7,
                    40083.51,
                    31894.43,
                    36234.72,
                    21060.61,
                    26043.79,
                    37305.03,
                    18918.92,
                    36584.14,
                    13820.64,
                    28519.17,
                    17135.38,
                    26739.6,
                    36006.45,
                    19879.6,
                    14351.61,
                    24345.56,
                    29642.81,
                    23785.9,
                    28126,
                    43118.8,
                    31784.76,
                    26584.38,
                    34005.73,
                    29054.62,
                    33142.24,
                    25063.26,
                    29693.29,
                    25547.31,
                    39628.75,
                    34117.65,
                    22579.77,
                    36320.18,
                    22693.29,
                    23306.05,
                    28381.96,
                    27356.84,
                    31856.46,
                    28941.18,
                    19530.98,
                    31320.91,
                    35021.1,
                    26399.23,
                    32396.95,
                    33853.16,
                    21123.8,
                    28594.94,
                    34386.44,
                    34940.65,
                    32340.34,
                    27549.95,
                    30774.78,
                    27584.96,
                    29667.07,
                    37423.48,
                    33883.63,
                    22555.45,
                    22233.75,
                    30763.04,
                    23902.44,
                    21678.77,
                    29675.04,
                    27189.17,
                    33717.96,
                    33508.48,
                    32232.43,
                    30539.79,
                    43987.6,
                    30539.97,
                    33530.92,
                    36869.34,
                    31268.91,
                    33446.89,
                    25817.23,
                    30957.31,
                    25450.11,
                    30899.02,
                    42299.07,
                    23736.26,
                    23348.83,
                    31878.18,
                    31599.72,
                    30564.11,
                    23937.54,
                    28774.06,
                    33535.15,
                    42210.39,
                    34145.98,
                    17682.1,
                    29787.07,
                    28851.3,
                    23410.55,
                    25518.44,
                    31268.73,
                    30159.23,
                    27846.18,
                    32702.93,
                    36708.86,
                    30561.8,
                    32583.33,
                    32752.13,
                    26839.38,
                    31090.07,
                    28483.89,
                    30822.67,
                    35768.61,
                    34791.45,
                    13065.33,
                    24755.92,
                    21207.49,
                    28164.05,
                    32202.78,
                    25174.15,
                    26264.4,
                    28068.13,
                    27669.05,
                    18649.63,
                    31493.25,
                    29135.43,
                    41480.25,
                    32341.96,
                    36335.72,
                    19824.71,
                    14655.17,
                    33795.2,
                    32174.96,
                    34434.07,
                    29794.78,
                    28589.39,
                    27962.19,
                    29759.61,
                    38165.21,
                    26616.77,
                    42466.64,
                    34839.21,
                    32659.16
                  ],
                  "yaxis": "y"
                },
                {
                  "hovertemplate": "<b>OLS trendline</b><br>confirmed_per_100000 = 0.00142454 * total_population + 29471.3<br>R<sup>2</sup>=0.002091<br><br>total_population=%{x}<br>confirmed_per_100000=%{y} <b>(trend)</b><extra></extra>",
                  "legendgroup": "",
                  "marker": {
                    "color": "#636efa",
                    "symbol": "circle"
                  },
                  "mode": "lines",
                  "name": "",
                  "showlegend": false,
                  "type": "scatter",
                  "x": [
                    696,
                    777,
                    1200,
                    1546,
                    1780,
                    1951,
                    2029,
                    2460,
                    2518,
                    2609,
                    3058,
                    3275,
                    3667,
                    3932,
                    3994,
                    4967,
                    5174,
                    5211,
                    5234,
                    5270,
                    5525,
                    5582,
                    5872,
                    5929,
                    6032,
                    6222,
                    6343,
                    6399,
                    6600,
                    7110,
                    7188,
                    8019,
                    8205,
                    8218,
                    8426,
                    8536,
                    8570,
                    8796,
                    8827,
                    8842,
                    9996,
                    10236,
                    11372,
                    11417,
                    12424,
                    12468,
                    13331,
                    13374,
                    13389,
                    13976,
                    14120,
                    14288,
                    14443,
                    14702,
                    14960,
                    15177,
                    15500,
                    15504,
                    15622,
                    15712,
                    15796,
                    17153,
                    17635,
                    17672,
                    19430,
                    20144,
                    21103,
                    21926,
                    23160,
                    23877,
                    24231,
                    24440,
                    25066,
                    25076,
                    25737,
                    26028,
                    27668,
                    27819,
                    28495,
                    29167,
                    29376,
                    33403,
                    33837,
                    34113,
                    35347,
                    36683,
                    39025,
                    39307,
                    40127,
                    40980,
                    42256,
                    43983,
                    45114,
                    45694,
                    49355,
                    52724,
                    62568,
                    64902,
                    66532,
                    68472,
                    69105,
                    72206,
                    73830,
                    75757,
                    80216,
                    81427,
                    81746,
                    81893,
                    85755,
                    89811,
                    92152,
                    94860,
                    98136,
                    109472,
                    113625,
                    134473,
                    138674,
                    140217,
                    158913,
                    168838,
                    176515,
                    179473,
                    188482,
                    207829,
                    239164,
                    286316,
                    296112,
                    306713,
                    311522,
                    317884,
                    357546,
                    389648,
                    398879,
                    418201,
                    527634,
                    576808,
                    668631,
                    812037,
                    849389,
                    859840,
                    944348,
                    1133247
                  ],
                  "xaxis": "x",
                  "y": [
                    29472.317113400994,
                    29472.43250106034,
                    29473.035081059137,
                    29473.52797155461,
                    29473.861313681606,
                    29474.104909851336,
                    29474.216023893667,
                    29474.8300002045,
                    29474.912623466746,
                    29475.042256516135,
                    29475.681874529044,
                    29475.990999492966,
                    29476.549418782633,
                    29476.926921618764,
                    29477.015243037025,
                    29478.401319488166,
                    29478.696199062048,
                    29478.748907005203,
                    29478.781671402303,
                    29478.832954806454,
                    29479.19621225254,
                    29479.27741097578,
                    29479.690527287017,
                    29479.771726010258,
                    29479.918453527698,
                    29480.189115938505,
                    29480.36148515802,
                    29480.441259342257,
                    29480.727591682113,
                    29481.45410657428,
                    29481.565220616616,
                    29482.74901252915,
                    29483.013976783943,
                    29483.032495790998,
                    29483.32879990388,
                    29483.48549919435,
                    29483.533933520495,
                    29483.855879335457,
                    29483.900040044588,
                    29483.921408129652,
                    29485.56532614056,
                    29485.907215501582,
                    29487.525491810415,
                    29487.58959606561,
                    29489.02410684289,
                    29489.086786559077,
                    29490.31616371975,
                    29490.377418896933,
                    29490.398786981998,
                    29491.234991377496,
                    29491.440124994107,
                    29491.679447546823,
                    29491.90025109248,
                    29492.269206694582,
                    29492.636737757683,
                    29492.945862721604,
                    29493.405988819977,
                    29493.411686975996,
                    29493.579782578498,
                    29493.70799108888,
                    29493.82765236524,
                    29495.760751794012,
                    29496.44737959406,
                    29496.50008753722,
                    29499.004427106698,
                    29500.021547955737,
                    29501.38768086082,
                    29502.56007646132,
                    29504.317957592568,
                    29505.339352058618,
                    29505.843638866125,
                    29506.141367518016,
                    29507.033128934676,
                    29507.04737432472,
                    29507.98899460653,
                    29508.40353545677,
                    29510.739779423748,
                    29510.95488481339,
                    29511.917873180268,
                    29512.875163391123,
                    29513.172892043014,
                    29518.909510613146,
                    29519.527760540994,
                    29519.920933306166,
                    29521.67881443742,
                    29523.581998547103,
                    29526.918268895068,
                    29527.319988894265,
                    29528.488110877755,
                    29529.703242648382,
                    29531.520954417814,
                    29533.98113327816,
                    29535.592286891973,
                    29536.41851951444,
                    29541.633756809017,
                    29546.43302871435,
                    29560.45619067223,
                    29563.78106470816,
                    29566.103063285096,
                    29568.86666895335,
                    29569.768402143043,
                    29574.185897595235,
                    29576.499348938145,
                    29579.244435599343,
                    29585.596455019313,
                    29587.321571753466,
                    29587.775999695823,
                    29587.98540692945,
                    29593.48697656388,
                    29599.264906765136,
                    29602.599752574097,
                    29606.457404197616,
                    29611.124193975556,
                    29627.272768127783,
                    29633.188878612455,
                    29662.887667773153,
                    29668.872156130026,
                    29671.070219813588,
                    29697.70340103713,
                    29711.841950654358,
                    29722.77813659002,
                    29726.991922964604,
                    29739.825594853934,
                    29767.386150969247,
                    29812.02408066756,
                    29879.19394379617,
                    29893.14872788185,
                    29908.25026586595,
                    29915.10087393741,
                    29924.163791082476,
                    29980.66385706922,
                    30026.394408183798,
                    30039.544327732074,
                    30067.069270372278,
                    30222.960847224862,
                    30293.011128220074,
                    30423.816573207736,
                    30628.10401365186,
                    30681.313394538774,
                    30696.20125167224,
                    30816.58619384378,
                    31085.680187208454
                  ],
                  "yaxis": "y"
                }
              ],
              "layout": {
                "legend": {
                  "tracegroupgap": 0
                },
                "template": {
                  "data": {
                    "bar": [
                      {
                        "error_x": {
                          "color": "#2a3f5f"
                        },
                        "error_y": {
                          "color": "#2a3f5f"
                        },
                        "marker": {
                          "line": {
                            "color": "#E5ECF6",
                            "width": 0.5
                          },
                          "pattern": {
                            "fillmode": "overlay",
                            "size": 10,
                            "solidity": 0.2
                          }
                        },
                        "type": "bar"
                      }
                    ],
                    "barpolar": [
                      {
                        "marker": {
                          "line": {
                            "color": "#E5ECF6",
                            "width": 0.5
                          },
                          "pattern": {
                            "fillmode": "overlay",
                            "size": 10,
                            "solidity": 0.2
                          }
                        },
                        "type": "barpolar"
                      }
                    ],
                    "carpet": [
                      {
                        "aaxis": {
                          "endlinecolor": "#2a3f5f",
                          "gridcolor": "white",
                          "linecolor": "white",
                          "minorgridcolor": "white",
                          "startlinecolor": "#2a3f5f"
                        },
                        "baxis": {
                          "endlinecolor": "#2a3f5f",
                          "gridcolor": "white",
                          "linecolor": "white",
                          "minorgridcolor": "white",
                          "startlinecolor": "#2a3f5f"
                        },
                        "type": "carpet"
                      }
                    ],
                    "choropleth": [
                      {
                        "colorbar": {
                          "outlinewidth": 0,
                          "ticks": ""
                        },
                        "type": "choropleth"
                      }
                    ],
                    "contour": [
                      {
                        "colorbar": {
                          "outlinewidth": 0,
                          "ticks": ""
                        },
                        "colorscale": [
                          [
                            0,
                            "#0d0887"
                          ],
                          [
                            0.1111111111111111,
                            "#46039f"
                          ],
                          [
                            0.2222222222222222,
                            "#7201a8"
                          ],
                          [
                            0.3333333333333333,
                            "#9c179e"
                          ],
                          [
                            0.4444444444444444,
                            "#bd3786"
                          ],
                          [
                            0.5555555555555556,
                            "#d8576b"
                          ],
                          [
                            0.6666666666666666,
                            "#ed7953"
                          ],
                          [
                            0.7777777777777778,
                            "#fb9f3a"
                          ],
                          [
                            0.8888888888888888,
                            "#fdca26"
                          ],
                          [
                            1,
                            "#f0f921"
                          ]
                        ],
                        "type": "contour"
                      }
                    ],
                    "contourcarpet": [
                      {
                        "colorbar": {
                          "outlinewidth": 0,
                          "ticks": ""
                        },
                        "type": "contourcarpet"
                      }
                    ],
                    "heatmap": [
                      {
                        "colorbar": {
                          "outlinewidth": 0,
                          "ticks": ""
                        },
                        "colorscale": [
                          [
                            0,
                            "#0d0887"
                          ],
                          [
                            0.1111111111111111,
                            "#46039f"
                          ],
                          [
                            0.2222222222222222,
                            "#7201a8"
                          ],
                          [
                            0.3333333333333333,
                            "#9c179e"
                          ],
                          [
                            0.4444444444444444,
                            "#bd3786"
                          ],
                          [
                            0.5555555555555556,
                            "#d8576b"
                          ],
                          [
                            0.6666666666666666,
                            "#ed7953"
                          ],
                          [
                            0.7777777777777778,
                            "#fb9f3a"
                          ],
                          [
                            0.8888888888888888,
                            "#fdca26"
                          ],
                          [
                            1,
                            "#f0f921"
                          ]
                        ],
                        "type": "heatmap"
                      }
                    ],
                    "heatmapgl": [
                      {
                        "colorbar": {
                          "outlinewidth": 0,
                          "ticks": ""
                        },
                        "colorscale": [
                          [
                            0,
                            "#0d0887"
                          ],
                          [
                            0.1111111111111111,
                            "#46039f"
                          ],
                          [
                            0.2222222222222222,
                            "#7201a8"
                          ],
                          [
                            0.3333333333333333,
                            "#9c179e"
                          ],
                          [
                            0.4444444444444444,
                            "#bd3786"
                          ],
                          [
                            0.5555555555555556,
                            "#d8576b"
                          ],
                          [
                            0.6666666666666666,
                            "#ed7953"
                          ],
                          [
                            0.7777777777777778,
                            "#fb9f3a"
                          ],
                          [
                            0.8888888888888888,
                            "#fdca26"
                          ],
                          [
                            1,
                            "#f0f921"
                          ]
                        ],
                        "type": "heatmapgl"
                      }
                    ],
                    "histogram": [
                      {
                        "marker": {
                          "pattern": {
                            "fillmode": "overlay",
                            "size": 10,
                            "solidity": 0.2
                          }
                        },
                        "type": "histogram"
                      }
                    ],
                    "histogram2d": [
                      {
                        "colorbar": {
                          "outlinewidth": 0,
                          "ticks": ""
                        },
                        "colorscale": [
                          [
                            0,
                            "#0d0887"
                          ],
                          [
                            0.1111111111111111,
                            "#46039f"
                          ],
                          [
                            0.2222222222222222,
                            "#7201a8"
                          ],
                          [
                            0.3333333333333333,
                            "#9c179e"
                          ],
                          [
                            0.4444444444444444,
                            "#bd3786"
                          ],
                          [
                            0.5555555555555556,
                            "#d8576b"
                          ],
                          [
                            0.6666666666666666,
                            "#ed7953"
                          ],
                          [
                            0.7777777777777778,
                            "#fb9f3a"
                          ],
                          [
                            0.8888888888888888,
                            "#fdca26"
                          ],
                          [
                            1,
                            "#f0f921"
                          ]
                        ],
                        "type": "histogram2d"
                      }
                    ],
                    "histogram2dcontour": [
                      {
                        "colorbar": {
                          "outlinewidth": 0,
                          "ticks": ""
                        },
                        "colorscale": [
                          [
                            0,
                            "#0d0887"
                          ],
                          [
                            0.1111111111111111,
                            "#46039f"
                          ],
                          [
                            0.2222222222222222,
                            "#7201a8"
                          ],
                          [
                            0.3333333333333333,
                            "#9c179e"
                          ],
                          [
                            0.4444444444444444,
                            "#bd3786"
                          ],
                          [
                            0.5555555555555556,
                            "#d8576b"
                          ],
                          [
                            0.6666666666666666,
                            "#ed7953"
                          ],
                          [
                            0.7777777777777778,
                            "#fb9f3a"
                          ],
                          [
                            0.8888888888888888,
                            "#fdca26"
                          ],
                          [
                            1,
                            "#f0f921"
                          ]
                        ],
                        "type": "histogram2dcontour"
                      }
                    ],
                    "mesh3d": [
                      {
                        "colorbar": {
                          "outlinewidth": 0,
                          "ticks": ""
                        },
                        "type": "mesh3d"
                      }
                    ],
                    "parcoords": [
                      {
                        "line": {
                          "colorbar": {
                            "outlinewidth": 0,
                            "ticks": ""
                          }
                        },
                        "type": "parcoords"
                      }
                    ],
                    "pie": [
                      {
                        "automargin": true,
                        "type": "pie"
                      }
                    ],
                    "scatter": [
                      {
                        "fillpattern": {
                          "fillmode": "overlay",
                          "size": 10,
                          "solidity": 0.2
                        },
                        "type": "scatter"
                      }
                    ],
                    "scatter3d": [
                      {
                        "line": {
                          "colorbar": {
                            "outlinewidth": 0,
                            "ticks": ""
                          }
                        },
                        "marker": {
                          "colorbar": {
                            "outlinewidth": 0,
                            "ticks": ""
                          }
                        },
                        "type": "scatter3d"
                      }
                    ],
                    "scattercarpet": [
                      {
                        "marker": {
                          "colorbar": {
                            "outlinewidth": 0,
                            "ticks": ""
                          }
                        },
                        "type": "scattercarpet"
                      }
                    ],
                    "scattergeo": [
                      {
                        "marker": {
                          "colorbar": {
                            "outlinewidth": 0,
                            "ticks": ""
                          }
                        },
                        "type": "scattergeo"
                      }
                    ],
                    "scattergl": [
                      {
                        "marker": {
                          "colorbar": {
                            "outlinewidth": 0,
                            "ticks": ""
                          }
                        },
                        "type": "scattergl"
                      }
                    ],
                    "scattermapbox": [
                      {
                        "marker": {
                          "colorbar": {
                            "outlinewidth": 0,
                            "ticks": ""
                          }
                        },
                        "type": "scattermapbox"
                      }
                    ],
                    "scatterpolar": [
                      {
                        "marker": {
                          "colorbar": {
                            "outlinewidth": 0,
                            "ticks": ""
                          }
                        },
                        "type": "scatterpolar"
                      }
                    ],
                    "scatterpolargl": [
                      {
                        "marker": {
                          "colorbar": {
                            "outlinewidth": 0,
                            "ticks": ""
                          }
                        },
                        "type": "scatterpolargl"
                      }
                    ],
                    "scatterternary": [
                      {
                        "marker": {
                          "colorbar": {
                            "outlinewidth": 0,
                            "ticks": ""
                          }
                        },
                        "type": "scatterternary"
                      }
                    ],
                    "surface": [
                      {
                        "colorbar": {
                          "outlinewidth": 0,
                          "ticks": ""
                        },
                        "colorscale": [
                          [
                            0,
                            "#0d0887"
                          ],
                          [
                            0.1111111111111111,
                            "#46039f"
                          ],
                          [
                            0.2222222222222222,
                            "#7201a8"
                          ],
                          [
                            0.3333333333333333,
                            "#9c179e"
                          ],
                          [
                            0.4444444444444444,
                            "#bd3786"
                          ],
                          [
                            0.5555555555555556,
                            "#d8576b"
                          ],
                          [
                            0.6666666666666666,
                            "#ed7953"
                          ],
                          [
                            0.7777777777777778,
                            "#fb9f3a"
                          ],
                          [
                            0.8888888888888888,
                            "#fdca26"
                          ],
                          [
                            1,
                            "#f0f921"
                          ]
                        ],
                        "type": "surface"
                      }
                    ],
                    "table": [
                      {
                        "cells": {
                          "fill": {
                            "color": "#EBF0F8"
                          },
                          "line": {
                            "color": "white"
                          }
                        },
                        "header": {
                          "fill": {
                            "color": "#C8D4E3"
                          },
                          "line": {
                            "color": "white"
                          }
                        },
                        "type": "table"
                      }
                    ]
                  },
                  "layout": {
                    "annotationdefaults": {
                      "arrowcolor": "#2a3f5f",
                      "arrowhead": 0,
                      "arrowwidth": 1
                    },
                    "autotypenumbers": "strict",
                    "coloraxis": {
                      "colorbar": {
                        "outlinewidth": 0,
                        "ticks": ""
                      }
                    },
                    "colorscale": {
                      "diverging": [
                        [
                          0,
                          "#8e0152"
                        ],
                        [
                          0.1,
                          "#c51b7d"
                        ],
                        [
                          0.2,
                          "#de77ae"
                        ],
                        [
                          0.3,
                          "#f1b6da"
                        ],
                        [
                          0.4,
                          "#fde0ef"
                        ],
                        [
                          0.5,
                          "#f7f7f7"
                        ],
                        [
                          0.6,
                          "#e6f5d0"
                        ],
                        [
                          0.7,
                          "#b8e186"
                        ],
                        [
                          0.8,
                          "#7fbc41"
                        ],
                        [
                          0.9,
                          "#4d9221"
                        ],
                        [
                          1,
                          "#276419"
                        ]
                      ],
                      "sequential": [
                        [
                          0,
                          "#0d0887"
                        ],
                        [
                          0.1111111111111111,
                          "#46039f"
                        ],
                        [
                          0.2222222222222222,
                          "#7201a8"
                        ],
                        [
                          0.3333333333333333,
                          "#9c179e"
                        ],
                        [
                          0.4444444444444444,
                          "#bd3786"
                        ],
                        [
                          0.5555555555555556,
                          "#d8576b"
                        ],
                        [
                          0.6666666666666666,
                          "#ed7953"
                        ],
                        [
                          0.7777777777777778,
                          "#fb9f3a"
                        ],
                        [
                          0.8888888888888888,
                          "#fdca26"
                        ],
                        [
                          1,
                          "#f0f921"
                        ]
                      ],
                      "sequentialminus": [
                        [
                          0,
                          "#0d0887"
                        ],
                        [
                          0.1111111111111111,
                          "#46039f"
                        ],
                        [
                          0.2222222222222222,
                          "#7201a8"
                        ],
                        [
                          0.3333333333333333,
                          "#9c179e"
                        ],
                        [
                          0.4444444444444444,
                          "#bd3786"
                        ],
                        [
                          0.5555555555555556,
                          "#d8576b"
                        ],
                        [
                          0.6666666666666666,
                          "#ed7953"
                        ],
                        [
                          0.7777777777777778,
                          "#fb9f3a"
                        ],
                        [
                          0.8888888888888888,
                          "#fdca26"
                        ],
                        [
                          1,
                          "#f0f921"
                        ]
                      ]
                    },
                    "colorway": [
                      "#636efa",
                      "#EF553B",
                      "#00cc96",
                      "#ab63fa",
                      "#FFA15A",
                      "#19d3f3",
                      "#FF6692",
                      "#B6E880",
                      "#FF97FF",
                      "#FECB52"
                    ],
                    "font": {
                      "color": "#2a3f5f"
                    },
                    "geo": {
                      "bgcolor": "white",
                      "lakecolor": "white",
                      "landcolor": "#E5ECF6",
                      "showlakes": true,
                      "showland": true,
                      "subunitcolor": "white"
                    },
                    "hoverlabel": {
                      "align": "left"
                    },
                    "hovermode": "closest",
                    "mapbox": {
                      "style": "light"
                    },
                    "paper_bgcolor": "white",
                    "plot_bgcolor": "#E5ECF6",
                    "polar": {
                      "angularaxis": {
                        "gridcolor": "white",
                        "linecolor": "white",
                        "ticks": ""
                      },
                      "bgcolor": "#E5ECF6",
                      "radialaxis": {
                        "gridcolor": "white",
                        "linecolor": "white",
                        "ticks": ""
                      }
                    },
                    "scene": {
                      "xaxis": {
                        "backgroundcolor": "#E5ECF6",
                        "gridcolor": "white",
                        "gridwidth": 2,
                        "linecolor": "white",
                        "showbackground": true,
                        "ticks": "",
                        "zerolinecolor": "white"
                      },
                      "yaxis": {
                        "backgroundcolor": "#E5ECF6",
                        "gridcolor": "white",
                        "gridwidth": 2,
                        "linecolor": "white",
                        "showbackground": true,
                        "ticks": "",
                        "zerolinecolor": "white"
                      },
                      "zaxis": {
                        "backgroundcolor": "#E5ECF6",
                        "gridcolor": "white",
                        "gridwidth": 2,
                        "linecolor": "white",
                        "showbackground": true,
                        "ticks": "",
                        "zerolinecolor": "white"
                      }
                    },
                    "shapedefaults": {
                      "line": {
                        "color": "#2a3f5f"
                      }
                    },
                    "ternary": {
                      "aaxis": {
                        "gridcolor": "white",
                        "linecolor": "white",
                        "ticks": ""
                      },
                      "baxis": {
                        "gridcolor": "white",
                        "linecolor": "white",
                        "ticks": ""
                      },
                      "bgcolor": "#E5ECF6",
                      "caxis": {
                        "gridcolor": "white",
                        "linecolor": "white",
                        "ticks": ""
                      }
                    },
                    "title": {
                      "x": 0.05
                    },
                    "xaxis": {
                      "automargin": true,
                      "gridcolor": "white",
                      "linecolor": "white",
                      "ticks": "",
                      "title": {
                        "standoff": 15
                      },
                      "zerolinecolor": "white",
                      "zerolinewidth": 2
                    },
                    "yaxis": {
                      "automargin": true,
                      "gridcolor": "white",
                      "linecolor": "white",
                      "ticks": "",
                      "title": {
                        "standoff": 15
                      },
                      "zerolinecolor": "white",
                      "zerolinewidth": 2
                    }
                  }
                },
                "title": {
                  "text": "Scatter Plot of confirmed_per_100000 by total_population for A-M"
                },
                "xaxis": {
                  "anchor": "y",
                  "domain": [
                    0,
                    1
                  ],
                  "title": {
                    "text": "total_population"
                  }
                },
                "yaxis": {
                  "anchor": "x",
                  "domain": [
                    0,
                    1
                  ],
                  "title": {
                    "text": "confirmed_per_100000"
                  }
                }
              }
            }
          },
          "metadata": {},
          "output_type": "display_data"
        }
      ],
      "source": [
        "# Scatter plot with regression line for A-L\n",
        "scatter_al = px.scatter(\n",
        "    df, \n",
        "    x='total_population', \n",
        "    y='confirmed_per_100000',\n",
        "    title='Scatter Plot of confirmed_per_100000 by total_population for A-M',\n",
        "    trendline='ols'  # Adds OLS regression line\n",
        ")\n",
        "\n",
        "\n",
        "scatter_al.show()"
      ]
    },
    {
      "cell_type": "code",
      "execution_count": 17,
      "metadata": {},
      "outputs": [
        {
          "data": {
            "application/vnd.plotly.v1+json": {
              "config": {
                "plotlyServerURL": "https://plot.ly"
              },
              "data": [
                {
                  "hovertemplate": "total_population=%{x}<br>deaths_per_100000=%{y}<extra></extra>",
                  "legendgroup": "",
                  "marker": {
                    "color": "#636efa",
                    "symbol": "circle"
                  },
                  "mode": "markers",
                  "name": "",
                  "orientation": "v",
                  "showlegend": false,
                  "type": "scatter",
                  "x": [
                    10236,
                    109472,
                    398879,
                    311522,
                    35347,
                    2609,
                    29167,
                    64902,
                    66532,
                    69105,
                    6600,
                    15712,
                    140217,
                    777,
                    13976,
                    239164,
                    306713,
                    3058,
                    14443,
                    15500,
                    14120,
                    1951,
                    34113,
                    176515,
                    27819,
                    6222,
                    17635,
                    14960,
                    8426,
                    24440,
                    317884,
                    5582,
                    85755,
                    43983,
                    15622,
                    5872,
                    5270,
                    3667,
                    17153,
                    13374,
                    8796,
                    6032,
                    25076,
                    52724,
                    5525,
                    8827,
                    158913,
                    6399,
                    11417,
                    3275,
                    168838,
                    92152,
                    113625,
                    13389,
                    668631,
                    33837,
                    68472,
                    12468,
                    944348,
                    45114,
                    14702,
                    207829,
                    17672,
                    26028,
                    4967,
                    2460,
                    25066,
                    576808,
                    33403,
                    21926,
                    15796,
                    138674,
                    188482,
                    9996,
                    8019,
                    39307,
                    1546,
                    40980,
                    357546,
                    98136,
                    849389,
                    89811,
                    45694,
                    286316,
                    25737,
                    23877,
                    81893,
                    75757,
                    14288,
                    12424,
                    812037,
                    73830,
                    24231,
                    13331,
                    49355,
                    80216,
                    8218,
                    2029,
                    1133247,
                    134473,
                    6343,
                    5929,
                    94860,
                    7110,
                    1780,
                    1200,
                    72206,
                    23160,
                    27668,
                    15177,
                    8205,
                    179473,
                    3932,
                    5174,
                    81427,
                    5234,
                    42256,
                    19430,
                    15504,
                    3994,
                    859840,
                    21103,
                    8842,
                    2518,
                    8536,
                    296112,
                    36683,
                    81746,
                    7188,
                    696,
                    40127,
                    418201,
                    8570,
                    62568,
                    389648,
                    527634,
                    28495,
                    20144,
                    5211,
                    29376,
                    39025,
                    11372
                  ],
                  "xaxis": "x",
                  "y": [
                    781.56,
                    193.66,
                    304.85,
                    466.1,
                    514.9,
                    153.32,
                    716.56,
                    144.83,
                    640.29,
                    662.76,
                    348.48,
                    267.31,
                    370.14,
                    128.7,
                    543.79,
                    170.18,
                    341.36,
                    523.22,
                    422.35,
                    651.61,
                    276.2,
                    51.26,
                    732.86,
                    165.99,
                    391.82,
                    417.87,
                    510.35,
                    434.49,
                    629.01,
                    294.6,
                    488.23,
                    537.44,
                    452.45,
                    491.1,
                    614.52,
                    851.5,
                    455.41,
                    436.32,
                    670.44,
                    643.04,
                    602.55,
                    629.97,
                    646.04,
                    293.98,
                    488.69,
                    770.36,
                    397.7,
                    734.49,
                    1094.86,
                    610.69,
                    362.48,
                    405.85,
                    322.11,
                    448.13,
                    424.3,
                    428.52,
                    481.95,
                    561.44,
                    310.37,
                    352.44,
                    435.31,
                    598.57,
                    452.69,
                    364.99,
                    543.59,
                    528.46,
                    462.78,
                    424.58,
                    422.12,
                    392.23,
                    525.45,
                    407.43,
                    276.42,
                    550.22,
                    324.23,
                    414.68,
                    517.46,
                    419.72,
                    352.4,
                    472.81,
                    474.69,
                    102.44,
                    256.05,
                    327.26,
                    303.07,
                    536.08,
                    327.26,
                    256.08,
                    125.98,
                    603.67,
                    270.68,
                    398.21,
                    433.33,
                    600.11,
                    263.4,
                    488.68,
                    279.87,
                    985.71,
                    132.8,
                    495.27,
                    378.37,
                    590.32,
                    249.84,
                    478.2,
                    1011.24,
                    500,
                    372.55,
                    440.41,
                    495.16,
                    362.39,
                    280.32,
                    445.19,
                    559.51,
                    193.27,
                    196.5,
                    764.23,
                    255.59,
                    540.4,
                    586.95,
                    300.45,
                    183.87,
                    203.76,
                    350.6,
                    39.71,
                    222.59,
                    201.95,
                    417.09,
                    456.29,
                    208.68,
                    287.36,
                    431.13,
                    210.9,
                    280.05,
                    492.26,
                    304.63,
                    431.55,
                    456.22,
                    362.39,
                    211.09,
                    840.82,
                    576.55,
                    369.33
                  ],
                  "yaxis": "y"
                },
                {
                  "hovertemplate": "<b>OLS trendline</b><br>deaths_per_100000 = -0.000234773 * total_population + 455.696<br>R<sup>2</sup>=0.060943<br><br>total_population=%{x}<br>deaths_per_100000=%{y} <b>(trend)</b><extra></extra>",
                  "legendgroup": "",
                  "marker": {
                    "color": "#636efa",
                    "symbol": "circle"
                  },
                  "mode": "lines",
                  "name": "",
                  "showlegend": false,
                  "type": "scatter",
                  "x": [
                    696,
                    777,
                    1200,
                    1546,
                    1780,
                    1951,
                    2029,
                    2460,
                    2518,
                    2609,
                    3058,
                    3275,
                    3667,
                    3932,
                    3994,
                    4967,
                    5174,
                    5211,
                    5234,
                    5270,
                    5525,
                    5582,
                    5872,
                    5929,
                    6032,
                    6222,
                    6343,
                    6399,
                    6600,
                    7110,
                    7188,
                    8019,
                    8205,
                    8218,
                    8426,
                    8536,
                    8570,
                    8796,
                    8827,
                    8842,
                    9996,
                    10236,
                    11372,
                    11417,
                    12424,
                    12468,
                    13331,
                    13374,
                    13389,
                    13976,
                    14120,
                    14288,
                    14443,
                    14702,
                    14960,
                    15177,
                    15500,
                    15504,
                    15622,
                    15712,
                    15796,
                    17153,
                    17635,
                    17672,
                    19430,
                    20144,
                    21103,
                    21926,
                    23160,
                    23877,
                    24231,
                    24440,
                    25066,
                    25076,
                    25737,
                    26028,
                    27668,
                    27819,
                    28495,
                    29167,
                    29376,
                    33403,
                    33837,
                    34113,
                    35347,
                    36683,
                    39025,
                    39307,
                    40127,
                    40980,
                    42256,
                    43983,
                    45114,
                    45694,
                    49355,
                    52724,
                    62568,
                    64902,
                    66532,
                    68472,
                    69105,
                    72206,
                    73830,
                    75757,
                    80216,
                    81427,
                    81746,
                    81893,
                    85755,
                    89811,
                    92152,
                    94860,
                    98136,
                    109472,
                    113625,
                    134473,
                    138674,
                    140217,
                    158913,
                    168838,
                    176515,
                    179473,
                    188482,
                    207829,
                    239164,
                    286316,
                    296112,
                    306713,
                    311522,
                    317884,
                    357546,
                    389648,
                    398879,
                    418201,
                    527634,
                    576808,
                    668631,
                    812037,
                    849389,
                    859840,
                    944348,
                    1133247
                  ],
                  "xaxis": "x",
                  "y": [
                    455.53306372149336,
                    455.51404707847854,
                    455.4147379427345,
                    455.3335063565231,
                    455.2785693878137,
                    455.2384231414491,
                    455.22011081854595,
                    455.1189234958375,
                    455.1053066403455,
                    455.0839422636251,
                    454.97852902024675,
                    454.92758319883666,
                    454.8355520375798,
                    454.77333709438324,
                    454.75878114540893,
                    454.5303466558607,
                    454.4817485681562,
                    454.4730619534457,
                    454.467662165923,
                    454.45921032458307,
                    454.399343115092,
                    454.3859610329705,
                    454.31787675551004,
                    454.30449467338855,
                    454.28031301622156,
                    454.23570607581644,
                    454.20729849797954,
                    454.19415118922853,
                    454.14696174174736,
                    454.0272273227652,
                    454.00891499986204,
                    453.81381832893237,
                    453.77015048200946,
                    453.7670984281923,
                    453.7182655671172,
                    453.69244049635637,
                    453.6844582017576,
                    453.63139942001254,
                    453.6241214455254,
                    453.6205998449671,
                    453.34967137534875,
                    453.29332576641593,
                    453.02662321746755,
                    453.01605841579266,
                    452.7796416316456,
                    452.76931160334124,
                    452.56670218455383,
                    452.55660692962005,
                    452.5530853290618,
                    452.415273360547,
                    452.3814659951874,
                    452.34202406893445,
                    452.3056341964987,
                    452.24482789352544,
                    452.1842563639227,
                    452.1333105425127,
                    452.057478743824,
                    452.0565396503418,
                    452.0288363926165,
                    452.0077067892667,
                    451.98798582614023,
                    451.66939836229955,
                    451.5562375976929,
                    451.54755098298244,
                    451.13481939754996,
                    450.967191210975,
                    450.7420435486145,
                    450.54882506464924,
                    450.25911472538655,
                    450.0907822186999,
                    450.0076724455241,
                    449.9586048110785,
                    449.8116366811122,
                    449.8092889474067,
                    449.654103749471,
                    449.58578469864005,
                    449.2007563709328,
                    449.1653055919793,
                    449.00659879348535,
                    448.8488310884736,
                    448.799763454028,
                    447.8543310908103,
                    447.75243944799024,
                    447.68764199771755,
                    447.3979316584549,
                    447.08427443539586,
                    446.53443520156026,
                    446.46822911106426,
                    446.2757149472107,
                    446.0754532621288,
                    445.77588244130294,
                    445.3704288303576,
                    445.10490014826195,
                    444.9687315933411,
                    444.1092262837459,
                    443.3182747983522,
                    441.0071657386266,
                    440.4592046917555,
                    440.0765240977538,
                    439.6210637588806,
                    439.47245221532046,
                    438.744419993235,
                    438.36314803945663,
                    437.91073975440065,
                    436.863885295104,
                    436.5795747433641,
                    436.5046820381576,
                    436.4701703526863,
                    435.5634755956099,
                    434.6112348046462,
                    434.0616303441812,
                    433.4258640567231,
                    432.6567464947909,
                    429.9953555662,
                    429.0203417582926,
                    424.1257865289998,
                    423.13950359930584,
                    422.7772482885423,
                    418.38792535267993,
                    416.05779964993957,
                    414.2554444842027,
                    413.56098485410644,
                    411.4459115587928,
                    406.9037511587003,
                    399.5471275924162,
                    388.47709362409233,
                    386.17725368615334,
                    383.68842118491904,
                    382.55939604592874,
                    381.0657678624694,
                    371.7541864395889,
                    364.21749169809056,
                    362.0502987145141,
                    357.51400764868544,
                    331.8220533889386,
                    320.27730766535626,
                    298.719712461051,
                    265.05180248350086,
                    256.28254754659827,
                    253.8289310509469,
                    233.98870305223824,
                    189.64024812811195
                  ],
                  "yaxis": "y"
                }
              ],
              "layout": {
                "legend": {
                  "tracegroupgap": 0
                },
                "template": {
                  "data": {
                    "bar": [
                      {
                        "error_x": {
                          "color": "#2a3f5f"
                        },
                        "error_y": {
                          "color": "#2a3f5f"
                        },
                        "marker": {
                          "line": {
                            "color": "#E5ECF6",
                            "width": 0.5
                          },
                          "pattern": {
                            "fillmode": "overlay",
                            "size": 10,
                            "solidity": 0.2
                          }
                        },
                        "type": "bar"
                      }
                    ],
                    "barpolar": [
                      {
                        "marker": {
                          "line": {
                            "color": "#E5ECF6",
                            "width": 0.5
                          },
                          "pattern": {
                            "fillmode": "overlay",
                            "size": 10,
                            "solidity": 0.2
                          }
                        },
                        "type": "barpolar"
                      }
                    ],
                    "carpet": [
                      {
                        "aaxis": {
                          "endlinecolor": "#2a3f5f",
                          "gridcolor": "white",
                          "linecolor": "white",
                          "minorgridcolor": "white",
                          "startlinecolor": "#2a3f5f"
                        },
                        "baxis": {
                          "endlinecolor": "#2a3f5f",
                          "gridcolor": "white",
                          "linecolor": "white",
                          "minorgridcolor": "white",
                          "startlinecolor": "#2a3f5f"
                        },
                        "type": "carpet"
                      }
                    ],
                    "choropleth": [
                      {
                        "colorbar": {
                          "outlinewidth": 0,
                          "ticks": ""
                        },
                        "type": "choropleth"
                      }
                    ],
                    "contour": [
                      {
                        "colorbar": {
                          "outlinewidth": 0,
                          "ticks": ""
                        },
                        "colorscale": [
                          [
                            0,
                            "#0d0887"
                          ],
                          [
                            0.1111111111111111,
                            "#46039f"
                          ],
                          [
                            0.2222222222222222,
                            "#7201a8"
                          ],
                          [
                            0.3333333333333333,
                            "#9c179e"
                          ],
                          [
                            0.4444444444444444,
                            "#bd3786"
                          ],
                          [
                            0.5555555555555556,
                            "#d8576b"
                          ],
                          [
                            0.6666666666666666,
                            "#ed7953"
                          ],
                          [
                            0.7777777777777778,
                            "#fb9f3a"
                          ],
                          [
                            0.8888888888888888,
                            "#fdca26"
                          ],
                          [
                            1,
                            "#f0f921"
                          ]
                        ],
                        "type": "contour"
                      }
                    ],
                    "contourcarpet": [
                      {
                        "colorbar": {
                          "outlinewidth": 0,
                          "ticks": ""
                        },
                        "type": "contourcarpet"
                      }
                    ],
                    "heatmap": [
                      {
                        "colorbar": {
                          "outlinewidth": 0,
                          "ticks": ""
                        },
                        "colorscale": [
                          [
                            0,
                            "#0d0887"
                          ],
                          [
                            0.1111111111111111,
                            "#46039f"
                          ],
                          [
                            0.2222222222222222,
                            "#7201a8"
                          ],
                          [
                            0.3333333333333333,
                            "#9c179e"
                          ],
                          [
                            0.4444444444444444,
                            "#bd3786"
                          ],
                          [
                            0.5555555555555556,
                            "#d8576b"
                          ],
                          [
                            0.6666666666666666,
                            "#ed7953"
                          ],
                          [
                            0.7777777777777778,
                            "#fb9f3a"
                          ],
                          [
                            0.8888888888888888,
                            "#fdca26"
                          ],
                          [
                            1,
                            "#f0f921"
                          ]
                        ],
                        "type": "heatmap"
                      }
                    ],
                    "heatmapgl": [
                      {
                        "colorbar": {
                          "outlinewidth": 0,
                          "ticks": ""
                        },
                        "colorscale": [
                          [
                            0,
                            "#0d0887"
                          ],
                          [
                            0.1111111111111111,
                            "#46039f"
                          ],
                          [
                            0.2222222222222222,
                            "#7201a8"
                          ],
                          [
                            0.3333333333333333,
                            "#9c179e"
                          ],
                          [
                            0.4444444444444444,
                            "#bd3786"
                          ],
                          [
                            0.5555555555555556,
                            "#d8576b"
                          ],
                          [
                            0.6666666666666666,
                            "#ed7953"
                          ],
                          [
                            0.7777777777777778,
                            "#fb9f3a"
                          ],
                          [
                            0.8888888888888888,
                            "#fdca26"
                          ],
                          [
                            1,
                            "#f0f921"
                          ]
                        ],
                        "type": "heatmapgl"
                      }
                    ],
                    "histogram": [
                      {
                        "marker": {
                          "pattern": {
                            "fillmode": "overlay",
                            "size": 10,
                            "solidity": 0.2
                          }
                        },
                        "type": "histogram"
                      }
                    ],
                    "histogram2d": [
                      {
                        "colorbar": {
                          "outlinewidth": 0,
                          "ticks": ""
                        },
                        "colorscale": [
                          [
                            0,
                            "#0d0887"
                          ],
                          [
                            0.1111111111111111,
                            "#46039f"
                          ],
                          [
                            0.2222222222222222,
                            "#7201a8"
                          ],
                          [
                            0.3333333333333333,
                            "#9c179e"
                          ],
                          [
                            0.4444444444444444,
                            "#bd3786"
                          ],
                          [
                            0.5555555555555556,
                            "#d8576b"
                          ],
                          [
                            0.6666666666666666,
                            "#ed7953"
                          ],
                          [
                            0.7777777777777778,
                            "#fb9f3a"
                          ],
                          [
                            0.8888888888888888,
                            "#fdca26"
                          ],
                          [
                            1,
                            "#f0f921"
                          ]
                        ],
                        "type": "histogram2d"
                      }
                    ],
                    "histogram2dcontour": [
                      {
                        "colorbar": {
                          "outlinewidth": 0,
                          "ticks": ""
                        },
                        "colorscale": [
                          [
                            0,
                            "#0d0887"
                          ],
                          [
                            0.1111111111111111,
                            "#46039f"
                          ],
                          [
                            0.2222222222222222,
                            "#7201a8"
                          ],
                          [
                            0.3333333333333333,
                            "#9c179e"
                          ],
                          [
                            0.4444444444444444,
                            "#bd3786"
                          ],
                          [
                            0.5555555555555556,
                            "#d8576b"
                          ],
                          [
                            0.6666666666666666,
                            "#ed7953"
                          ],
                          [
                            0.7777777777777778,
                            "#fb9f3a"
                          ],
                          [
                            0.8888888888888888,
                            "#fdca26"
                          ],
                          [
                            1,
                            "#f0f921"
                          ]
                        ],
                        "type": "histogram2dcontour"
                      }
                    ],
                    "mesh3d": [
                      {
                        "colorbar": {
                          "outlinewidth": 0,
                          "ticks": ""
                        },
                        "type": "mesh3d"
                      }
                    ],
                    "parcoords": [
                      {
                        "line": {
                          "colorbar": {
                            "outlinewidth": 0,
                            "ticks": ""
                          }
                        },
                        "type": "parcoords"
                      }
                    ],
                    "pie": [
                      {
                        "automargin": true,
                        "type": "pie"
                      }
                    ],
                    "scatter": [
                      {
                        "fillpattern": {
                          "fillmode": "overlay",
                          "size": 10,
                          "solidity": 0.2
                        },
                        "type": "scatter"
                      }
                    ],
                    "scatter3d": [
                      {
                        "line": {
                          "colorbar": {
                            "outlinewidth": 0,
                            "ticks": ""
                          }
                        },
                        "marker": {
                          "colorbar": {
                            "outlinewidth": 0,
                            "ticks": ""
                          }
                        },
                        "type": "scatter3d"
                      }
                    ],
                    "scattercarpet": [
                      {
                        "marker": {
                          "colorbar": {
                            "outlinewidth": 0,
                            "ticks": ""
                          }
                        },
                        "type": "scattercarpet"
                      }
                    ],
                    "scattergeo": [
                      {
                        "marker": {
                          "colorbar": {
                            "outlinewidth": 0,
                            "ticks": ""
                          }
                        },
                        "type": "scattergeo"
                      }
                    ],
                    "scattergl": [
                      {
                        "marker": {
                          "colorbar": {
                            "outlinewidth": 0,
                            "ticks": ""
                          }
                        },
                        "type": "scattergl"
                      }
                    ],
                    "scattermapbox": [
                      {
                        "marker": {
                          "colorbar": {
                            "outlinewidth": 0,
                            "ticks": ""
                          }
                        },
                        "type": "scattermapbox"
                      }
                    ],
                    "scatterpolar": [
                      {
                        "marker": {
                          "colorbar": {
                            "outlinewidth": 0,
                            "ticks": ""
                          }
                        },
                        "type": "scatterpolar"
                      }
                    ],
                    "scatterpolargl": [
                      {
                        "marker": {
                          "colorbar": {
                            "outlinewidth": 0,
                            "ticks": ""
                          }
                        },
                        "type": "scatterpolargl"
                      }
                    ],
                    "scatterternary": [
                      {
                        "marker": {
                          "colorbar": {
                            "outlinewidth": 0,
                            "ticks": ""
                          }
                        },
                        "type": "scatterternary"
                      }
                    ],
                    "surface": [
                      {
                        "colorbar": {
                          "outlinewidth": 0,
                          "ticks": ""
                        },
                        "colorscale": [
                          [
                            0,
                            "#0d0887"
                          ],
                          [
                            0.1111111111111111,
                            "#46039f"
                          ],
                          [
                            0.2222222222222222,
                            "#7201a8"
                          ],
                          [
                            0.3333333333333333,
                            "#9c179e"
                          ],
                          [
                            0.4444444444444444,
                            "#bd3786"
                          ],
                          [
                            0.5555555555555556,
                            "#d8576b"
                          ],
                          [
                            0.6666666666666666,
                            "#ed7953"
                          ],
                          [
                            0.7777777777777778,
                            "#fb9f3a"
                          ],
                          [
                            0.8888888888888888,
                            "#fdca26"
                          ],
                          [
                            1,
                            "#f0f921"
                          ]
                        ],
                        "type": "surface"
                      }
                    ],
                    "table": [
                      {
                        "cells": {
                          "fill": {
                            "color": "#EBF0F8"
                          },
                          "line": {
                            "color": "white"
                          }
                        },
                        "header": {
                          "fill": {
                            "color": "#C8D4E3"
                          },
                          "line": {
                            "color": "white"
                          }
                        },
                        "type": "table"
                      }
                    ]
                  },
                  "layout": {
                    "annotationdefaults": {
                      "arrowcolor": "#2a3f5f",
                      "arrowhead": 0,
                      "arrowwidth": 1
                    },
                    "autotypenumbers": "strict",
                    "coloraxis": {
                      "colorbar": {
                        "outlinewidth": 0,
                        "ticks": ""
                      }
                    },
                    "colorscale": {
                      "diverging": [
                        [
                          0,
                          "#8e0152"
                        ],
                        [
                          0.1,
                          "#c51b7d"
                        ],
                        [
                          0.2,
                          "#de77ae"
                        ],
                        [
                          0.3,
                          "#f1b6da"
                        ],
                        [
                          0.4,
                          "#fde0ef"
                        ],
                        [
                          0.5,
                          "#f7f7f7"
                        ],
                        [
                          0.6,
                          "#e6f5d0"
                        ],
                        [
                          0.7,
                          "#b8e186"
                        ],
                        [
                          0.8,
                          "#7fbc41"
                        ],
                        [
                          0.9,
                          "#4d9221"
                        ],
                        [
                          1,
                          "#276419"
                        ]
                      ],
                      "sequential": [
                        [
                          0,
                          "#0d0887"
                        ],
                        [
                          0.1111111111111111,
                          "#46039f"
                        ],
                        [
                          0.2222222222222222,
                          "#7201a8"
                        ],
                        [
                          0.3333333333333333,
                          "#9c179e"
                        ],
                        [
                          0.4444444444444444,
                          "#bd3786"
                        ],
                        [
                          0.5555555555555556,
                          "#d8576b"
                        ],
                        [
                          0.6666666666666666,
                          "#ed7953"
                        ],
                        [
                          0.7777777777777778,
                          "#fb9f3a"
                        ],
                        [
                          0.8888888888888888,
                          "#fdca26"
                        ],
                        [
                          1,
                          "#f0f921"
                        ]
                      ],
                      "sequentialminus": [
                        [
                          0,
                          "#0d0887"
                        ],
                        [
                          0.1111111111111111,
                          "#46039f"
                        ],
                        [
                          0.2222222222222222,
                          "#7201a8"
                        ],
                        [
                          0.3333333333333333,
                          "#9c179e"
                        ],
                        [
                          0.4444444444444444,
                          "#bd3786"
                        ],
                        [
                          0.5555555555555556,
                          "#d8576b"
                        ],
                        [
                          0.6666666666666666,
                          "#ed7953"
                        ],
                        [
                          0.7777777777777778,
                          "#fb9f3a"
                        ],
                        [
                          0.8888888888888888,
                          "#fdca26"
                        ],
                        [
                          1,
                          "#f0f921"
                        ]
                      ]
                    },
                    "colorway": [
                      "#636efa",
                      "#EF553B",
                      "#00cc96",
                      "#ab63fa",
                      "#FFA15A",
                      "#19d3f3",
                      "#FF6692",
                      "#B6E880",
                      "#FF97FF",
                      "#FECB52"
                    ],
                    "font": {
                      "color": "#2a3f5f"
                    },
                    "geo": {
                      "bgcolor": "white",
                      "lakecolor": "white",
                      "landcolor": "#E5ECF6",
                      "showlakes": true,
                      "showland": true,
                      "subunitcolor": "white"
                    },
                    "hoverlabel": {
                      "align": "left"
                    },
                    "hovermode": "closest",
                    "mapbox": {
                      "style": "light"
                    },
                    "paper_bgcolor": "white",
                    "plot_bgcolor": "#E5ECF6",
                    "polar": {
                      "angularaxis": {
                        "gridcolor": "white",
                        "linecolor": "white",
                        "ticks": ""
                      },
                      "bgcolor": "#E5ECF6",
                      "radialaxis": {
                        "gridcolor": "white",
                        "linecolor": "white",
                        "ticks": ""
                      }
                    },
                    "scene": {
                      "xaxis": {
                        "backgroundcolor": "#E5ECF6",
                        "gridcolor": "white",
                        "gridwidth": 2,
                        "linecolor": "white",
                        "showbackground": true,
                        "ticks": "",
                        "zerolinecolor": "white"
                      },
                      "yaxis": {
                        "backgroundcolor": "#E5ECF6",
                        "gridcolor": "white",
                        "gridwidth": 2,
                        "linecolor": "white",
                        "showbackground": true,
                        "ticks": "",
                        "zerolinecolor": "white"
                      },
                      "zaxis": {
                        "backgroundcolor": "#E5ECF6",
                        "gridcolor": "white",
                        "gridwidth": 2,
                        "linecolor": "white",
                        "showbackground": true,
                        "ticks": "",
                        "zerolinecolor": "white"
                      }
                    },
                    "shapedefaults": {
                      "line": {
                        "color": "#2a3f5f"
                      }
                    },
                    "ternary": {
                      "aaxis": {
                        "gridcolor": "white",
                        "linecolor": "white",
                        "ticks": ""
                      },
                      "baxis": {
                        "gridcolor": "white",
                        "linecolor": "white",
                        "ticks": ""
                      },
                      "bgcolor": "#E5ECF6",
                      "caxis": {
                        "gridcolor": "white",
                        "linecolor": "white",
                        "ticks": ""
                      }
                    },
                    "title": {
                      "x": 0.05
                    },
                    "xaxis": {
                      "automargin": true,
                      "gridcolor": "white",
                      "linecolor": "white",
                      "ticks": "",
                      "title": {
                        "standoff": 15
                      },
                      "zerolinecolor": "white",
                      "zerolinewidth": 2
                    },
                    "yaxis": {
                      "automargin": true,
                      "gridcolor": "white",
                      "linecolor": "white",
                      "ticks": "",
                      "title": {
                        "standoff": 15
                      },
                      "zerolinecolor": "white",
                      "zerolinewidth": 2
                    }
                  }
                },
                "title": {
                  "text": "Scatter Plot of deaths_per_100000 by total_population for M-Z"
                },
                "xaxis": {
                  "anchor": "y",
                  "domain": [
                    0,
                    1
                  ],
                  "title": {
                    "text": "total_population"
                  }
                },
                "yaxis": {
                  "anchor": "x",
                  "domain": [
                    0,
                    1
                  ],
                  "title": {
                    "text": "deaths_per_100000"
                  }
                }
              }
            }
          },
          "metadata": {},
          "output_type": "display_data"
        }
      ],
      "source": [
        "# Scatter plot with regression line for M-Z\n",
        "scatter_mz = px.scatter(\n",
        "    df, \n",
        "    x='total_population', \n",
        "    y='deaths_per_100000',\n",
        "    title='Scatter Plot of deaths_per_100000 by total_population for M-Z',\n",
        "    trendline='ols'  # Adds OLS regression line\n",
        ")\n",
        "\n",
        "\n",
        "scatter_mz.show()"
      ]
    },
    {
      "cell_type": "code",
      "execution_count": 23,
      "metadata": {},
      "outputs": [],
      "source": [
        "def regression_results_to_dataframe(df, y_col, x_col):\n",
        "    \"\"\"\n",
        "    Fits an OLS regression model and returns a DataFrame containing the coefficients\n",
        "    and their standard errors.\n",
        "\n",
        "    Parameters:\n",
        "    df: DataFrame containing the data.\n",
        "    y_col: The name of the response variable column.\n",
        "    x_col: The name of the predictor variable column.\n",
        "\n",
        "    Returns:\n",
        "    A pandas DataFrame with coefficients and standard errors, indexed by the model terms.\n",
        "    \"\"\"\n",
        "    # Add a constant to the predictor variable\n",
        "    X = sm.add_constant(df[x_col])\n",
        "    \n",
        "    # Fit the OLS model\n",
        "    model = sm.OLS(df[y_col], X).fit()\n",
        "    \n",
        "    # Extract parameters and standard errors\n",
        "    params = model.params\n",
        "    bse = model.bse\n",
        "    \n",
        "    # Create a DataFrame with these values\n",
        "    results_df = pd.DataFrame({\n",
        "        'Coefficients': params.values,\n",
        "        'Standard Error': bse.values\n",
        "    }, index=['(Constant)', x_col])\n",
        "    \n",
        "    return results_df\n"
      ]
    },
    {
      "cell_type": "code",
      "execution_count": 24,
      "metadata": {},
      "outputs": [
        {
          "name": "stdout",
          "output_type": "stream",
          "text": [
            "A-L Group:\n",
            "                  Coefficients  Standard Error\n",
            "(Constant)        29471.325634      580.321475\n",
            "total_population      0.001425        0.002630\n"
          ]
        }
      ],
      "source": [
        "results_al_df = regression_results_to_dataframe(df,'confirmed_per_100000', 'total_population')\n",
        "\n",
        "# Output the DataFrames\n",
        "print(\"A-L Group:\")\n",
        "print(results_al_df)\n"
      ]
    },
    {
      "cell_type": "markdown",
      "metadata": {},
      "source": [
        "Predicted y = 29471.326 + 0.001x"
      ]
    },
    {
      "cell_type": "code",
      "execution_count": 25,
      "metadata": {},
      "outputs": [
        {
          "name": "stdout",
          "output_type": "stream",
          "text": [
            "\n",
            "M-Z Group:\n",
            "                  Coefficients  Standard Error\n",
            "(Constant)          455.696466       17.187258\n",
            "total_population     -0.000235        0.000078\n"
          ]
        }
      ],
      "source": [
        "results_mz_df = regression_results_to_dataframe(df,'deaths_per_100000', 'total_population')\n",
        "\n",
        "\n",
        "print(\"\\nM-Z Group:\")\n",
        "print(results_mz_df)"
      ]
    },
    {
      "cell_type": "markdown",
      "metadata": {},
      "source": [
        "Predicted y = 455.696 + 0.000x"
      ]
    },
    {
      "cell_type": "markdown",
      "metadata": {
        "id": "9BCskrHU0blp"
      },
      "source": [
        "### **QUESTION 5**\n",
        "\n",
        "Interpret the slope of the least squares regression line in the context of this study."
      ]
    },
    {
      "cell_type": "markdown",
      "metadata": {},
      "source": [
        "A-L: We expect the number of confirmed cases per 100,000 to increase by 0.001 (confirmed cases per 100,000) when total population size increases by 1 (person).\n",
        "NOTE: units are not required, as they are implied by the variable name."
      ]
    },
    {
      "cell_type": "markdown",
      "metadata": {},
      "source": [
        "M-Z: We expect the number of deaths per 100,000 to increase by 0.000 (deaths per 100,000) when the total population size increases by 1 (person).\n",
        "NOTE: units are not required, as they are implied by the variable name."
      ]
    },
    {
      "cell_type": "markdown",
      "metadata": {
        "id": "kSnkHZWO0cti"
      },
      "source": [
        "## **QUESTION 6**\n",
        "\n",
        "Interpret the y-intercept of the least squares regression line in the context of this study. State whether the interpretation is reasonable."
      ]
    },
    {
      "cell_type": "markdown",
      "metadata": {},
      "source": [
        "A-L: • We expect the number of confirmed cases per 100,000 to be 29,471.326 (confirmed cases per 100,000) when the total population size is 0 (people).\n",
        "• This does not make sense. (Can’t have cases if the population is empty.)\n",
        "NOTE: units are not required, as they are implied by the variable name."
      ]
    },
    {
      "cell_type": "markdown",
      "metadata": {},
      "source": [
        "M-Z: • We expect the number of deaths per 100,000 to be 455.696 (deaths per 100,000) when the total population size is 0 (people).\n",
        "• This does not make sense.\n",
        "NOTE: units are not required, as they are implied by the variable name."
      ]
    },
    {
      "cell_type": "markdown",
      "metadata": {
        "id": "nul2GHpi0chf"
      },
      "source": [
        "## **QUESTION 7**\n",
        "\n",
        "Predict the value of your dependent variable from question 4 for a county with independent variable value as stated below. Type your work below.\n",
        "\n",
        "| Last Name | Independent Variable (x)                               |\n",
        "|-----------|---------------------------------------------------------|\n",
        "| A-L       | TOTAL_POPULATION x=13331 (COUNTY_NAME = Grundy, TN)    |\n",
        "| M-Z       | TOTAL_POPULATION x=88227 (COUNTY_NAME = Jenkins, GA)   |\n"
      ]
    },
    {
      "cell_type": "markdown",
      "metadata": {},
      "source": [
        "A-L: Predicted y = 29471.326 + 0.001(13,331)\n",
        "= 29,484.657 confirmed cases per\n",
        "100,000"
      ]
    },
    {
      "cell_type": "markdown",
      "metadata": {},
      "source": [
        "M-Z: Predicted y = 455.696 + 0.000(8827)\n",
        "= 455.696 deaths per 100,000"
      ]
    },
    {
      "cell_type": "markdown",
      "metadata": {
        "id": "vtlNs1kL0cAr"
      },
      "source": [
        "## **QUESTION 8**\n",
        "\n",
        "Look up, in the Excel or SPSS file, the actual county name listed in the table in part 7 above. Compare your answer in question 7 above (the predicted total population) to the actual value of your dependent variable.\n"
      ]
    },
    {
      "cell_type": "markdown",
      "metadata": {},
      "source": [
        "A-L: (actual = 34,145.98)\n",
        "The actual number of cases per 100,000 is higher than the equation predicted."
      ]
    },
    {
      "cell_type": "markdown",
      "metadata": {},
      "source": [
        "M-Z: (actual = 770.36)\n",
        "The actual number of deaths per 100,000 is lower than the equation predicted."
      ]
    },
    {
      "cell_type": "markdown",
      "metadata": {
        "id": "mD2fvvY42sS-"
      },
      "source": [
        "### **QUESTION 9**\n",
        "\n",
        "Generate a paragraph of at least 100 words to address one of the following questions:"
      ]
    },
    {
      "cell_type": "markdown",
      "metadata": {
        "id": "XCveGKan26ly"
      },
      "source": [
        "### **QUESTION 9a**\n",
        "\n",
        "Discuss how analyzing your chosen data set using statistical methods could help you become\n",
        "better prepared for future courses in your major?"
      ]
    },
    {
      "cell_type": "markdown",
      "metadata": {},
      "source": []
    },
    {
      "cell_type": "code",
      "execution_count": null,
      "metadata": {},
      "outputs": [],
      "source": []
    },
    {
      "cell_type": "markdown",
      "metadata": {},
      "source": [
        "### **QUESTION 9b**\n",
        "\n",
        "Discuss how analyzing your chosen data set using statistical methods could be instrumental in becoming better prepared for your future career?"
      ]
    },
    {
      "cell_type": "markdown",
      "metadata": {},
      "source": []
    },
    {
      "cell_type": "code",
      "execution_count": null,
      "metadata": {},
      "outputs": [],
      "source": []
    },
    {
      "cell_type": "markdown",
      "metadata": {},
      "source": [
        "### **QUESTION 9c**\n",
        "Discuss how analyzing your chosen data set using statistical methods could help you be aware of social issues, contribute to society, and advocate for marginalized communities."
      ]
    },
    {
      "cell_type": "markdown",
      "metadata": {},
      "source": []
    },
    {
      "cell_type": "code",
      "execution_count": null,
      "metadata": {},
      "outputs": [],
      "source": []
    }
  ],
  "metadata": {
    "colab": {
      "include_colab_link": true,
      "provenance": [],
      "toc_visible": true
    },
    "kernelspec": {
      "display_name": "Python 3",
      "name": "python3"
    },
    "language_info": {
      "codemirror_mode": {
        "name": "ipython",
        "version": 3
      },
      "file_extension": ".py",
      "mimetype": "text/x-python",
      "name": "python",
      "nbconvert_exporter": "python",
      "pygments_lexer": "ipython3",
      "version": "3.11.4"
    }
  },
  "nbformat": 4,
  "nbformat_minor": 0
}
