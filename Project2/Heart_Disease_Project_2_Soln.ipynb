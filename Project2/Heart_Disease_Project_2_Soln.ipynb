{
  "nbformat": 4,
  "nbformat_minor": 0,
  "metadata": {
    "colab": {
      "provenance": []
    },
    "kernelspec": {
      "name": "python3",
      "display_name": "Python 3"
    },
    "language_info": {
      "name": "python"
    }
  },
  "cells": [
    {
      "cell_type": "markdown",
      "metadata": {
        "id": "8t9m29KtoK2q"
      },
      "source": [
        "# **Heart Disease - Project 2**\n",
        "### Analyzing the linear relationship between two quantitative variables."
      ]
    },
    {
      "cell_type": "markdown",
      "metadata": {
        "id": "y3rfDZf7oK21"
      },
      "source": [
        "# **Importing Necessary Python Modules**\n",
        "\n",
        "Python incorporates a variety of open source add-ins called **modules** that add extra features to the basic setup. The name of the modules is after the `import` statement, and the purpose is in a non-code comment after thew hashtag (#).\n",
        "\n"
      ]
    },
    {
      "cell_type": "code",
      "execution_count": null,
      "metadata": {
        "id": "C6AjYFB6oK21"
      },
      "outputs": [],
      "source": [
        "import pandas as pd\n",
        "import numpy as np\n",
        "import plotly.express as px\n",
        "from IPython.display import Image\n",
        "import statsmodels.api as sm\n"
      ]
    },
    {
      "cell_type": "code",
      "execution_count": null,
      "metadata": {
        "colab": {
          "base_uri": "https://localhost:8080/",
          "height": 783
        },
        "outputId": "670a600a-4725-4aa7-cd6d-0315a94da07c",
        "id": "x8eG3KAloDkL"
      },
      "outputs": [
        {
          "output_type": "execute_result",
          "data": {
            "text/html": [
              "<img src=\"https://my.clevelandclinic.org/-/scassets/images/org/health/articles/24129-heart-disease-illustration\" width=\"600\"/>"
            ],
            "text/plain": [
              "<IPython.core.display.Image object>"
            ]
          },
          "metadata": {},
          "execution_count": 9
        }
      ],
      "source": [
        "# Assigns the URL of the image to display to the name 'image_url'.\n",
        "image_url = 'https://my.clevelandclinic.org/-/scassets/images/org/health/articles/24129-heart-disease-illustration'\n",
        "\n",
        "# Display the image\n",
        "Image(url=image_url, width = 600)"
      ]
    },
    {
      "cell_type": "markdown",
      "metadata": {
        "id": "IzheJhAUoDkM"
      },
      "source": [
        "# **Context**\n",
        "\n",
        "Coronary heart disease (CHD), also referred to as coronary artery disease (CAD) involves the reduction of blood flow to the heart muscle due to the build-up of plaque in the arteries of the heart. It is the most common form of cardiovascular disease. Currently, invasive coronary angiography represents the gold standard for establishing the presence, location, and severity of CHD. However, this diagnostic method is costly and associated with morbidity (count of people with the disease) and mortality (count of deaths) in CHD patients. Therefore, it would be beneficial to develop a non-invasive alternative to replace the current gold standard.\n",
        "\n",
        "Other less invasive diagnostics methods have been proposed in the scientific literature including exercise electrocardiogram, thallium scintigraphy, and fluoroscopy of coronary calcification. However, the diagnostic accuracy of these tests only ranges between 35%-75%. Therefore, it would be beneficial to develop a computer-aided diagnostic tool that could utilize the combined results of these non-invasive tests in conjunction with other patient attributes to boost the diagnostic power of these non-invasive methods with the aim of ultimately replacing the current invasive gold standard.\n",
        "\n",
        "Three hundred three (303) consecutive patients referred for coronary angiography at the Cleveland Clinic between May 1981 and September 1984 participated in the experiment. No patient had a history of or electrocardiographic evidence of prior myocardial infarction or known valvular or cardiomyopathic diseases.\n"
      ]
    },
    {
      "cell_type": "markdown",
      "metadata": {
        "id": "kKarTZ9boDkN"
      },
      "source": [
        "# **About the Dataset**\n",
        "\n",
        "The dataset comprises 303 observations, 13 features, and 1 target attribute. A feature is a variable that is believed to contribute to CHD, and is also referred to as a predictive variable. A target variable is the variable you want to predict (CHD, in this situation). The 13 features include the results of the aforementioned non-invasive diagnostic tests along with other relevant patient information. The target variable includes the result of the invasive coronary angiogram which represents the presence or absence of coronary heart disease in the patient. The 14 variables (13 features and 1 target attribute) are described below."
      ]
    },
    {
      "cell_type": "markdown",
      "metadata": {
        "id": "uVZZLV3EoDkN"
      },
      "source": [
        "| **Variable**| **Description**                                          |\n",
        "|:------------|:---------------------------------------------------------|\n",
        "| AGE         | The age of the individual.                               |\n",
        "| SEX         | Gender of the individual: 0 = female, 1 = male.          |\n",
        "| CP          | The type of chest pain experienced by the individual:    |\n",
        "|             | * 0 = typical angina                                     |\n",
        "|             | * 1 = atypical angina                                    |\n",
        "|             | * 2 = non-anginal pain                                   |\n",
        "|             | * 3 = asymptotic                                         |\n",
        "| TRESTBPS    | Resting blood pressure of an individual (mmHg)           |\n",
        "| CHOL        | Serum cholesterol in mg/dL  |\n",
        "| FBS         | Compares the fasting blood sugar value with 120mg/dL:    |\n",
        "|             | * 0: fasting blood sugar ≤ 120mg/dL                      |\n",
        "|             | * 1: fasting blood sugar >120mg/dL                       |\n",
        "| RESTECG     | Resting electrocardiographic results:                    |\n",
        "|             | * 0 = normal                                             |\n",
        "|             | * 1 = having ST-T wave abnormality                       |\n",
        "|             | * 2 = left ventricular hypertrophy                       |\n",
        "| THALACH     | Max heart rate achieved, in beats per minute (bpm)       |\n",
        "| EXANG       | Exercise-induced angina:                                 |\n",
        "|             | * 0 = No                                                 |\n",
        "|             | * 1 = Yes                                                |\n",
        "| OLDPEAK     | ST depression (mm) induced by exercise relative to rest. |\n",
        "| SLOPE       | Peak exercise ST segment:                                |\n",
        "|             | * 1 = upsloping                                          |\n",
        "|             | * 2 = flat                                               |\n",
        "|             | * 3 = downsloping                                        |\n",
        "| CA          | Number of major vessels (0-3) colored by fluoroscopy.    |\n",
        "| THAL        | Thalassemia:                                             |\n",
        "|             | * 1 = normal                                             |\n",
        "|             | * 2 = fixed defect                                       |\n",
        "|             | * 3 = reversible defect                                  |\n",
        "| TARGET      | Whether the individual is suffering from heart disease:  |\n",
        "|             | * 0 = absence                                            |\n",
        "|             | * 1 = present                                            |\n",
        "\n"
      ]
    },
    {
      "cell_type": "markdown",
      "metadata": {
        "id": "2La43aJ7oDkN"
      },
      "source": [
        "Let's take a look at the data. To do this, first we import it directly from the url below.\n",
        "\n"
      ]
    },
    {
      "cell_type": "markdown",
      "metadata": {
        "id": "QjHxSJDsoDkN"
      },
      "source": [
        "# **A Snippet of the Data**"
      ]
    },
    {
      "cell_type": "markdown",
      "metadata": {
        "id": "C7rwsCbWcrXi"
      },
      "source": [
        "Let's take a look at the data. To do this, first we import it directly from the url."
      ]
    },
    {
      "cell_type": "code",
      "execution_count": null,
      "metadata": {
        "id": "IdmZLxbroDkN"
      },
      "outputs": [],
      "source": [
        "# Assigns the URL where the data file is stored to 'file_path'.\n",
        "url='https://raw.githubusercontent.com/ksuaray/STAT108F24_Projects_Jupyter/main/ProjectDataSets/heart.csv'\n",
        "\n",
        "# Reads in the CSV data file and assigns it to the DataFrame 'df'.\n",
        "df=pd.read_csv(url)"
      ]
    },
    {
      "cell_type": "markdown",
      "metadata": {
        "id": "YYfjOebGoDkN"
      },
      "source": [
        "Next, we can display the data by *typing the name* of the DataFrame. To ensure we can see all columns, we'll use the *pd.set_option* method."
      ]
    },
    {
      "cell_type": "code",
      "execution_count": null,
      "metadata": {
        "colab": {
          "base_uri": "https://localhost:8080/",
          "height": 424
        },
        "outputId": "308042e2-3a2e-43f6-f0fd-9dfad89c4371",
        "id": "INm8ZLJooDkO"
      },
      "outputs": [
        {
          "output_type": "execute_result",
          "data": {
            "text/plain": [
              "     age  sex  cp  trestbps  chol  fbs  restecg  thalach  exang  oldpeak  \\\n",
              "0     63    1   3       145   233    1        0      150      0      2.3   \n",
              "1     37    1   2       130   250    0        1      187      0      3.5   \n",
              "2     41    0   1       130   204    0        0      172      0      1.4   \n",
              "3     56    1   1       120   236    0        1      178      0      0.8   \n",
              "4     57    0   0       120   354    0        1      163      1      0.6   \n",
              "..   ...  ...  ..       ...   ...  ...      ...      ...    ...      ...   \n",
              "298   57    0   0       140   241    0        1      123      1      0.2   \n",
              "299   45    1   3       110   264    0        1      132      0      1.2   \n",
              "300   68    1   0       144   193    1        1      141      0      3.4   \n",
              "301   57    1   0       130   131    0        1      115      1      1.2   \n",
              "302   57    0   1       130   236    0        0      174      0      0.0   \n",
              "\n",
              "     slope  ca  thal  target  \n",
              "0        0   0     1       1  \n",
              "1        0   0     2       1  \n",
              "2        2   0     2       1  \n",
              "3        2   0     2       1  \n",
              "4        2   0     2       1  \n",
              "..     ...  ..   ...     ...  \n",
              "298      1   0     3       0  \n",
              "299      1   0     3       0  \n",
              "300      1   2     3       0  \n",
              "301      1   1     3       0  \n",
              "302      1   1     2       0  \n",
              "\n",
              "[303 rows x 14 columns]"
            ],
            "text/html": [
              "\n",
              "  <div id=\"df-acc89ef3-657b-4144-bd96-cfb6854b31d2\" class=\"colab-df-container\">\n",
              "    <div>\n",
              "<style scoped>\n",
              "    .dataframe tbody tr th:only-of-type {\n",
              "        vertical-align: middle;\n",
              "    }\n",
              "\n",
              "    .dataframe tbody tr th {\n",
              "        vertical-align: top;\n",
              "    }\n",
              "\n",
              "    .dataframe thead th {\n",
              "        text-align: right;\n",
              "    }\n",
              "</style>\n",
              "<table border=\"1\" class=\"dataframe\">\n",
              "  <thead>\n",
              "    <tr style=\"text-align: right;\">\n",
              "      <th></th>\n",
              "      <th>age</th>\n",
              "      <th>sex</th>\n",
              "      <th>cp</th>\n",
              "      <th>trestbps</th>\n",
              "      <th>chol</th>\n",
              "      <th>fbs</th>\n",
              "      <th>restecg</th>\n",
              "      <th>thalach</th>\n",
              "      <th>exang</th>\n",
              "      <th>oldpeak</th>\n",
              "      <th>slope</th>\n",
              "      <th>ca</th>\n",
              "      <th>thal</th>\n",
              "      <th>target</th>\n",
              "    </tr>\n",
              "  </thead>\n",
              "  <tbody>\n",
              "    <tr>\n",
              "      <th>0</th>\n",
              "      <td>63</td>\n",
              "      <td>1</td>\n",
              "      <td>3</td>\n",
              "      <td>145</td>\n",
              "      <td>233</td>\n",
              "      <td>1</td>\n",
              "      <td>0</td>\n",
              "      <td>150</td>\n",
              "      <td>0</td>\n",
              "      <td>2.3</td>\n",
              "      <td>0</td>\n",
              "      <td>0</td>\n",
              "      <td>1</td>\n",
              "      <td>1</td>\n",
              "    </tr>\n",
              "    <tr>\n",
              "      <th>1</th>\n",
              "      <td>37</td>\n",
              "      <td>1</td>\n",
              "      <td>2</td>\n",
              "      <td>130</td>\n",
              "      <td>250</td>\n",
              "      <td>0</td>\n",
              "      <td>1</td>\n",
              "      <td>187</td>\n",
              "      <td>0</td>\n",
              "      <td>3.5</td>\n",
              "      <td>0</td>\n",
              "      <td>0</td>\n",
              "      <td>2</td>\n",
              "      <td>1</td>\n",
              "    </tr>\n",
              "    <tr>\n",
              "      <th>2</th>\n",
              "      <td>41</td>\n",
              "      <td>0</td>\n",
              "      <td>1</td>\n",
              "      <td>130</td>\n",
              "      <td>204</td>\n",
              "      <td>0</td>\n",
              "      <td>0</td>\n",
              "      <td>172</td>\n",
              "      <td>0</td>\n",
              "      <td>1.4</td>\n",
              "      <td>2</td>\n",
              "      <td>0</td>\n",
              "      <td>2</td>\n",
              "      <td>1</td>\n",
              "    </tr>\n",
              "    <tr>\n",
              "      <th>3</th>\n",
              "      <td>56</td>\n",
              "      <td>1</td>\n",
              "      <td>1</td>\n",
              "      <td>120</td>\n",
              "      <td>236</td>\n",
              "      <td>0</td>\n",
              "      <td>1</td>\n",
              "      <td>178</td>\n",
              "      <td>0</td>\n",
              "      <td>0.8</td>\n",
              "      <td>2</td>\n",
              "      <td>0</td>\n",
              "      <td>2</td>\n",
              "      <td>1</td>\n",
              "    </tr>\n",
              "    <tr>\n",
              "      <th>4</th>\n",
              "      <td>57</td>\n",
              "      <td>0</td>\n",
              "      <td>0</td>\n",
              "      <td>120</td>\n",
              "      <td>354</td>\n",
              "      <td>0</td>\n",
              "      <td>1</td>\n",
              "      <td>163</td>\n",
              "      <td>1</td>\n",
              "      <td>0.6</td>\n",
              "      <td>2</td>\n",
              "      <td>0</td>\n",
              "      <td>2</td>\n",
              "      <td>1</td>\n",
              "    </tr>\n",
              "    <tr>\n",
              "      <th>...</th>\n",
              "      <td>...</td>\n",
              "      <td>...</td>\n",
              "      <td>...</td>\n",
              "      <td>...</td>\n",
              "      <td>...</td>\n",
              "      <td>...</td>\n",
              "      <td>...</td>\n",
              "      <td>...</td>\n",
              "      <td>...</td>\n",
              "      <td>...</td>\n",
              "      <td>...</td>\n",
              "      <td>...</td>\n",
              "      <td>...</td>\n",
              "      <td>...</td>\n",
              "    </tr>\n",
              "    <tr>\n",
              "      <th>298</th>\n",
              "      <td>57</td>\n",
              "      <td>0</td>\n",
              "      <td>0</td>\n",
              "      <td>140</td>\n",
              "      <td>241</td>\n",
              "      <td>0</td>\n",
              "      <td>1</td>\n",
              "      <td>123</td>\n",
              "      <td>1</td>\n",
              "      <td>0.2</td>\n",
              "      <td>1</td>\n",
              "      <td>0</td>\n",
              "      <td>3</td>\n",
              "      <td>0</td>\n",
              "    </tr>\n",
              "    <tr>\n",
              "      <th>299</th>\n",
              "      <td>45</td>\n",
              "      <td>1</td>\n",
              "      <td>3</td>\n",
              "      <td>110</td>\n",
              "      <td>264</td>\n",
              "      <td>0</td>\n",
              "      <td>1</td>\n",
              "      <td>132</td>\n",
              "      <td>0</td>\n",
              "      <td>1.2</td>\n",
              "      <td>1</td>\n",
              "      <td>0</td>\n",
              "      <td>3</td>\n",
              "      <td>0</td>\n",
              "    </tr>\n",
              "    <tr>\n",
              "      <th>300</th>\n",
              "      <td>68</td>\n",
              "      <td>1</td>\n",
              "      <td>0</td>\n",
              "      <td>144</td>\n",
              "      <td>193</td>\n",
              "      <td>1</td>\n",
              "      <td>1</td>\n",
              "      <td>141</td>\n",
              "      <td>0</td>\n",
              "      <td>3.4</td>\n",
              "      <td>1</td>\n",
              "      <td>2</td>\n",
              "      <td>3</td>\n",
              "      <td>0</td>\n",
              "    </tr>\n",
              "    <tr>\n",
              "      <th>301</th>\n",
              "      <td>57</td>\n",
              "      <td>1</td>\n",
              "      <td>0</td>\n",
              "      <td>130</td>\n",
              "      <td>131</td>\n",
              "      <td>0</td>\n",
              "      <td>1</td>\n",
              "      <td>115</td>\n",
              "      <td>1</td>\n",
              "      <td>1.2</td>\n",
              "      <td>1</td>\n",
              "      <td>1</td>\n",
              "      <td>3</td>\n",
              "      <td>0</td>\n",
              "    </tr>\n",
              "    <tr>\n",
              "      <th>302</th>\n",
              "      <td>57</td>\n",
              "      <td>0</td>\n",
              "      <td>1</td>\n",
              "      <td>130</td>\n",
              "      <td>236</td>\n",
              "      <td>0</td>\n",
              "      <td>0</td>\n",
              "      <td>174</td>\n",
              "      <td>0</td>\n",
              "      <td>0.0</td>\n",
              "      <td>1</td>\n",
              "      <td>1</td>\n",
              "      <td>2</td>\n",
              "      <td>0</td>\n",
              "    </tr>\n",
              "  </tbody>\n",
              "</table>\n",
              "<p>303 rows × 14 columns</p>\n",
              "</div>\n",
              "    <div class=\"colab-df-buttons\">\n",
              "\n",
              "  <div class=\"colab-df-container\">\n",
              "    <button class=\"colab-df-convert\" onclick=\"convertToInteractive('df-acc89ef3-657b-4144-bd96-cfb6854b31d2')\"\n",
              "            title=\"Convert this dataframe to an interactive table.\"\n",
              "            style=\"display:none;\">\n",
              "\n",
              "  <svg xmlns=\"http://www.w3.org/2000/svg\" height=\"24px\" viewBox=\"0 -960 960 960\">\n",
              "    <path d=\"M120-120v-720h720v720H120Zm60-500h600v-160H180v160Zm220 220h160v-160H400v160Zm0 220h160v-160H400v160ZM180-400h160v-160H180v160Zm440 0h160v-160H620v160ZM180-180h160v-160H180v160Zm440 0h160v-160H620v160Z\"/>\n",
              "  </svg>\n",
              "    </button>\n",
              "\n",
              "  <style>\n",
              "    .colab-df-container {\n",
              "      display:flex;\n",
              "      gap: 12px;\n",
              "    }\n",
              "\n",
              "    .colab-df-convert {\n",
              "      background-color: #E8F0FE;\n",
              "      border: none;\n",
              "      border-radius: 50%;\n",
              "      cursor: pointer;\n",
              "      display: none;\n",
              "      fill: #1967D2;\n",
              "      height: 32px;\n",
              "      padding: 0 0 0 0;\n",
              "      width: 32px;\n",
              "    }\n",
              "\n",
              "    .colab-df-convert:hover {\n",
              "      background-color: #E2EBFA;\n",
              "      box-shadow: 0px 1px 2px rgba(60, 64, 67, 0.3), 0px 1px 3px 1px rgba(60, 64, 67, 0.15);\n",
              "      fill: #174EA6;\n",
              "    }\n",
              "\n",
              "    .colab-df-buttons div {\n",
              "      margin-bottom: 4px;\n",
              "    }\n",
              "\n",
              "    [theme=dark] .colab-df-convert {\n",
              "      background-color: #3B4455;\n",
              "      fill: #D2E3FC;\n",
              "    }\n",
              "\n",
              "    [theme=dark] .colab-df-convert:hover {\n",
              "      background-color: #434B5C;\n",
              "      box-shadow: 0px 1px 3px 1px rgba(0, 0, 0, 0.15);\n",
              "      filter: drop-shadow(0px 1px 2px rgba(0, 0, 0, 0.3));\n",
              "      fill: #FFFFFF;\n",
              "    }\n",
              "  </style>\n",
              "\n",
              "    <script>\n",
              "      const buttonEl =\n",
              "        document.querySelector('#df-acc89ef3-657b-4144-bd96-cfb6854b31d2 button.colab-df-convert');\n",
              "      buttonEl.style.display =\n",
              "        google.colab.kernel.accessAllowed ? 'block' : 'none';\n",
              "\n",
              "      async function convertToInteractive(key) {\n",
              "        const element = document.querySelector('#df-acc89ef3-657b-4144-bd96-cfb6854b31d2');\n",
              "        const dataTable =\n",
              "          await google.colab.kernel.invokeFunction('convertToInteractive',\n",
              "                                                    [key], {});\n",
              "        if (!dataTable) return;\n",
              "\n",
              "        const docLinkHtml = 'Like what you see? Visit the ' +\n",
              "          '<a target=\"_blank\" href=https://colab.research.google.com/notebooks/data_table.ipynb>data table notebook</a>'\n",
              "          + ' to learn more about interactive tables.';\n",
              "        element.innerHTML = '';\n",
              "        dataTable['output_type'] = 'display_data';\n",
              "        await google.colab.output.renderOutput(dataTable, element);\n",
              "        const docLink = document.createElement('div');\n",
              "        docLink.innerHTML = docLinkHtml;\n",
              "        element.appendChild(docLink);\n",
              "      }\n",
              "    </script>\n",
              "  </div>\n",
              "\n",
              "\n",
              "<div id=\"df-0602e9d5-89c9-40e6-8e35-7e609257b285\">\n",
              "  <button class=\"colab-df-quickchart\" onclick=\"quickchart('df-0602e9d5-89c9-40e6-8e35-7e609257b285')\"\n",
              "            title=\"Suggest charts\"\n",
              "            style=\"display:none;\">\n",
              "\n",
              "<svg xmlns=\"http://www.w3.org/2000/svg\" height=\"24px\"viewBox=\"0 0 24 24\"\n",
              "     width=\"24px\">\n",
              "    <g>\n",
              "        <path d=\"M19 3H5c-1.1 0-2 .9-2 2v14c0 1.1.9 2 2 2h14c1.1 0 2-.9 2-2V5c0-1.1-.9-2-2-2zM9 17H7v-7h2v7zm4 0h-2V7h2v10zm4 0h-2v-4h2v4z\"/>\n",
              "    </g>\n",
              "</svg>\n",
              "  </button>\n",
              "\n",
              "<style>\n",
              "  .colab-df-quickchart {\n",
              "      --bg-color: #E8F0FE;\n",
              "      --fill-color: #1967D2;\n",
              "      --hover-bg-color: #E2EBFA;\n",
              "      --hover-fill-color: #174EA6;\n",
              "      --disabled-fill-color: #AAA;\n",
              "      --disabled-bg-color: #DDD;\n",
              "  }\n",
              "\n",
              "  [theme=dark] .colab-df-quickchart {\n",
              "      --bg-color: #3B4455;\n",
              "      --fill-color: #D2E3FC;\n",
              "      --hover-bg-color: #434B5C;\n",
              "      --hover-fill-color: #FFFFFF;\n",
              "      --disabled-bg-color: #3B4455;\n",
              "      --disabled-fill-color: #666;\n",
              "  }\n",
              "\n",
              "  .colab-df-quickchart {\n",
              "    background-color: var(--bg-color);\n",
              "    border: none;\n",
              "    border-radius: 50%;\n",
              "    cursor: pointer;\n",
              "    display: none;\n",
              "    fill: var(--fill-color);\n",
              "    height: 32px;\n",
              "    padding: 0;\n",
              "    width: 32px;\n",
              "  }\n",
              "\n",
              "  .colab-df-quickchart:hover {\n",
              "    background-color: var(--hover-bg-color);\n",
              "    box-shadow: 0 1px 2px rgba(60, 64, 67, 0.3), 0 1px 3px 1px rgba(60, 64, 67, 0.15);\n",
              "    fill: var(--button-hover-fill-color);\n",
              "  }\n",
              "\n",
              "  .colab-df-quickchart-complete:disabled,\n",
              "  .colab-df-quickchart-complete:disabled:hover {\n",
              "    background-color: var(--disabled-bg-color);\n",
              "    fill: var(--disabled-fill-color);\n",
              "    box-shadow: none;\n",
              "  }\n",
              "\n",
              "  .colab-df-spinner {\n",
              "    border: 2px solid var(--fill-color);\n",
              "    border-color: transparent;\n",
              "    border-bottom-color: var(--fill-color);\n",
              "    animation:\n",
              "      spin 1s steps(1) infinite;\n",
              "  }\n",
              "\n",
              "  @keyframes spin {\n",
              "    0% {\n",
              "      border-color: transparent;\n",
              "      border-bottom-color: var(--fill-color);\n",
              "      border-left-color: var(--fill-color);\n",
              "    }\n",
              "    20% {\n",
              "      border-color: transparent;\n",
              "      border-left-color: var(--fill-color);\n",
              "      border-top-color: var(--fill-color);\n",
              "    }\n",
              "    30% {\n",
              "      border-color: transparent;\n",
              "      border-left-color: var(--fill-color);\n",
              "      border-top-color: var(--fill-color);\n",
              "      border-right-color: var(--fill-color);\n",
              "    }\n",
              "    40% {\n",
              "      border-color: transparent;\n",
              "      border-right-color: var(--fill-color);\n",
              "      border-top-color: var(--fill-color);\n",
              "    }\n",
              "    60% {\n",
              "      border-color: transparent;\n",
              "      border-right-color: var(--fill-color);\n",
              "    }\n",
              "    80% {\n",
              "      border-color: transparent;\n",
              "      border-right-color: var(--fill-color);\n",
              "      border-bottom-color: var(--fill-color);\n",
              "    }\n",
              "    90% {\n",
              "      border-color: transparent;\n",
              "      border-bottom-color: var(--fill-color);\n",
              "    }\n",
              "  }\n",
              "</style>\n",
              "\n",
              "  <script>\n",
              "    async function quickchart(key) {\n",
              "      const quickchartButtonEl =\n",
              "        document.querySelector('#' + key + ' button');\n",
              "      quickchartButtonEl.disabled = true;  // To prevent multiple clicks.\n",
              "      quickchartButtonEl.classList.add('colab-df-spinner');\n",
              "      try {\n",
              "        const charts = await google.colab.kernel.invokeFunction(\n",
              "            'suggestCharts', [key], {});\n",
              "      } catch (error) {\n",
              "        console.error('Error during call to suggestCharts:', error);\n",
              "      }\n",
              "      quickchartButtonEl.classList.remove('colab-df-spinner');\n",
              "      quickchartButtonEl.classList.add('colab-df-quickchart-complete');\n",
              "    }\n",
              "    (() => {\n",
              "      let quickchartButtonEl =\n",
              "        document.querySelector('#df-0602e9d5-89c9-40e6-8e35-7e609257b285 button');\n",
              "      quickchartButtonEl.style.display =\n",
              "        google.colab.kernel.accessAllowed ? 'block' : 'none';\n",
              "    })();\n",
              "  </script>\n",
              "</div>\n",
              "\n",
              "  <div id=\"id_d7500fb5-f22f-4536-8276-22dc6b5051da\">\n",
              "    <style>\n",
              "      .colab-df-generate {\n",
              "        background-color: #E8F0FE;\n",
              "        border: none;\n",
              "        border-radius: 50%;\n",
              "        cursor: pointer;\n",
              "        display: none;\n",
              "        fill: #1967D2;\n",
              "        height: 32px;\n",
              "        padding: 0 0 0 0;\n",
              "        width: 32px;\n",
              "      }\n",
              "\n",
              "      .colab-df-generate:hover {\n",
              "        background-color: #E2EBFA;\n",
              "        box-shadow: 0px 1px 2px rgba(60, 64, 67, 0.3), 0px 1px 3px 1px rgba(60, 64, 67, 0.15);\n",
              "        fill: #174EA6;\n",
              "      }\n",
              "\n",
              "      [theme=dark] .colab-df-generate {\n",
              "        background-color: #3B4455;\n",
              "        fill: #D2E3FC;\n",
              "      }\n",
              "\n",
              "      [theme=dark] .colab-df-generate:hover {\n",
              "        background-color: #434B5C;\n",
              "        box-shadow: 0px 1px 3px 1px rgba(0, 0, 0, 0.15);\n",
              "        filter: drop-shadow(0px 1px 2px rgba(0, 0, 0, 0.3));\n",
              "        fill: #FFFFFF;\n",
              "      }\n",
              "    </style>\n",
              "    <button class=\"colab-df-generate\" onclick=\"generateWithVariable('df')\"\n",
              "            title=\"Generate code using this dataframe.\"\n",
              "            style=\"display:none;\">\n",
              "\n",
              "  <svg xmlns=\"http://www.w3.org/2000/svg\" height=\"24px\"viewBox=\"0 0 24 24\"\n",
              "       width=\"24px\">\n",
              "    <path d=\"M7,19H8.4L18.45,9,17,7.55,7,17.6ZM5,21V16.75L18.45,3.32a2,2,0,0,1,2.83,0l1.4,1.43a1.91,1.91,0,0,1,.58,1.4,1.91,1.91,0,0,1-.58,1.4L9.25,21ZM18.45,9,17,7.55Zm-12,3A5.31,5.31,0,0,0,4.9,8.1,5.31,5.31,0,0,0,1,6.5,5.31,5.31,0,0,0,4.9,4.9,5.31,5.31,0,0,0,6.5,1,5.31,5.31,0,0,0,8.1,4.9,5.31,5.31,0,0,0,12,6.5,5.46,5.46,0,0,0,6.5,12Z\"/>\n",
              "  </svg>\n",
              "    </button>\n",
              "    <script>\n",
              "      (() => {\n",
              "      const buttonEl =\n",
              "        document.querySelector('#id_d7500fb5-f22f-4536-8276-22dc6b5051da button.colab-df-generate');\n",
              "      buttonEl.style.display =\n",
              "        google.colab.kernel.accessAllowed ? 'block' : 'none';\n",
              "\n",
              "      buttonEl.onclick = () => {\n",
              "        google.colab.notebook.generateWithVariable('df');\n",
              "      }\n",
              "      })();\n",
              "    </script>\n",
              "  </div>\n",
              "\n",
              "    </div>\n",
              "  </div>\n"
            ],
            "application/vnd.google.colaboratory.intrinsic+json": {
              "type": "dataframe",
              "variable_name": "df",
              "summary": "{\n  \"name\": \"df\",\n  \"rows\": 303,\n  \"fields\": [\n    {\n      \"column\": \"age\",\n      \"properties\": {\n        \"dtype\": \"number\",\n        \"std\": 9,\n        \"min\": 29,\n        \"max\": 77,\n        \"num_unique_values\": 41,\n        \"samples\": [\n          46,\n          66,\n          48\n        ],\n        \"semantic_type\": \"\",\n        \"description\": \"\"\n      }\n    },\n    {\n      \"column\": \"sex\",\n      \"properties\": {\n        \"dtype\": \"number\",\n        \"std\": 0,\n        \"min\": 0,\n        \"max\": 1,\n        \"num_unique_values\": 2,\n        \"samples\": [\n          0,\n          1\n        ],\n        \"semantic_type\": \"\",\n        \"description\": \"\"\n      }\n    },\n    {\n      \"column\": \"cp\",\n      \"properties\": {\n        \"dtype\": \"number\",\n        \"std\": 1,\n        \"min\": 0,\n        \"max\": 3,\n        \"num_unique_values\": 4,\n        \"samples\": [\n          2,\n          0\n        ],\n        \"semantic_type\": \"\",\n        \"description\": \"\"\n      }\n    },\n    {\n      \"column\": \"trestbps\",\n      \"properties\": {\n        \"dtype\": \"number\",\n        \"std\": 17,\n        \"min\": 94,\n        \"max\": 200,\n        \"num_unique_values\": 49,\n        \"samples\": [\n          104,\n          123\n        ],\n        \"semantic_type\": \"\",\n        \"description\": \"\"\n      }\n    },\n    {\n      \"column\": \"chol\",\n      \"properties\": {\n        \"dtype\": \"number\",\n        \"std\": 51,\n        \"min\": 126,\n        \"max\": 564,\n        \"num_unique_values\": 152,\n        \"samples\": [\n          277,\n          169\n        ],\n        \"semantic_type\": \"\",\n        \"description\": \"\"\n      }\n    },\n    {\n      \"column\": \"fbs\",\n      \"properties\": {\n        \"dtype\": \"number\",\n        \"std\": 0,\n        \"min\": 0,\n        \"max\": 1,\n        \"num_unique_values\": 2,\n        \"samples\": [\n          0,\n          1\n        ],\n        \"semantic_type\": \"\",\n        \"description\": \"\"\n      }\n    },\n    {\n      \"column\": \"restecg\",\n      \"properties\": {\n        \"dtype\": \"number\",\n        \"std\": 0,\n        \"min\": 0,\n        \"max\": 2,\n        \"num_unique_values\": 3,\n        \"samples\": [\n          0,\n          1\n        ],\n        \"semantic_type\": \"\",\n        \"description\": \"\"\n      }\n    },\n    {\n      \"column\": \"thalach\",\n      \"properties\": {\n        \"dtype\": \"number\",\n        \"std\": 22,\n        \"min\": 71,\n        \"max\": 202,\n        \"num_unique_values\": 91,\n        \"samples\": [\n          159,\n          152\n        ],\n        \"semantic_type\": \"\",\n        \"description\": \"\"\n      }\n    },\n    {\n      \"column\": \"exang\",\n      \"properties\": {\n        \"dtype\": \"number\",\n        \"std\": 0,\n        \"min\": 0,\n        \"max\": 1,\n        \"num_unique_values\": 2,\n        \"samples\": [\n          1,\n          0\n        ],\n        \"semantic_type\": \"\",\n        \"description\": \"\"\n      }\n    },\n    {\n      \"column\": \"oldpeak\",\n      \"properties\": {\n        \"dtype\": \"number\",\n        \"std\": 1.1610750220686348,\n        \"min\": 0.0,\n        \"max\": 6.2,\n        \"num_unique_values\": 40,\n        \"samples\": [\n          1.9,\n          3.0\n        ],\n        \"semantic_type\": \"\",\n        \"description\": \"\"\n      }\n    },\n    {\n      \"column\": \"slope\",\n      \"properties\": {\n        \"dtype\": \"number\",\n        \"std\": 0,\n        \"min\": 0,\n        \"max\": 2,\n        \"num_unique_values\": 3,\n        \"samples\": [\n          0,\n          2\n        ],\n        \"semantic_type\": \"\",\n        \"description\": \"\"\n      }\n    },\n    {\n      \"column\": \"ca\",\n      \"properties\": {\n        \"dtype\": \"number\",\n        \"std\": 1,\n        \"min\": 0,\n        \"max\": 4,\n        \"num_unique_values\": 5,\n        \"samples\": [\n          2,\n          4\n        ],\n        \"semantic_type\": \"\",\n        \"description\": \"\"\n      }\n    },\n    {\n      \"column\": \"thal\",\n      \"properties\": {\n        \"dtype\": \"number\",\n        \"std\": 0,\n        \"min\": 0,\n        \"max\": 3,\n        \"num_unique_values\": 4,\n        \"samples\": [\n          2,\n          0\n        ],\n        \"semantic_type\": \"\",\n        \"description\": \"\"\n      }\n    },\n    {\n      \"column\": \"target\",\n      \"properties\": {\n        \"dtype\": \"number\",\n        \"std\": 0,\n        \"min\": 0,\n        \"max\": 1,\n        \"num_unique_values\": 2,\n        \"samples\": [\n          0,\n          1\n        ],\n        \"semantic_type\": \"\",\n        \"description\": \"\"\n      }\n    }\n  ]\n}"
            }
          },
          "metadata": {},
          "execution_count": 11
        }
      ],
      "source": [
        "# Set display options to show all columns\n",
        "pd.set_option('display.max_columns', None)\n",
        "\n",
        "# When you type the object name, the object gets printed.\n",
        "df"
      ]
    },
    {
      "cell_type": "markdown",
      "metadata": {
        "id": "tx98lQoCoDkO"
      },
      "source": [
        "# **INSTRUCTIONS**\n",
        "\n",
        "* Use Python to analyze the data set and complete each of the following.\n",
        "* Replace ellipsis (...) with the relavent names or code.  \n",
        "* For problems that require a written response, replace the ellipsis (...) by double clicking the text box to start typing.\n",
        "* Reference the tutorial from activity for assistance.\n",
        "* Attend office hours if you still need help."
      ]
    },
    {
      "cell_type": "markdown",
      "metadata": {
        "id": "WZAwPtWdJtjB"
      },
      "source": [
        "This assignment is intended to explore the univariate linear relationships between quantitative variables in the data. Choose the dependent and independent variables based on your last name.\n",
        "\n",
        "| Last Name | Dependent Variable (y)  | Independent Variable (x) |\n",
        "|-----------|-------------------------|--------------------------|\n",
        "| A-L       | Resting blood pressure  | Serum cholesterol        |\n",
        "| M-Z       | Max heart rate          | Age                      |\n",
        "\n",
        "\n"
      ]
    },
    {
      "cell_type": "markdown",
      "source": [
        "Based on your last name, which variable is explanatory and which is the response?\n",
        "\n",
        "Explanatory: ...\n",
        "\n",
        "Response: ..."
      ],
      "metadata": {
        "id": "7IJT3XU95gcE"
      }
    },
    {
      "cell_type": "markdown",
      "source": [
        "What do you think the direction (positive/negative) and strength (weak/moderate/strong) will be?"
      ],
      "metadata": {
        "id": "mPrSROvP5gMr"
      }
    },
    {
      "cell_type": "markdown",
      "source": [
        "# ..."
      ],
      "metadata": {
        "id": "VhMDCYnqhUOq"
      }
    },
    {
      "cell_type": "markdown",
      "source": [
        "# **QUESTION 1**\n",
        "## Scatterplot\n",
        "\n",
        "**1.1)** Construct a scatterplot that could be used to show the relationship between the variables stated above."
      ],
      "metadata": {
        "id": "xkEtDHs70CzZ"
      }
    },
    {
      "cell_type": "code",
      "execution_count": null,
      "metadata": {
        "id": "_YFf23s4JZlN",
        "outputId": "36be5ab2-a4dd-4e8e-ece0-00fc519b7654",
        "colab": {
          "base_uri": "https://localhost:8080/",
          "height": 817
        }
      },
      "outputs": [
        {
          "output_type": "display_data",
          "data": {
            "text/html": [
              "<html>\n",
              "<head><meta charset=\"utf-8\" /></head>\n",
              "<body>\n",
              "    <div>            <script src=\"https://cdnjs.cloudflare.com/ajax/libs/mathjax/2.7.5/MathJax.js?config=TeX-AMS-MML_SVG\"></script><script type=\"text/javascript\">if (window.MathJax && window.MathJax.Hub && window.MathJax.Hub.Config) {window.MathJax.Hub.Config({SVG: {font: \"STIX-Web\"}});}</script>                <script type=\"text/javascript\">window.PlotlyConfig = {MathJaxConfig: 'local'};</script>\n",
              "        <script charset=\"utf-8\" src=\"https://cdn.plot.ly/plotly-2.35.2.min.js\"></script>                <div id=\"a93246c9-ba0d-4624-b1ba-09694672617d\" class=\"plotly-graph-div\" style=\"height:400px; width:575px;\"></div>            <script type=\"text/javascript\">                                    window.PLOTLYENV=window.PLOTLYENV || {};                                    if (document.getElementById(\"a93246c9-ba0d-4624-b1ba-09694672617d\")) {                    Plotly.newPlot(                        \"a93246c9-ba0d-4624-b1ba-09694672617d\",                        [{\"hovertemplate\":\"Serum Cholesterol=%{x}\\u003cbr\\u003eResting Blood Pressure=%{y}\\u003cextra\\u003e\\u003c\\u002fextra\\u003e\",\"legendgroup\":\"\",\"marker\":{\"color\":\"#636efa\",\"symbol\":\"circle\"},\"mode\":\"markers\",\"name\":\"\",\"orientation\":\"v\",\"showlegend\":false,\"x\":[233,250,204,236,354,192,294,263,199,168,239,275,266,211,283,219,340,226,247,239,234,233,226,243,199,302,212,175,417,197,198,177,219,273,213,177,304,232,269,360,308,245,208,264,321,325,235,257,216,234,256,302,231,141,252,201,222,260,182,303,265,309,186,203,211,183,222,234,220,209,258,227,204,261,213,250,245,221,205,240,250,308,318,298,265,564,277,197,214,248,255,207,223,288,160,226,394,233,315,246,244,270,195,240,196,211,234,236,244,254,325,126,313,211,262,215,214,193,204,243,303,271,268,267,199,210,204,277,196,269,201,271,295,235,306,269,178,208,201,263,295,303,209,223,197,245,242,240,226,180,228,149,227,278,220,197,253,192,220,221,240,342,157,175,175,286,229,268,254,203,256,229,284,224,206,167,230,335,177,276,353,225,330,230,243,290,253,266,233,172,305,216,188,282,185,326,231,254,267,248,197,258,270,274,164,255,239,258,188,177,229,260,219,307,249,341,263,330,254,256,407,217,282,288,239,174,281,198,288,309,243,289,289,246,322,299,300,293,304,282,269,249,212,274,184,274,409,246,283,254,298,247,294,299,273,309,259,200,244,231,228,230,282,269,206,212,327,149,286,283,249,234,237,234,275,212,218,261,319,166,315,204,218,223,207,311,204,232,335,205,203,318,225,212,169,187,197,176,241,264,193,131,236],\"xaxis\":\"x\",\"y\":[145,130,130,120,120,140,140,120,172,150,140,130,130,110,150,120,120,150,150,140,135,130,140,150,140,160,150,110,140,130,105,120,130,125,125,142,135,150,155,160,140,130,104,130,140,120,140,138,128,138,130,120,130,108,135,134,122,115,118,128,110,108,118,135,140,138,100,130,120,124,120,94,130,140,122,135,125,140,128,105,112,128,102,152,102,115,118,101,110,100,124,132,138,132,112,142,140,108,130,130,148,178,140,120,129,120,160,138,120,110,180,150,140,110,130,120,130,120,105,138,130,138,112,108,94,118,112,152,136,120,160,134,120,110,126,130,120,128,110,128,120,115,120,106,140,156,118,150,120,130,160,112,170,146,138,130,130,122,125,130,120,132,120,138,138,160,120,140,130,140,130,110,120,132,130,110,117,140,120,150,132,150,130,112,150,112,130,124,140,110,130,128,120,145,140,170,150,125,120,110,110,125,150,180,160,128,110,150,120,140,128,120,118,145,125,132,130,130,135,130,150,140,138,200,110,145,120,120,170,125,108,165,160,120,130,140,125,140,125,126,160,174,145,152,132,124,134,160,192,140,140,132,138,100,160,142,128,144,150,120,178,112,123,108,110,112,180,118,122,130,120,134,120,100,110,125,146,124,136,138,136,128,126,152,140,140,134,154,110,128,148,114,170,152,120,140,124,164,140,110,144,130,130],\"yaxis\":\"y\",\"type\":\"scatter\"}],                        {\"template\":{\"data\":{\"histogram2dcontour\":[{\"type\":\"histogram2dcontour\",\"colorbar\":{\"outlinewidth\":0,\"ticks\":\"\"},\"colorscale\":[[0.0,\"#0d0887\"],[0.1111111111111111,\"#46039f\"],[0.2222222222222222,\"#7201a8\"],[0.3333333333333333,\"#9c179e\"],[0.4444444444444444,\"#bd3786\"],[0.5555555555555556,\"#d8576b\"],[0.6666666666666666,\"#ed7953\"],[0.7777777777777778,\"#fb9f3a\"],[0.8888888888888888,\"#fdca26\"],[1.0,\"#f0f921\"]]}],\"choropleth\":[{\"type\":\"choropleth\",\"colorbar\":{\"outlinewidth\":0,\"ticks\":\"\"}}],\"histogram2d\":[{\"type\":\"histogram2d\",\"colorbar\":{\"outlinewidth\":0,\"ticks\":\"\"},\"colorscale\":[[0.0,\"#0d0887\"],[0.1111111111111111,\"#46039f\"],[0.2222222222222222,\"#7201a8\"],[0.3333333333333333,\"#9c179e\"],[0.4444444444444444,\"#bd3786\"],[0.5555555555555556,\"#d8576b\"],[0.6666666666666666,\"#ed7953\"],[0.7777777777777778,\"#fb9f3a\"],[0.8888888888888888,\"#fdca26\"],[1.0,\"#f0f921\"]]}],\"heatmap\":[{\"type\":\"heatmap\",\"colorbar\":{\"outlinewidth\":0,\"ticks\":\"\"},\"colorscale\":[[0.0,\"#0d0887\"],[0.1111111111111111,\"#46039f\"],[0.2222222222222222,\"#7201a8\"],[0.3333333333333333,\"#9c179e\"],[0.4444444444444444,\"#bd3786\"],[0.5555555555555556,\"#d8576b\"],[0.6666666666666666,\"#ed7953\"],[0.7777777777777778,\"#fb9f3a\"],[0.8888888888888888,\"#fdca26\"],[1.0,\"#f0f921\"]]}],\"heatmapgl\":[{\"type\":\"heatmapgl\",\"colorbar\":{\"outlinewidth\":0,\"ticks\":\"\"},\"colorscale\":[[0.0,\"#0d0887\"],[0.1111111111111111,\"#46039f\"],[0.2222222222222222,\"#7201a8\"],[0.3333333333333333,\"#9c179e\"],[0.4444444444444444,\"#bd3786\"],[0.5555555555555556,\"#d8576b\"],[0.6666666666666666,\"#ed7953\"],[0.7777777777777778,\"#fb9f3a\"],[0.8888888888888888,\"#fdca26\"],[1.0,\"#f0f921\"]]}],\"contourcarpet\":[{\"type\":\"contourcarpet\",\"colorbar\":{\"outlinewidth\":0,\"ticks\":\"\"}}],\"contour\":[{\"type\":\"contour\",\"colorbar\":{\"outlinewidth\":0,\"ticks\":\"\"},\"colorscale\":[[0.0,\"#0d0887\"],[0.1111111111111111,\"#46039f\"],[0.2222222222222222,\"#7201a8\"],[0.3333333333333333,\"#9c179e\"],[0.4444444444444444,\"#bd3786\"],[0.5555555555555556,\"#d8576b\"],[0.6666666666666666,\"#ed7953\"],[0.7777777777777778,\"#fb9f3a\"],[0.8888888888888888,\"#fdca26\"],[1.0,\"#f0f921\"]]}],\"surface\":[{\"type\":\"surface\",\"colorbar\":{\"outlinewidth\":0,\"ticks\":\"\"},\"colorscale\":[[0.0,\"#0d0887\"],[0.1111111111111111,\"#46039f\"],[0.2222222222222222,\"#7201a8\"],[0.3333333333333333,\"#9c179e\"],[0.4444444444444444,\"#bd3786\"],[0.5555555555555556,\"#d8576b\"],[0.6666666666666666,\"#ed7953\"],[0.7777777777777778,\"#fb9f3a\"],[0.8888888888888888,\"#fdca26\"],[1.0,\"#f0f921\"]]}],\"mesh3d\":[{\"type\":\"mesh3d\",\"colorbar\":{\"outlinewidth\":0,\"ticks\":\"\"}}],\"scatter\":[{\"fillpattern\":{\"fillmode\":\"overlay\",\"size\":10,\"solidity\":0.2},\"type\":\"scatter\"}],\"parcoords\":[{\"type\":\"parcoords\",\"line\":{\"colorbar\":{\"outlinewidth\":0,\"ticks\":\"\"}}}],\"scatterpolargl\":[{\"type\":\"scatterpolargl\",\"marker\":{\"colorbar\":{\"outlinewidth\":0,\"ticks\":\"\"}}}],\"bar\":[{\"error_x\":{\"color\":\"#2a3f5f\"},\"error_y\":{\"color\":\"#2a3f5f\"},\"marker\":{\"line\":{\"color\":\"#E5ECF6\",\"width\":0.5},\"pattern\":{\"fillmode\":\"overlay\",\"size\":10,\"solidity\":0.2}},\"type\":\"bar\"}],\"scattergeo\":[{\"type\":\"scattergeo\",\"marker\":{\"colorbar\":{\"outlinewidth\":0,\"ticks\":\"\"}}}],\"scatterpolar\":[{\"type\":\"scatterpolar\",\"marker\":{\"colorbar\":{\"outlinewidth\":0,\"ticks\":\"\"}}}],\"histogram\":[{\"marker\":{\"pattern\":{\"fillmode\":\"overlay\",\"size\":10,\"solidity\":0.2}},\"type\":\"histogram\"}],\"scattergl\":[{\"type\":\"scattergl\",\"marker\":{\"colorbar\":{\"outlinewidth\":0,\"ticks\":\"\"}}}],\"scatter3d\":[{\"type\":\"scatter3d\",\"line\":{\"colorbar\":{\"outlinewidth\":0,\"ticks\":\"\"}},\"marker\":{\"colorbar\":{\"outlinewidth\":0,\"ticks\":\"\"}}}],\"scattermapbox\":[{\"type\":\"scattermapbox\",\"marker\":{\"colorbar\":{\"outlinewidth\":0,\"ticks\":\"\"}}}],\"scatterternary\":[{\"type\":\"scatterternary\",\"marker\":{\"colorbar\":{\"outlinewidth\":0,\"ticks\":\"\"}}}],\"scattercarpet\":[{\"type\":\"scattercarpet\",\"marker\":{\"colorbar\":{\"outlinewidth\":0,\"ticks\":\"\"}}}],\"carpet\":[{\"aaxis\":{\"endlinecolor\":\"#2a3f5f\",\"gridcolor\":\"white\",\"linecolor\":\"white\",\"minorgridcolor\":\"white\",\"startlinecolor\":\"#2a3f5f\"},\"baxis\":{\"endlinecolor\":\"#2a3f5f\",\"gridcolor\":\"white\",\"linecolor\":\"white\",\"minorgridcolor\":\"white\",\"startlinecolor\":\"#2a3f5f\"},\"type\":\"carpet\"}],\"table\":[{\"cells\":{\"fill\":{\"color\":\"#EBF0F8\"},\"line\":{\"color\":\"white\"}},\"header\":{\"fill\":{\"color\":\"#C8D4E3\"},\"line\":{\"color\":\"white\"}},\"type\":\"table\"}],\"barpolar\":[{\"marker\":{\"line\":{\"color\":\"#E5ECF6\",\"width\":0.5},\"pattern\":{\"fillmode\":\"overlay\",\"size\":10,\"solidity\":0.2}},\"type\":\"barpolar\"}],\"pie\":[{\"automargin\":true,\"type\":\"pie\"}]},\"layout\":{\"autotypenumbers\":\"strict\",\"colorway\":[\"#636efa\",\"#EF553B\",\"#00cc96\",\"#ab63fa\",\"#FFA15A\",\"#19d3f3\",\"#FF6692\",\"#B6E880\",\"#FF97FF\",\"#FECB52\"],\"font\":{\"color\":\"#2a3f5f\"},\"hovermode\":\"closest\",\"hoverlabel\":{\"align\":\"left\"},\"paper_bgcolor\":\"white\",\"plot_bgcolor\":\"#E5ECF6\",\"polar\":{\"bgcolor\":\"#E5ECF6\",\"angularaxis\":{\"gridcolor\":\"white\",\"linecolor\":\"white\",\"ticks\":\"\"},\"radialaxis\":{\"gridcolor\":\"white\",\"linecolor\":\"white\",\"ticks\":\"\"}},\"ternary\":{\"bgcolor\":\"#E5ECF6\",\"aaxis\":{\"gridcolor\":\"white\",\"linecolor\":\"white\",\"ticks\":\"\"},\"baxis\":{\"gridcolor\":\"white\",\"linecolor\":\"white\",\"ticks\":\"\"},\"caxis\":{\"gridcolor\":\"white\",\"linecolor\":\"white\",\"ticks\":\"\"}},\"coloraxis\":{\"colorbar\":{\"outlinewidth\":0,\"ticks\":\"\"}},\"colorscale\":{\"sequential\":[[0.0,\"#0d0887\"],[0.1111111111111111,\"#46039f\"],[0.2222222222222222,\"#7201a8\"],[0.3333333333333333,\"#9c179e\"],[0.4444444444444444,\"#bd3786\"],[0.5555555555555556,\"#d8576b\"],[0.6666666666666666,\"#ed7953\"],[0.7777777777777778,\"#fb9f3a\"],[0.8888888888888888,\"#fdca26\"],[1.0,\"#f0f921\"]],\"sequentialminus\":[[0.0,\"#0d0887\"],[0.1111111111111111,\"#46039f\"],[0.2222222222222222,\"#7201a8\"],[0.3333333333333333,\"#9c179e\"],[0.4444444444444444,\"#bd3786\"],[0.5555555555555556,\"#d8576b\"],[0.6666666666666666,\"#ed7953\"],[0.7777777777777778,\"#fb9f3a\"],[0.8888888888888888,\"#fdca26\"],[1.0,\"#f0f921\"]],\"diverging\":[[0,\"#8e0152\"],[0.1,\"#c51b7d\"],[0.2,\"#de77ae\"],[0.3,\"#f1b6da\"],[0.4,\"#fde0ef\"],[0.5,\"#f7f7f7\"],[0.6,\"#e6f5d0\"],[0.7,\"#b8e186\"],[0.8,\"#7fbc41\"],[0.9,\"#4d9221\"],[1,\"#276419\"]]},\"xaxis\":{\"gridcolor\":\"white\",\"linecolor\":\"white\",\"ticks\":\"\",\"title\":{\"standoff\":15},\"zerolinecolor\":\"white\",\"automargin\":true,\"zerolinewidth\":2},\"yaxis\":{\"gridcolor\":\"white\",\"linecolor\":\"white\",\"ticks\":\"\",\"title\":{\"standoff\":15},\"zerolinecolor\":\"white\",\"automargin\":true,\"zerolinewidth\":2},\"scene\":{\"xaxis\":{\"backgroundcolor\":\"#E5ECF6\",\"gridcolor\":\"white\",\"linecolor\":\"white\",\"showbackground\":true,\"ticks\":\"\",\"zerolinecolor\":\"white\",\"gridwidth\":2},\"yaxis\":{\"backgroundcolor\":\"#E5ECF6\",\"gridcolor\":\"white\",\"linecolor\":\"white\",\"showbackground\":true,\"ticks\":\"\",\"zerolinecolor\":\"white\",\"gridwidth\":2},\"zaxis\":{\"backgroundcolor\":\"#E5ECF6\",\"gridcolor\":\"white\",\"linecolor\":\"white\",\"showbackground\":true,\"ticks\":\"\",\"zerolinecolor\":\"white\",\"gridwidth\":2}},\"shapedefaults\":{\"line\":{\"color\":\"#2a3f5f\"}},\"annotationdefaults\":{\"arrowcolor\":\"#2a3f5f\",\"arrowhead\":0,\"arrowwidth\":1},\"geo\":{\"bgcolor\":\"white\",\"landcolor\":\"#E5ECF6\",\"subunitcolor\":\"white\",\"showland\":true,\"showlakes\":true,\"lakecolor\":\"white\"},\"title\":{\"x\":0.05},\"mapbox\":{\"style\":\"light\"}}},\"xaxis\":{\"anchor\":\"y\",\"domain\":[0.0,1.0],\"title\":{\"text\":\"Serum Cholesterol\"},\"showline\":true,\"showgrid\":false,\"linecolor\":\"black\"},\"yaxis\":{\"anchor\":\"x\",\"domain\":[0.0,1.0],\"title\":{\"text\":\"Resting Blood Pressure\"},\"showline\":true,\"showgrid\":false,\"linecolor\":\"black\"},\"legend\":{\"tracegroupgap\":0},\"margin\":{\"t\":60},\"title\":{\"font\":{\"size\":16},\"text\":\"Scatter Plot A-L\",\"y\":0.9,\"x\":0.5,\"xanchor\":\"center\",\"yanchor\":\"top\"},\"plot_bgcolor\":\"rgba(255,255,255,1)\",\"width\":575,\"height\":400},                        {\"responsive\": true}                    ).then(function(){\n",
              "                            \n",
              "var gd = document.getElementById('a93246c9-ba0d-4624-b1ba-09694672617d');\n",
              "var x = new MutationObserver(function (mutations, observer) {{\n",
              "        var display = window.getComputedStyle(gd).display;\n",
              "        if (!display || display === 'none') {{\n",
              "            console.log([gd, 'removed!']);\n",
              "            Plotly.purge(gd);\n",
              "            observer.disconnect();\n",
              "        }}\n",
              "}});\n",
              "\n",
              "// Listen for the removal of the full notebook cells\n",
              "var notebookContainer = gd.closest('#notebook-container');\n",
              "if (notebookContainer) {{\n",
              "    x.observe(notebookContainer, {childList: true});\n",
              "}}\n",
              "\n",
              "// Listen for the clearing of the current output cell\n",
              "var outputEl = gd.closest('.output');\n",
              "if (outputEl) {{\n",
              "    x.observe(outputEl, {childList: true});\n",
              "}}\n",
              "\n",
              "                        })                };                            </script>        </div>\n",
              "</body>\n",
              "</html>"
            ]
          },
          "metadata": {}
        },
        {
          "output_type": "display_data",
          "data": {
            "text/html": [
              "<html>\n",
              "<head><meta charset=\"utf-8\" /></head>\n",
              "<body>\n",
              "    <div>            <script src=\"https://cdnjs.cloudflare.com/ajax/libs/mathjax/2.7.5/MathJax.js?config=TeX-AMS-MML_SVG\"></script><script type=\"text/javascript\">if (window.MathJax && window.MathJax.Hub && window.MathJax.Hub.Config) {window.MathJax.Hub.Config({SVG: {font: \"STIX-Web\"}});}</script>                <script type=\"text/javascript\">window.PlotlyConfig = {MathJaxConfig: 'local'};</script>\n",
              "        <script charset=\"utf-8\" src=\"https://cdn.plot.ly/plotly-2.35.2.min.js\"></script>                <div id=\"233554a3-05a7-4207-8d42-96a69f974293\" class=\"plotly-graph-div\" style=\"height:400px; width:575px;\"></div>            <script type=\"text/javascript\">                                    window.PLOTLYENV=window.PLOTLYENV || {};                                    if (document.getElementById(\"233554a3-05a7-4207-8d42-96a69f974293\")) {                    Plotly.newPlot(                        \"233554a3-05a7-4207-8d42-96a69f974293\",                        [{\"hovertemplate\":\"Age=%{x}\\u003cbr\\u003eMaximum Heart Rate=%{y}\\u003cextra\\u003e\\u003c\\u002fextra\\u003e\",\"legendgroup\":\"\",\"marker\":{\"color\":\"#636efa\",\"symbol\":\"circle\"},\"mode\":\"markers\",\"name\":\"\",\"orientation\":\"v\",\"showlegend\":false,\"x\":[63,37,41,56,57,57,56,44,52,57,54,48,49,64,58,50,58,66,43,69,59,44,42,61,40,71,59,51,65,53,41,65,44,54,51,46,54,54,65,65,51,48,45,53,39,52,44,47,53,53,51,66,62,44,63,52,48,45,34,57,71,54,52,41,58,35,51,45,44,62,54,51,29,51,43,55,51,59,52,58,41,45,60,52,42,67,68,46,54,58,48,57,52,54,45,53,62,52,43,53,42,59,63,42,50,68,69,45,50,50,64,57,64,43,55,37,41,56,46,46,64,59,41,54,39,34,47,67,52,74,54,49,42,41,41,49,60,62,57,64,51,43,42,67,76,70,44,60,44,42,66,71,64,66,39,58,47,35,58,56,56,55,41,38,38,67,67,62,63,53,56,48,58,58,60,40,60,64,43,57,55,65,61,58,50,44,60,54,50,41,51,58,54,60,60,59,46,67,62,65,44,60,58,68,62,52,59,60,49,59,57,61,39,61,56,43,62,63,65,48,63,55,65,56,54,70,62,35,59,64,47,57,55,64,70,51,58,60,77,35,70,59,64,57,56,48,56,66,54,69,51,43,62,67,59,45,58,50,62,38,66,52,53,63,54,66,55,49,54,56,46,61,67,58,47,52,58,57,58,61,42,52,59,40,61,46,59,57,57,55,61,58,58,67,44,63,63,59,57,45,68,57,57],\"xaxis\":\"x\",\"y\":[150,187,172,178,163,148,153,173,162,174,160,139,171,144,162,158,172,114,171,151,161,179,178,137,178,162,157,123,157,152,168,140,188,152,125,160,170,165,148,151,142,180,148,143,182,172,180,156,115,160,149,151,146,175,172,158,186,185,174,159,130,156,190,132,165,182,143,175,170,163,147,154,202,186,165,161,166,164,184,154,179,170,160,178,122,160,151,156,158,122,175,168,169,159,138,111,157,147,162,173,178,145,179,194,163,115,131,152,162,159,154,173,133,161,155,170,168,162,172,152,122,182,172,167,179,192,143,172,169,121,163,162,162,153,163,163,96,140,126,105,157,181,173,142,116,143,149,171,169,150,138,125,155,152,152,131,179,174,144,163,169,166,182,173,173,108,129,160,147,155,142,168,160,173,132,114,160,158,120,112,132,114,169,165,128,153,144,109,163,158,142,131,113,142,155,140,147,163,99,158,177,141,111,150,145,161,142,157,139,162,150,140,140,146,144,136,97,132,127,150,154,111,174,133,126,125,103,130,159,131,152,124,145,96,109,173,171,170,162,156,112,143,132,88,105,166,150,120,195,146,122,143,106,125,125,147,130,126,154,182,165,160,95,169,108,132,117,126,116,103,144,145,71,156,118,168,105,141,152,125,125,156,134,181,138,120,162,164,143,130,161,140,146,150,144,144,136,90,123,132,141,115,174],\"yaxis\":\"y\",\"type\":\"scatter\"}],                        {\"template\":{\"data\":{\"histogram2dcontour\":[{\"type\":\"histogram2dcontour\",\"colorbar\":{\"outlinewidth\":0,\"ticks\":\"\"},\"colorscale\":[[0.0,\"#0d0887\"],[0.1111111111111111,\"#46039f\"],[0.2222222222222222,\"#7201a8\"],[0.3333333333333333,\"#9c179e\"],[0.4444444444444444,\"#bd3786\"],[0.5555555555555556,\"#d8576b\"],[0.6666666666666666,\"#ed7953\"],[0.7777777777777778,\"#fb9f3a\"],[0.8888888888888888,\"#fdca26\"],[1.0,\"#f0f921\"]]}],\"choropleth\":[{\"type\":\"choropleth\",\"colorbar\":{\"outlinewidth\":0,\"ticks\":\"\"}}],\"histogram2d\":[{\"type\":\"histogram2d\",\"colorbar\":{\"outlinewidth\":0,\"ticks\":\"\"},\"colorscale\":[[0.0,\"#0d0887\"],[0.1111111111111111,\"#46039f\"],[0.2222222222222222,\"#7201a8\"],[0.3333333333333333,\"#9c179e\"],[0.4444444444444444,\"#bd3786\"],[0.5555555555555556,\"#d8576b\"],[0.6666666666666666,\"#ed7953\"],[0.7777777777777778,\"#fb9f3a\"],[0.8888888888888888,\"#fdca26\"],[1.0,\"#f0f921\"]]}],\"heatmap\":[{\"type\":\"heatmap\",\"colorbar\":{\"outlinewidth\":0,\"ticks\":\"\"},\"colorscale\":[[0.0,\"#0d0887\"],[0.1111111111111111,\"#46039f\"],[0.2222222222222222,\"#7201a8\"],[0.3333333333333333,\"#9c179e\"],[0.4444444444444444,\"#bd3786\"],[0.5555555555555556,\"#d8576b\"],[0.6666666666666666,\"#ed7953\"],[0.7777777777777778,\"#fb9f3a\"],[0.8888888888888888,\"#fdca26\"],[1.0,\"#f0f921\"]]}],\"heatmapgl\":[{\"type\":\"heatmapgl\",\"colorbar\":{\"outlinewidth\":0,\"ticks\":\"\"},\"colorscale\":[[0.0,\"#0d0887\"],[0.1111111111111111,\"#46039f\"],[0.2222222222222222,\"#7201a8\"],[0.3333333333333333,\"#9c179e\"],[0.4444444444444444,\"#bd3786\"],[0.5555555555555556,\"#d8576b\"],[0.6666666666666666,\"#ed7953\"],[0.7777777777777778,\"#fb9f3a\"],[0.8888888888888888,\"#fdca26\"],[1.0,\"#f0f921\"]]}],\"contourcarpet\":[{\"type\":\"contourcarpet\",\"colorbar\":{\"outlinewidth\":0,\"ticks\":\"\"}}],\"contour\":[{\"type\":\"contour\",\"colorbar\":{\"outlinewidth\":0,\"ticks\":\"\"},\"colorscale\":[[0.0,\"#0d0887\"],[0.1111111111111111,\"#46039f\"],[0.2222222222222222,\"#7201a8\"],[0.3333333333333333,\"#9c179e\"],[0.4444444444444444,\"#bd3786\"],[0.5555555555555556,\"#d8576b\"],[0.6666666666666666,\"#ed7953\"],[0.7777777777777778,\"#fb9f3a\"],[0.8888888888888888,\"#fdca26\"],[1.0,\"#f0f921\"]]}],\"surface\":[{\"type\":\"surface\",\"colorbar\":{\"outlinewidth\":0,\"ticks\":\"\"},\"colorscale\":[[0.0,\"#0d0887\"],[0.1111111111111111,\"#46039f\"],[0.2222222222222222,\"#7201a8\"],[0.3333333333333333,\"#9c179e\"],[0.4444444444444444,\"#bd3786\"],[0.5555555555555556,\"#d8576b\"],[0.6666666666666666,\"#ed7953\"],[0.7777777777777778,\"#fb9f3a\"],[0.8888888888888888,\"#fdca26\"],[1.0,\"#f0f921\"]]}],\"mesh3d\":[{\"type\":\"mesh3d\",\"colorbar\":{\"outlinewidth\":0,\"ticks\":\"\"}}],\"scatter\":[{\"fillpattern\":{\"fillmode\":\"overlay\",\"size\":10,\"solidity\":0.2},\"type\":\"scatter\"}],\"parcoords\":[{\"type\":\"parcoords\",\"line\":{\"colorbar\":{\"outlinewidth\":0,\"ticks\":\"\"}}}],\"scatterpolargl\":[{\"type\":\"scatterpolargl\",\"marker\":{\"colorbar\":{\"outlinewidth\":0,\"ticks\":\"\"}}}],\"bar\":[{\"error_x\":{\"color\":\"#2a3f5f\"},\"error_y\":{\"color\":\"#2a3f5f\"},\"marker\":{\"line\":{\"color\":\"#E5ECF6\",\"width\":0.5},\"pattern\":{\"fillmode\":\"overlay\",\"size\":10,\"solidity\":0.2}},\"type\":\"bar\"}],\"scattergeo\":[{\"type\":\"scattergeo\",\"marker\":{\"colorbar\":{\"outlinewidth\":0,\"ticks\":\"\"}}}],\"scatterpolar\":[{\"type\":\"scatterpolar\",\"marker\":{\"colorbar\":{\"outlinewidth\":0,\"ticks\":\"\"}}}],\"histogram\":[{\"marker\":{\"pattern\":{\"fillmode\":\"overlay\",\"size\":10,\"solidity\":0.2}},\"type\":\"histogram\"}],\"scattergl\":[{\"type\":\"scattergl\",\"marker\":{\"colorbar\":{\"outlinewidth\":0,\"ticks\":\"\"}}}],\"scatter3d\":[{\"type\":\"scatter3d\",\"line\":{\"colorbar\":{\"outlinewidth\":0,\"ticks\":\"\"}},\"marker\":{\"colorbar\":{\"outlinewidth\":0,\"ticks\":\"\"}}}],\"scattermapbox\":[{\"type\":\"scattermapbox\",\"marker\":{\"colorbar\":{\"outlinewidth\":0,\"ticks\":\"\"}}}],\"scatterternary\":[{\"type\":\"scatterternary\",\"marker\":{\"colorbar\":{\"outlinewidth\":0,\"ticks\":\"\"}}}],\"scattercarpet\":[{\"type\":\"scattercarpet\",\"marker\":{\"colorbar\":{\"outlinewidth\":0,\"ticks\":\"\"}}}],\"carpet\":[{\"aaxis\":{\"endlinecolor\":\"#2a3f5f\",\"gridcolor\":\"white\",\"linecolor\":\"white\",\"minorgridcolor\":\"white\",\"startlinecolor\":\"#2a3f5f\"},\"baxis\":{\"endlinecolor\":\"#2a3f5f\",\"gridcolor\":\"white\",\"linecolor\":\"white\",\"minorgridcolor\":\"white\",\"startlinecolor\":\"#2a3f5f\"},\"type\":\"carpet\"}],\"table\":[{\"cells\":{\"fill\":{\"color\":\"#EBF0F8\"},\"line\":{\"color\":\"white\"}},\"header\":{\"fill\":{\"color\":\"#C8D4E3\"},\"line\":{\"color\":\"white\"}},\"type\":\"table\"}],\"barpolar\":[{\"marker\":{\"line\":{\"color\":\"#E5ECF6\",\"width\":0.5},\"pattern\":{\"fillmode\":\"overlay\",\"size\":10,\"solidity\":0.2}},\"type\":\"barpolar\"}],\"pie\":[{\"automargin\":true,\"type\":\"pie\"}]},\"layout\":{\"autotypenumbers\":\"strict\",\"colorway\":[\"#636efa\",\"#EF553B\",\"#00cc96\",\"#ab63fa\",\"#FFA15A\",\"#19d3f3\",\"#FF6692\",\"#B6E880\",\"#FF97FF\",\"#FECB52\"],\"font\":{\"color\":\"#2a3f5f\"},\"hovermode\":\"closest\",\"hoverlabel\":{\"align\":\"left\"},\"paper_bgcolor\":\"white\",\"plot_bgcolor\":\"#E5ECF6\",\"polar\":{\"bgcolor\":\"#E5ECF6\",\"angularaxis\":{\"gridcolor\":\"white\",\"linecolor\":\"white\",\"ticks\":\"\"},\"radialaxis\":{\"gridcolor\":\"white\",\"linecolor\":\"white\",\"ticks\":\"\"}},\"ternary\":{\"bgcolor\":\"#E5ECF6\",\"aaxis\":{\"gridcolor\":\"white\",\"linecolor\":\"white\",\"ticks\":\"\"},\"baxis\":{\"gridcolor\":\"white\",\"linecolor\":\"white\",\"ticks\":\"\"},\"caxis\":{\"gridcolor\":\"white\",\"linecolor\":\"white\",\"ticks\":\"\"}},\"coloraxis\":{\"colorbar\":{\"outlinewidth\":0,\"ticks\":\"\"}},\"colorscale\":{\"sequential\":[[0.0,\"#0d0887\"],[0.1111111111111111,\"#46039f\"],[0.2222222222222222,\"#7201a8\"],[0.3333333333333333,\"#9c179e\"],[0.4444444444444444,\"#bd3786\"],[0.5555555555555556,\"#d8576b\"],[0.6666666666666666,\"#ed7953\"],[0.7777777777777778,\"#fb9f3a\"],[0.8888888888888888,\"#fdca26\"],[1.0,\"#f0f921\"]],\"sequentialminus\":[[0.0,\"#0d0887\"],[0.1111111111111111,\"#46039f\"],[0.2222222222222222,\"#7201a8\"],[0.3333333333333333,\"#9c179e\"],[0.4444444444444444,\"#bd3786\"],[0.5555555555555556,\"#d8576b\"],[0.6666666666666666,\"#ed7953\"],[0.7777777777777778,\"#fb9f3a\"],[0.8888888888888888,\"#fdca26\"],[1.0,\"#f0f921\"]],\"diverging\":[[0,\"#8e0152\"],[0.1,\"#c51b7d\"],[0.2,\"#de77ae\"],[0.3,\"#f1b6da\"],[0.4,\"#fde0ef\"],[0.5,\"#f7f7f7\"],[0.6,\"#e6f5d0\"],[0.7,\"#b8e186\"],[0.8,\"#7fbc41\"],[0.9,\"#4d9221\"],[1,\"#276419\"]]},\"xaxis\":{\"gridcolor\":\"white\",\"linecolor\":\"white\",\"ticks\":\"\",\"title\":{\"standoff\":15},\"zerolinecolor\":\"white\",\"automargin\":true,\"zerolinewidth\":2},\"yaxis\":{\"gridcolor\":\"white\",\"linecolor\":\"white\",\"ticks\":\"\",\"title\":{\"standoff\":15},\"zerolinecolor\":\"white\",\"automargin\":true,\"zerolinewidth\":2},\"scene\":{\"xaxis\":{\"backgroundcolor\":\"#E5ECF6\",\"gridcolor\":\"white\",\"linecolor\":\"white\",\"showbackground\":true,\"ticks\":\"\",\"zerolinecolor\":\"white\",\"gridwidth\":2},\"yaxis\":{\"backgroundcolor\":\"#E5ECF6\",\"gridcolor\":\"white\",\"linecolor\":\"white\",\"showbackground\":true,\"ticks\":\"\",\"zerolinecolor\":\"white\",\"gridwidth\":2},\"zaxis\":{\"backgroundcolor\":\"#E5ECF6\",\"gridcolor\":\"white\",\"linecolor\":\"white\",\"showbackground\":true,\"ticks\":\"\",\"zerolinecolor\":\"white\",\"gridwidth\":2}},\"shapedefaults\":{\"line\":{\"color\":\"#2a3f5f\"}},\"annotationdefaults\":{\"arrowcolor\":\"#2a3f5f\",\"arrowhead\":0,\"arrowwidth\":1},\"geo\":{\"bgcolor\":\"white\",\"landcolor\":\"#E5ECF6\",\"subunitcolor\":\"white\",\"showland\":true,\"showlakes\":true,\"lakecolor\":\"white\"},\"title\":{\"x\":0.05},\"mapbox\":{\"style\":\"light\"}}},\"xaxis\":{\"anchor\":\"y\",\"domain\":[0.0,1.0],\"title\":{\"text\":\"Age\"},\"showline\":true,\"showgrid\":false,\"linecolor\":\"black\"},\"yaxis\":{\"anchor\":\"x\",\"domain\":[0.0,1.0],\"title\":{\"text\":\"Maximum Heart Rate\"},\"showline\":true,\"showgrid\":false,\"linecolor\":\"black\"},\"legend\":{\"tracegroupgap\":0},\"margin\":{\"t\":60},\"title\":{\"font\":{\"size\":16},\"text\":\"Scatter Plot M-Z\",\"y\":0.9,\"x\":0.5,\"xanchor\":\"center\",\"yanchor\":\"top\"},\"plot_bgcolor\":\"rgba(255,255,255,1)\",\"width\":575,\"height\":400},                        {\"responsive\": true}                    ).then(function(){\n",
              "                            \n",
              "var gd = document.getElementById('233554a3-05a7-4207-8d42-96a69f974293');\n",
              "var x = new MutationObserver(function (mutations, observer) {{\n",
              "        var display = window.getComputedStyle(gd).display;\n",
              "        if (!display || display === 'none') {{\n",
              "            console.log([gd, 'removed!']);\n",
              "            Plotly.purge(gd);\n",
              "            observer.disconnect();\n",
              "        }}\n",
              "}});\n",
              "\n",
              "// Listen for the removal of the full notebook cells\n",
              "var notebookContainer = gd.closest('#notebook-container');\n",
              "if (notebookContainer) {{\n",
              "    x.observe(notebookContainer, {childList: true});\n",
              "}}\n",
              "\n",
              "// Listen for the clearing of the current output cell\n",
              "var outputEl = gd.closest('.output');\n",
              "if (outputEl) {{\n",
              "    x.observe(outputEl, {childList: true});\n",
              "}}\n",
              "\n",
              "                        })                };                            </script>        </div>\n",
              "</body>\n",
              "</html>"
            ]
          },
          "metadata": {}
        }
      ],
      "source": [
        "# Create a scatter plot using Plotly Express\n",
        "\n",
        "# Scatter plot for A-L\n",
        "# STUDENTS: replace ... as stated\n",
        "scatter_plot_AL = px.scatter(df,\n",
        "                 # Replace ... with the explanatory variable name\n",
        "                 x='chol',\n",
        "                 # Replace ... with the response variable name\n",
        "                 y='trestbps',\n",
        "                         # Replace ... with a better x-axis label\n",
        "                 labels={'chol': 'Serum Cholesterol',\n",
        "                         # Replace ... with a better y-axis label\n",
        "                         'trestbps': 'Resting Blood Pressure'})\n",
        "\n",
        "# Updating layout\n",
        "# STUDENTS: Do not change anything in this block of code.\n",
        "scatter_plot_AL.update_layout(\n",
        "    plot_bgcolor='rgba(255,255,255,1)',        # Sets the background color of the plot area to white with full opacity.\n",
        "    xaxis=dict(\n",
        "        showline=True,                         # Displays a line on the x-axis.\n",
        "        showgrid=False,                        # Hides the grid lines on the x-axis.\n",
        "        linecolor='black'                      # Sets the color of the x-axis line to black.\n",
        "    ),\n",
        "    yaxis=dict(\n",
        "        showline=True,                         # Displays a line on the y-axis.\n",
        "        showgrid=False,                        # Hides the grid lines on the y-axis.\n",
        "        linecolor='black'                      # Sets the color of the y-axis line to black.\n",
        "    ),\n",
        "    title={\n",
        "        'text': 'Scatter Plot A-L',   # Sets the title text.\n",
        "        'y': 0.9,                              # Positions the title 90% of the way up the plot.\n",
        "        'x': 0.5,                              # Centers the title horizontally.\n",
        "        'xanchor': 'center',                   # Anchors the title at its center on the x-axis.\n",
        "        'yanchor': 'top',                      # Anchors the title at the top on the y-axis.\n",
        "        'font': dict(\n",
        "            size=16                            # Sets the title font size to 16 (smaller than default).\n",
        "        ),\n",
        "    },\n",
        "    width=575,                                 # Sets the width of the plot.\n",
        "    height=400                                 # Sets the height of the plot for portrait mode.\n",
        ")\n",
        "\n",
        "# Show the plot:\n",
        "scatter_plot_AL.show()\n",
        "\n",
        "# Scatter plot for M-Z\n",
        "# Create a scatter plot using Plotly Express\n",
        "scatter_plot_MZ = px.scatter(df,\n",
        "                 x='age', #explanatory variable name\n",
        "                 y='thalach', #response variable name\n",
        "                 labels={'age': 'Age', #updates axis labels\n",
        "                         'thalach': 'Maximum Heart Rate'})\n",
        "\n",
        "# Updating layout\n",
        "scatter_plot_MZ.update_layout(\n",
        "    plot_bgcolor='rgba(255,255,255,1)',        # Sets the background color of the plot area to white with full opacity.\n",
        "    xaxis=dict(\n",
        "        showline=True,                         # Displays a line on the x-axis.\n",
        "        showgrid=False,                        # Hides the grid lines on the x-axis.\n",
        "        linecolor='black'                      # Sets the color of the x-axis line to black.\n",
        "    ),\n",
        "    yaxis=dict(\n",
        "        showline=True,                         # Displays a line on the y-axis.\n",
        "        showgrid=False,                        # Hides the grid lines on the y-axis.\n",
        "        linecolor='black'                      # Sets the color of the y-axis line to black.\n",
        "    ),\n",
        "    title={\n",
        "        'text': 'Scatter Plot M-Z',   # Sets the title text.\n",
        "        'y': 0.9,                              # Positions the title 90% of the way up the plot.\n",
        "        'x': 0.5,                              # Centers the title horizontally.\n",
        "        'xanchor': 'center',                   # Anchors the title at its center on the x-axis.\n",
        "        'yanchor': 'top',                      # Anchors the title at the top on the y-axis.\n",
        "        'font': dict(\n",
        "            size=16                            # Sets the title font size to 16 (smaller than default).\n",
        "        ),\n",
        "    },\n",
        "    width=575,                                 # Sets the width of the plot.\n",
        "    height=400                                 # Sets the height of the plot for portrait mode.\n",
        ")\n",
        "\n",
        "# Show the plot:\n",
        "scatter_plot_MZ.show()"
      ]
    },
    {
      "cell_type": "markdown",
      "source": [
        "**1.2)** Describe the relationship between the two variables and include context, and identify the direction, strength, and form. Since you don't yet know the value of correlation (r), estimate what you think the strength is (weak/moderate/strong).\n",
        "\n",
        "\n"
      ],
      "metadata": {
        "id": "J6CcvV0H4iZC"
      }
    },
    {
      "cell_type": "markdown",
      "source": [
        "**A-L:** There is a weak positive linear relationship between the resting blood pressure and cholesterol.\n",
        "\n",
        "**M-Z:** There is a weak negative linear relationship between the max heart rate and age."
      ],
      "metadata": {
        "id": "iL6Q54_l7uVC"
      }
    },
    {
      "cell_type": "markdown",
      "source": [
        "**1.3)** Is this what you expected?\n"
      ],
      "metadata": {
        "id": "dYiqZ-N76ytU"
      }
    },
    {
      "cell_type": "markdown",
      "source": [
        "# ..."
      ],
      "metadata": {
        "id": "Umgm-Xgt64ZK"
      }
    },
    {
      "cell_type": "markdown",
      "source": [
        "# **QUESTION 2**\n",
        "\n",
        "## Correlation Coefficient\n",
        "\n",
        "**2.1)** Calculate the value of the correlation coefficient."
      ],
      "metadata": {
        "id": "Hjz7Oc8N0acy"
      }
    },
    {
      "cell_type": "code",
      "source": [
        "# Calculate the correlation coefficient\n",
        "\n",
        "# STUDENTS: Replace ... as stated\n",
        "# Replace the 1st ... with the response variable name.\n",
        "# Replace the 2nd ... with the explanatory variable name\n",
        "correlation_AL = df['trestbps'].corr(df['chol'])\n",
        "correlation_MZ = df['thalach'].corr(df['age'])\n",
        "\n",
        "# Print the correlation coefficient\n",
        "print(f\"A-L: Correlation coefficient between chol and resting blood pressure is: r = {correlation_AL}\")\n",
        "print(f\"\\nM-Z: Correlation coefficient between age and max heart rate is : r = {correlation_MZ}\")\n"
      ],
      "metadata": {
        "id": "P4qIa7po3Sms",
        "colab": {
          "base_uri": "https://localhost:8080/"
        },
        "outputId": "a77b90bd-b72f-431b-d38b-9b92d45117d4"
      },
      "execution_count": null,
      "outputs": [
        {
          "output_type": "stream",
          "name": "stdout",
          "text": [
            "A-L: Correlation coefficient between chol and resting blood pressure is: r = 0.12317420653239075\n",
            "\n",
            "M-Z: Correlation coefficient between age and max heart rate is : r = -0.39852193812106734\n"
          ]
        }
      ]
    },
    {
      "cell_type": "markdown",
      "source": [
        "**2.2)** Interpret the correlation coefficient.\n"
      ],
      "metadata": {
        "id": "G94sREeexV_s"
      }
    },
    {
      "cell_type": "markdown",
      "source": [
        "\n",
        "**A-L:** There is a weak positive linear relationship between the resting blood pressure and cholesterol.\n",
        "\n",
        "**M-Z:** There is a weak negative linear relationship between the max heart rate and age."
      ],
      "metadata": {
        "id": "BqKprIuK9OAd"
      }
    },
    {
      "cell_type": "markdown",
      "source": [
        "**2.3)** Now that you know the value of correlation, r, did the strength match what you wrote in 1.2?"
      ],
      "metadata": {
        "id": "p-HHBh935uGw"
      }
    },
    {
      "cell_type": "markdown",
      "source": [
        "# ..."
      ],
      "metadata": {
        "id": "_VY68TuH596l"
      }
    },
    {
      "cell_type": "markdown",
      "source": [
        "# **Question 3**\n",
        "\n",
        "## Least Squares Regression\n",
        "\n",
        "**3.1)** Calculate the linear model and add the regression line to the scatterplot."
      ],
      "metadata": {
        "id": "BdkQcF691E74"
      }
    },
    {
      "cell_type": "code",
      "execution_count": null,
      "metadata": {
        "id": "5Cejhxq9JZlN",
        "outputId": "981e7ee3-ade3-4f15-de38-3f6a095ba852",
        "colab": {
          "base_uri": "https://localhost:8080/",
          "height": 817
        }
      },
      "outputs": [
        {
          "output_type": "display_data",
          "data": {
            "text/html": [
              "<html>\n",
              "<head><meta charset=\"utf-8\" /></head>\n",
              "<body>\n",
              "    <div>            <script src=\"https://cdnjs.cloudflare.com/ajax/libs/mathjax/2.7.5/MathJax.js?config=TeX-AMS-MML_SVG\"></script><script type=\"text/javascript\">if (window.MathJax && window.MathJax.Hub && window.MathJax.Hub.Config) {window.MathJax.Hub.Config({SVG: {font: \"STIX-Web\"}});}</script>                <script type=\"text/javascript\">window.PlotlyConfig = {MathJaxConfig: 'local'};</script>\n",
              "        <script charset=\"utf-8\" src=\"https://cdn.plot.ly/plotly-2.35.2.min.js\"></script>                <div id=\"f82de9f7-5574-40a2-9284-a0cabe7f14bb\" class=\"plotly-graph-div\" style=\"height:400px; width:600px;\"></div>            <script type=\"text/javascript\">                                    window.PLOTLYENV=window.PLOTLYENV || {};                                    if (document.getElementById(\"f82de9f7-5574-40a2-9284-a0cabe7f14bb\")) {                    Plotly.newPlot(                        \"f82de9f7-5574-40a2-9284-a0cabe7f14bb\",                        [{\"hovertemplate\":\"Serum Cholesterol=%{x}\\u003cbr\\u003eResting Blood Pressure=%{y}\\u003cextra\\u003e\\u003c\\u002fextra\\u003e\",\"legendgroup\":\"\",\"marker\":{\"color\":\"#636efa\",\"symbol\":\"circle\"},\"mode\":\"markers\",\"name\":\"\",\"orientation\":\"v\",\"showlegend\":false,\"x\":[233,250,204,236,354,192,294,263,199,168,239,275,266,211,283,219,340,226,247,239,234,233,226,243,199,302,212,175,417,197,198,177,219,273,213,177,304,232,269,360,308,245,208,264,321,325,235,257,216,234,256,302,231,141,252,201,222,260,182,303,265,309,186,203,211,183,222,234,220,209,258,227,204,261,213,250,245,221,205,240,250,308,318,298,265,564,277,197,214,248,255,207,223,288,160,226,394,233,315,246,244,270,195,240,196,211,234,236,244,254,325,126,313,211,262,215,214,193,204,243,303,271,268,267,199,210,204,277,196,269,201,271,295,235,306,269,178,208,201,263,295,303,209,223,197,245,242,240,226,180,228,149,227,278,220,197,253,192,220,221,240,342,157,175,175,286,229,268,254,203,256,229,284,224,206,167,230,335,177,276,353,225,330,230,243,290,253,266,233,172,305,216,188,282,185,326,231,254,267,248,197,258,270,274,164,255,239,258,188,177,229,260,219,307,249,341,263,330,254,256,407,217,282,288,239,174,281,198,288,309,243,289,289,246,322,299,300,293,304,282,269,249,212,274,184,274,409,246,283,254,298,247,294,299,273,309,259,200,244,231,228,230,282,269,206,212,327,149,286,283,249,234,237,234,275,212,218,261,319,166,315,204,218,223,207,311,204,232,335,205,203,318,225,212,169,187,197,176,241,264,193,131,236],\"xaxis\":\"x\",\"y\":[145,130,130,120,120,140,140,120,172,150,140,130,130,110,150,120,120,150,150,140,135,130,140,150,140,160,150,110,140,130,105,120,130,125,125,142,135,150,155,160,140,130,104,130,140,120,140,138,128,138,130,120,130,108,135,134,122,115,118,128,110,108,118,135,140,138,100,130,120,124,120,94,130,140,122,135,125,140,128,105,112,128,102,152,102,115,118,101,110,100,124,132,138,132,112,142,140,108,130,130,148,178,140,120,129,120,160,138,120,110,180,150,140,110,130,120,130,120,105,138,130,138,112,108,94,118,112,152,136,120,160,134,120,110,126,130,120,128,110,128,120,115,120,106,140,156,118,150,120,130,160,112,170,146,138,130,130,122,125,130,120,132,120,138,138,160,120,140,130,140,130,110,120,132,130,110,117,140,120,150,132,150,130,112,150,112,130,124,140,110,130,128,120,145,140,170,150,125,120,110,110,125,150,180,160,128,110,150,120,140,128,120,118,145,125,132,130,130,135,130,150,140,138,200,110,145,120,120,170,125,108,165,160,120,130,140,125,140,125,126,160,174,145,152,132,124,134,160,192,140,140,132,138,100,160,142,128,144,150,120,178,112,123,108,110,112,180,118,122,130,120,134,120,100,110,125,146,124,136,138,136,128,126,152,140,140,134,154,110,128,148,114,170,152,120,140,124,164,140,110,144,130,130],\"yaxis\":\"y\",\"type\":\"scatter\"},{\"mode\":\"lines\",\"name\":\"Regression Line\",\"x\":[233,250,204,236,354,192,294,263,199,168,239,275,266,211,283,219,340,226,247,239,234,233,226,243,199,302,212,175,417,197,198,177,219,273,213,177,304,232,269,360,308,245,208,264,321,325,235,257,216,234,256,302,231,141,252,201,222,260,182,303,265,309,186,203,211,183,222,234,220,209,258,227,204,261,213,250,245,221,205,240,250,308,318,298,265,564,277,197,214,248,255,207,223,288,160,226,394,233,315,246,244,270,195,240,196,211,234,236,244,254,325,126,313,211,262,215,214,193,204,243,303,271,268,267,199,210,204,277,196,269,201,271,295,235,306,269,178,208,201,263,295,303,209,223,197,245,242,240,226,180,228,149,227,278,220,197,253,192,220,221,240,342,157,175,175,286,229,268,254,203,256,229,284,224,206,167,230,335,177,276,353,225,330,230,243,290,253,266,233,172,305,216,188,282,185,326,231,254,267,248,197,258,270,274,164,255,239,258,188,177,229,260,219,307,249,341,263,330,254,256,407,217,282,288,239,174,281,198,288,309,243,289,289,246,322,299,300,293,304,282,269,249,212,274,184,274,409,246,283,254,298,247,294,299,273,309,259,200,244,231,228,230,282,269,206,212,327,149,286,283,249,234,237,234,275,212,218,261,319,166,315,204,218,223,207,311,204,232,335,205,203,318,225,212,169,187,197,176,241,264,193,131,236],\"y\":[131.07093282277225,131.77947351197363,129.8622457647228,131.19596941498426,136.1140753753234,129.36209939587474,133.61334353108316,132.32129874489237,129.65385144436942,128.36180665817864,131.32100600719627,132.82144511374042,132.4463353371044,130.15399781321747,133.15487602630577,130.48742872578285,135.530571278334,130.77918077427753,131.65443691976162,131.32100600719627,131.1126116868429,131.07093282277225,130.77918077427753,131.48772146347895,129.65385144436942,133.94677444364854,130.19567667728816,128.65355870667335,138.73984381177567,129.5704937162281,129.61217258029876,128.73691643481467,130.48742872578285,132.73808738559907,130.23735554135882,128.73691643481467,134.03013217178986,131.02925395870156,132.5713719293164,136.36414855974743,134.19684762807256,131.5710791916203,130.02896122100546,132.36297760896304,134.73867286099127,134.90538831727395,131.15429055091357,132.07122556046835,130.36239213357084,131.1126116868429,132.02954669639766,133.94677444364854,130.9875750946309,127.23647732827052,131.86283124011499,129.73720917251077,130.61246531799486,132.19626215268036,128.94531075516804,133.9884533077192,132.4046564730337,134.23852649214322,129.1120262114507,129.82056690065212,130.15399781321747,128.9869896192387,130.61246531799486,131.1126116868429,130.5291075898535,130.07064008507615,132.112904424539,130.82085963834822,129.8622457647228,132.23794101675102,130.23735554135882,131.77947351197363,131.5710791916203,130.5707864539242,129.90392462879345,131.36268487126694,131.77947351197363,134.19684762807256,134.61363626877926,133.78005898736583,132.4046564730337,144.86663683016428,132.90480284188175,129.5704937162281,130.27903440542948,131.6961157838323,131.987867832327,129.9872823569348,130.65414418206552,133.36327034665914,128.0283757456133,130.77918077427753,137.78122993815023,131.07093282277225,134.48859967656725,131.61275805569096,131.5294003275496,132.61305079338706,129.48713598808675,131.36268487126694,129.52881485215744,130.15399781321747,131.1126116868429,131.19596941498426,131.5294003275496,131.94618896825634,134.90538831727395,126.61129436721048,134.4052419484259,130.15399781321747,132.27961988082168,130.32071326950017,130.27903440542948,129.4037782599454,129.8622457647228,131.48772146347895,133.9884533077192,132.65472965745772,132.5296930652457,132.48801420117505,129.65385144436942,130.1123189491468,129.8622457647228,132.90480284188175,129.52881485215744,132.5713719293164,129.73720917251077,132.65472965745772,133.65502239515382,131.15429055091357,134.1134898999312,132.5713719293164,128.77859529888536,130.02896122100546,129.73720917251077,132.32129874489237,133.65502239515382,133.9884533077192,130.07064008507615,130.65414418206552,129.5704937162281,131.5710791916203,131.4460425994083,131.36268487126694,130.77918077427753,128.8619530270267,130.8625385024189,127.5699082408359,130.82085963834822,132.94648170595244,130.5291075898535,129.5704937162281,131.90451010418565,129.36209939587474,130.5291075898535,130.5707864539242,131.36268487126694,135.61392900647536,127.90333915340126,128.65355870667335,128.65355870667335,133.27991261851778,130.90421736648955,132.5296930652457,131.94618896825634,129.82056690065212,132.02954669639766,130.90421736648955,133.19655489037646,130.6958230461362,129.94560349286414,128.32012779410798,130.94589623056024,135.32217695798067,128.73691643481467,132.86312397781109,136.07239651125275,130.73750191020687,135.1137826376273,130.94589623056024,131.48772146347895,133.4466280748005,131.90451010418565,132.4463353371044,131.07093282277225,128.52852211446134,134.07181103586055,130.36239213357084,129.19538393959206,133.1131971622351,129.07034734738005,134.94706718134464,130.9875750946309,131.94618896825634,132.48801420117505,131.6961157838323,129.5704937162281,132.112904424539,132.61305079338706,132.77976624966973,128.19509120189596,131.987867832327,131.32100600719627,132.112904424539,129.19538393959206,128.73691643481467,130.90421736648955,132.19626215268036,130.48742872578285,134.15516876400187,131.73779464790297,135.5722501424047,132.32129874489237,135.1137826376273,131.94618896825634,132.02954669639766,138.32305517106897,130.4040709976415,133.1131971622351,133.36327034665914,131.32100600719627,128.61187984260266,133.07151829816445,129.61217258029876,133.36327034665914,134.23852649214322,131.48772146347895,133.4049492107298,133.4049492107298,131.61275805569096,134.78035172506193,133.82173785143652,133.86341671550719,133.5716646670125,134.03013217178986,133.1131971622351,132.5713719293164,131.73779464790297,130.19567667728816,132.77976624966973,129.0286684833094,132.77976624966973,138.4064128992103,131.61275805569096,133.15487602630577,131.94618896825634,133.78005898736583,131.65443691976162,133.61334353108316,133.82173785143652,132.73808738559907,134.23852649214322,132.15458328860967,129.6955303084401,131.5294003275496,130.9875750946309,130.8625385024189,130.94589623056024,133.1131971622351,132.5713719293164,129.94560349286414,130.19567667728816,134.9887460454153,127.5699082408359,133.27991261851778,133.15487602630577,131.73779464790297,131.1126116868429,131.23764827905492,131.1126116868429,132.82144511374042,130.19567667728816,130.4457498617122,132.23794101675102,134.65531513284992,128.2784489300373,134.48859967656725,129.8622457647228,130.4457498617122,130.65414418206552,129.9872823569348,134.32188422028457,129.8622457647228,131.02925395870156,135.32217695798067,129.90392462879345,129.82056690065212,134.61363626877926,130.73750191020687,130.19567667728816,128.40348552224933,129.15370507552137,129.5704937162281,128.695237570744,131.4043637353376,132.36297760896304,129.4037782599454,126.81968868756383,131.19596941498426],\"type\":\"scatter\"}],                        {\"template\":{\"data\":{\"histogram2dcontour\":[{\"type\":\"histogram2dcontour\",\"colorbar\":{\"outlinewidth\":0,\"ticks\":\"\"},\"colorscale\":[[0.0,\"#0d0887\"],[0.1111111111111111,\"#46039f\"],[0.2222222222222222,\"#7201a8\"],[0.3333333333333333,\"#9c179e\"],[0.4444444444444444,\"#bd3786\"],[0.5555555555555556,\"#d8576b\"],[0.6666666666666666,\"#ed7953\"],[0.7777777777777778,\"#fb9f3a\"],[0.8888888888888888,\"#fdca26\"],[1.0,\"#f0f921\"]]}],\"choropleth\":[{\"type\":\"choropleth\",\"colorbar\":{\"outlinewidth\":0,\"ticks\":\"\"}}],\"histogram2d\":[{\"type\":\"histogram2d\",\"colorbar\":{\"outlinewidth\":0,\"ticks\":\"\"},\"colorscale\":[[0.0,\"#0d0887\"],[0.1111111111111111,\"#46039f\"],[0.2222222222222222,\"#7201a8\"],[0.3333333333333333,\"#9c179e\"],[0.4444444444444444,\"#bd3786\"],[0.5555555555555556,\"#d8576b\"],[0.6666666666666666,\"#ed7953\"],[0.7777777777777778,\"#fb9f3a\"],[0.8888888888888888,\"#fdca26\"],[1.0,\"#f0f921\"]]}],\"heatmap\":[{\"type\":\"heatmap\",\"colorbar\":{\"outlinewidth\":0,\"ticks\":\"\"},\"colorscale\":[[0.0,\"#0d0887\"],[0.1111111111111111,\"#46039f\"],[0.2222222222222222,\"#7201a8\"],[0.3333333333333333,\"#9c179e\"],[0.4444444444444444,\"#bd3786\"],[0.5555555555555556,\"#d8576b\"],[0.6666666666666666,\"#ed7953\"],[0.7777777777777778,\"#fb9f3a\"],[0.8888888888888888,\"#fdca26\"],[1.0,\"#f0f921\"]]}],\"heatmapgl\":[{\"type\":\"heatmapgl\",\"colorbar\":{\"outlinewidth\":0,\"ticks\":\"\"},\"colorscale\":[[0.0,\"#0d0887\"],[0.1111111111111111,\"#46039f\"],[0.2222222222222222,\"#7201a8\"],[0.3333333333333333,\"#9c179e\"],[0.4444444444444444,\"#bd3786\"],[0.5555555555555556,\"#d8576b\"],[0.6666666666666666,\"#ed7953\"],[0.7777777777777778,\"#fb9f3a\"],[0.8888888888888888,\"#fdca26\"],[1.0,\"#f0f921\"]]}],\"contourcarpet\":[{\"type\":\"contourcarpet\",\"colorbar\":{\"outlinewidth\":0,\"ticks\":\"\"}}],\"contour\":[{\"type\":\"contour\",\"colorbar\":{\"outlinewidth\":0,\"ticks\":\"\"},\"colorscale\":[[0.0,\"#0d0887\"],[0.1111111111111111,\"#46039f\"],[0.2222222222222222,\"#7201a8\"],[0.3333333333333333,\"#9c179e\"],[0.4444444444444444,\"#bd3786\"],[0.5555555555555556,\"#d8576b\"],[0.6666666666666666,\"#ed7953\"],[0.7777777777777778,\"#fb9f3a\"],[0.8888888888888888,\"#fdca26\"],[1.0,\"#f0f921\"]]}],\"surface\":[{\"type\":\"surface\",\"colorbar\":{\"outlinewidth\":0,\"ticks\":\"\"},\"colorscale\":[[0.0,\"#0d0887\"],[0.1111111111111111,\"#46039f\"],[0.2222222222222222,\"#7201a8\"],[0.3333333333333333,\"#9c179e\"],[0.4444444444444444,\"#bd3786\"],[0.5555555555555556,\"#d8576b\"],[0.6666666666666666,\"#ed7953\"],[0.7777777777777778,\"#fb9f3a\"],[0.8888888888888888,\"#fdca26\"],[1.0,\"#f0f921\"]]}],\"mesh3d\":[{\"type\":\"mesh3d\",\"colorbar\":{\"outlinewidth\":0,\"ticks\":\"\"}}],\"scatter\":[{\"fillpattern\":{\"fillmode\":\"overlay\",\"size\":10,\"solidity\":0.2},\"type\":\"scatter\"}],\"parcoords\":[{\"type\":\"parcoords\",\"line\":{\"colorbar\":{\"outlinewidth\":0,\"ticks\":\"\"}}}],\"scatterpolargl\":[{\"type\":\"scatterpolargl\",\"marker\":{\"colorbar\":{\"outlinewidth\":0,\"ticks\":\"\"}}}],\"bar\":[{\"error_x\":{\"color\":\"#2a3f5f\"},\"error_y\":{\"color\":\"#2a3f5f\"},\"marker\":{\"line\":{\"color\":\"#E5ECF6\",\"width\":0.5},\"pattern\":{\"fillmode\":\"overlay\",\"size\":10,\"solidity\":0.2}},\"type\":\"bar\"}],\"scattergeo\":[{\"type\":\"scattergeo\",\"marker\":{\"colorbar\":{\"outlinewidth\":0,\"ticks\":\"\"}}}],\"scatterpolar\":[{\"type\":\"scatterpolar\",\"marker\":{\"colorbar\":{\"outlinewidth\":0,\"ticks\":\"\"}}}],\"histogram\":[{\"marker\":{\"pattern\":{\"fillmode\":\"overlay\",\"size\":10,\"solidity\":0.2}},\"type\":\"histogram\"}],\"scattergl\":[{\"type\":\"scattergl\",\"marker\":{\"colorbar\":{\"outlinewidth\":0,\"ticks\":\"\"}}}],\"scatter3d\":[{\"type\":\"scatter3d\",\"line\":{\"colorbar\":{\"outlinewidth\":0,\"ticks\":\"\"}},\"marker\":{\"colorbar\":{\"outlinewidth\":0,\"ticks\":\"\"}}}],\"scattermapbox\":[{\"type\":\"scattermapbox\",\"marker\":{\"colorbar\":{\"outlinewidth\":0,\"ticks\":\"\"}}}],\"scatterternary\":[{\"type\":\"scatterternary\",\"marker\":{\"colorbar\":{\"outlinewidth\":0,\"ticks\":\"\"}}}],\"scattercarpet\":[{\"type\":\"scattercarpet\",\"marker\":{\"colorbar\":{\"outlinewidth\":0,\"ticks\":\"\"}}}],\"carpet\":[{\"aaxis\":{\"endlinecolor\":\"#2a3f5f\",\"gridcolor\":\"white\",\"linecolor\":\"white\",\"minorgridcolor\":\"white\",\"startlinecolor\":\"#2a3f5f\"},\"baxis\":{\"endlinecolor\":\"#2a3f5f\",\"gridcolor\":\"white\",\"linecolor\":\"white\",\"minorgridcolor\":\"white\",\"startlinecolor\":\"#2a3f5f\"},\"type\":\"carpet\"}],\"table\":[{\"cells\":{\"fill\":{\"color\":\"#EBF0F8\"},\"line\":{\"color\":\"white\"}},\"header\":{\"fill\":{\"color\":\"#C8D4E3\"},\"line\":{\"color\":\"white\"}},\"type\":\"table\"}],\"barpolar\":[{\"marker\":{\"line\":{\"color\":\"#E5ECF6\",\"width\":0.5},\"pattern\":{\"fillmode\":\"overlay\",\"size\":10,\"solidity\":0.2}},\"type\":\"barpolar\"}],\"pie\":[{\"automargin\":true,\"type\":\"pie\"}]},\"layout\":{\"autotypenumbers\":\"strict\",\"colorway\":[\"#636efa\",\"#EF553B\",\"#00cc96\",\"#ab63fa\",\"#FFA15A\",\"#19d3f3\",\"#FF6692\",\"#B6E880\",\"#FF97FF\",\"#FECB52\"],\"font\":{\"color\":\"#2a3f5f\"},\"hovermode\":\"closest\",\"hoverlabel\":{\"align\":\"left\"},\"paper_bgcolor\":\"white\",\"plot_bgcolor\":\"#E5ECF6\",\"polar\":{\"bgcolor\":\"#E5ECF6\",\"angularaxis\":{\"gridcolor\":\"white\",\"linecolor\":\"white\",\"ticks\":\"\"},\"radialaxis\":{\"gridcolor\":\"white\",\"linecolor\":\"white\",\"ticks\":\"\"}},\"ternary\":{\"bgcolor\":\"#E5ECF6\",\"aaxis\":{\"gridcolor\":\"white\",\"linecolor\":\"white\",\"ticks\":\"\"},\"baxis\":{\"gridcolor\":\"white\",\"linecolor\":\"white\",\"ticks\":\"\"},\"caxis\":{\"gridcolor\":\"white\",\"linecolor\":\"white\",\"ticks\":\"\"}},\"coloraxis\":{\"colorbar\":{\"outlinewidth\":0,\"ticks\":\"\"}},\"colorscale\":{\"sequential\":[[0.0,\"#0d0887\"],[0.1111111111111111,\"#46039f\"],[0.2222222222222222,\"#7201a8\"],[0.3333333333333333,\"#9c179e\"],[0.4444444444444444,\"#bd3786\"],[0.5555555555555556,\"#d8576b\"],[0.6666666666666666,\"#ed7953\"],[0.7777777777777778,\"#fb9f3a\"],[0.8888888888888888,\"#fdca26\"],[1.0,\"#f0f921\"]],\"sequentialminus\":[[0.0,\"#0d0887\"],[0.1111111111111111,\"#46039f\"],[0.2222222222222222,\"#7201a8\"],[0.3333333333333333,\"#9c179e\"],[0.4444444444444444,\"#bd3786\"],[0.5555555555555556,\"#d8576b\"],[0.6666666666666666,\"#ed7953\"],[0.7777777777777778,\"#fb9f3a\"],[0.8888888888888888,\"#fdca26\"],[1.0,\"#f0f921\"]],\"diverging\":[[0,\"#8e0152\"],[0.1,\"#c51b7d\"],[0.2,\"#de77ae\"],[0.3,\"#f1b6da\"],[0.4,\"#fde0ef\"],[0.5,\"#f7f7f7\"],[0.6,\"#e6f5d0\"],[0.7,\"#b8e186\"],[0.8,\"#7fbc41\"],[0.9,\"#4d9221\"],[1,\"#276419\"]]},\"xaxis\":{\"gridcolor\":\"white\",\"linecolor\":\"white\",\"ticks\":\"\",\"title\":{\"standoff\":15},\"zerolinecolor\":\"white\",\"automargin\":true,\"zerolinewidth\":2},\"yaxis\":{\"gridcolor\":\"white\",\"linecolor\":\"white\",\"ticks\":\"\",\"title\":{\"standoff\":15},\"zerolinecolor\":\"white\",\"automargin\":true,\"zerolinewidth\":2},\"scene\":{\"xaxis\":{\"backgroundcolor\":\"#E5ECF6\",\"gridcolor\":\"white\",\"linecolor\":\"white\",\"showbackground\":true,\"ticks\":\"\",\"zerolinecolor\":\"white\",\"gridwidth\":2},\"yaxis\":{\"backgroundcolor\":\"#E5ECF6\",\"gridcolor\":\"white\",\"linecolor\":\"white\",\"showbackground\":true,\"ticks\":\"\",\"zerolinecolor\":\"white\",\"gridwidth\":2},\"zaxis\":{\"backgroundcolor\":\"#E5ECF6\",\"gridcolor\":\"white\",\"linecolor\":\"white\",\"showbackground\":true,\"ticks\":\"\",\"zerolinecolor\":\"white\",\"gridwidth\":2}},\"shapedefaults\":{\"line\":{\"color\":\"#2a3f5f\"}},\"annotationdefaults\":{\"arrowcolor\":\"#2a3f5f\",\"arrowhead\":0,\"arrowwidth\":1},\"geo\":{\"bgcolor\":\"white\",\"landcolor\":\"#E5ECF6\",\"subunitcolor\":\"white\",\"showland\":true,\"showlakes\":true,\"lakecolor\":\"white\"},\"title\":{\"x\":0.05},\"mapbox\":{\"style\":\"light\"}}},\"xaxis\":{\"anchor\":\"y\",\"domain\":[0.0,1.0],\"title\":{\"text\":\"Serum Cholesterol\"},\"showline\":true,\"showgrid\":false,\"linecolor\":\"black\"},\"yaxis\":{\"anchor\":\"x\",\"domain\":[0.0,1.0],\"title\":{\"text\":\"Resting Blood Pressure\"},\"showline\":true,\"showgrid\":false,\"linecolor\":\"black\"},\"legend\":{\"tracegroupgap\":0},\"margin\":{\"t\":60},\"title\":{\"font\":{\"size\":16},\"text\":\"Scatter Plot A-L\",\"y\":0.9,\"x\":0.5,\"xanchor\":\"center\",\"yanchor\":\"top\"},\"plot_bgcolor\":\"rgba(255,255,255,1)\",\"width\":600,\"height\":400,\"showlegend\":false},                        {\"responsive\": true}                    ).then(function(){\n",
              "                            \n",
              "var gd = document.getElementById('f82de9f7-5574-40a2-9284-a0cabe7f14bb');\n",
              "var x = new MutationObserver(function (mutations, observer) {{\n",
              "        var display = window.getComputedStyle(gd).display;\n",
              "        if (!display || display === 'none') {{\n",
              "            console.log([gd, 'removed!']);\n",
              "            Plotly.purge(gd);\n",
              "            observer.disconnect();\n",
              "        }}\n",
              "}});\n",
              "\n",
              "// Listen for the removal of the full notebook cells\n",
              "var notebookContainer = gd.closest('#notebook-container');\n",
              "if (notebookContainer) {{\n",
              "    x.observe(notebookContainer, {childList: true});\n",
              "}}\n",
              "\n",
              "// Listen for the clearing of the current output cell\n",
              "var outputEl = gd.closest('.output');\n",
              "if (outputEl) {{\n",
              "    x.observe(outputEl, {childList: true});\n",
              "}}\n",
              "\n",
              "                        })                };                            </script>        </div>\n",
              "</body>\n",
              "</html>"
            ]
          },
          "metadata": {}
        },
        {
          "output_type": "display_data",
          "data": {
            "text/html": [
              "<html>\n",
              "<head><meta charset=\"utf-8\" /></head>\n",
              "<body>\n",
              "    <div>            <script src=\"https://cdnjs.cloudflare.com/ajax/libs/mathjax/2.7.5/MathJax.js?config=TeX-AMS-MML_SVG\"></script><script type=\"text/javascript\">if (window.MathJax && window.MathJax.Hub && window.MathJax.Hub.Config) {window.MathJax.Hub.Config({SVG: {font: \"STIX-Web\"}});}</script>                <script type=\"text/javascript\">window.PlotlyConfig = {MathJaxConfig: 'local'};</script>\n",
              "        <script charset=\"utf-8\" src=\"https://cdn.plot.ly/plotly-2.35.2.min.js\"></script>                <div id=\"afce94fc-fa18-4a28-9804-9366c6eb3b77\" class=\"plotly-graph-div\" style=\"height:400px; width:600px;\"></div>            <script type=\"text/javascript\">                                    window.PLOTLYENV=window.PLOTLYENV || {};                                    if (document.getElementById(\"afce94fc-fa18-4a28-9804-9366c6eb3b77\")) {                    Plotly.newPlot(                        \"afce94fc-fa18-4a28-9804-9366c6eb3b77\",                        [{\"hovertemplate\":\"Age=%{x}\\u003cbr\\u003eMaximum Heart Rate=%{y}\\u003cextra\\u003e\\u003c\\u002fextra\\u003e\",\"legendgroup\":\"\",\"marker\":{\"color\":\"#636efa\",\"symbol\":\"circle\"},\"mode\":\"markers\",\"name\":\"\",\"orientation\":\"v\",\"showlegend\":false,\"x\":[63,37,41,56,57,57,56,44,52,57,54,48,49,64,58,50,58,66,43,69,59,44,42,61,40,71,59,51,65,53,41,65,44,54,51,46,54,54,65,65,51,48,45,53,39,52,44,47,53,53,51,66,62,44,63,52,48,45,34,57,71,54,52,41,58,35,51,45,44,62,54,51,29,51,43,55,51,59,52,58,41,45,60,52,42,67,68,46,54,58,48,57,52,54,45,53,62,52,43,53,42,59,63,42,50,68,69,45,50,50,64,57,64,43,55,37,41,56,46,46,64,59,41,54,39,34,47,67,52,74,54,49,42,41,41,49,60,62,57,64,51,43,42,67,76,70,44,60,44,42,66,71,64,66,39,58,47,35,58,56,56,55,41,38,38,67,67,62,63,53,56,48,58,58,60,40,60,64,43,57,55,65,61,58,50,44,60,54,50,41,51,58,54,60,60,59,46,67,62,65,44,60,58,68,62,52,59,60,49,59,57,61,39,61,56,43,62,63,65,48,63,55,65,56,54,70,62,35,59,64,47,57,55,64,70,51,58,60,77,35,70,59,64,57,56,48,56,66,54,69,51,43,62,67,59,45,58,50,62,38,66,52,53,63,54,66,55,49,54,56,46,61,67,58,47,52,58,57,58,61,42,52,59,40,61,46,59,57,57,55,61,58,58,67,44,63,63,59,57,45,68,57,57],\"xaxis\":\"x\",\"y\":[150,187,172,178,163,148,153,173,162,174,160,139,171,144,162,158,172,114,171,151,161,179,178,137,178,162,157,123,157,152,168,140,188,152,125,160,170,165,148,151,142,180,148,143,182,172,180,156,115,160,149,151,146,175,172,158,186,185,174,159,130,156,190,132,165,182,143,175,170,163,147,154,202,186,165,161,166,164,184,154,179,170,160,178,122,160,151,156,158,122,175,168,169,159,138,111,157,147,162,173,178,145,179,194,163,115,131,152,162,159,154,173,133,161,155,170,168,162,172,152,122,182,172,167,179,192,143,172,169,121,163,162,162,153,163,163,96,140,126,105,157,181,173,142,116,143,149,171,169,150,138,125,155,152,152,131,179,174,144,163,169,166,182,173,173,108,129,160,147,155,142,168,160,173,132,114,160,158,120,112,132,114,169,165,128,153,144,109,163,158,142,131,113,142,155,140,147,163,99,158,177,141,111,150,145,161,142,157,139,162,150,140,140,146,144,136,97,132,127,150,154,111,174,133,126,125,103,130,159,131,152,124,145,96,109,173,171,170,162,156,112,143,132,88,105,166,150,120,195,146,122,143,106,125,125,147,130,126,154,182,165,160,95,169,108,132,117,126,116,103,144,145,71,156,118,168,105,141,152,125,125,156,134,181,138,120,162,164,143,130,161,140,146,150,144,144,136,90,123,132,141,115,174],\"yaxis\":\"y\",\"type\":\"scatter\"},{\"mode\":\"lines\",\"name\":\"Regression Line\",\"x\":[63,37,41,56,57,57,56,44,52,57,54,48,49,64,58,50,58,66,43,69,59,44,42,61,40,71,59,51,65,53,41,65,44,54,51,46,54,54,65,65,51,48,45,53,39,52,44,47,53,53,51,66,62,44,63,52,48,45,34,57,71,54,52,41,58,35,51,45,44,62,54,51,29,51,43,55,51,59,52,58,41,45,60,52,42,67,68,46,54,58,48,57,52,54,45,53,62,52,43,53,42,59,63,42,50,68,69,45,50,50,64,57,64,43,55,37,41,56,46,46,64,59,41,54,39,34,47,67,52,74,54,49,42,41,41,49,60,62,57,64,51,43,42,67,76,70,44,60,44,42,66,71,64,66,39,58,47,35,58,56,56,55,41,38,38,67,67,62,63,53,56,48,58,58,60,40,60,64,43,57,55,65,61,58,50,44,60,54,50,41,51,58,54,60,60,59,46,67,62,65,44,60,58,68,62,52,59,60,49,59,57,61,39,61,56,43,62,63,65,48,63,55,65,56,54,70,62,35,59,64,47,57,55,64,70,51,58,60,77,35,70,59,64,57,56,48,56,66,54,69,51,43,62,67,59,45,58,50,62,38,66,52,53,63,54,66,55,49,54,56,46,61,67,58,47,52,58,57,58,61,42,52,59,40,61,46,59,57,57,55,61,58,58,67,44,63,63,59,57,45,68,57,57],\"y\":[140.9693697474984,167.10136712104884,163.0810598328103,148.00490750191582,146.9998306798562,146.9998306798562,148.00490750191582,160.06582936663142,152.02521479015437,146.9998306798562,150.0150611460351,156.04552207839288,155.04044525633324,139.96429292543877,145.99475385779655,154.0353684342736,145.99475385779655,137.9541392813195,161.07090618869105,134.93890881514062,144.98967703573692,160.06582936663142,162.0759830107507,142.97952339161768,164.08613665486996,132.92875517102135,144.98967703573692,153.030291612214,138.95921610337913,151.02013796809473,163.0810598328103,138.95921610337913,160.06582936663142,150.0150611460351,153.030291612214,158.05567572251215,150.0150611460351,150.0150611460351,138.95921610337913,138.95921610337913,153.030291612214,156.04552207839288,159.06075254457178,151.02013796809473,165.09121347692957,152.02521479015437,160.06582936663142,157.0505989004525,151.02013796809473,151.02013796809473,153.030291612214,137.9541392813195,141.97444656955804,160.06582936663142,140.9693697474984,152.02521479015437,156.04552207839288,159.06075254457178,170.11659758722774,146.9998306798562,132.92875517102135,150.0150611460351,152.02521479015437,163.0810598328103,145.99475385779655,169.1115207651681,153.030291612214,159.06075254457178,160.06582936663142,141.97444656955804,150.0150611460351,153.030291612214,175.1419816975259,153.030291612214,161.07090618869105,149.00998432397546,153.030291612214,144.98967703573692,152.02521479015437,145.99475385779655,163.0810598328103,159.06075254457178,143.9846002136773,152.02521479015437,162.0759830107507,136.9490624592599,135.94398563720023,158.05567572251215,150.0150611460351,145.99475385779655,156.04552207839288,146.9998306798562,152.02521479015437,150.0150611460351,159.06075254457178,151.02013796809473,141.97444656955804,152.02521479015437,161.07090618869105,151.02013796809473,162.0759830107507,144.98967703573692,140.9693697474984,162.0759830107507,154.0353684342736,135.94398563720023,134.93890881514062,159.06075254457178,154.0353684342736,154.0353684342736,139.96429292543877,146.9998306798562,139.96429292543877,161.07090618869105,149.00998432397546,167.10136712104884,163.0810598328103,148.00490750191582,158.05567572251215,158.05567572251215,139.96429292543877,144.98967703573692,163.0810598328103,150.0150611460351,165.09121347692957,170.11659758722774,157.0505989004525,136.9490624592599,152.02521479015437,129.91352470484244,150.0150611460351,155.04044525633324,162.0759830107507,163.0810598328103,163.0810598328103,155.04044525633324,143.9846002136773,141.97444656955804,146.9998306798562,139.96429292543877,153.030291612214,161.07090618869105,162.0759830107507,136.9490624592599,127.90337106072319,133.93383199308096,160.06582936663142,143.9846002136773,160.06582936663142,162.0759830107507,137.9541392813195,132.92875517102135,139.96429292543877,137.9541392813195,165.09121347692957,145.99475385779655,157.0505989004525,169.1115207651681,145.99475385779655,148.00490750191582,148.00490750191582,149.00998432397546,163.0810598328103,166.0962902989892,166.0962902989892,136.9490624592599,136.9490624592599,141.97444656955804,140.9693697474984,151.02013796809473,148.00490750191582,156.04552207839288,145.99475385779655,145.99475385779655,143.9846002136773,164.08613665486996,143.9846002136773,139.96429292543877,161.07090618869105,146.9998306798562,149.00998432397546,138.95921610337913,142.97952339161768,145.99475385779655,154.0353684342736,160.06582936663142,143.9846002136773,150.0150611460351,154.0353684342736,163.0810598328103,153.030291612214,145.99475385779655,150.0150611460351,143.9846002136773,143.9846002136773,144.98967703573692,158.05567572251215,136.9490624592599,141.97444656955804,138.95921610337913,160.06582936663142,143.9846002136773,145.99475385779655,135.94398563720023,141.97444656955804,152.02521479015437,144.98967703573692,143.9846002136773,155.04044525633324,144.98967703573692,146.9998306798562,142.97952339161768,165.09121347692957,142.97952339161768,148.00490750191582,161.07090618869105,141.97444656955804,140.9693697474984,138.95921610337913,156.04552207839288,140.9693697474984,149.00998432397546,138.95921610337913,148.00490750191582,150.0150611460351,133.93383199308096,141.97444656955804,169.1115207651681,144.98967703573692,139.96429292543877,157.0505989004525,146.9998306798562,149.00998432397546,139.96429292543877,133.93383199308096,153.030291612214,145.99475385779655,143.9846002136773,126.89829423866355,169.1115207651681,133.93383199308096,144.98967703573692,139.96429292543877,146.9998306798562,148.00490750191582,156.04552207839288,148.00490750191582,137.9541392813195,150.0150611460351,134.93890881514062,153.030291612214,161.07090618869105,141.97444656955804,136.9490624592599,144.98967703573692,159.06075254457178,145.99475385779655,154.0353684342736,141.97444656955804,166.0962902989892,137.9541392813195,152.02521479015437,151.02013796809473,140.9693697474984,150.0150611460351,137.9541392813195,149.00998432397546,155.04044525633324,150.0150611460351,148.00490750191582,158.05567572251215,142.97952339161768,136.9490624592599,145.99475385779655,157.0505989004525,152.02521479015437,145.99475385779655,146.9998306798562,145.99475385779655,142.97952339161768,162.0759830107507,152.02521479015437,144.98967703573692,164.08613665486996,142.97952339161768,158.05567572251215,144.98967703573692,146.9998306798562,146.9998306798562,149.00998432397546,142.97952339161768,145.99475385779655,145.99475385779655,136.9490624592599,160.06582936663142,140.9693697474984,140.9693697474984,144.98967703573692,146.9998306798562,159.06075254457178,135.94398563720023,146.9998306798562,146.9998306798562],\"type\":\"scatter\"}],                        {\"template\":{\"data\":{\"histogram2dcontour\":[{\"type\":\"histogram2dcontour\",\"colorbar\":{\"outlinewidth\":0,\"ticks\":\"\"},\"colorscale\":[[0.0,\"#0d0887\"],[0.1111111111111111,\"#46039f\"],[0.2222222222222222,\"#7201a8\"],[0.3333333333333333,\"#9c179e\"],[0.4444444444444444,\"#bd3786\"],[0.5555555555555556,\"#d8576b\"],[0.6666666666666666,\"#ed7953\"],[0.7777777777777778,\"#fb9f3a\"],[0.8888888888888888,\"#fdca26\"],[1.0,\"#f0f921\"]]}],\"choropleth\":[{\"type\":\"choropleth\",\"colorbar\":{\"outlinewidth\":0,\"ticks\":\"\"}}],\"histogram2d\":[{\"type\":\"histogram2d\",\"colorbar\":{\"outlinewidth\":0,\"ticks\":\"\"},\"colorscale\":[[0.0,\"#0d0887\"],[0.1111111111111111,\"#46039f\"],[0.2222222222222222,\"#7201a8\"],[0.3333333333333333,\"#9c179e\"],[0.4444444444444444,\"#bd3786\"],[0.5555555555555556,\"#d8576b\"],[0.6666666666666666,\"#ed7953\"],[0.7777777777777778,\"#fb9f3a\"],[0.8888888888888888,\"#fdca26\"],[1.0,\"#f0f921\"]]}],\"heatmap\":[{\"type\":\"heatmap\",\"colorbar\":{\"outlinewidth\":0,\"ticks\":\"\"},\"colorscale\":[[0.0,\"#0d0887\"],[0.1111111111111111,\"#46039f\"],[0.2222222222222222,\"#7201a8\"],[0.3333333333333333,\"#9c179e\"],[0.4444444444444444,\"#bd3786\"],[0.5555555555555556,\"#d8576b\"],[0.6666666666666666,\"#ed7953\"],[0.7777777777777778,\"#fb9f3a\"],[0.8888888888888888,\"#fdca26\"],[1.0,\"#f0f921\"]]}],\"heatmapgl\":[{\"type\":\"heatmapgl\",\"colorbar\":{\"outlinewidth\":0,\"ticks\":\"\"},\"colorscale\":[[0.0,\"#0d0887\"],[0.1111111111111111,\"#46039f\"],[0.2222222222222222,\"#7201a8\"],[0.3333333333333333,\"#9c179e\"],[0.4444444444444444,\"#bd3786\"],[0.5555555555555556,\"#d8576b\"],[0.6666666666666666,\"#ed7953\"],[0.7777777777777778,\"#fb9f3a\"],[0.8888888888888888,\"#fdca26\"],[1.0,\"#f0f921\"]]}],\"contourcarpet\":[{\"type\":\"contourcarpet\",\"colorbar\":{\"outlinewidth\":0,\"ticks\":\"\"}}],\"contour\":[{\"type\":\"contour\",\"colorbar\":{\"outlinewidth\":0,\"ticks\":\"\"},\"colorscale\":[[0.0,\"#0d0887\"],[0.1111111111111111,\"#46039f\"],[0.2222222222222222,\"#7201a8\"],[0.3333333333333333,\"#9c179e\"],[0.4444444444444444,\"#bd3786\"],[0.5555555555555556,\"#d8576b\"],[0.6666666666666666,\"#ed7953\"],[0.7777777777777778,\"#fb9f3a\"],[0.8888888888888888,\"#fdca26\"],[1.0,\"#f0f921\"]]}],\"surface\":[{\"type\":\"surface\",\"colorbar\":{\"outlinewidth\":0,\"ticks\":\"\"},\"colorscale\":[[0.0,\"#0d0887\"],[0.1111111111111111,\"#46039f\"],[0.2222222222222222,\"#7201a8\"],[0.3333333333333333,\"#9c179e\"],[0.4444444444444444,\"#bd3786\"],[0.5555555555555556,\"#d8576b\"],[0.6666666666666666,\"#ed7953\"],[0.7777777777777778,\"#fb9f3a\"],[0.8888888888888888,\"#fdca26\"],[1.0,\"#f0f921\"]]}],\"mesh3d\":[{\"type\":\"mesh3d\",\"colorbar\":{\"outlinewidth\":0,\"ticks\":\"\"}}],\"scatter\":[{\"fillpattern\":{\"fillmode\":\"overlay\",\"size\":10,\"solidity\":0.2},\"type\":\"scatter\"}],\"parcoords\":[{\"type\":\"parcoords\",\"line\":{\"colorbar\":{\"outlinewidth\":0,\"ticks\":\"\"}}}],\"scatterpolargl\":[{\"type\":\"scatterpolargl\",\"marker\":{\"colorbar\":{\"outlinewidth\":0,\"ticks\":\"\"}}}],\"bar\":[{\"error_x\":{\"color\":\"#2a3f5f\"},\"error_y\":{\"color\":\"#2a3f5f\"},\"marker\":{\"line\":{\"color\":\"#E5ECF6\",\"width\":0.5},\"pattern\":{\"fillmode\":\"overlay\",\"size\":10,\"solidity\":0.2}},\"type\":\"bar\"}],\"scattergeo\":[{\"type\":\"scattergeo\",\"marker\":{\"colorbar\":{\"outlinewidth\":0,\"ticks\":\"\"}}}],\"scatterpolar\":[{\"type\":\"scatterpolar\",\"marker\":{\"colorbar\":{\"outlinewidth\":0,\"ticks\":\"\"}}}],\"histogram\":[{\"marker\":{\"pattern\":{\"fillmode\":\"overlay\",\"size\":10,\"solidity\":0.2}},\"type\":\"histogram\"}],\"scattergl\":[{\"type\":\"scattergl\",\"marker\":{\"colorbar\":{\"outlinewidth\":0,\"ticks\":\"\"}}}],\"scatter3d\":[{\"type\":\"scatter3d\",\"line\":{\"colorbar\":{\"outlinewidth\":0,\"ticks\":\"\"}},\"marker\":{\"colorbar\":{\"outlinewidth\":0,\"ticks\":\"\"}}}],\"scattermapbox\":[{\"type\":\"scattermapbox\",\"marker\":{\"colorbar\":{\"outlinewidth\":0,\"ticks\":\"\"}}}],\"scatterternary\":[{\"type\":\"scatterternary\",\"marker\":{\"colorbar\":{\"outlinewidth\":0,\"ticks\":\"\"}}}],\"scattercarpet\":[{\"type\":\"scattercarpet\",\"marker\":{\"colorbar\":{\"outlinewidth\":0,\"ticks\":\"\"}}}],\"carpet\":[{\"aaxis\":{\"endlinecolor\":\"#2a3f5f\",\"gridcolor\":\"white\",\"linecolor\":\"white\",\"minorgridcolor\":\"white\",\"startlinecolor\":\"#2a3f5f\"},\"baxis\":{\"endlinecolor\":\"#2a3f5f\",\"gridcolor\":\"white\",\"linecolor\":\"white\",\"minorgridcolor\":\"white\",\"startlinecolor\":\"#2a3f5f\"},\"type\":\"carpet\"}],\"table\":[{\"cells\":{\"fill\":{\"color\":\"#EBF0F8\"},\"line\":{\"color\":\"white\"}},\"header\":{\"fill\":{\"color\":\"#C8D4E3\"},\"line\":{\"color\":\"white\"}},\"type\":\"table\"}],\"barpolar\":[{\"marker\":{\"line\":{\"color\":\"#E5ECF6\",\"width\":0.5},\"pattern\":{\"fillmode\":\"overlay\",\"size\":10,\"solidity\":0.2}},\"type\":\"barpolar\"}],\"pie\":[{\"automargin\":true,\"type\":\"pie\"}]},\"layout\":{\"autotypenumbers\":\"strict\",\"colorway\":[\"#636efa\",\"#EF553B\",\"#00cc96\",\"#ab63fa\",\"#FFA15A\",\"#19d3f3\",\"#FF6692\",\"#B6E880\",\"#FF97FF\",\"#FECB52\"],\"font\":{\"color\":\"#2a3f5f\"},\"hovermode\":\"closest\",\"hoverlabel\":{\"align\":\"left\"},\"paper_bgcolor\":\"white\",\"plot_bgcolor\":\"#E5ECF6\",\"polar\":{\"bgcolor\":\"#E5ECF6\",\"angularaxis\":{\"gridcolor\":\"white\",\"linecolor\":\"white\",\"ticks\":\"\"},\"radialaxis\":{\"gridcolor\":\"white\",\"linecolor\":\"white\",\"ticks\":\"\"}},\"ternary\":{\"bgcolor\":\"#E5ECF6\",\"aaxis\":{\"gridcolor\":\"white\",\"linecolor\":\"white\",\"ticks\":\"\"},\"baxis\":{\"gridcolor\":\"white\",\"linecolor\":\"white\",\"ticks\":\"\"},\"caxis\":{\"gridcolor\":\"white\",\"linecolor\":\"white\",\"ticks\":\"\"}},\"coloraxis\":{\"colorbar\":{\"outlinewidth\":0,\"ticks\":\"\"}},\"colorscale\":{\"sequential\":[[0.0,\"#0d0887\"],[0.1111111111111111,\"#46039f\"],[0.2222222222222222,\"#7201a8\"],[0.3333333333333333,\"#9c179e\"],[0.4444444444444444,\"#bd3786\"],[0.5555555555555556,\"#d8576b\"],[0.6666666666666666,\"#ed7953\"],[0.7777777777777778,\"#fb9f3a\"],[0.8888888888888888,\"#fdca26\"],[1.0,\"#f0f921\"]],\"sequentialminus\":[[0.0,\"#0d0887\"],[0.1111111111111111,\"#46039f\"],[0.2222222222222222,\"#7201a8\"],[0.3333333333333333,\"#9c179e\"],[0.4444444444444444,\"#bd3786\"],[0.5555555555555556,\"#d8576b\"],[0.6666666666666666,\"#ed7953\"],[0.7777777777777778,\"#fb9f3a\"],[0.8888888888888888,\"#fdca26\"],[1.0,\"#f0f921\"]],\"diverging\":[[0,\"#8e0152\"],[0.1,\"#c51b7d\"],[0.2,\"#de77ae\"],[0.3,\"#f1b6da\"],[0.4,\"#fde0ef\"],[0.5,\"#f7f7f7\"],[0.6,\"#e6f5d0\"],[0.7,\"#b8e186\"],[0.8,\"#7fbc41\"],[0.9,\"#4d9221\"],[1,\"#276419\"]]},\"xaxis\":{\"gridcolor\":\"white\",\"linecolor\":\"white\",\"ticks\":\"\",\"title\":{\"standoff\":15},\"zerolinecolor\":\"white\",\"automargin\":true,\"zerolinewidth\":2},\"yaxis\":{\"gridcolor\":\"white\",\"linecolor\":\"white\",\"ticks\":\"\",\"title\":{\"standoff\":15},\"zerolinecolor\":\"white\",\"automargin\":true,\"zerolinewidth\":2},\"scene\":{\"xaxis\":{\"backgroundcolor\":\"#E5ECF6\",\"gridcolor\":\"white\",\"linecolor\":\"white\",\"showbackground\":true,\"ticks\":\"\",\"zerolinecolor\":\"white\",\"gridwidth\":2},\"yaxis\":{\"backgroundcolor\":\"#E5ECF6\",\"gridcolor\":\"white\",\"linecolor\":\"white\",\"showbackground\":true,\"ticks\":\"\",\"zerolinecolor\":\"white\",\"gridwidth\":2},\"zaxis\":{\"backgroundcolor\":\"#E5ECF6\",\"gridcolor\":\"white\",\"linecolor\":\"white\",\"showbackground\":true,\"ticks\":\"\",\"zerolinecolor\":\"white\",\"gridwidth\":2}},\"shapedefaults\":{\"line\":{\"color\":\"#2a3f5f\"}},\"annotationdefaults\":{\"arrowcolor\":\"#2a3f5f\",\"arrowhead\":0,\"arrowwidth\":1},\"geo\":{\"bgcolor\":\"white\",\"landcolor\":\"#E5ECF6\",\"subunitcolor\":\"white\",\"showland\":true,\"showlakes\":true,\"lakecolor\":\"white\"},\"title\":{\"x\":0.05},\"mapbox\":{\"style\":\"light\"}}},\"xaxis\":{\"anchor\":\"y\",\"domain\":[0.0,1.0],\"title\":{\"text\":\"Age\"},\"showline\":true,\"showgrid\":false,\"linecolor\":\"black\"},\"yaxis\":{\"anchor\":\"x\",\"domain\":[0.0,1.0],\"title\":{\"text\":\"Maximum Heart Rate\"},\"showline\":true,\"showgrid\":false,\"linecolor\":\"black\"},\"legend\":{\"tracegroupgap\":0},\"margin\":{\"t\":60},\"title\":{\"font\":{\"size\":16},\"text\":\"Scatter Plot M-Z\",\"y\":0.9,\"x\":0.5,\"xanchor\":\"center\",\"yanchor\":\"top\"},\"plot_bgcolor\":\"rgba(255,255,255,1)\",\"width\":600,\"height\":400,\"showlegend\":false},                        {\"responsive\": true}                    ).then(function(){\n",
              "                            \n",
              "var gd = document.getElementById('afce94fc-fa18-4a28-9804-9366c6eb3b77');\n",
              "var x = new MutationObserver(function (mutations, observer) {{\n",
              "        var display = window.getComputedStyle(gd).display;\n",
              "        if (!display || display === 'none') {{\n",
              "            console.log([gd, 'removed!']);\n",
              "            Plotly.purge(gd);\n",
              "            observer.disconnect();\n",
              "        }}\n",
              "}});\n",
              "\n",
              "// Listen for the removal of the full notebook cells\n",
              "var notebookContainer = gd.closest('#notebook-container');\n",
              "if (notebookContainer) {{\n",
              "    x.observe(notebookContainer, {childList: true});\n",
              "}}\n",
              "\n",
              "// Listen for the clearing of the current output cell\n",
              "var outputEl = gd.closest('.output');\n",
              "if (outputEl) {{\n",
              "    x.observe(outputEl, {childList: true});\n",
              "}}\n",
              "\n",
              "                        })                };                            </script>        </div>\n",
              "</body>\n",
              "</html>"
            ]
          },
          "metadata": {}
        }
      ],
      "source": [
        "# Calculate the LSRL and add the regression line to the scatterplot.\n",
        "\n",
        "# A-L\n",
        "# Extract the variables from the dataframe\n",
        "# STUDENTS: Replace ... as stated below.\n",
        "# Replace ... with the explantory variable name\n",
        "X = df['chol']\n",
        "# Replace ... with the response variable name\n",
        "Y = df['trestbps']\n",
        "\n",
        "# Add a constant to the explanatory variable for the regression model.\n",
        "# This forces Statsmodels to calculate the y-intercept.\n",
        "# STUDENTS: Do not change anything in this block of code.\n",
        "X_with_const = sm.add_constant(X)\n",
        "\n",
        "# Fit the linear regression model (calculate slope and y-intercept)\n",
        "# STUDENTS: Do not change anything in this block of code.\n",
        "model_AL = sm.OLS(Y, X_with_const).fit()\n",
        "\n",
        "# If we repeatedly run this section of code then a new regression line is\n",
        "# added each run, unless we recreate the scatterplot each iteration.\n",
        "# STUDENTS: Replace ... as stated below.\n",
        "scatter_plot_AL = px.scatter(df,\n",
        "                 # Replace ... with the explanatory variable name\n",
        "                 x='chol',\n",
        "                 # Replace ... with the response variable name\n",
        "                 y='trestbps',\n",
        "                         # Replace ... with a better x-axis label\n",
        "                 labels={'chol': 'Serum Cholesterol',\n",
        "                         # Replace ... with a better y-axis label\n",
        "                         'trestbps': 'Resting Blood Pressure'})\n",
        "\n",
        "# Updating layout\n",
        "# STUDENTS: Do not change anything in this block of code.\n",
        "scatter_plot_AL.update_layout(\n",
        "    plot_bgcolor='rgba(255,255,255,1)',        # Sets the background color of the plot area to white with full opacity.\n",
        "    xaxis=dict(\n",
        "        showline=True,                         # Displays a line on the x-axis.\n",
        "        showgrid=False,                        # Hides the grid lines on the x-axis.\n",
        "        linecolor='black'                      # Sets the color of the x-axis line to black.\n",
        "    ),\n",
        "    yaxis=dict(\n",
        "        showline=True,                         # Displays a line on the y-axis.\n",
        "        showgrid=False,                        # Hides the grid lines on the y-axis.\n",
        "        linecolor='black'                      # Sets the color of the y-axis line to black.\n",
        "    ),\n",
        "    title={\n",
        "        'text': 'Scatter Plot A-L',   # Sets the title text.\n",
        "        'y': 0.9,                              # Positions the title 90% of the way up the plot.\n",
        "        'x': 0.5,                              # Centers the title horizontally.\n",
        "        'xanchor': 'center',                   # Anchors the title at its center on the x-axis.\n",
        "        'yanchor': 'top',                      # Anchors the title at the top on the y-axis.\n",
        "        'font': dict(\n",
        "            size=16                            # Sets the title font size to 16 (smaller than default).\n",
        "        ),\n",
        "    },\n",
        "    width=600,                                 # Sets the width of the plot.\n",
        "    height=400,                                # Sets the height of the plot for portrait mode.\n",
        "    showlegend=False                           # Disables the legend (key) display\n",
        ")\n",
        "\n",
        "# Add the regression line to the scatterplot\n",
        "scatter_plot_AL.add_scatter(x=X, y=model_AL.predict(X_with_const),\n",
        "                         mode='lines', name='Regression Line')\n",
        "\n",
        "# Show the plot\n",
        "scatter_plot_AL.show()\n",
        "\n",
        "# M-Z\n",
        "# Extract the variables from the dataframe\n",
        "X = df['age']\n",
        "Y = df['thalach']\n",
        "\n",
        "# Add a constant to the explanatory variable for the regression model.\n",
        "# This forces Statsmodels to calculate the y-intercept.\n",
        "X_with_const = sm.add_constant(X)\n",
        "\n",
        "# Fit the linear regression model (calculate slope and y-intercept)\n",
        "model_MZ = sm.OLS(Y, X_with_const).fit()\n",
        "\n",
        "# If we repeatedly run this section of code then a new regression line is\n",
        "# added each run, unless we recreate the scatterplot each iteration.\n",
        "scatter_plot_MZ = px.scatter(df,\n",
        "                 x='age', #explanatory variable name\n",
        "                 y='thalach', #response variable name\n",
        "                 labels={'age': 'Age', #updates axis labels\n",
        "                         'thalach': 'Maximum Heart Rate'})\n",
        "\n",
        "# Updating layout: Students do not change anything in this block of code.\n",
        "scatter_plot_MZ.update_layout(\n",
        "    plot_bgcolor='rgba(255,255,255,1)',        # Sets the background color of the plot area to white with full opacity.\n",
        "    xaxis=dict(\n",
        "        showline=True,                         # Displays a line on the x-axis.\n",
        "        showgrid=False,                        # Hides the grid lines on the x-axis.\n",
        "        linecolor='black'                      # Sets the color of the x-axis line to black.\n",
        "    ),\n",
        "    yaxis=dict(\n",
        "        showline=True,                         # Displays a line on the y-axis.\n",
        "        showgrid=False,                        # Hides the grid lines on the y-axis.\n",
        "        linecolor='black'                      # Sets the color of the y-axis line to black.\n",
        "    ),\n",
        "    title={\n",
        "        'text': 'Scatter Plot M-Z',   # Sets the title text.\n",
        "        'y': 0.9,                              # Positions the title 90% of the way up the plot.\n",
        "        'x': 0.5,                              # Centers the title horizontally.\n",
        "        'xanchor': 'center',                   # Anchors the title at its center on the x-axis.\n",
        "        'yanchor': 'top',                      # Anchors the title at the top on the y-axis.\n",
        "        'font': dict(\n",
        "            size=16                            # Sets the title font size to 16 (smaller than default).\n",
        "        ),\n",
        "    },\n",
        "    width=600,                                 # Sets the width of the plot.\n",
        "    height=400,                                # Sets the height of the plot for portrait mode.\n",
        "    showlegend=False                           # Disables the legend (key) display\n",
        ")\n",
        "\n",
        "# Add the regression line to the scatterplot\n",
        "scatter_plot_MZ.add_scatter(x=X, y=model_MZ.predict(X_with_const),\n",
        "                         mode='lines', name='Regression Line')\n",
        "\n",
        "# Show the plot\n",
        "scatter_plot_MZ.show()"
      ]
    },
    {
      "cell_type": "markdown",
      "source": [
        "**3.2)** Print the coefficients (Intercept and Slope)"
      ],
      "metadata": {
        "id": "Ks7CG_AJ0bOf"
      }
    },
    {
      "cell_type": "code",
      "execution_count": null,
      "metadata": {
        "id": "R32idO3eJZlO",
        "outputId": "e6402490-a445-4a5e-9bdd-b5e312fb9246",
        "colab": {
          "base_uri": "https://localhost:8080/"
        }
      },
      "outputs": [
        {
          "output_type": "stream",
          "name": "stdout",
          "text": [
            "A-L Group:\n",
            "const    121.359757\n",
            "chol       0.041679\n",
            "Name: Coefficients, dtype: float64\n",
            "\n",
            "M-Z Group:\n",
            "const    204.289210\n",
            "age       -1.005077\n",
            "Name: Coefficients, dtype: float64\n"
          ]
        }
      ],
      "source": [
        "# Print the coefficients (Intercept and Slope)\n",
        "\n",
        "# STUDENTS: Do not change the code below.\n",
        "# The coefficients were calculated when the regression line was added to the\n",
        "# scatterplot and stored in 'model'. This assigns the values of the y-intercept\n",
        "# and slope to 'coefficients', then prints the values.\n",
        "\n",
        "# A-L\n",
        "coefficients_AL = model_AL.params\n",
        "coefficients_AL.name='Coefficients'\n",
        "coefficients_AL\n",
        "\n",
        "# M-Z\n",
        "coefficients_MZ = model_MZ.params\n",
        "coefficients_MZ.name='Coefficients'\n",
        "\n",
        "# Output the DataFrames\n",
        "print(\"A-L Group:\")\n",
        "print(coefficients_AL)\n",
        "print(\"\\nM-Z Group:\")\n",
        "print(coefficients_MZ)"
      ]
    },
    {
      "cell_type": "markdown",
      "source": [
        "**3.3)** Write the equation of the line that predicts your assigned response variable from your assigned explanatory variable. To type 𝑦̂ you can type “y-hat” or “predicted y”. Do NOT round."
      ],
      "metadata": {
        "id": "9BCskrHU0blp"
      }
    },
    {
      "cell_type": "markdown",
      "source": [
        "**A-L:** y-hat = 121.359757 + 0.041679x\n",
        "\n",
        "**M-Z:** y-hat = 204.289210 - 1.005077x"
      ],
      "metadata": {
        "id": "xB3Zd_wgpeCT"
      }
    },
    {
      "cell_type": "markdown",
      "source": [
        "# **QUESTION 4**\n",
        "\n",
        "## Slope\n",
        "Interpret the slope"
      ],
      "metadata": {
        "id": "nul2GHpi0chf"
      }
    },
    {
      "cell_type": "markdown",
      "source": [
        "**A-L:** We expect the resting blood pressure to increase by 0.041679 mmHg when the cholesterol increases by 1 mg/dl.\n",
        "\n",
        "**M-Z:** We expect the max heart rate to decrease by 1.005077 bpm when the age increases by 1 year."
      ],
      "metadata": {
        "id": "Fe3k06NdqCck"
      }
    },
    {
      "cell_type": "markdown",
      "metadata": {
        "id": "A2uHwoKa0a1Y"
      },
      "source": [
        "# **QUESTION 5**\n",
        "## Y-Intercept\n",
        "\n",
        "Interpret the y-intercept of the least squares regression line in the context of this study. State whether the interpretation is reasonable."
      ]
    },
    {
      "cell_type": "markdown",
      "source": [
        "**A-L:** We expect the blood pressure to be 121.359757 mmHg when the cholesterol level is 0 mg/dl.\n",
        "\n",
        "This does not make sense.\n",
        "\n",
        "**M-Z:** We expect the max heart rate to be 204.289210 bpm when the age is 0 years old.\n",
        "\n",
        "This does not make sense."
      ],
      "metadata": {
        "id": "8DudqX253sIt"
      }
    },
    {
      "cell_type": "markdown",
      "metadata": {
        "id": "rCJ442hvJZlO"
      },
      "source": [
        "# **Question 6**\n",
        "## Prediction\n",
        "\n",
        "One person in the data set was 74 years old and had a cholesterol level of 269 mg/dL. Predict the value of your dependent variable for this person, using the actual value of the independent variable shown in the table below. Type your work below. Round to 2 decimal places.\n",
        "\n",
        "| Last Name  | Independent Variable (x) |\n",
        "|------------|--------------------------|\n",
        "| **A-L**    | Cholesterol = 269 mg/dL  |\n",
        "| **M-Z**    | Age = 74 years old       |\n"
      ]
    },
    {
      "cell_type": "markdown",
      "source": [
        "**A-L:** y-hat = 121.35975749430595 + 0.04167886407067077(269) = 132.57 bpm\n",
        "\n",
        "**M-Z:** y-hat = 204.28920953725523 + -1.0050768220596322(74) = 129.91 mg/dL"
      ],
      "metadata": {
        "id": "aRdqToAPr2h1"
      }
    },
    {
      "cell_type": "code",
      "source": [
        "# This is NOT in the student notebook.\n",
        "# A-L prediction\n",
        "intercept_AL = model_AL.params['const']\n",
        "slope_AL = model_AL.params['chol']\n",
        "predicted_AL = (intercept_AL + slope_AL * 269)\n",
        "print(f\"A-L: y-hat = {intercept_AL} + {slope_AL}(269) = {predicted_AL}\")\n",
        "\n",
        "# M-Z prediction\n",
        "intercept_MZ = model_MZ.params['const']\n",
        "slope_MZ = model_MZ.params['age']\n",
        "predicted_MZ = (intercept_MZ + slope_MZ * 74)\n",
        "print(f\"\\nM-Z: y-hat = {intercept_MZ} + {slope_MZ}(74) = {predicted_MZ}\")\n"
      ],
      "metadata": {
        "colab": {
          "base_uri": "https://localhost:8080/"
        },
        "id": "mzFv0q__54PF",
        "outputId": "95ebc00c-f63a-4da4-c16b-9d1d68c81db4"
      },
      "execution_count": null,
      "outputs": [
        {
          "output_type": "stream",
          "name": "stdout",
          "text": [
            "A-L: y-hat = 121.35975749430595 + 0.04167886407067077(269) = 132.5713719293164\n",
            "\n",
            "M-Z: y-hat = 204.28920953725523 + -1.0050768220596322(74) = 129.91352470484244\n"
          ]
        }
      ]
    },
    {
      "cell_type": "markdown",
      "source": [
        "# **Question 7**\n",
        "## Compare\n",
        "**7.1)** Look up the actual value of your dependent variable for the value of the independent variable above. We know it is for Criminology majors, but be sure to type in the value of the independent variable listed in Question 6 in the code below."
      ],
      "metadata": {
        "id": "iimd7jPr6o_G"
      }
    },
    {
      "cell_type": "code",
      "execution_count": null,
      "metadata": {
        "id": "D9yVbei2JZlO",
        "colab": {
          "base_uri": "https://localhost:8080/"
        },
        "outputId": "9c974c11-614c-4b16-b164-0013d59a1ef9"
      },
      "outputs": [
        {
          "output_type": "stream",
          "name": "stdout",
          "text": [
            "A-L: The actual value of the dependent variable is: 155\n",
            "\n",
            "M-Z: The actual value of the dependent variable is: 121\n"
          ]
        }
      ],
      "source": [
        "# Filter the datafram to find the row where your independent variable\n",
        "#   equals the value from the table in Question 6.\n",
        "\n",
        "#A-L\n",
        "# STUDENTS:\n",
        "# Replace the 1st ... with the explantory variable name\n",
        "# Replace the 2nd ... with the value from the table in Question 6\n",
        "# Replace the 3rd ... with the response variable name\n",
        "actual_dependent_AL = df[df['chol']== 269]['trestbps']\n",
        "actual_AL = int(actual_dependent_AL.values[0])\n",
        "print(f\"A-L: The actual value of the dependent variable is: {actual_AL}\")\n",
        "\n",
        "#M-Z\n",
        "actual_dependent_MZ = df[df['age']== 74]['thalach']\n",
        "actual_MZ = int(actual_dependent_MZ.values[0])\n",
        "print(f\"\\nM-Z: The actual value of the dependent variable is: {actual_MZ}\")"
      ]
    },
    {
      "cell_type": "markdown",
      "source": [
        "**7.2)** Compare the predicted value of your dependent variable from Question 6 to the actual value from 7.1. Use the actual name of your dependent variable, as modeled in activity.\n"
      ],
      "metadata": {
        "id": "kkZ4dF--99LC"
      }
    },
    {
      "cell_type": "markdown",
      "source": [
        "**A-L:** The actual blood pressure (155 mg/dL) is higher than predicted (132.6 mg/dL).\n",
        "\n",
        "**M-Z:** The actual max heart rate (121 bpm) is lower than predicted (129.9 bpm)."
      ],
      "metadata": {
        "id": "i7tnZsWwCHul"
      }
    },
    {
      "cell_type": "markdown",
      "source": [
        "# **QUESTION 8**\n",
        "\n",
        "Generate a paragraph of at least 100 words to address one of the following questions. That is, answer only 8a or 8b, but not both.\n",
        "\n",
        "**8a)** Discuss how analyzing your chosen data set using statistical methods could help you become better prepared for future courses in your major?\n",
        "\n",
        "...\n",
        "\n",
        "--OR--\n",
        "\n",
        "**8b)** Discuss how analyzing your chosen data set using statistical methods could be instrumental in becoming better prepared for your future career?\n",
        "\n",
        "...\n"
      ],
      "metadata": {
        "id": "A4rsfgbp6r6H"
      }
    },
    {
      "cell_type": "markdown",
      "source": [
        "<br><br>\n",
        "### Once you are done and ready to submit, follow the instructions below to save as a PDF and submit to GradeScope.\n",
        "\n",
        "### Save as PDF\n",
        "Note 1: You do not have to select Print Preview. You can print directly from the notebook.\n",
        "Note 2: Image and graph sizes have been set so you should be able to see them correctly without making any changes to the browser width or the layout (portrait vs landscape).\n",
        "1. Run all code one last time and make sure your graphs can be seen.\n",
        "2. File -> Print (or ctrl-p/cmnd-p)\n",
        "3. Change the \"Desination\" to PDF.\n",
        "4. Save the PDF, taking note of where it is saved.\n",
        "\n",
        "### Submit to GradeScope\n",
        "**Watch the \"GradeScope Submission\" video for help.**\n",
        "1. Login to the Canvas course\n",
        "2. Click on GradeScope in the course navigation.\n",
        "3. If you see multiple courses in GradeScope, click on the STAT 108 course\n",
        "4. Click on the name of the assignment that matches your data set\n",
        "5. Click on \"Submit Work\", select PDF\n",
        "6. Select the PDF you just created\n",
        "7. You need to tell GradeScope which page each problem answer/output is on. You should see a list of problems on the left, and a display of pages (thumbnails) on the right. Assign pages to questions by clicking on the question number on the left, then clicking on all pages that question is on.\n",
        "8. After ALL questions have been assigned to their respective page(s), click \"Submit\"\n",
        "\n",
        "#### **Still need help? Your STAT 108 team is here to help. Take your laptop to office hours.**\n"
      ],
      "metadata": {
        "id": "KHSYrvqh66V6"
      }
    }
  ]
}