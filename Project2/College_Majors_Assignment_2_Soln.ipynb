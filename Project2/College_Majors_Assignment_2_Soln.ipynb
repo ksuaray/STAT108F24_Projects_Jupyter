{
  "cells": [
    {
      "cell_type": "markdown",
      "metadata": {
        "colab_type": "text",
        "id": "view-in-github"
      },
      "source": [
        "<a href=\"https://colab.research.google.com/github/ksuaray/LAEP_S24/blob/main/College_Majors_Assignment_1.ipynb\" target=\"_parent\"><img src=\"https://colab.research.google.com/assets/colab-badge.svg\" alt=\"Open In Colab\"/></a>"
      ]
    },
    {
      "cell_type": "markdown",
      "metadata": {
        "id": "WOWuLyetinsJ"
      },
      "source": [
        "**Guide to Picking a College Major**"
      ]
    },
    {
      "cell_type": "markdown",
      "metadata": {
        "id": "AxPB-FE5lQIX"
      },
      "source": [
        "#**Importing Necessary Python Modules**\n",
        "\n",
        "Python incorporates a variety of open source add-ins called **modules** that enable us to be able to"
      ]
    },
    {
      "cell_type": "code",
      "execution_count": 25,
      "metadata": {
        "id": "DIbfBAiwmTlf"
      },
      "outputs": [],
      "source": [
        "import pandas as pd\n",
        "import numpy as np\n",
        "import plotly.express as px\n",
        "from IPython.display import Image\n",
        "import statsmodels.api as sm"
      ]
    },
    {
      "cell_type": "markdown",
      "metadata": {
        "id": "XJjnfq1hitm8"
      },
      "source": [
        "#**Context**\n",
        "\n",
        "This assignment contains the data behind the story The Economic Guide To Picking A College Major. The data is from American Community Survey 2010-2012 Public Use Microdata Series. With this dataset, you'll have the power to explore college programs and their graduates like never before and create stories of your own!"
      ]
    },
    {
      "cell_type": "code",
      "execution_count": 7,
      "metadata": {
        "colab": {
          "base_uri": "https://localhost:8080/",
          "height": 1000
        },
        "id": "oJft7wQooCFx",
        "outputId": "305d299f-111b-4589-fa92-b85d89d8ab3c"
      },
      "outputs": [
        {
          "data": {
            "text/html": [
              "<img src=\"https://media.istockphoto.com/id/1470208665/photo/multi-ethnic-group-of-latin-and-african-american-college-students-smiling-diversity-portrait.jpg?s=2048x2048&w=is&k=20&c=zicp2F74iFTRKjJUwFBgs_Mb_Xd5vvkvdmYSVoekb1I=\"/>"
            ],
            "text/plain": [
              "<IPython.core.display.Image object>"
            ]
          },
          "execution_count": 7,
          "metadata": {},
          "output_type": "execute_result"
        }
      ],
      "source": [
        "# Replace 'image_url' with the URL of the image you want to display\n",
        "image_url = 'https://media.istockphoto.com/id/1470208665/photo/multi-ethnic-group-of-latin-and-african-american-college-students-smiling-diversity-portrait.jpg?s=2048x2048&w=is&k=20&c=zicp2F74iFTRKjJUwFBgs_Mb_Xd5vvkvdmYSVoekb1I='\n",
        "\n",
        "\n",
        "# Display the image\n",
        "Image(url=image_url)\n"
      ]
    },
    {
      "cell_type": "markdown",
      "metadata": {
        "id": "bQfu7EYxi7Md"
      },
      "source": [
        "#**About the Dataset**\n",
        "\n",
        "This dataset contains 172 rows corresponding to a random sample of people with at least some college. The variables provided are listed below:"
      ]
    },
    {
      "cell_type": "markdown",
      "metadata": {
        "id": "XusIoTTPjC87"
      },
      "source": [
        "** *italicized text*Variables**\n",
        "\n",
        "| Column name                 | Description                                                |\n",
        "|-----------------------------|------------------------------------------------------------|\n",
        "| Index                       | A number assigned to an individual                         |\n",
        "| Major_code                  | The code associated with the major (Integer)               |\n",
        "| Major                       | The specific major of the field of study (String)          |\n",
        "| Major_category              | The category of the major (String)                         |\n",
        "| Grad_total                  | The total number of graduates from the major (Integer)     |\n",
        "| Grad_sample_size            | The sample size of graduates from the major (Integer)      |\n",
        "| Grad_employed               | The number of graduates employed (Integer)                 |\n",
        "| Grad_full_time_year_round   | The number of graduates employed full-time year-round (Integer) |\n",
        "| Grad_unemployed             | The number of graduates unemployed (Integer)               |\n",
        "| Grad_unemployment_rate      | The unemployment rate of graduates (Float)                 |\n",
        "| Grad_median                 | The median salary of graduates (Integer)                   |\n",
        "| Grad_P25                    | The 25th percentile salary of graduates (Integer)          |\n",
        "| Grad_P75                    | The 75th percentile salary of graduates (Integer)          |\n",
        "| Nongrad_total               | The total number of non-graduates from the major (Integer) |\n",
        "| Nongrad_employed            | The number of non-graduates employed (Integer)             |\n",
        "| Nongrad_full_time_year_round| The number of non-graduates employed full-time year-round (Integer) |\n",
        "| Nongrad_unemployed          | The number of non-graduates unemployed (Integer)           |\n",
        "| Nongrad_unemployment_rate   | The unemployment rate of non-graduates (Float)             |\n",
        "| Nongrad_median              | The median salary of non-graduates (Integer)               |\n",
        "| Nongrad_P25                 | The 25th percentile salary of non-graduates (Integer)      |\n",
        "| Nongrad_P75                 | The 75th percentile salary of non-graduates (Integer)      |\n",
        "| Grad_share                  | The share of graduates in the major (Float)                |\n",
        "| Grad_premium                | The difference between the median salary of graduates and non-graduates (Integer) |\n"
      ]
    },
    {
      "cell_type": "markdown",
      "metadata": {
        "id": "dzjbhJhzktKp"
      },
      "source": [
        "*Attribution:  FiveThirtyEight.com*\n",
        "\n",
        "We can view a snippet of the data by first importing it directly from the [url below](https://raw.githubusercontent.com/fivethirtyeight/data/master/college-majors/grad-students.csv).\n",
        "\n",
        "**Data**"
      ]
    },
    {
      "cell_type": "code",
      "execution_count": 8,
      "metadata": {
        "id": "1RtdwLBwidY4"
      },
      "outputs": [],
      "source": [
        "file_path = \"https://raw.githubusercontent.com/fivethirtyeight/data/master/college-majors/grad-students.csv\"\n",
        "df = pd.read_csv(file_path)\n"
      ]
    },
    {
      "cell_type": "markdown",
      "metadata": {
        "id": "cj8T9vdrimYo"
      },
      "source": [
        "Next, we can display the data by typing the name of the DataFrame. To ensure we can see all columns, we'll use the *pd.set_option* method."
      ]
    },
    {
      "cell_type": "code",
      "execution_count": 9,
      "metadata": {
        "colab": {
          "base_uri": "https://localhost:8080/",
          "height": 773
        },
        "id": "YT5tP1d8pQli",
        "outputId": "898b3e54-e4e1-4b68-943a-2a305375419a"
      },
      "outputs": [
        {
          "data": {
            "text/html": [
              "<div>\n",
              "<style scoped>\n",
              "    .dataframe tbody tr th:only-of-type {\n",
              "        vertical-align: middle;\n",
              "    }\n",
              "\n",
              "    .dataframe tbody tr th {\n",
              "        vertical-align: top;\n",
              "    }\n",
              "\n",
              "    .dataframe thead th {\n",
              "        text-align: right;\n",
              "    }\n",
              "</style>\n",
              "<table border=\"1\" class=\"dataframe\">\n",
              "  <thead>\n",
              "    <tr style=\"text-align: right;\">\n",
              "      <th></th>\n",
              "      <th>Major_code</th>\n",
              "      <th>Major</th>\n",
              "      <th>Major_category</th>\n",
              "      <th>Grad_total</th>\n",
              "      <th>Grad_sample_size</th>\n",
              "      <th>Grad_employed</th>\n",
              "      <th>Grad_full_time_year_round</th>\n",
              "      <th>Grad_unemployed</th>\n",
              "      <th>Grad_unemployment_rate</th>\n",
              "      <th>Grad_median</th>\n",
              "      <th>Grad_P25</th>\n",
              "      <th>Grad_P75</th>\n",
              "      <th>Nongrad_total</th>\n",
              "      <th>Nongrad_employed</th>\n",
              "      <th>Nongrad_full_time_year_round</th>\n",
              "      <th>Nongrad_unemployed</th>\n",
              "      <th>Nongrad_unemployment_rate</th>\n",
              "      <th>Nongrad_median</th>\n",
              "      <th>Nongrad_P25</th>\n",
              "      <th>Nongrad_P75</th>\n",
              "      <th>Grad_share</th>\n",
              "      <th>Grad_premium</th>\n",
              "    </tr>\n",
              "  </thead>\n",
              "  <tbody>\n",
              "    <tr>\n",
              "      <th>0</th>\n",
              "      <td>5601</td>\n",
              "      <td>CONSTRUCTION SERVICES</td>\n",
              "      <td>Industrial Arts &amp; Consumer Services</td>\n",
              "      <td>9173</td>\n",
              "      <td>200</td>\n",
              "      <td>7098</td>\n",
              "      <td>6511</td>\n",
              "      <td>681</td>\n",
              "      <td>0.087543</td>\n",
              "      <td>75000.0</td>\n",
              "      <td>53000</td>\n",
              "      <td>110000.0</td>\n",
              "      <td>86062</td>\n",
              "      <td>73607</td>\n",
              "      <td>62435</td>\n",
              "      <td>3928</td>\n",
              "      <td>0.050661</td>\n",
              "      <td>65000.0</td>\n",
              "      <td>47000</td>\n",
              "      <td>98000.0</td>\n",
              "      <td>0.096320</td>\n",
              "      <td>0.153846</td>\n",
              "    </tr>\n",
              "    <tr>\n",
              "      <th>1</th>\n",
              "      <td>6004</td>\n",
              "      <td>COMMERCIAL ART AND GRAPHIC DESIGN</td>\n",
              "      <td>Arts</td>\n",
              "      <td>53864</td>\n",
              "      <td>882</td>\n",
              "      <td>40492</td>\n",
              "      <td>29553</td>\n",
              "      <td>2482</td>\n",
              "      <td>0.057756</td>\n",
              "      <td>60000.0</td>\n",
              "      <td>40000</td>\n",
              "      <td>89000.0</td>\n",
              "      <td>461977</td>\n",
              "      <td>347166</td>\n",
              "      <td>250596</td>\n",
              "      <td>25484</td>\n",
              "      <td>0.068386</td>\n",
              "      <td>48000.0</td>\n",
              "      <td>34000</td>\n",
              "      <td>71000.0</td>\n",
              "      <td>0.104420</td>\n",
              "      <td>0.250000</td>\n",
              "    </tr>\n",
              "    <tr>\n",
              "      <th>2</th>\n",
              "      <td>6211</td>\n",
              "      <td>HOSPITALITY MANAGEMENT</td>\n",
              "      <td>Business</td>\n",
              "      <td>24417</td>\n",
              "      <td>437</td>\n",
              "      <td>18368</td>\n",
              "      <td>14784</td>\n",
              "      <td>1465</td>\n",
              "      <td>0.073867</td>\n",
              "      <td>65000.0</td>\n",
              "      <td>45000</td>\n",
              "      <td>100000.0</td>\n",
              "      <td>179335</td>\n",
              "      <td>145597</td>\n",
              "      <td>113579</td>\n",
              "      <td>7409</td>\n",
              "      <td>0.048423</td>\n",
              "      <td>50000.0</td>\n",
              "      <td>35000</td>\n",
              "      <td>75000.0</td>\n",
              "      <td>0.119837</td>\n",
              "      <td>0.300000</td>\n",
              "    </tr>\n",
              "    <tr>\n",
              "      <th>3</th>\n",
              "      <td>2201</td>\n",
              "      <td>COSMETOLOGY SERVICES AND CULINARY ARTS</td>\n",
              "      <td>Industrial Arts &amp; Consumer Services</td>\n",
              "      <td>5411</td>\n",
              "      <td>72</td>\n",
              "      <td>3590</td>\n",
              "      <td>2701</td>\n",
              "      <td>316</td>\n",
              "      <td>0.080901</td>\n",
              "      <td>47000.0</td>\n",
              "      <td>24500</td>\n",
              "      <td>85000.0</td>\n",
              "      <td>37575</td>\n",
              "      <td>29738</td>\n",
              "      <td>23249</td>\n",
              "      <td>1661</td>\n",
              "      <td>0.052900</td>\n",
              "      <td>41600.0</td>\n",
              "      <td>29000</td>\n",
              "      <td>60000.0</td>\n",
              "      <td>0.125878</td>\n",
              "      <td>0.129808</td>\n",
              "    </tr>\n",
              "    <tr>\n",
              "      <th>4</th>\n",
              "      <td>2001</td>\n",
              "      <td>COMMUNICATION TECHNOLOGIES</td>\n",
              "      <td>Computers &amp; Mathematics</td>\n",
              "      <td>9109</td>\n",
              "      <td>171</td>\n",
              "      <td>7512</td>\n",
              "      <td>5622</td>\n",
              "      <td>466</td>\n",
              "      <td>0.058411</td>\n",
              "      <td>57000.0</td>\n",
              "      <td>40600</td>\n",
              "      <td>83700.0</td>\n",
              "      <td>53819</td>\n",
              "      <td>43163</td>\n",
              "      <td>34231</td>\n",
              "      <td>3389</td>\n",
              "      <td>0.072800</td>\n",
              "      <td>52000.0</td>\n",
              "      <td>36000</td>\n",
              "      <td>78000.0</td>\n",
              "      <td>0.144753</td>\n",
              "      <td>0.096154</td>\n",
              "    </tr>\n",
              "    <tr>\n",
              "      <th>...</th>\n",
              "      <td>...</td>\n",
              "      <td>...</td>\n",
              "      <td>...</td>\n",
              "      <td>...</td>\n",
              "      <td>...</td>\n",
              "      <td>...</td>\n",
              "      <td>...</td>\n",
              "      <td>...</td>\n",
              "      <td>...</td>\n",
              "      <td>...</td>\n",
              "      <td>...</td>\n",
              "      <td>...</td>\n",
              "      <td>...</td>\n",
              "      <td>...</td>\n",
              "      <td>...</td>\n",
              "      <td>...</td>\n",
              "      <td>...</td>\n",
              "      <td>...</td>\n",
              "      <td>...</td>\n",
              "      <td>...</td>\n",
              "      <td>...</td>\n",
              "      <td>...</td>\n",
              "    </tr>\n",
              "    <tr>\n",
              "      <th>168</th>\n",
              "      <td>5203</td>\n",
              "      <td>COUNSELING PSYCHOLOGY</td>\n",
              "      <td>Psychology &amp; Social Work</td>\n",
              "      <td>51812</td>\n",
              "      <td>724</td>\n",
              "      <td>38468</td>\n",
              "      <td>28808</td>\n",
              "      <td>1420</td>\n",
              "      <td>0.035600</td>\n",
              "      <td>50000.0</td>\n",
              "      <td>36000</td>\n",
              "      <td>65000.0</td>\n",
              "      <td>16781</td>\n",
              "      <td>12377</td>\n",
              "      <td>8502</td>\n",
              "      <td>835</td>\n",
              "      <td>0.063200</td>\n",
              "      <td>40000.0</td>\n",
              "      <td>25000</td>\n",
              "      <td>50000.0</td>\n",
              "      <td>0.755354</td>\n",
              "      <td>0.250000</td>\n",
              "    </tr>\n",
              "    <tr>\n",
              "      <th>169</th>\n",
              "      <td>5202</td>\n",
              "      <td>CLINICAL PSYCHOLOGY</td>\n",
              "      <td>Psychology &amp; Social Work</td>\n",
              "      <td>22716</td>\n",
              "      <td>355</td>\n",
              "      <td>16612</td>\n",
              "      <td>12022</td>\n",
              "      <td>782</td>\n",
              "      <td>0.044958</td>\n",
              "      <td>70000.0</td>\n",
              "      <td>47000</td>\n",
              "      <td>95000.0</td>\n",
              "      <td>6519</td>\n",
              "      <td>4368</td>\n",
              "      <td>3033</td>\n",
              "      <td>357</td>\n",
              "      <td>0.075556</td>\n",
              "      <td>46000.0</td>\n",
              "      <td>30000</td>\n",
              "      <td>70000.0</td>\n",
              "      <td>0.777014</td>\n",
              "      <td>0.521739</td>\n",
              "    </tr>\n",
              "    <tr>\n",
              "      <th>170</th>\n",
              "      <td>6106</td>\n",
              "      <td>HEALTH AND MEDICAL PREPARATORY PROGRAMS</td>\n",
              "      <td>Health</td>\n",
              "      <td>114971</td>\n",
              "      <td>1766</td>\n",
              "      <td>78132</td>\n",
              "      <td>58825</td>\n",
              "      <td>1732</td>\n",
              "      <td>0.021687</td>\n",
              "      <td>135000.0</td>\n",
              "      <td>70000</td>\n",
              "      <td>294000.0</td>\n",
              "      <td>26320</td>\n",
              "      <td>16221</td>\n",
              "      <td>12185</td>\n",
              "      <td>1012</td>\n",
              "      <td>0.058725</td>\n",
              "      <td>51000.0</td>\n",
              "      <td>35000</td>\n",
              "      <td>87000.0</td>\n",
              "      <td>0.813718</td>\n",
              "      <td>1.647059</td>\n",
              "    </tr>\n",
              "    <tr>\n",
              "      <th>171</th>\n",
              "      <td>2303</td>\n",
              "      <td>SCHOOL STUDENT COUNSELING</td>\n",
              "      <td>Education</td>\n",
              "      <td>19841</td>\n",
              "      <td>260</td>\n",
              "      <td>11313</td>\n",
              "      <td>8130</td>\n",
              "      <td>613</td>\n",
              "      <td>0.051400</td>\n",
              "      <td>56000.0</td>\n",
              "      <td>42000</td>\n",
              "      <td>70000.0</td>\n",
              "      <td>2232</td>\n",
              "      <td>1328</td>\n",
              "      <td>980</td>\n",
              "      <td>169</td>\n",
              "      <td>0.112892</td>\n",
              "      <td>42000.0</td>\n",
              "      <td>27000</td>\n",
              "      <td>51000.0</td>\n",
              "      <td>0.898881</td>\n",
              "      <td>0.333333</td>\n",
              "    </tr>\n",
              "    <tr>\n",
              "      <th>172</th>\n",
              "      <td>2301</td>\n",
              "      <td>EDUCATIONAL ADMINISTRATION AND SUPERVISION</td>\n",
              "      <td>Education</td>\n",
              "      <td>54159</td>\n",
              "      <td>841</td>\n",
              "      <td>34142</td>\n",
              "      <td>26850</td>\n",
              "      <td>582</td>\n",
              "      <td>0.016761</td>\n",
              "      <td>65000.0</td>\n",
              "      <td>50000</td>\n",
              "      <td>86000.0</td>\n",
              "      <td>4003</td>\n",
              "      <td>3079</td>\n",
              "      <td>2434</td>\n",
              "      <td>0</td>\n",
              "      <td>0.000000</td>\n",
              "      <td>58000.0</td>\n",
              "      <td>45000</td>\n",
              "      <td>79000.0</td>\n",
              "      <td>0.931175</td>\n",
              "      <td>0.120690</td>\n",
              "    </tr>\n",
              "  </tbody>\n",
              "</table>\n",
              "<p>173 rows × 22 columns</p>\n",
              "</div>"
            ],
            "text/plain": [
              "     Major_code                                       Major  \\\n",
              "0          5601                       CONSTRUCTION SERVICES   \n",
              "1          6004           COMMERCIAL ART AND GRAPHIC DESIGN   \n",
              "2          6211                      HOSPITALITY MANAGEMENT   \n",
              "3          2201      COSMETOLOGY SERVICES AND CULINARY ARTS   \n",
              "4          2001                  COMMUNICATION TECHNOLOGIES   \n",
              "..          ...                                         ...   \n",
              "168        5203                       COUNSELING PSYCHOLOGY   \n",
              "169        5202                         CLINICAL PSYCHOLOGY   \n",
              "170        6106     HEALTH AND MEDICAL PREPARATORY PROGRAMS   \n",
              "171        2303                   SCHOOL STUDENT COUNSELING   \n",
              "172        2301  EDUCATIONAL ADMINISTRATION AND SUPERVISION   \n",
              "\n",
              "                          Major_category  Grad_total  Grad_sample_size  \\\n",
              "0    Industrial Arts & Consumer Services        9173               200   \n",
              "1                                   Arts       53864               882   \n",
              "2                               Business       24417               437   \n",
              "3    Industrial Arts & Consumer Services        5411                72   \n",
              "4                Computers & Mathematics        9109               171   \n",
              "..                                   ...         ...               ...   \n",
              "168             Psychology & Social Work       51812               724   \n",
              "169             Psychology & Social Work       22716               355   \n",
              "170                               Health      114971              1766   \n",
              "171                            Education       19841               260   \n",
              "172                            Education       54159               841   \n",
              "\n",
              "     Grad_employed  Grad_full_time_year_round  Grad_unemployed  \\\n",
              "0             7098                       6511              681   \n",
              "1            40492                      29553             2482   \n",
              "2            18368                      14784             1465   \n",
              "3             3590                       2701              316   \n",
              "4             7512                       5622              466   \n",
              "..             ...                        ...              ...   \n",
              "168          38468                      28808             1420   \n",
              "169          16612                      12022              782   \n",
              "170          78132                      58825             1732   \n",
              "171          11313                       8130              613   \n",
              "172          34142                      26850              582   \n",
              "\n",
              "     Grad_unemployment_rate  Grad_median  Grad_P25  Grad_P75  Nongrad_total  \\\n",
              "0                  0.087543      75000.0     53000  110000.0          86062   \n",
              "1                  0.057756      60000.0     40000   89000.0         461977   \n",
              "2                  0.073867      65000.0     45000  100000.0         179335   \n",
              "3                  0.080901      47000.0     24500   85000.0          37575   \n",
              "4                  0.058411      57000.0     40600   83700.0          53819   \n",
              "..                      ...          ...       ...       ...            ...   \n",
              "168                0.035600      50000.0     36000   65000.0          16781   \n",
              "169                0.044958      70000.0     47000   95000.0           6519   \n",
              "170                0.021687     135000.0     70000  294000.0          26320   \n",
              "171                0.051400      56000.0     42000   70000.0           2232   \n",
              "172                0.016761      65000.0     50000   86000.0           4003   \n",
              "\n",
              "     Nongrad_employed  Nongrad_full_time_year_round  Nongrad_unemployed  \\\n",
              "0               73607                         62435                3928   \n",
              "1              347166                        250596               25484   \n",
              "2              145597                        113579                7409   \n",
              "3               29738                         23249                1661   \n",
              "4               43163                         34231                3389   \n",
              "..                ...                           ...                 ...   \n",
              "168             12377                          8502                 835   \n",
              "169              4368                          3033                 357   \n",
              "170             16221                         12185                1012   \n",
              "171              1328                           980                 169   \n",
              "172              3079                          2434                   0   \n",
              "\n",
              "     Nongrad_unemployment_rate  Nongrad_median  Nongrad_P25  Nongrad_P75  \\\n",
              "0                     0.050661         65000.0        47000      98000.0   \n",
              "1                     0.068386         48000.0        34000      71000.0   \n",
              "2                     0.048423         50000.0        35000      75000.0   \n",
              "3                     0.052900         41600.0        29000      60000.0   \n",
              "4                     0.072800         52000.0        36000      78000.0   \n",
              "..                         ...             ...          ...          ...   \n",
              "168                   0.063200         40000.0        25000      50000.0   \n",
              "169                   0.075556         46000.0        30000      70000.0   \n",
              "170                   0.058725         51000.0        35000      87000.0   \n",
              "171                   0.112892         42000.0        27000      51000.0   \n",
              "172                   0.000000         58000.0        45000      79000.0   \n",
              "\n",
              "     Grad_share  Grad_premium  \n",
              "0      0.096320      0.153846  \n",
              "1      0.104420      0.250000  \n",
              "2      0.119837      0.300000  \n",
              "3      0.125878      0.129808  \n",
              "4      0.144753      0.096154  \n",
              "..          ...           ...  \n",
              "168    0.755354      0.250000  \n",
              "169    0.777014      0.521739  \n",
              "170    0.813718      1.647059  \n",
              "171    0.898881      0.333333  \n",
              "172    0.931175      0.120690  \n",
              "\n",
              "[173 rows x 22 columns]"
            ]
          },
          "execution_count": 9,
          "metadata": {},
          "output_type": "execute_result"
        }
      ],
      "source": [
        "# Set display options to show all columns\n",
        "pd.set_option('display.max_columns', None)\n",
        "df"
      ]
    },
    {
      "cell_type": "markdown",
      "metadata": {
        "id": "U7JAQ1iOyzty"
      },
      "source": [
        "#**ASSIGNMENT 2 - Correlation and Regression Analysis**"
      ]
    },
    {
      "cell_type": "markdown",
      "metadata": {
        "id": "VEm2KmlyzJGY"
      },
      "source": [
        "**INSTRUCTIONS**\n",
        "\n",
        "This assignment is intended to explore the univariate linear relationships between quantitative variables in the data. Choose the dependent and independent variables based on your last name. Use SPSS to analyze the relationship between the two variables and complete each of the following questions. As appropriate, copy the SPSS output and paste it into the correct part below. For problems that require a written response, type the answer below.\n",
        "\n",
        "| Last Name | Dependent Variable (y) | Independent Variable (x) |\n",
        "|-----------|------------------------|--------------------------|\n",
        "| A-L       | Grad_median            | Grad_unemployment_rate   |\n",
        "| M-Z       | Nongrad_median         | Nongrad_unemployment_rate|\n",
        "\n",
        "\n"
      ]
    },
    {
      "cell_type": "markdown",
      "metadata": {
        "id": "xkEtDHs70CzZ"
      },
      "source": [
        "##**QUESTION 1**\n",
        "\n",
        "Construct a scatterplot of the relationship between\n",
        "the two variables without the line of regression. How would you describe\n",
        "the two variables? Is this what you expected?"
      ]
    },
    {
      "cell_type": "code",
      "execution_count": 22,
      "metadata": {},
      "outputs": [
        {
          "data": {
            "application/vnd.plotly.v1+json": {
              "config": {
                "plotlyServerURL": "https://plot.ly"
              },
              "data": [
                {
                  "hovertemplate": "Grad_unemployment_rate=%{x}<br>Grad_median=%{y}<extra></extra>",
                  "legendgroup": "",
                  "marker": {
                    "color": "#636efa",
                    "symbol": "circle"
                  },
                  "mode": "markers",
                  "name": "",
                  "orientation": "v",
                  "showlegend": false,
                  "type": "scatter",
                  "x": [
                    0.087543386,
                    0.057755852,
                    0.073866788,
                    0.080901178,
                    0.058410629,
                    0,
                    0.052059489,
                    0.03483833,
                    0.024612203,
                    0.030561599,
                    0.096472931,
                    0.13851498,
                    0.06523569,
                    0.051641334,
                    0.046633357,
                    0.081605691,
                    0.04661565,
                    0.031697819,
                    0.039270596,
                    0.038461538,
                    0.041004871,
                    0.049032311,
                    0.045299817,
                    0.038714642,
                    0.059586631,
                    0.022848321,
                    0.040894931,
                    0.025552736,
                    0.040049214,
                    0.048657665,
                    0.074243813,
                    0.054460646,
                    0.042023298,
                    0.025342834,
                    0.045358331,
                    0.041857347,
                    0.06100455,
                    0.021266734,
                    0.049995759,
                    0.058903313,
                    0.020124913,
                    0.00886918,
                    0.029324923,
                    0.041296423,
                    0.042111271,
                    0.060061499,
                    0.038421666,
                    0.029495955,
                    0.050362239,
                    0.037142695,
                    0.025317882,
                    0.044092513,
                    0.019471488,
                    0.031253986,
                    0.064715966,
                    0.054889566,
                    0.038852808,
                    0.067667237,
                    0.051253413,
                    0.094637671,
                    0.036198118,
                    0.051940026,
                    0.019985196,
                    0.035276229,
                    0.031130244,
                    0.034601202,
                    0.036654034,
                    0.059671887,
                    0.070332221,
                    0.014667817,
                    0.038918793,
                    0.035998475,
                    0.0281065,
                    0.034229499,
                    0.021300793,
                    0.056908862,
                    0.027165944,
                    0.041878308,
                    0.058474838,
                    0.012326529,
                    0.017415354,
                    0.086452468,
                    0.035449332,
                    0.059329069,
                    0.032956266,
                    0.038624622,
                    0.028706395,
                    0.061080658,
                    0.03189197,
                    0.102890173,
                    0.053657509,
                    0.027305449,
                    0.022057897,
                    0.063924979,
                    0.024018146,
                    0.043768425,
                    0.027885303,
                    0.030152487,
                    0.036230513,
                    0.032938452,
                    0.022218272,
                    0.034637345,
                    0.039702942,
                    0.058849492,
                    0.020362893,
                    0.04530453,
                    0.054545455,
                    0.033349858,
                    0.041472011,
                    0.028403487,
                    0.05083188,
                    0.051283916,
                    0.049701157,
                    0.037570891,
                    0.040584103,
                    0.018759683,
                    0.027408238,
                    0.024823638,
                    0.043523065,
                    0.03755603,
                    0.044817237,
                    0.037818182,
                    0.026647178,
                    0.03857466,
                    0.027931687,
                    0.038975831,
                    0.048050929,
                    0.02863239,
                    0.042357586,
                    0.038578048,
                    0.031756946,
                    0.037644956,
                    0.038808906,
                    0.045280779,
                    0.045745654,
                    0.025860949,
                    0.030555665,
                    0.022906378,
                    0.022291055,
                    0.0176851,
                    0.02606824,
                    0.028967718,
                    0.04534244,
                    0.031074409,
                    0.011538018,
                    0.031226486,
                    0.014248162,
                    0.022187594,
                    0.032159086,
                    0.038890238,
                    0.022464859,
                    0.033210059,
                    0.021104706,
                    0.020028612,
                    0.029981368,
                    0.020920664,
                    0.018447581,
                    0.029936779,
                    0.028207488,
                    0.024229927,
                    0.020927973,
                    0.035411851,
                    0.017611146,
                    0.025600246,
                    0.024211872,
                    0.019423853,
                    0.021777281,
                    0.0142862,
                    0.035599679,
                    0.044958032,
                    0.021686868,
                    0.051400302,
                    0.016760742
                  ],
                  "xaxis": "x",
                  "y": [
                    75000,
                    60000,
                    65000,
                    47000,
                    57000,
                    75000,
                    80000,
                    67000,
                    85000,
                    60000,
                    57000,
                    62000,
                    78000,
                    57000,
                    90000,
                    80000,
                    75000,
                    80000,
                    84500,
                    55000,
                    68000,
                    77000,
                    65000,
                    89000,
                    81000,
                    94000,
                    85000,
                    76000,
                    80000,
                    65000,
                    110000,
                    85000,
                    70000,
                    80000,
                    74000,
                    88000,
                    58000,
                    84000,
                    84000,
                    78000,
                    55000,
                    80000,
                    68000,
                    78000,
                    70000,
                    50100,
                    53000,
                    70000,
                    50750,
                    58000,
                    60000,
                    95000,
                    124000,
                    67000,
                    70000,
                    72000,
                    58000,
                    58600,
                    94000,
                    107000,
                    95000,
                    79000,
                    80000,
                    68000,
                    73000,
                    90000,
                    62000,
                    66000,
                    72000,
                    65000,
                    76000,
                    100000,
                    86000,
                    98000,
                    97000,
                    100000,
                    50000,
                    64000,
                    69000,
                    70300,
                    70000,
                    54000,
                    100000,
                    65000,
                    72000,
                    98000,
                    105000,
                    71000,
                    102000,
                    98000,
                    65000,
                    60000,
                    70000,
                    70000,
                    65000,
                    100000,
                    65000,
                    68500,
                    106000,
                    48000,
                    90000,
                    61000,
                    80000,
                    75000,
                    55000,
                    75000,
                    74000,
                    58000,
                    60000,
                    59000,
                    65000,
                    92000,
                    65000,
                    53000,
                    67000,
                    55000,
                    84000,
                    111000,
                    68000,
                    64000,
                    75000,
                    80000,
                    82000,
                    102000,
                    107000,
                    80000,
                    73000,
                    100000,
                    92000,
                    67000,
                    60000,
                    89000,
                    92000,
                    86000,
                    81000,
                    65000,
                    68000,
                    100000,
                    61000,
                    90000,
                    82000,
                    100000,
                    95000,
                    58000,
                    110000,
                    89000,
                    60000,
                    62000,
                    85000,
                    65000,
                    58000,
                    70000,
                    95000,
                    96000,
                    100000,
                    90000,
                    90000,
                    52000,
                    85000,
                    105000,
                    110000,
                    100000,
                    58000,
                    61000,
                    96000,
                    78000,
                    95000,
                    65000,
                    50000,
                    70000,
                    135000,
                    56000,
                    65000
                  ],
                  "yaxis": "y"
                }
              ],
              "layout": {
                "legend": {
                  "tracegroupgap": 0
                },
                "plot_bgcolor": "rgba(255,255,255,1)",
                "template": {
                  "data": {
                    "bar": [
                      {
                        "error_x": {
                          "color": "#2a3f5f"
                        },
                        "error_y": {
                          "color": "#2a3f5f"
                        },
                        "marker": {
                          "line": {
                            "color": "#E5ECF6",
                            "width": 0.5
                          },
                          "pattern": {
                            "fillmode": "overlay",
                            "size": 10,
                            "solidity": 0.2
                          }
                        },
                        "type": "bar"
                      }
                    ],
                    "barpolar": [
                      {
                        "marker": {
                          "line": {
                            "color": "#E5ECF6",
                            "width": 0.5
                          },
                          "pattern": {
                            "fillmode": "overlay",
                            "size": 10,
                            "solidity": 0.2
                          }
                        },
                        "type": "barpolar"
                      }
                    ],
                    "carpet": [
                      {
                        "aaxis": {
                          "endlinecolor": "#2a3f5f",
                          "gridcolor": "white",
                          "linecolor": "white",
                          "minorgridcolor": "white",
                          "startlinecolor": "#2a3f5f"
                        },
                        "baxis": {
                          "endlinecolor": "#2a3f5f",
                          "gridcolor": "white",
                          "linecolor": "white",
                          "minorgridcolor": "white",
                          "startlinecolor": "#2a3f5f"
                        },
                        "type": "carpet"
                      }
                    ],
                    "choropleth": [
                      {
                        "colorbar": {
                          "outlinewidth": 0,
                          "ticks": ""
                        },
                        "type": "choropleth"
                      }
                    ],
                    "contour": [
                      {
                        "colorbar": {
                          "outlinewidth": 0,
                          "ticks": ""
                        },
                        "colorscale": [
                          [
                            0,
                            "#0d0887"
                          ],
                          [
                            0.1111111111111111,
                            "#46039f"
                          ],
                          [
                            0.2222222222222222,
                            "#7201a8"
                          ],
                          [
                            0.3333333333333333,
                            "#9c179e"
                          ],
                          [
                            0.4444444444444444,
                            "#bd3786"
                          ],
                          [
                            0.5555555555555556,
                            "#d8576b"
                          ],
                          [
                            0.6666666666666666,
                            "#ed7953"
                          ],
                          [
                            0.7777777777777778,
                            "#fb9f3a"
                          ],
                          [
                            0.8888888888888888,
                            "#fdca26"
                          ],
                          [
                            1,
                            "#f0f921"
                          ]
                        ],
                        "type": "contour"
                      }
                    ],
                    "contourcarpet": [
                      {
                        "colorbar": {
                          "outlinewidth": 0,
                          "ticks": ""
                        },
                        "type": "contourcarpet"
                      }
                    ],
                    "heatmap": [
                      {
                        "colorbar": {
                          "outlinewidth": 0,
                          "ticks": ""
                        },
                        "colorscale": [
                          [
                            0,
                            "#0d0887"
                          ],
                          [
                            0.1111111111111111,
                            "#46039f"
                          ],
                          [
                            0.2222222222222222,
                            "#7201a8"
                          ],
                          [
                            0.3333333333333333,
                            "#9c179e"
                          ],
                          [
                            0.4444444444444444,
                            "#bd3786"
                          ],
                          [
                            0.5555555555555556,
                            "#d8576b"
                          ],
                          [
                            0.6666666666666666,
                            "#ed7953"
                          ],
                          [
                            0.7777777777777778,
                            "#fb9f3a"
                          ],
                          [
                            0.8888888888888888,
                            "#fdca26"
                          ],
                          [
                            1,
                            "#f0f921"
                          ]
                        ],
                        "type": "heatmap"
                      }
                    ],
                    "heatmapgl": [
                      {
                        "colorbar": {
                          "outlinewidth": 0,
                          "ticks": ""
                        },
                        "colorscale": [
                          [
                            0,
                            "#0d0887"
                          ],
                          [
                            0.1111111111111111,
                            "#46039f"
                          ],
                          [
                            0.2222222222222222,
                            "#7201a8"
                          ],
                          [
                            0.3333333333333333,
                            "#9c179e"
                          ],
                          [
                            0.4444444444444444,
                            "#bd3786"
                          ],
                          [
                            0.5555555555555556,
                            "#d8576b"
                          ],
                          [
                            0.6666666666666666,
                            "#ed7953"
                          ],
                          [
                            0.7777777777777778,
                            "#fb9f3a"
                          ],
                          [
                            0.8888888888888888,
                            "#fdca26"
                          ],
                          [
                            1,
                            "#f0f921"
                          ]
                        ],
                        "type": "heatmapgl"
                      }
                    ],
                    "histogram": [
                      {
                        "marker": {
                          "pattern": {
                            "fillmode": "overlay",
                            "size": 10,
                            "solidity": 0.2
                          }
                        },
                        "type": "histogram"
                      }
                    ],
                    "histogram2d": [
                      {
                        "colorbar": {
                          "outlinewidth": 0,
                          "ticks": ""
                        },
                        "colorscale": [
                          [
                            0,
                            "#0d0887"
                          ],
                          [
                            0.1111111111111111,
                            "#46039f"
                          ],
                          [
                            0.2222222222222222,
                            "#7201a8"
                          ],
                          [
                            0.3333333333333333,
                            "#9c179e"
                          ],
                          [
                            0.4444444444444444,
                            "#bd3786"
                          ],
                          [
                            0.5555555555555556,
                            "#d8576b"
                          ],
                          [
                            0.6666666666666666,
                            "#ed7953"
                          ],
                          [
                            0.7777777777777778,
                            "#fb9f3a"
                          ],
                          [
                            0.8888888888888888,
                            "#fdca26"
                          ],
                          [
                            1,
                            "#f0f921"
                          ]
                        ],
                        "type": "histogram2d"
                      }
                    ],
                    "histogram2dcontour": [
                      {
                        "colorbar": {
                          "outlinewidth": 0,
                          "ticks": ""
                        },
                        "colorscale": [
                          [
                            0,
                            "#0d0887"
                          ],
                          [
                            0.1111111111111111,
                            "#46039f"
                          ],
                          [
                            0.2222222222222222,
                            "#7201a8"
                          ],
                          [
                            0.3333333333333333,
                            "#9c179e"
                          ],
                          [
                            0.4444444444444444,
                            "#bd3786"
                          ],
                          [
                            0.5555555555555556,
                            "#d8576b"
                          ],
                          [
                            0.6666666666666666,
                            "#ed7953"
                          ],
                          [
                            0.7777777777777778,
                            "#fb9f3a"
                          ],
                          [
                            0.8888888888888888,
                            "#fdca26"
                          ],
                          [
                            1,
                            "#f0f921"
                          ]
                        ],
                        "type": "histogram2dcontour"
                      }
                    ],
                    "mesh3d": [
                      {
                        "colorbar": {
                          "outlinewidth": 0,
                          "ticks": ""
                        },
                        "type": "mesh3d"
                      }
                    ],
                    "parcoords": [
                      {
                        "line": {
                          "colorbar": {
                            "outlinewidth": 0,
                            "ticks": ""
                          }
                        },
                        "type": "parcoords"
                      }
                    ],
                    "pie": [
                      {
                        "automargin": true,
                        "type": "pie"
                      }
                    ],
                    "scatter": [
                      {
                        "fillpattern": {
                          "fillmode": "overlay",
                          "size": 10,
                          "solidity": 0.2
                        },
                        "type": "scatter"
                      }
                    ],
                    "scatter3d": [
                      {
                        "line": {
                          "colorbar": {
                            "outlinewidth": 0,
                            "ticks": ""
                          }
                        },
                        "marker": {
                          "colorbar": {
                            "outlinewidth": 0,
                            "ticks": ""
                          }
                        },
                        "type": "scatter3d"
                      }
                    ],
                    "scattercarpet": [
                      {
                        "marker": {
                          "colorbar": {
                            "outlinewidth": 0,
                            "ticks": ""
                          }
                        },
                        "type": "scattercarpet"
                      }
                    ],
                    "scattergeo": [
                      {
                        "marker": {
                          "colorbar": {
                            "outlinewidth": 0,
                            "ticks": ""
                          }
                        },
                        "type": "scattergeo"
                      }
                    ],
                    "scattergl": [
                      {
                        "marker": {
                          "colorbar": {
                            "outlinewidth": 0,
                            "ticks": ""
                          }
                        },
                        "type": "scattergl"
                      }
                    ],
                    "scattermapbox": [
                      {
                        "marker": {
                          "colorbar": {
                            "outlinewidth": 0,
                            "ticks": ""
                          }
                        },
                        "type": "scattermapbox"
                      }
                    ],
                    "scatterpolar": [
                      {
                        "marker": {
                          "colorbar": {
                            "outlinewidth": 0,
                            "ticks": ""
                          }
                        },
                        "type": "scatterpolar"
                      }
                    ],
                    "scatterpolargl": [
                      {
                        "marker": {
                          "colorbar": {
                            "outlinewidth": 0,
                            "ticks": ""
                          }
                        },
                        "type": "scatterpolargl"
                      }
                    ],
                    "scatterternary": [
                      {
                        "marker": {
                          "colorbar": {
                            "outlinewidth": 0,
                            "ticks": ""
                          }
                        },
                        "type": "scatterternary"
                      }
                    ],
                    "surface": [
                      {
                        "colorbar": {
                          "outlinewidth": 0,
                          "ticks": ""
                        },
                        "colorscale": [
                          [
                            0,
                            "#0d0887"
                          ],
                          [
                            0.1111111111111111,
                            "#46039f"
                          ],
                          [
                            0.2222222222222222,
                            "#7201a8"
                          ],
                          [
                            0.3333333333333333,
                            "#9c179e"
                          ],
                          [
                            0.4444444444444444,
                            "#bd3786"
                          ],
                          [
                            0.5555555555555556,
                            "#d8576b"
                          ],
                          [
                            0.6666666666666666,
                            "#ed7953"
                          ],
                          [
                            0.7777777777777778,
                            "#fb9f3a"
                          ],
                          [
                            0.8888888888888888,
                            "#fdca26"
                          ],
                          [
                            1,
                            "#f0f921"
                          ]
                        ],
                        "type": "surface"
                      }
                    ],
                    "table": [
                      {
                        "cells": {
                          "fill": {
                            "color": "#EBF0F8"
                          },
                          "line": {
                            "color": "white"
                          }
                        },
                        "header": {
                          "fill": {
                            "color": "#C8D4E3"
                          },
                          "line": {
                            "color": "white"
                          }
                        },
                        "type": "table"
                      }
                    ]
                  },
                  "layout": {
                    "annotationdefaults": {
                      "arrowcolor": "#2a3f5f",
                      "arrowhead": 0,
                      "arrowwidth": 1
                    },
                    "autotypenumbers": "strict",
                    "coloraxis": {
                      "colorbar": {
                        "outlinewidth": 0,
                        "ticks": ""
                      }
                    },
                    "colorscale": {
                      "diverging": [
                        [
                          0,
                          "#8e0152"
                        ],
                        [
                          0.1,
                          "#c51b7d"
                        ],
                        [
                          0.2,
                          "#de77ae"
                        ],
                        [
                          0.3,
                          "#f1b6da"
                        ],
                        [
                          0.4,
                          "#fde0ef"
                        ],
                        [
                          0.5,
                          "#f7f7f7"
                        ],
                        [
                          0.6,
                          "#e6f5d0"
                        ],
                        [
                          0.7,
                          "#b8e186"
                        ],
                        [
                          0.8,
                          "#7fbc41"
                        ],
                        [
                          0.9,
                          "#4d9221"
                        ],
                        [
                          1,
                          "#276419"
                        ]
                      ],
                      "sequential": [
                        [
                          0,
                          "#0d0887"
                        ],
                        [
                          0.1111111111111111,
                          "#46039f"
                        ],
                        [
                          0.2222222222222222,
                          "#7201a8"
                        ],
                        [
                          0.3333333333333333,
                          "#9c179e"
                        ],
                        [
                          0.4444444444444444,
                          "#bd3786"
                        ],
                        [
                          0.5555555555555556,
                          "#d8576b"
                        ],
                        [
                          0.6666666666666666,
                          "#ed7953"
                        ],
                        [
                          0.7777777777777778,
                          "#fb9f3a"
                        ],
                        [
                          0.8888888888888888,
                          "#fdca26"
                        ],
                        [
                          1,
                          "#f0f921"
                        ]
                      ],
                      "sequentialminus": [
                        [
                          0,
                          "#0d0887"
                        ],
                        [
                          0.1111111111111111,
                          "#46039f"
                        ],
                        [
                          0.2222222222222222,
                          "#7201a8"
                        ],
                        [
                          0.3333333333333333,
                          "#9c179e"
                        ],
                        [
                          0.4444444444444444,
                          "#bd3786"
                        ],
                        [
                          0.5555555555555556,
                          "#d8576b"
                        ],
                        [
                          0.6666666666666666,
                          "#ed7953"
                        ],
                        [
                          0.7777777777777778,
                          "#fb9f3a"
                        ],
                        [
                          0.8888888888888888,
                          "#fdca26"
                        ],
                        [
                          1,
                          "#f0f921"
                        ]
                      ]
                    },
                    "colorway": [
                      "#636efa",
                      "#EF553B",
                      "#00cc96",
                      "#ab63fa",
                      "#FFA15A",
                      "#19d3f3",
                      "#FF6692",
                      "#B6E880",
                      "#FF97FF",
                      "#FECB52"
                    ],
                    "font": {
                      "color": "#2a3f5f"
                    },
                    "geo": {
                      "bgcolor": "white",
                      "lakecolor": "white",
                      "landcolor": "#E5ECF6",
                      "showlakes": true,
                      "showland": true,
                      "subunitcolor": "white"
                    },
                    "hoverlabel": {
                      "align": "left"
                    },
                    "hovermode": "closest",
                    "mapbox": {
                      "style": "light"
                    },
                    "paper_bgcolor": "white",
                    "plot_bgcolor": "#E5ECF6",
                    "polar": {
                      "angularaxis": {
                        "gridcolor": "white",
                        "linecolor": "white",
                        "ticks": ""
                      },
                      "bgcolor": "#E5ECF6",
                      "radialaxis": {
                        "gridcolor": "white",
                        "linecolor": "white",
                        "ticks": ""
                      }
                    },
                    "scene": {
                      "xaxis": {
                        "backgroundcolor": "#E5ECF6",
                        "gridcolor": "white",
                        "gridwidth": 2,
                        "linecolor": "white",
                        "showbackground": true,
                        "ticks": "",
                        "zerolinecolor": "white"
                      },
                      "yaxis": {
                        "backgroundcolor": "#E5ECF6",
                        "gridcolor": "white",
                        "gridwidth": 2,
                        "linecolor": "white",
                        "showbackground": true,
                        "ticks": "",
                        "zerolinecolor": "white"
                      },
                      "zaxis": {
                        "backgroundcolor": "#E5ECF6",
                        "gridcolor": "white",
                        "gridwidth": 2,
                        "linecolor": "white",
                        "showbackground": true,
                        "ticks": "",
                        "zerolinecolor": "white"
                      }
                    },
                    "shapedefaults": {
                      "line": {
                        "color": "#2a3f5f"
                      }
                    },
                    "ternary": {
                      "aaxis": {
                        "gridcolor": "white",
                        "linecolor": "white",
                        "ticks": ""
                      },
                      "baxis": {
                        "gridcolor": "white",
                        "linecolor": "white",
                        "ticks": ""
                      },
                      "bgcolor": "#E5ECF6",
                      "caxis": {
                        "gridcolor": "white",
                        "linecolor": "white",
                        "ticks": ""
                      }
                    },
                    "title": {
                      "x": 0.05
                    },
                    "xaxis": {
                      "automargin": true,
                      "gridcolor": "white",
                      "linecolor": "white",
                      "ticks": "",
                      "title": {
                        "standoff": 15
                      },
                      "zerolinecolor": "white",
                      "zerolinewidth": 2
                    },
                    "yaxis": {
                      "automargin": true,
                      "gridcolor": "white",
                      "linecolor": "white",
                      "ticks": "",
                      "title": {
                        "standoff": 15
                      },
                      "zerolinecolor": "white",
                      "zerolinewidth": 2
                    }
                  }
                },
                "title": {
                  "font": {
                    "size": 16
                  },
                  "text": "Scatter Plot of Grad_median by Grad_unemployment_rate for A-L",
                  "x": 0.5,
                  "xanchor": "center",
                  "y": 0.9,
                  "yanchor": "top"
                },
                "xaxis": {
                  "anchor": "y",
                  "domain": [
                    0,
                    1
                  ],
                  "linecolor": "black",
                  "showgrid": false,
                  "showline": true,
                  "title": {
                    "text": "Grad_unemployment_rate"
                  }
                },
                "yaxis": {
                  "anchor": "x",
                  "domain": [
                    0,
                    1
                  ],
                  "linecolor": "black",
                  "showgrid": false,
                  "showline": true,
                  "title": {
                    "text": "Grad_median"
                  }
                }
              }
            }
          },
          "metadata": {},
          "output_type": "display_data"
        },
        {
          "data": {
            "application/vnd.plotly.v1+json": {
              "config": {
                "plotlyServerURL": "https://plot.ly"
              },
              "data": [
                {
                  "hovertemplate": "Nongrad_unemployment_rate=%{x}<br>Nongrad_median=%{y}<extra></extra>",
                  "legendgroup": "",
                  "marker": {
                    "color": "#636efa",
                    "symbol": "circle"
                  },
                  "mode": "markers",
                  "name": "",
                  "orientation": "v",
                  "showlegend": false,
                  "type": "scatter",
                  "x": [
                    0.050660992,
                    0.068385885,
                    0.048422938,
                    0.052899774,
                    0.072800309,
                    0.069205077,
                    0.052719113,
                    0.025376782,
                    0.091643983,
                    0.063762469,
                    0.07994122,
                    0.051932559,
                    0.04146757,
                    0.07695541,
                    0.04375708,
                    0.05623694,
                    0.048798531,
                    0.062088077,
                    0.050589797,
                    0.160906607,
                    0.04897282,
                    0.057297939,
                    0.056334794,
                    0.042189087,
                    0.066013441,
                    0.040689517,
                    0.049106038,
                    0.034572889,
                    0.047356793,
                    0.060991552,
                    0.038372764,
                    0.055825178,
                    0.060115524,
                    0.02941836,
                    0.048254654,
                    0.051030882,
                    0.06790868,
                    0.025190097,
                    0.049979756,
                    0.065075763,
                    0.073152702,
                    0.065025795,
                    0.026432015,
                    0.038706366,
                    0.065280245,
                    0.073502535,
                    0.093842011,
                    0.053242438,
                    0.081685771,
                    0.052252298,
                    0.041817237,
                    0.044786316,
                    0.042372881,
                    0.030560026,
                    0.060497356,
                    0.065771065,
                    0.069391449,
                    0.079710643,
                    0.055936935,
                    0.055434666,
                    0.047420571,
                    0.052648467,
                    0.027918299,
                    0.046416258,
                    0.067269885,
                    0.05259075,
                    0.047306512,
                    0.058322611,
                    0.082621234,
                    0.053680358,
                    0.072280011,
                    0.045842588,
                    0.043517315,
                    0.050954607,
                    0.052533293,
                    0.04862495,
                    0.04714881,
                    0.062996528,
                    0.066578686,
                    0.039757939,
                    0.021716309,
                    0.038442979,
                    0.040931564,
                    0.079411862,
                    0.040108369,
                    0.049793309,
                    0,
                    0.092359362,
                    0.040651879,
                    0.025592902,
                    0.0644131,
                    0.044940781,
                    0.04933456,
                    0.072328826,
                    0.060999683,
                    0.055632913,
                    0.041980786,
                    0.047588899,
                    0.048934952,
                    0.039109021,
                    0.054204398,
                    0.038179585,
                    0.049409997,
                    0.065858892,
                    0.03630878,
                    0.08661744,
                    0.101796407,
                    0.041853498,
                    0.048207893,
                    0.039798701,
                    0.07597472,
                    0.06023684,
                    0.065665887,
                    0.056471818,
                    0.065287334,
                    0.032063131,
                    0.062530633,
                    0.032982907,
                    0.062108329,
                    0.064386655,
                    0.065917795,
                    0.04024349,
                    0.037532988,
                    0.043111207,
                    0.038801284,
                    0.061487533,
                    0.056351398,
                    0.05339504,
                    0.048832272,
                    0.057226054,
                    0.042832331,
                    0.051180532,
                    0.062993251,
                    0.060334448,
                    0.033985467,
                    0.038594803,
                    0.082347184,
                    0.044273065,
                    0.042647664,
                    0.038648912,
                    0.079537787,
                    0.046971746,
                    0.04191344,
                    0.046223151,
                    0.020948502,
                    0.044460127,
                    0.036620872,
                    0.040915842,
                    0.046226965,
                    0.068537358,
                    0.043900496,
                    0.034687599,
                    0.052907033,
                    0.098740888,
                    0.054194904,
                    0.047937278,
                    0.053769783,
                    0.098528047,
                    0.04092087,
                    0.017907634,
                    0.047065415,
                    0.050036561,
                    0.069740411,
                    0.071072049,
                    0.062710355,
                    0.045584046,
                    0.02819272,
                    0.038244347,
                    0.063200121,
                    0.075555556,
                    0.05872454,
                    0.112892452,
                    0
                  ],
                  "xaxis": "x",
                  "y": [
                    65000,
                    48000,
                    50000,
                    41600,
                    52000,
                    50000,
                    60000,
                    55000,
                    60000,
                    51000,
                    50000,
                    50000,
                    61000,
                    50000,
                    69000,
                    58000,
                    55000,
                    65000,
                    70000,
                    46000,
                    52000,
                    60000,
                    50000,
                    72000,
                    60000,
                    66000,
                    60000,
                    60000,
                    65000,
                    52000,
                    76000,
                    68000,
                    53000,
                    56000,
                    65000,
                    65000,
                    46000,
                    64000,
                    70000,
                    80000,
                    44000,
                    64000,
                    50000,
                    59000,
                    50000,
                    38700,
                    40000,
                    53000,
                    38000,
                    42000,
                    45000,
                    70000,
                    126000,
                    50000,
                    55000,
                    57000,
                    42000,
                    45000,
                    70000,
                    75000,
                    80000,
                    52000,
                    63000,
                    55000,
                    55000,
                    70000,
                    48700,
                    46000,
                    64000,
                    65000,
                    50000,
                    75000,
                    59000,
                    80000,
                    81000,
                    95000,
                    37000,
                    49000,
                    50000,
                    48000,
                    63000,
                    55000,
                    82000,
                    47000,
                    63000,
                    76000,
                    87000,
                    49000,
                    100000,
                    92000,
                    45500,
                    45000,
                    52000,
                    50000,
                    50000,
                    70000,
                    50000,
                    50000,
                    90000,
                    40000,
                    60000,
                    50000,
                    65000,
                    58000,
                    40000,
                    63000,
                    64000,
                    44000,
                    46400,
                    44000,
                    49000,
                    78000,
                    45000,
                    40000,
                    50000,
                    40000,
                    66000,
                    107000,
                    47000,
                    46000,
                    50000,
                    60000,
                    60000,
                    90000,
                    85000,
                    52000,
                    54000,
                    76000,
                    75000,
                    50000,
                    47000,
                    68000,
                    60000,
                    60000,
                    71900,
                    55000,
                    47000,
                    98000,
                    45000,
                    58000,
                    52000,
                    70000,
                    55000,
                    43200,
                    100000,
                    63000,
                    45000,
                    48000,
                    60000,
                    46000,
                    43000,
                    50000,
                    54000,
                    85000,
                    60000,
                    50000,
                    70000,
                    40000,
                    50000,
                    66000,
                    55000,
                    74000,
                    40000,
                    40000,
                    55000,
                    56000,
                    80000,
                    44000,
                    40000,
                    46000,
                    51000,
                    42000,
                    58000
                  ],
                  "yaxis": "y"
                }
              ],
              "layout": {
                "legend": {
                  "tracegroupgap": 0
                },
                "plot_bgcolor": "rgba(255,255,255,1)",
                "template": {
                  "data": {
                    "bar": [
                      {
                        "error_x": {
                          "color": "#2a3f5f"
                        },
                        "error_y": {
                          "color": "#2a3f5f"
                        },
                        "marker": {
                          "line": {
                            "color": "#E5ECF6",
                            "width": 0.5
                          },
                          "pattern": {
                            "fillmode": "overlay",
                            "size": 10,
                            "solidity": 0.2
                          }
                        },
                        "type": "bar"
                      }
                    ],
                    "barpolar": [
                      {
                        "marker": {
                          "line": {
                            "color": "#E5ECF6",
                            "width": 0.5
                          },
                          "pattern": {
                            "fillmode": "overlay",
                            "size": 10,
                            "solidity": 0.2
                          }
                        },
                        "type": "barpolar"
                      }
                    ],
                    "carpet": [
                      {
                        "aaxis": {
                          "endlinecolor": "#2a3f5f",
                          "gridcolor": "white",
                          "linecolor": "white",
                          "minorgridcolor": "white",
                          "startlinecolor": "#2a3f5f"
                        },
                        "baxis": {
                          "endlinecolor": "#2a3f5f",
                          "gridcolor": "white",
                          "linecolor": "white",
                          "minorgridcolor": "white",
                          "startlinecolor": "#2a3f5f"
                        },
                        "type": "carpet"
                      }
                    ],
                    "choropleth": [
                      {
                        "colorbar": {
                          "outlinewidth": 0,
                          "ticks": ""
                        },
                        "type": "choropleth"
                      }
                    ],
                    "contour": [
                      {
                        "colorbar": {
                          "outlinewidth": 0,
                          "ticks": ""
                        },
                        "colorscale": [
                          [
                            0,
                            "#0d0887"
                          ],
                          [
                            0.1111111111111111,
                            "#46039f"
                          ],
                          [
                            0.2222222222222222,
                            "#7201a8"
                          ],
                          [
                            0.3333333333333333,
                            "#9c179e"
                          ],
                          [
                            0.4444444444444444,
                            "#bd3786"
                          ],
                          [
                            0.5555555555555556,
                            "#d8576b"
                          ],
                          [
                            0.6666666666666666,
                            "#ed7953"
                          ],
                          [
                            0.7777777777777778,
                            "#fb9f3a"
                          ],
                          [
                            0.8888888888888888,
                            "#fdca26"
                          ],
                          [
                            1,
                            "#f0f921"
                          ]
                        ],
                        "type": "contour"
                      }
                    ],
                    "contourcarpet": [
                      {
                        "colorbar": {
                          "outlinewidth": 0,
                          "ticks": ""
                        },
                        "type": "contourcarpet"
                      }
                    ],
                    "heatmap": [
                      {
                        "colorbar": {
                          "outlinewidth": 0,
                          "ticks": ""
                        },
                        "colorscale": [
                          [
                            0,
                            "#0d0887"
                          ],
                          [
                            0.1111111111111111,
                            "#46039f"
                          ],
                          [
                            0.2222222222222222,
                            "#7201a8"
                          ],
                          [
                            0.3333333333333333,
                            "#9c179e"
                          ],
                          [
                            0.4444444444444444,
                            "#bd3786"
                          ],
                          [
                            0.5555555555555556,
                            "#d8576b"
                          ],
                          [
                            0.6666666666666666,
                            "#ed7953"
                          ],
                          [
                            0.7777777777777778,
                            "#fb9f3a"
                          ],
                          [
                            0.8888888888888888,
                            "#fdca26"
                          ],
                          [
                            1,
                            "#f0f921"
                          ]
                        ],
                        "type": "heatmap"
                      }
                    ],
                    "heatmapgl": [
                      {
                        "colorbar": {
                          "outlinewidth": 0,
                          "ticks": ""
                        },
                        "colorscale": [
                          [
                            0,
                            "#0d0887"
                          ],
                          [
                            0.1111111111111111,
                            "#46039f"
                          ],
                          [
                            0.2222222222222222,
                            "#7201a8"
                          ],
                          [
                            0.3333333333333333,
                            "#9c179e"
                          ],
                          [
                            0.4444444444444444,
                            "#bd3786"
                          ],
                          [
                            0.5555555555555556,
                            "#d8576b"
                          ],
                          [
                            0.6666666666666666,
                            "#ed7953"
                          ],
                          [
                            0.7777777777777778,
                            "#fb9f3a"
                          ],
                          [
                            0.8888888888888888,
                            "#fdca26"
                          ],
                          [
                            1,
                            "#f0f921"
                          ]
                        ],
                        "type": "heatmapgl"
                      }
                    ],
                    "histogram": [
                      {
                        "marker": {
                          "pattern": {
                            "fillmode": "overlay",
                            "size": 10,
                            "solidity": 0.2
                          }
                        },
                        "type": "histogram"
                      }
                    ],
                    "histogram2d": [
                      {
                        "colorbar": {
                          "outlinewidth": 0,
                          "ticks": ""
                        },
                        "colorscale": [
                          [
                            0,
                            "#0d0887"
                          ],
                          [
                            0.1111111111111111,
                            "#46039f"
                          ],
                          [
                            0.2222222222222222,
                            "#7201a8"
                          ],
                          [
                            0.3333333333333333,
                            "#9c179e"
                          ],
                          [
                            0.4444444444444444,
                            "#bd3786"
                          ],
                          [
                            0.5555555555555556,
                            "#d8576b"
                          ],
                          [
                            0.6666666666666666,
                            "#ed7953"
                          ],
                          [
                            0.7777777777777778,
                            "#fb9f3a"
                          ],
                          [
                            0.8888888888888888,
                            "#fdca26"
                          ],
                          [
                            1,
                            "#f0f921"
                          ]
                        ],
                        "type": "histogram2d"
                      }
                    ],
                    "histogram2dcontour": [
                      {
                        "colorbar": {
                          "outlinewidth": 0,
                          "ticks": ""
                        },
                        "colorscale": [
                          [
                            0,
                            "#0d0887"
                          ],
                          [
                            0.1111111111111111,
                            "#46039f"
                          ],
                          [
                            0.2222222222222222,
                            "#7201a8"
                          ],
                          [
                            0.3333333333333333,
                            "#9c179e"
                          ],
                          [
                            0.4444444444444444,
                            "#bd3786"
                          ],
                          [
                            0.5555555555555556,
                            "#d8576b"
                          ],
                          [
                            0.6666666666666666,
                            "#ed7953"
                          ],
                          [
                            0.7777777777777778,
                            "#fb9f3a"
                          ],
                          [
                            0.8888888888888888,
                            "#fdca26"
                          ],
                          [
                            1,
                            "#f0f921"
                          ]
                        ],
                        "type": "histogram2dcontour"
                      }
                    ],
                    "mesh3d": [
                      {
                        "colorbar": {
                          "outlinewidth": 0,
                          "ticks": ""
                        },
                        "type": "mesh3d"
                      }
                    ],
                    "parcoords": [
                      {
                        "line": {
                          "colorbar": {
                            "outlinewidth": 0,
                            "ticks": ""
                          }
                        },
                        "type": "parcoords"
                      }
                    ],
                    "pie": [
                      {
                        "automargin": true,
                        "type": "pie"
                      }
                    ],
                    "scatter": [
                      {
                        "fillpattern": {
                          "fillmode": "overlay",
                          "size": 10,
                          "solidity": 0.2
                        },
                        "type": "scatter"
                      }
                    ],
                    "scatter3d": [
                      {
                        "line": {
                          "colorbar": {
                            "outlinewidth": 0,
                            "ticks": ""
                          }
                        },
                        "marker": {
                          "colorbar": {
                            "outlinewidth": 0,
                            "ticks": ""
                          }
                        },
                        "type": "scatter3d"
                      }
                    ],
                    "scattercarpet": [
                      {
                        "marker": {
                          "colorbar": {
                            "outlinewidth": 0,
                            "ticks": ""
                          }
                        },
                        "type": "scattercarpet"
                      }
                    ],
                    "scattergeo": [
                      {
                        "marker": {
                          "colorbar": {
                            "outlinewidth": 0,
                            "ticks": ""
                          }
                        },
                        "type": "scattergeo"
                      }
                    ],
                    "scattergl": [
                      {
                        "marker": {
                          "colorbar": {
                            "outlinewidth": 0,
                            "ticks": ""
                          }
                        },
                        "type": "scattergl"
                      }
                    ],
                    "scattermapbox": [
                      {
                        "marker": {
                          "colorbar": {
                            "outlinewidth": 0,
                            "ticks": ""
                          }
                        },
                        "type": "scattermapbox"
                      }
                    ],
                    "scatterpolar": [
                      {
                        "marker": {
                          "colorbar": {
                            "outlinewidth": 0,
                            "ticks": ""
                          }
                        },
                        "type": "scatterpolar"
                      }
                    ],
                    "scatterpolargl": [
                      {
                        "marker": {
                          "colorbar": {
                            "outlinewidth": 0,
                            "ticks": ""
                          }
                        },
                        "type": "scatterpolargl"
                      }
                    ],
                    "scatterternary": [
                      {
                        "marker": {
                          "colorbar": {
                            "outlinewidth": 0,
                            "ticks": ""
                          }
                        },
                        "type": "scatterternary"
                      }
                    ],
                    "surface": [
                      {
                        "colorbar": {
                          "outlinewidth": 0,
                          "ticks": ""
                        },
                        "colorscale": [
                          [
                            0,
                            "#0d0887"
                          ],
                          [
                            0.1111111111111111,
                            "#46039f"
                          ],
                          [
                            0.2222222222222222,
                            "#7201a8"
                          ],
                          [
                            0.3333333333333333,
                            "#9c179e"
                          ],
                          [
                            0.4444444444444444,
                            "#bd3786"
                          ],
                          [
                            0.5555555555555556,
                            "#d8576b"
                          ],
                          [
                            0.6666666666666666,
                            "#ed7953"
                          ],
                          [
                            0.7777777777777778,
                            "#fb9f3a"
                          ],
                          [
                            0.8888888888888888,
                            "#fdca26"
                          ],
                          [
                            1,
                            "#f0f921"
                          ]
                        ],
                        "type": "surface"
                      }
                    ],
                    "table": [
                      {
                        "cells": {
                          "fill": {
                            "color": "#EBF0F8"
                          },
                          "line": {
                            "color": "white"
                          }
                        },
                        "header": {
                          "fill": {
                            "color": "#C8D4E3"
                          },
                          "line": {
                            "color": "white"
                          }
                        },
                        "type": "table"
                      }
                    ]
                  },
                  "layout": {
                    "annotationdefaults": {
                      "arrowcolor": "#2a3f5f",
                      "arrowhead": 0,
                      "arrowwidth": 1
                    },
                    "autotypenumbers": "strict",
                    "coloraxis": {
                      "colorbar": {
                        "outlinewidth": 0,
                        "ticks": ""
                      }
                    },
                    "colorscale": {
                      "diverging": [
                        [
                          0,
                          "#8e0152"
                        ],
                        [
                          0.1,
                          "#c51b7d"
                        ],
                        [
                          0.2,
                          "#de77ae"
                        ],
                        [
                          0.3,
                          "#f1b6da"
                        ],
                        [
                          0.4,
                          "#fde0ef"
                        ],
                        [
                          0.5,
                          "#f7f7f7"
                        ],
                        [
                          0.6,
                          "#e6f5d0"
                        ],
                        [
                          0.7,
                          "#b8e186"
                        ],
                        [
                          0.8,
                          "#7fbc41"
                        ],
                        [
                          0.9,
                          "#4d9221"
                        ],
                        [
                          1,
                          "#276419"
                        ]
                      ],
                      "sequential": [
                        [
                          0,
                          "#0d0887"
                        ],
                        [
                          0.1111111111111111,
                          "#46039f"
                        ],
                        [
                          0.2222222222222222,
                          "#7201a8"
                        ],
                        [
                          0.3333333333333333,
                          "#9c179e"
                        ],
                        [
                          0.4444444444444444,
                          "#bd3786"
                        ],
                        [
                          0.5555555555555556,
                          "#d8576b"
                        ],
                        [
                          0.6666666666666666,
                          "#ed7953"
                        ],
                        [
                          0.7777777777777778,
                          "#fb9f3a"
                        ],
                        [
                          0.8888888888888888,
                          "#fdca26"
                        ],
                        [
                          1,
                          "#f0f921"
                        ]
                      ],
                      "sequentialminus": [
                        [
                          0,
                          "#0d0887"
                        ],
                        [
                          0.1111111111111111,
                          "#46039f"
                        ],
                        [
                          0.2222222222222222,
                          "#7201a8"
                        ],
                        [
                          0.3333333333333333,
                          "#9c179e"
                        ],
                        [
                          0.4444444444444444,
                          "#bd3786"
                        ],
                        [
                          0.5555555555555556,
                          "#d8576b"
                        ],
                        [
                          0.6666666666666666,
                          "#ed7953"
                        ],
                        [
                          0.7777777777777778,
                          "#fb9f3a"
                        ],
                        [
                          0.8888888888888888,
                          "#fdca26"
                        ],
                        [
                          1,
                          "#f0f921"
                        ]
                      ]
                    },
                    "colorway": [
                      "#636efa",
                      "#EF553B",
                      "#00cc96",
                      "#ab63fa",
                      "#FFA15A",
                      "#19d3f3",
                      "#FF6692",
                      "#B6E880",
                      "#FF97FF",
                      "#FECB52"
                    ],
                    "font": {
                      "color": "#2a3f5f"
                    },
                    "geo": {
                      "bgcolor": "white",
                      "lakecolor": "white",
                      "landcolor": "#E5ECF6",
                      "showlakes": true,
                      "showland": true,
                      "subunitcolor": "white"
                    },
                    "hoverlabel": {
                      "align": "left"
                    },
                    "hovermode": "closest",
                    "mapbox": {
                      "style": "light"
                    },
                    "paper_bgcolor": "white",
                    "plot_bgcolor": "#E5ECF6",
                    "polar": {
                      "angularaxis": {
                        "gridcolor": "white",
                        "linecolor": "white",
                        "ticks": ""
                      },
                      "bgcolor": "#E5ECF6",
                      "radialaxis": {
                        "gridcolor": "white",
                        "linecolor": "white",
                        "ticks": ""
                      }
                    },
                    "scene": {
                      "xaxis": {
                        "backgroundcolor": "#E5ECF6",
                        "gridcolor": "white",
                        "gridwidth": 2,
                        "linecolor": "white",
                        "showbackground": true,
                        "ticks": "",
                        "zerolinecolor": "white"
                      },
                      "yaxis": {
                        "backgroundcolor": "#E5ECF6",
                        "gridcolor": "white",
                        "gridwidth": 2,
                        "linecolor": "white",
                        "showbackground": true,
                        "ticks": "",
                        "zerolinecolor": "white"
                      },
                      "zaxis": {
                        "backgroundcolor": "#E5ECF6",
                        "gridcolor": "white",
                        "gridwidth": 2,
                        "linecolor": "white",
                        "showbackground": true,
                        "ticks": "",
                        "zerolinecolor": "white"
                      }
                    },
                    "shapedefaults": {
                      "line": {
                        "color": "#2a3f5f"
                      }
                    },
                    "ternary": {
                      "aaxis": {
                        "gridcolor": "white",
                        "linecolor": "white",
                        "ticks": ""
                      },
                      "baxis": {
                        "gridcolor": "white",
                        "linecolor": "white",
                        "ticks": ""
                      },
                      "bgcolor": "#E5ECF6",
                      "caxis": {
                        "gridcolor": "white",
                        "linecolor": "white",
                        "ticks": ""
                      }
                    },
                    "title": {
                      "x": 0.05
                    },
                    "xaxis": {
                      "automargin": true,
                      "gridcolor": "white",
                      "linecolor": "white",
                      "ticks": "",
                      "title": {
                        "standoff": 15
                      },
                      "zerolinecolor": "white",
                      "zerolinewidth": 2
                    },
                    "yaxis": {
                      "automargin": true,
                      "gridcolor": "white",
                      "linecolor": "white",
                      "ticks": "",
                      "title": {
                        "standoff": 15
                      },
                      "zerolinecolor": "white",
                      "zerolinewidth": 2
                    }
                  }
                },
                "title": {
                  "font": {
                    "size": 16
                  },
                  "text": "Scatter Plot of Grad_median by Grad_unemployment_rate for A-L",
                  "x": 0.5,
                  "xanchor": "center",
                  "y": 0.9,
                  "yanchor": "top"
                },
                "xaxis": {
                  "anchor": "y",
                  "domain": [
                    0,
                    1
                  ],
                  "linecolor": "black",
                  "showgrid": false,
                  "showline": true,
                  "title": {
                    "text": "Nongrad_unemployment_rate"
                  }
                },
                "yaxis": {
                  "anchor": "x",
                  "domain": [
                    0,
                    1
                  ],
                  "linecolor": "black",
                  "showgrid": false,
                  "showline": true,
                  "title": {
                    "text": "Nongrad_median"
                  }
                }
              }
            }
          },
          "metadata": {},
          "output_type": "display_data"
        }
      ],
      "source": [
        "# Scatter plot for A-L\n",
        "\n",
        "scatter_al = px.scatter(\n",
        "    df, \n",
        "    x='Grad_unemployment_rate', \n",
        "    y='Grad_median',\n",
        "    title='Scatter Plot of Grad_median by Grad_unemployment_rate for A-L'\n",
        ")\n",
        "# Updating layout for A-L plot\n",
        "scatter_al.update_layout(\n",
        "    plot_bgcolor='rgba(255,255,255,1)',\n",
        "    xaxis=dict(showline=True, showgrid=False,\n",
        "        linecolor='black'),\n",
        "    yaxis=dict(showline=True, showgrid=False,\n",
        "        linecolor='black'),\n",
        "    title={\n",
        "        'text': 'Scatter Plot of Grad_median by Grad_unemployment_rate for A-L',\n",
        "        'y':0.9,\n",
        "        'x':0.5,\n",
        "        'xanchor': 'center',\n",
        "        'yanchor': 'top',\n",
        "        'font': dict(\n",
        "            size=16,  # Smaller title font size\n",
        "        ),\n",
        "    }\n",
        ")\n",
        "\n",
        "scatter_al.show()\n",
        "\n",
        "# Scatter plot for M-Z\n",
        "scatter_mz = px.scatter(\n",
        "    df, \n",
        "    x='Nongrad_unemployment_rate', \n",
        "    y='Nongrad_median',\n",
        "    title='Scatter Plot of Nongrad_median by Nongrad_unemployment_rate for M-Z'\n",
        ")\n",
        "# Updating layout for A-L plot\n",
        "scatter_mz.update_layout(\n",
        "    plot_bgcolor='rgba(255,255,255,1)',\n",
        "    xaxis=dict(showline=True, showgrid=False,\n",
        "        linecolor='black'),\n",
        "    yaxis=dict(showline=True, showgrid=False,\n",
        "        linecolor='black'),\n",
        "    title={\n",
        "        'text': 'Scatter Plot of Grad_median by Grad_unemployment_rate for A-L',\n",
        "        'y':0.9,\n",
        "        'x':0.5,\n",
        "        'xanchor': 'center',\n",
        "        'yanchor': 'top',\n",
        "        'font': dict(\n",
        "            size=16,  # Smaller title font size\n",
        "        ),\n",
        "    }\n",
        ")\n",
        "\n",
        "scatter_mz.show()"
      ]
    },
    {
      "cell_type": "markdown",
      "metadata": {
        "id": "Hjz7Oc8N0acy"
      },
      "source": [
        "##**QUESTION 2**\n",
        "\n",
        "Construct a frequency table, relative frequency table, and relative frequency bar chart to describe the distribution of Major_category. State any fact that jumps out to you."
      ]
    },
    {
      "cell_type": "markdown",
      "metadata": {},
      "source": [
        "In the context of a regression model, adding a constant term to the predictor variables means adding a column to your input data (often denoted as X) where every entry is 1. This is done because a linear regression model has the form:\n",
        "\n",
        "y=β \n",
        "0\n",
        "​\t\n",
        " +β \n",
        "1\n",
        "​\t\n",
        " x \n",
        "1\n",
        "​\t\n",
        " +β \n",
        "2\n",
        "​\t\n",
        " x \n",
        "2\n",
        "​\t\n",
        " +...+β \n",
        "n\n",
        "​\t\n",
        " x \n",
        "n\n",
        "​\t\n",
        " +ϵ\n",
        "\n",
        "Here, y is the dependent variable, x_1, x_2, ..., x_n are the independent variables, \\beta_0 is the intercept term, \\beta_1, \\beta_2, ..., \\beta_n are the coefficients for each independent variable, and \\epsilon is the error term.\n",
        "\n",
        "The intercept term \\beta_0 represents the value of y when all the independent variables x are zero. For a model to calculate this intercept, you need to include a column of 1s in your input data—this effectively acts as the x_0 variable with a coefficient of \\beta_0.\n"
      ]
    },
    {
      "cell_type": "code",
      "execution_count": 32,
      "metadata": {},
      "outputs": [
        {
          "name": "stdout",
          "output_type": "stream",
          "text": [
            "A-L Group:\n"
          ]
        },
        {
          "data": {
            "text/html": [
              "<div>\n",
              "<style scoped>\n",
              "    .dataframe tbody tr th:only-of-type {\n",
              "        vertical-align: middle;\n",
              "    }\n",
              "\n",
              "    .dataframe tbody tr th {\n",
              "        vertical-align: top;\n",
              "    }\n",
              "\n",
              "    .dataframe thead th {\n",
              "        text-align: right;\n",
              "    }\n",
              "</style>\n",
              "<table border=\"1\" class=\"dataframe\">\n",
              "  <thead>\n",
              "    <tr style=\"text-align: right;\">\n",
              "      <th></th>\n",
              "      <th>R</th>\n",
              "      <th>R Squared</th>\n",
              "      <th>Adjusted R Squared</th>\n",
              "      <th>Std. Error of the Estimate</th>\n",
              "    </tr>\n",
              "  </thead>\n",
              "  <tbody>\n",
              "    <tr>\n",
              "      <th>0</th>\n",
              "      <td>-0.138856</td>\n",
              "      <td>0.019281</td>\n",
              "      <td>0.013546</td>\n",
              "      <td>16797.167971</td>\n",
              "    </tr>\n",
              "  </tbody>\n",
              "</table>\n",
              "</div>"
            ],
            "text/plain": [
              "          R  R Squared  Adjusted R Squared  Std. Error of the Estimate\n",
              "0 -0.138856   0.019281            0.013546                16797.167971"
            ]
          },
          "metadata": {},
          "output_type": "display_data"
        },
        {
          "name": "stdout",
          "output_type": "stream",
          "text": [
            "\n",
            "M-Z Group:\n"
          ]
        },
        {
          "data": {
            "text/html": [
              "<div>\n",
              "<style scoped>\n",
              "    .dataframe tbody tr th:only-of-type {\n",
              "        vertical-align: middle;\n",
              "    }\n",
              "\n",
              "    .dataframe tbody tr th {\n",
              "        vertical-align: top;\n",
              "    }\n",
              "\n",
              "    .dataframe thead th {\n",
              "        text-align: right;\n",
              "    }\n",
              "</style>\n",
              "<table border=\"1\" class=\"dataframe\">\n",
              "  <thead>\n",
              "    <tr style=\"text-align: right;\">\n",
              "      <th></th>\n",
              "      <th>R</th>\n",
              "      <th>R Squared</th>\n",
              "      <th>Adjusted R Squared</th>\n",
              "      <th>Std. Error of the Estimate</th>\n",
              "    </tr>\n",
              "  </thead>\n",
              "  <tbody>\n",
              "    <tr>\n",
              "      <th>0</th>\n",
              "      <td>-0.304915</td>\n",
              "      <td>0.092973</td>\n",
              "      <td>0.087669</td>\n",
              "      <td>14354.593734</td>\n",
              "    </tr>\n",
              "  </tbody>\n",
              "</table>\n",
              "</div>"
            ],
            "text/plain": [
              "          R  R Squared  Adjusted R Squared  Std. Error of the Estimate\n",
              "0 -0.304915   0.092973            0.087669                14354.593734"
            ]
          },
          "metadata": {},
          "output_type": "display_data"
        }
      ],
      "source": [
        "# Function to compute regression statistics and return them in a DataFrame\n",
        "def compute_regression_stats(df, independent_var, dependent_var):\n",
        "    X = df[independent_var]\n",
        "    Y = df[dependent_var]\n",
        "    X = sm.add_constant(X)  # Adds a constant term to the predictor\n",
        "\n",
        "    # Fit the OLS model\n",
        "    model = sm.OLS(Y, X).fit()\n",
        "    predictions = model.predict()\n",
        "    residuals = Y - predictions\n",
        "    see = np.sqrt((residuals**2).sum() / (len(Y) - 2))\n",
        "    # Compute the correlation coefficient\n",
        "    correlation = X[independent_var].corr(Y)\n",
        "\n",
        "    # Compile the statistics\n",
        "    stats_df = pd.DataFrame({\n",
        "        'R': [correlation],\n",
        "        'R Squared': [model.rsquared],\n",
        "        'Adjusted R Squared': [model.rsquared_adj],\n",
        "        'Std. Error of the Estimate': see\n",
        "    })\n",
        "    \n",
        "    return stats_df\n",
        "\n",
        "# Calculate statistics for A-L group\n",
        "stats_al = compute_regression_stats(df, 'Grad_unemployment_rate', 'Grad_median')\n",
        "\n",
        "# Calculate statistics for M-Z group\n",
        "stats_mz = compute_regression_stats(df, 'Nongrad_unemployment_rate', 'Nongrad_median')\n",
        "\n",
        "# Display the results\n",
        "print(\"A-L Group:\")\n",
        "display(stats_al)\n",
        "print(\"\\nM-Z Group:\")\n",
        "display(stats_mz)"
      ]
    },
    {
      "cell_type": "markdown",
      "metadata": {},
      "source": [
        "##**QUESTION 3**\n",
        "\n",
        "Compute the least squares regression line describing the relationships between the dependent and independent variable. Add the regression line to the scatterplot. Paste the new scatterplot and the output table below. Then type out the prediction equation.\n"
      ]
    },
    {
      "cell_type": "code",
      "execution_count": 29,
      "metadata": {},
      "outputs": [
        {
          "data": {
            "application/vnd.plotly.v1+json": {
              "config": {
                "plotlyServerURL": "https://plot.ly"
              },
              "data": [
                {
                  "hovertemplate": "Grad_unemployment_rate=%{x}<br>Grad_median=%{y}<extra></extra>",
                  "legendgroup": "",
                  "marker": {
                    "color": "#636efa",
                    "symbol": "circle"
                  },
                  "mode": "markers",
                  "name": "",
                  "orientation": "v",
                  "showlegend": false,
                  "type": "scatter",
                  "x": [
                    0.087543386,
                    0.057755852,
                    0.073866788,
                    0.080901178,
                    0.058410629,
                    0,
                    0.052059489,
                    0.03483833,
                    0.024612203,
                    0.030561599,
                    0.096472931,
                    0.13851498,
                    0.06523569,
                    0.051641334,
                    0.046633357,
                    0.081605691,
                    0.04661565,
                    0.031697819,
                    0.039270596,
                    0.038461538,
                    0.041004871,
                    0.049032311,
                    0.045299817,
                    0.038714642,
                    0.059586631,
                    0.022848321,
                    0.040894931,
                    0.025552736,
                    0.040049214,
                    0.048657665,
                    0.074243813,
                    0.054460646,
                    0.042023298,
                    0.025342834,
                    0.045358331,
                    0.041857347,
                    0.06100455,
                    0.021266734,
                    0.049995759,
                    0.058903313,
                    0.020124913,
                    0.00886918,
                    0.029324923,
                    0.041296423,
                    0.042111271,
                    0.060061499,
                    0.038421666,
                    0.029495955,
                    0.050362239,
                    0.037142695,
                    0.025317882,
                    0.044092513,
                    0.019471488,
                    0.031253986,
                    0.064715966,
                    0.054889566,
                    0.038852808,
                    0.067667237,
                    0.051253413,
                    0.094637671,
                    0.036198118,
                    0.051940026,
                    0.019985196,
                    0.035276229,
                    0.031130244,
                    0.034601202,
                    0.036654034,
                    0.059671887,
                    0.070332221,
                    0.014667817,
                    0.038918793,
                    0.035998475,
                    0.0281065,
                    0.034229499,
                    0.021300793,
                    0.056908862,
                    0.027165944,
                    0.041878308,
                    0.058474838,
                    0.012326529,
                    0.017415354,
                    0.086452468,
                    0.035449332,
                    0.059329069,
                    0.032956266,
                    0.038624622,
                    0.028706395,
                    0.061080658,
                    0.03189197,
                    0.102890173,
                    0.053657509,
                    0.027305449,
                    0.022057897,
                    0.063924979,
                    0.024018146,
                    0.043768425,
                    0.027885303,
                    0.030152487,
                    0.036230513,
                    0.032938452,
                    0.022218272,
                    0.034637345,
                    0.039702942,
                    0.058849492,
                    0.020362893,
                    0.04530453,
                    0.054545455,
                    0.033349858,
                    0.041472011,
                    0.028403487,
                    0.05083188,
                    0.051283916,
                    0.049701157,
                    0.037570891,
                    0.040584103,
                    0.018759683,
                    0.027408238,
                    0.024823638,
                    0.043523065,
                    0.03755603,
                    0.044817237,
                    0.037818182,
                    0.026647178,
                    0.03857466,
                    0.027931687,
                    0.038975831,
                    0.048050929,
                    0.02863239,
                    0.042357586,
                    0.038578048,
                    0.031756946,
                    0.037644956,
                    0.038808906,
                    0.045280779,
                    0.045745654,
                    0.025860949,
                    0.030555665,
                    0.022906378,
                    0.022291055,
                    0.0176851,
                    0.02606824,
                    0.028967718,
                    0.04534244,
                    0.031074409,
                    0.011538018,
                    0.031226486,
                    0.014248162,
                    0.022187594,
                    0.032159086,
                    0.038890238,
                    0.022464859,
                    0.033210059,
                    0.021104706,
                    0.020028612,
                    0.029981368,
                    0.020920664,
                    0.018447581,
                    0.029936779,
                    0.028207488,
                    0.024229927,
                    0.020927973,
                    0.035411851,
                    0.017611146,
                    0.025600246,
                    0.024211872,
                    0.019423853,
                    0.021777281,
                    0.0142862,
                    0.035599679,
                    0.044958032,
                    0.021686868,
                    0.051400302,
                    0.016760742
                  ],
                  "xaxis": "x",
                  "y": [
                    75000,
                    60000,
                    65000,
                    47000,
                    57000,
                    75000,
                    80000,
                    67000,
                    85000,
                    60000,
                    57000,
                    62000,
                    78000,
                    57000,
                    90000,
                    80000,
                    75000,
                    80000,
                    84500,
                    55000,
                    68000,
                    77000,
                    65000,
                    89000,
                    81000,
                    94000,
                    85000,
                    76000,
                    80000,
                    65000,
                    110000,
                    85000,
                    70000,
                    80000,
                    74000,
                    88000,
                    58000,
                    84000,
                    84000,
                    78000,
                    55000,
                    80000,
                    68000,
                    78000,
                    70000,
                    50100,
                    53000,
                    70000,
                    50750,
                    58000,
                    60000,
                    95000,
                    124000,
                    67000,
                    70000,
                    72000,
                    58000,
                    58600,
                    94000,
                    107000,
                    95000,
                    79000,
                    80000,
                    68000,
                    73000,
                    90000,
                    62000,
                    66000,
                    72000,
                    65000,
                    76000,
                    100000,
                    86000,
                    98000,
                    97000,
                    100000,
                    50000,
                    64000,
                    69000,
                    70300,
                    70000,
                    54000,
                    100000,
                    65000,
                    72000,
                    98000,
                    105000,
                    71000,
                    102000,
                    98000,
                    65000,
                    60000,
                    70000,
                    70000,
                    65000,
                    100000,
                    65000,
                    68500,
                    106000,
                    48000,
                    90000,
                    61000,
                    80000,
                    75000,
                    55000,
                    75000,
                    74000,
                    58000,
                    60000,
                    59000,
                    65000,
                    92000,
                    65000,
                    53000,
                    67000,
                    55000,
                    84000,
                    111000,
                    68000,
                    64000,
                    75000,
                    80000,
                    82000,
                    102000,
                    107000,
                    80000,
                    73000,
                    100000,
                    92000,
                    67000,
                    60000,
                    89000,
                    92000,
                    86000,
                    81000,
                    65000,
                    68000,
                    100000,
                    61000,
                    90000,
                    82000,
                    100000,
                    95000,
                    58000,
                    110000,
                    89000,
                    60000,
                    62000,
                    85000,
                    65000,
                    58000,
                    70000,
                    95000,
                    96000,
                    100000,
                    90000,
                    90000,
                    52000,
                    85000,
                    105000,
                    110000,
                    100000,
                    58000,
                    61000,
                    96000,
                    78000,
                    95000,
                    65000,
                    50000,
                    70000,
                    135000,
                    56000,
                    65000
                  ],
                  "yaxis": "y"
                },
                {
                  "hovertemplate": "<b>OLS trendline</b><br>Grad_median = -123104 * Grad_unemployment_rate + 81599.1<br>R<sup>2</sup>=0.019281<br><br>Grad_unemployment_rate=%{x}<br>Grad_median=%{y} <b>(trend)</b><extra></extra>",
                  "legendgroup": "",
                  "marker": {
                    "color": "#636efa",
                    "symbol": "circle"
                  },
                  "mode": "lines",
                  "name": "",
                  "showlegend": false,
                  "type": "scatter",
                  "x": [
                    0,
                    0.00886918,
                    0.011538018,
                    0.012326529,
                    0.014248162,
                    0.0142862,
                    0.014667817,
                    0.016760742,
                    0.017415354,
                    0.017611146,
                    0.0176851,
                    0.018447581,
                    0.018759683,
                    0.019423853,
                    0.019471488,
                    0.019985196,
                    0.020028612,
                    0.020124913,
                    0.020362893,
                    0.020920664,
                    0.020927973,
                    0.021104706,
                    0.021266734,
                    0.021300793,
                    0.021686868,
                    0.021777281,
                    0.022057897,
                    0.022187594,
                    0.022218272,
                    0.022291055,
                    0.022464859,
                    0.022848321,
                    0.022906378,
                    0.024018146,
                    0.024211872,
                    0.024229927,
                    0.024612203,
                    0.024823638,
                    0.025317882,
                    0.025342834,
                    0.025552736,
                    0.025600246,
                    0.025860949,
                    0.02606824,
                    0.026647178,
                    0.027165944,
                    0.027305449,
                    0.027408238,
                    0.027885303,
                    0.027931687,
                    0.0281065,
                    0.028207488,
                    0.028403487,
                    0.02863239,
                    0.028706395,
                    0.028967718,
                    0.029324923,
                    0.029495955,
                    0.029936779,
                    0.029981368,
                    0.030152487,
                    0.030555665,
                    0.030561599,
                    0.031074409,
                    0.031130244,
                    0.031226486,
                    0.031253986,
                    0.031697819,
                    0.031756946,
                    0.03189197,
                    0.032159086,
                    0.032938452,
                    0.032956266,
                    0.033210059,
                    0.033349858,
                    0.034229499,
                    0.034601202,
                    0.034637345,
                    0.03483833,
                    0.035276229,
                    0.035411851,
                    0.035449332,
                    0.035599679,
                    0.035998475,
                    0.036198118,
                    0.036230513,
                    0.036654034,
                    0.037142695,
                    0.03755603,
                    0.037570891,
                    0.037644956,
                    0.037818182,
                    0.038421666,
                    0.038461538,
                    0.03857466,
                    0.038578048,
                    0.038624622,
                    0.038714642,
                    0.038808906,
                    0.038852808,
                    0.038890238,
                    0.038918793,
                    0.038975831,
                    0.039270596,
                    0.039702942,
                    0.040049214,
                    0.040584103,
                    0.040894931,
                    0.041004871,
                    0.041296423,
                    0.041472011,
                    0.041857347,
                    0.041878308,
                    0.042023298,
                    0.042111271,
                    0.042357586,
                    0.043523065,
                    0.043768425,
                    0.044092513,
                    0.044817237,
                    0.044958032,
                    0.045280779,
                    0.045299817,
                    0.04530453,
                    0.04534244,
                    0.045358331,
                    0.045745654,
                    0.04661565,
                    0.046633357,
                    0.048050929,
                    0.048657665,
                    0.049032311,
                    0.049701157,
                    0.049995759,
                    0.050362239,
                    0.05083188,
                    0.051253413,
                    0.051283916,
                    0.051400302,
                    0.051641334,
                    0.051940026,
                    0.052059489,
                    0.053657509,
                    0.054460646,
                    0.054545455,
                    0.054889566,
                    0.056908862,
                    0.057755852,
                    0.058410629,
                    0.058474838,
                    0.058849492,
                    0.058903313,
                    0.059329069,
                    0.059586631,
                    0.059671887,
                    0.060061499,
                    0.06100455,
                    0.061080658,
                    0.063924979,
                    0.064715966,
                    0.06523569,
                    0.067667237,
                    0.070332221,
                    0.073866788,
                    0.074243813,
                    0.080901178,
                    0.081605691,
                    0.086452468,
                    0.087543386,
                    0.094637671,
                    0.096472931,
                    0.102890173,
                    0.13851498
                  ],
                  "xaxis": "x",
                  "y": [
                    81599.07178747283,
                    80507.24128383296,
                    80178.69696094481,
                    80081.62819446859,
                    79845.06770903464,
                    79840.38508350473,
                    79793.40654870134,
                    79535.75935281283,
                    79455.17407326627,
                    79431.07131765994,
                    79421.96729304141,
                    79328.10292065909,
                    79289.68195233427,
                    79207.92004586688,
                    79202.05599236465,
                    79138.81654245341,
                    79133.47186423671,
                    79121.61683712811,
                    79092.3205748743,
                    79023.65679853357,
                    79022.75703224727,
                    79001.00051356124,
                    78981.05423748569,
                    78976.8614423092,
                    78929.33411039207,
                    78918.20391895097,
                    78883.65899950977,
                    78867.6927950996,
                    78863.91621415406,
                    78854.95634418339,
                    78833.56039677285,
                    78786.35473530395,
                    78779.20769312533,
                    78642.34473450111,
                    78618.49631151858,
                    78616.27367089756,
                    78569.21401063478,
                    78543.185540975,
                    78482.34218505699,
                    78479.27049694976,
                    78453.43074554377,
                    78447.582080027,
                    78415.48852822285,
                    78389.97020105731,
                    78318.70068480933,
                    78254.8385754541,
                    78237.66496815215,
                    78225.01124304581,
                    78166.28268874667,
                    78160.572638203,
                    78139.05247897377,
                    78126.62046396206,
                    78102.49222585178,
                    78074.31337755073,
                    78065.20307463412,
                    78033.03319842204,
                    77989.05987562865,
                    77968.00517218385,
                    77913.73802573553,
                    77908.2489466632,
                    77887.1835331805,
                    77837.55075553968,
                    77836.82025709352,
                    77773.69135446989,
                    77766.81784912094,
                    77754.9700851415,
                    77751.58472833848,
                    77696.94716230397,
                    77689.66839896973,
                    77673.04642017085,
                    77640.16340316023,
                    77544.22042170087,
                    77542.02744911582,
                    77510.78454514834,
                    77493.57474530458,
                    77385.2875219026,
                    77339.52943900267,
                    77335.08009533245,
                    77310.33806125782,
                    77256.43099366945,
                    77239.73539874809,
                    77235.12134208142,
                    77216.6130424719,
                    77167.51970604964,
                    77142.94287738699,
                    77138.95492707305,
                    77086.81784712517,
                    77026.66178019012,
                    76975.77863640207,
                    76973.94918958572,
                    76964.8315004361,
                    76943.50670707037,
                    76869.21548289196,
                    76864.30708483925,
                    76850.38132730217,
                    76849.96425134403,
                    76844.23081106247,
                    76833.14899944767,
                    76821.54473495026,
                    76816.14022824606,
                    76811.53244987746,
                    76808.0172184771,
                    76800.99561915602,
                    76764.70890286371,
                    76711.48543114179,
                    76668.85800310939,
                    76603.01108983652,
                    76564.7469558596,
                    76551.2129148806,
                    76515.32173136677,
                    76493.70616662763,
                    76446.26980848059,
                    76443.6894279734,
                    76425.8405958691,
                    76415.01077790433,
                    76384.68844477952,
                    76241.21345345544,
                    76211.00868453959,
                    76171.1121930642,
                    76081.89585402046,
                    76064.56344270849,
                    76024.83203354121,
                    76022.48838180245,
                    76021.90819319837,
                    76017.24132496557,
                    76015.28508114896,
                    75967.60411558492,
                    75860.50422914168,
                    75858.32442867219,
                    75683.815809983,
                    75609.12425197466,
                    75563.00387434487,
                    75480.66633411708,
                    75444.39968375782,
                    75399.28457244269,
                    75341.46994137646,
                    75289.57759194948,
                    75285.82255418359,
                    75271.49498556995,
                    75241.82301026296,
                    75205.05286501918,
                    75190.34650575527,
                    74993.62403745193,
                    74894.75475357204,
                    74884.31443629545,
                    74841.95303575583,
                    74593.36985572363,
                    74489.10209722984,
                    74408.49650554247,
                    74400.59212827105,
                    74354.47076581017,
                    74347.8451916831,
                    74295.43297455505,
                    74263.72609204974,
                    74253.23074733712,
                    74205.26799698318,
                    74089.17475631289,
                    74079.80556592878,
                    73729.65860420927,
                    73632.28503251688,
                    73568.30498964102,
                    73268.97211043077,
                    72940.90222991057,
                    72505.78330485111,
                    72459.37006308188,
                    71639.82257606907,
                    71553.09428961972,
                    70956.43721727029,
                    70822.14097462218,
                    69948.80693872317,
                    69722.87930504,
                    68932.89189190386,
                    64547.33979251216
                  ],
                  "yaxis": "y"
                }
              ],
              "layout": {
                "legend": {
                  "tracegroupgap": 0
                },
                "plot_bgcolor": "rgba(255,255,255,1)",
                "template": {
                  "data": {
                    "bar": [
                      {
                        "error_x": {
                          "color": "#2a3f5f"
                        },
                        "error_y": {
                          "color": "#2a3f5f"
                        },
                        "marker": {
                          "line": {
                            "color": "#E5ECF6",
                            "width": 0.5
                          },
                          "pattern": {
                            "fillmode": "overlay",
                            "size": 10,
                            "solidity": 0.2
                          }
                        },
                        "type": "bar"
                      }
                    ],
                    "barpolar": [
                      {
                        "marker": {
                          "line": {
                            "color": "#E5ECF6",
                            "width": 0.5
                          },
                          "pattern": {
                            "fillmode": "overlay",
                            "size": 10,
                            "solidity": 0.2
                          }
                        },
                        "type": "barpolar"
                      }
                    ],
                    "carpet": [
                      {
                        "aaxis": {
                          "endlinecolor": "#2a3f5f",
                          "gridcolor": "white",
                          "linecolor": "white",
                          "minorgridcolor": "white",
                          "startlinecolor": "#2a3f5f"
                        },
                        "baxis": {
                          "endlinecolor": "#2a3f5f",
                          "gridcolor": "white",
                          "linecolor": "white",
                          "minorgridcolor": "white",
                          "startlinecolor": "#2a3f5f"
                        },
                        "type": "carpet"
                      }
                    ],
                    "choropleth": [
                      {
                        "colorbar": {
                          "outlinewidth": 0,
                          "ticks": ""
                        },
                        "type": "choropleth"
                      }
                    ],
                    "contour": [
                      {
                        "colorbar": {
                          "outlinewidth": 0,
                          "ticks": ""
                        },
                        "colorscale": [
                          [
                            0,
                            "#0d0887"
                          ],
                          [
                            0.1111111111111111,
                            "#46039f"
                          ],
                          [
                            0.2222222222222222,
                            "#7201a8"
                          ],
                          [
                            0.3333333333333333,
                            "#9c179e"
                          ],
                          [
                            0.4444444444444444,
                            "#bd3786"
                          ],
                          [
                            0.5555555555555556,
                            "#d8576b"
                          ],
                          [
                            0.6666666666666666,
                            "#ed7953"
                          ],
                          [
                            0.7777777777777778,
                            "#fb9f3a"
                          ],
                          [
                            0.8888888888888888,
                            "#fdca26"
                          ],
                          [
                            1,
                            "#f0f921"
                          ]
                        ],
                        "type": "contour"
                      }
                    ],
                    "contourcarpet": [
                      {
                        "colorbar": {
                          "outlinewidth": 0,
                          "ticks": ""
                        },
                        "type": "contourcarpet"
                      }
                    ],
                    "heatmap": [
                      {
                        "colorbar": {
                          "outlinewidth": 0,
                          "ticks": ""
                        },
                        "colorscale": [
                          [
                            0,
                            "#0d0887"
                          ],
                          [
                            0.1111111111111111,
                            "#46039f"
                          ],
                          [
                            0.2222222222222222,
                            "#7201a8"
                          ],
                          [
                            0.3333333333333333,
                            "#9c179e"
                          ],
                          [
                            0.4444444444444444,
                            "#bd3786"
                          ],
                          [
                            0.5555555555555556,
                            "#d8576b"
                          ],
                          [
                            0.6666666666666666,
                            "#ed7953"
                          ],
                          [
                            0.7777777777777778,
                            "#fb9f3a"
                          ],
                          [
                            0.8888888888888888,
                            "#fdca26"
                          ],
                          [
                            1,
                            "#f0f921"
                          ]
                        ],
                        "type": "heatmap"
                      }
                    ],
                    "heatmapgl": [
                      {
                        "colorbar": {
                          "outlinewidth": 0,
                          "ticks": ""
                        },
                        "colorscale": [
                          [
                            0,
                            "#0d0887"
                          ],
                          [
                            0.1111111111111111,
                            "#46039f"
                          ],
                          [
                            0.2222222222222222,
                            "#7201a8"
                          ],
                          [
                            0.3333333333333333,
                            "#9c179e"
                          ],
                          [
                            0.4444444444444444,
                            "#bd3786"
                          ],
                          [
                            0.5555555555555556,
                            "#d8576b"
                          ],
                          [
                            0.6666666666666666,
                            "#ed7953"
                          ],
                          [
                            0.7777777777777778,
                            "#fb9f3a"
                          ],
                          [
                            0.8888888888888888,
                            "#fdca26"
                          ],
                          [
                            1,
                            "#f0f921"
                          ]
                        ],
                        "type": "heatmapgl"
                      }
                    ],
                    "histogram": [
                      {
                        "marker": {
                          "pattern": {
                            "fillmode": "overlay",
                            "size": 10,
                            "solidity": 0.2
                          }
                        },
                        "type": "histogram"
                      }
                    ],
                    "histogram2d": [
                      {
                        "colorbar": {
                          "outlinewidth": 0,
                          "ticks": ""
                        },
                        "colorscale": [
                          [
                            0,
                            "#0d0887"
                          ],
                          [
                            0.1111111111111111,
                            "#46039f"
                          ],
                          [
                            0.2222222222222222,
                            "#7201a8"
                          ],
                          [
                            0.3333333333333333,
                            "#9c179e"
                          ],
                          [
                            0.4444444444444444,
                            "#bd3786"
                          ],
                          [
                            0.5555555555555556,
                            "#d8576b"
                          ],
                          [
                            0.6666666666666666,
                            "#ed7953"
                          ],
                          [
                            0.7777777777777778,
                            "#fb9f3a"
                          ],
                          [
                            0.8888888888888888,
                            "#fdca26"
                          ],
                          [
                            1,
                            "#f0f921"
                          ]
                        ],
                        "type": "histogram2d"
                      }
                    ],
                    "histogram2dcontour": [
                      {
                        "colorbar": {
                          "outlinewidth": 0,
                          "ticks": ""
                        },
                        "colorscale": [
                          [
                            0,
                            "#0d0887"
                          ],
                          [
                            0.1111111111111111,
                            "#46039f"
                          ],
                          [
                            0.2222222222222222,
                            "#7201a8"
                          ],
                          [
                            0.3333333333333333,
                            "#9c179e"
                          ],
                          [
                            0.4444444444444444,
                            "#bd3786"
                          ],
                          [
                            0.5555555555555556,
                            "#d8576b"
                          ],
                          [
                            0.6666666666666666,
                            "#ed7953"
                          ],
                          [
                            0.7777777777777778,
                            "#fb9f3a"
                          ],
                          [
                            0.8888888888888888,
                            "#fdca26"
                          ],
                          [
                            1,
                            "#f0f921"
                          ]
                        ],
                        "type": "histogram2dcontour"
                      }
                    ],
                    "mesh3d": [
                      {
                        "colorbar": {
                          "outlinewidth": 0,
                          "ticks": ""
                        },
                        "type": "mesh3d"
                      }
                    ],
                    "parcoords": [
                      {
                        "line": {
                          "colorbar": {
                            "outlinewidth": 0,
                            "ticks": ""
                          }
                        },
                        "type": "parcoords"
                      }
                    ],
                    "pie": [
                      {
                        "automargin": true,
                        "type": "pie"
                      }
                    ],
                    "scatter": [
                      {
                        "fillpattern": {
                          "fillmode": "overlay",
                          "size": 10,
                          "solidity": 0.2
                        },
                        "type": "scatter"
                      }
                    ],
                    "scatter3d": [
                      {
                        "line": {
                          "colorbar": {
                            "outlinewidth": 0,
                            "ticks": ""
                          }
                        },
                        "marker": {
                          "colorbar": {
                            "outlinewidth": 0,
                            "ticks": ""
                          }
                        },
                        "type": "scatter3d"
                      }
                    ],
                    "scattercarpet": [
                      {
                        "marker": {
                          "colorbar": {
                            "outlinewidth": 0,
                            "ticks": ""
                          }
                        },
                        "type": "scattercarpet"
                      }
                    ],
                    "scattergeo": [
                      {
                        "marker": {
                          "colorbar": {
                            "outlinewidth": 0,
                            "ticks": ""
                          }
                        },
                        "type": "scattergeo"
                      }
                    ],
                    "scattergl": [
                      {
                        "marker": {
                          "colorbar": {
                            "outlinewidth": 0,
                            "ticks": ""
                          }
                        },
                        "type": "scattergl"
                      }
                    ],
                    "scattermapbox": [
                      {
                        "marker": {
                          "colorbar": {
                            "outlinewidth": 0,
                            "ticks": ""
                          }
                        },
                        "type": "scattermapbox"
                      }
                    ],
                    "scatterpolar": [
                      {
                        "marker": {
                          "colorbar": {
                            "outlinewidth": 0,
                            "ticks": ""
                          }
                        },
                        "type": "scatterpolar"
                      }
                    ],
                    "scatterpolargl": [
                      {
                        "marker": {
                          "colorbar": {
                            "outlinewidth": 0,
                            "ticks": ""
                          }
                        },
                        "type": "scatterpolargl"
                      }
                    ],
                    "scatterternary": [
                      {
                        "marker": {
                          "colorbar": {
                            "outlinewidth": 0,
                            "ticks": ""
                          }
                        },
                        "type": "scatterternary"
                      }
                    ],
                    "surface": [
                      {
                        "colorbar": {
                          "outlinewidth": 0,
                          "ticks": ""
                        },
                        "colorscale": [
                          [
                            0,
                            "#0d0887"
                          ],
                          [
                            0.1111111111111111,
                            "#46039f"
                          ],
                          [
                            0.2222222222222222,
                            "#7201a8"
                          ],
                          [
                            0.3333333333333333,
                            "#9c179e"
                          ],
                          [
                            0.4444444444444444,
                            "#bd3786"
                          ],
                          [
                            0.5555555555555556,
                            "#d8576b"
                          ],
                          [
                            0.6666666666666666,
                            "#ed7953"
                          ],
                          [
                            0.7777777777777778,
                            "#fb9f3a"
                          ],
                          [
                            0.8888888888888888,
                            "#fdca26"
                          ],
                          [
                            1,
                            "#f0f921"
                          ]
                        ],
                        "type": "surface"
                      }
                    ],
                    "table": [
                      {
                        "cells": {
                          "fill": {
                            "color": "#EBF0F8"
                          },
                          "line": {
                            "color": "white"
                          }
                        },
                        "header": {
                          "fill": {
                            "color": "#C8D4E3"
                          },
                          "line": {
                            "color": "white"
                          }
                        },
                        "type": "table"
                      }
                    ]
                  },
                  "layout": {
                    "annotationdefaults": {
                      "arrowcolor": "#2a3f5f",
                      "arrowhead": 0,
                      "arrowwidth": 1
                    },
                    "autotypenumbers": "strict",
                    "coloraxis": {
                      "colorbar": {
                        "outlinewidth": 0,
                        "ticks": ""
                      }
                    },
                    "colorscale": {
                      "diverging": [
                        [
                          0,
                          "#8e0152"
                        ],
                        [
                          0.1,
                          "#c51b7d"
                        ],
                        [
                          0.2,
                          "#de77ae"
                        ],
                        [
                          0.3,
                          "#f1b6da"
                        ],
                        [
                          0.4,
                          "#fde0ef"
                        ],
                        [
                          0.5,
                          "#f7f7f7"
                        ],
                        [
                          0.6,
                          "#e6f5d0"
                        ],
                        [
                          0.7,
                          "#b8e186"
                        ],
                        [
                          0.8,
                          "#7fbc41"
                        ],
                        [
                          0.9,
                          "#4d9221"
                        ],
                        [
                          1,
                          "#276419"
                        ]
                      ],
                      "sequential": [
                        [
                          0,
                          "#0d0887"
                        ],
                        [
                          0.1111111111111111,
                          "#46039f"
                        ],
                        [
                          0.2222222222222222,
                          "#7201a8"
                        ],
                        [
                          0.3333333333333333,
                          "#9c179e"
                        ],
                        [
                          0.4444444444444444,
                          "#bd3786"
                        ],
                        [
                          0.5555555555555556,
                          "#d8576b"
                        ],
                        [
                          0.6666666666666666,
                          "#ed7953"
                        ],
                        [
                          0.7777777777777778,
                          "#fb9f3a"
                        ],
                        [
                          0.8888888888888888,
                          "#fdca26"
                        ],
                        [
                          1,
                          "#f0f921"
                        ]
                      ],
                      "sequentialminus": [
                        [
                          0,
                          "#0d0887"
                        ],
                        [
                          0.1111111111111111,
                          "#46039f"
                        ],
                        [
                          0.2222222222222222,
                          "#7201a8"
                        ],
                        [
                          0.3333333333333333,
                          "#9c179e"
                        ],
                        [
                          0.4444444444444444,
                          "#bd3786"
                        ],
                        [
                          0.5555555555555556,
                          "#d8576b"
                        ],
                        [
                          0.6666666666666666,
                          "#ed7953"
                        ],
                        [
                          0.7777777777777778,
                          "#fb9f3a"
                        ],
                        [
                          0.8888888888888888,
                          "#fdca26"
                        ],
                        [
                          1,
                          "#f0f921"
                        ]
                      ]
                    },
                    "colorway": [
                      "#636efa",
                      "#EF553B",
                      "#00cc96",
                      "#ab63fa",
                      "#FFA15A",
                      "#19d3f3",
                      "#FF6692",
                      "#B6E880",
                      "#FF97FF",
                      "#FECB52"
                    ],
                    "font": {
                      "color": "#2a3f5f"
                    },
                    "geo": {
                      "bgcolor": "white",
                      "lakecolor": "white",
                      "landcolor": "#E5ECF6",
                      "showlakes": true,
                      "showland": true,
                      "subunitcolor": "white"
                    },
                    "hoverlabel": {
                      "align": "left"
                    },
                    "hovermode": "closest",
                    "mapbox": {
                      "style": "light"
                    },
                    "paper_bgcolor": "white",
                    "plot_bgcolor": "#E5ECF6",
                    "polar": {
                      "angularaxis": {
                        "gridcolor": "white",
                        "linecolor": "white",
                        "ticks": ""
                      },
                      "bgcolor": "#E5ECF6",
                      "radialaxis": {
                        "gridcolor": "white",
                        "linecolor": "white",
                        "ticks": ""
                      }
                    },
                    "scene": {
                      "xaxis": {
                        "backgroundcolor": "#E5ECF6",
                        "gridcolor": "white",
                        "gridwidth": 2,
                        "linecolor": "white",
                        "showbackground": true,
                        "ticks": "",
                        "zerolinecolor": "white"
                      },
                      "yaxis": {
                        "backgroundcolor": "#E5ECF6",
                        "gridcolor": "white",
                        "gridwidth": 2,
                        "linecolor": "white",
                        "showbackground": true,
                        "ticks": "",
                        "zerolinecolor": "white"
                      },
                      "zaxis": {
                        "backgroundcolor": "#E5ECF6",
                        "gridcolor": "white",
                        "gridwidth": 2,
                        "linecolor": "white",
                        "showbackground": true,
                        "ticks": "",
                        "zerolinecolor": "white"
                      }
                    },
                    "shapedefaults": {
                      "line": {
                        "color": "#2a3f5f"
                      }
                    },
                    "ternary": {
                      "aaxis": {
                        "gridcolor": "white",
                        "linecolor": "white",
                        "ticks": ""
                      },
                      "baxis": {
                        "gridcolor": "white",
                        "linecolor": "white",
                        "ticks": ""
                      },
                      "bgcolor": "#E5ECF6",
                      "caxis": {
                        "gridcolor": "white",
                        "linecolor": "white",
                        "ticks": ""
                      }
                    },
                    "title": {
                      "x": 0.05
                    },
                    "xaxis": {
                      "automargin": true,
                      "gridcolor": "white",
                      "linecolor": "white",
                      "ticks": "",
                      "title": {
                        "standoff": 15
                      },
                      "zerolinecolor": "white",
                      "zerolinewidth": 2
                    },
                    "yaxis": {
                      "automargin": true,
                      "gridcolor": "white",
                      "linecolor": "white",
                      "ticks": "",
                      "title": {
                        "standoff": 15
                      },
                      "zerolinecolor": "white",
                      "zerolinewidth": 2
                    }
                  }
                },
                "title": {
                  "font": {
                    "size": 16
                  },
                  "text": "Scatter Plot of Grad_median by Grad_unemployment_rate for A-L",
                  "x": 0.5,
                  "xanchor": "center",
                  "y": 0.9,
                  "yanchor": "top"
                },
                "xaxis": {
                  "anchor": "y",
                  "domain": [
                    0,
                    1
                  ],
                  "linecolor": "black",
                  "showgrid": false,
                  "showline": true,
                  "title": {
                    "text": "Grad_unemployment_rate"
                  }
                },
                "yaxis": {
                  "anchor": "x",
                  "domain": [
                    0,
                    1
                  ],
                  "linecolor": "black",
                  "showgrid": false,
                  "showline": true,
                  "title": {
                    "text": "Grad_median"
                  }
                }
              }
            }
          },
          "metadata": {},
          "output_type": "display_data"
        },
        {
          "data": {
            "application/vnd.plotly.v1+json": {
              "config": {
                "plotlyServerURL": "https://plot.ly"
              },
              "data": [
                {
                  "hovertemplate": "Nongrad_unemployment_rate=%{x}<br>Nongrad_median=%{y}<extra></extra>",
                  "legendgroup": "",
                  "marker": {
                    "color": "#636efa",
                    "symbol": "circle"
                  },
                  "mode": "markers",
                  "name": "",
                  "orientation": "v",
                  "showlegend": false,
                  "type": "scatter",
                  "x": [
                    0.050660992,
                    0.068385885,
                    0.048422938,
                    0.052899774,
                    0.072800309,
                    0.069205077,
                    0.052719113,
                    0.025376782,
                    0.091643983,
                    0.063762469,
                    0.07994122,
                    0.051932559,
                    0.04146757,
                    0.07695541,
                    0.04375708,
                    0.05623694,
                    0.048798531,
                    0.062088077,
                    0.050589797,
                    0.160906607,
                    0.04897282,
                    0.057297939,
                    0.056334794,
                    0.042189087,
                    0.066013441,
                    0.040689517,
                    0.049106038,
                    0.034572889,
                    0.047356793,
                    0.060991552,
                    0.038372764,
                    0.055825178,
                    0.060115524,
                    0.02941836,
                    0.048254654,
                    0.051030882,
                    0.06790868,
                    0.025190097,
                    0.049979756,
                    0.065075763,
                    0.073152702,
                    0.065025795,
                    0.026432015,
                    0.038706366,
                    0.065280245,
                    0.073502535,
                    0.093842011,
                    0.053242438,
                    0.081685771,
                    0.052252298,
                    0.041817237,
                    0.044786316,
                    0.042372881,
                    0.030560026,
                    0.060497356,
                    0.065771065,
                    0.069391449,
                    0.079710643,
                    0.055936935,
                    0.055434666,
                    0.047420571,
                    0.052648467,
                    0.027918299,
                    0.046416258,
                    0.067269885,
                    0.05259075,
                    0.047306512,
                    0.058322611,
                    0.082621234,
                    0.053680358,
                    0.072280011,
                    0.045842588,
                    0.043517315,
                    0.050954607,
                    0.052533293,
                    0.04862495,
                    0.04714881,
                    0.062996528,
                    0.066578686,
                    0.039757939,
                    0.021716309,
                    0.038442979,
                    0.040931564,
                    0.079411862,
                    0.040108369,
                    0.049793309,
                    0,
                    0.092359362,
                    0.040651879,
                    0.025592902,
                    0.0644131,
                    0.044940781,
                    0.04933456,
                    0.072328826,
                    0.060999683,
                    0.055632913,
                    0.041980786,
                    0.047588899,
                    0.048934952,
                    0.039109021,
                    0.054204398,
                    0.038179585,
                    0.049409997,
                    0.065858892,
                    0.03630878,
                    0.08661744,
                    0.101796407,
                    0.041853498,
                    0.048207893,
                    0.039798701,
                    0.07597472,
                    0.06023684,
                    0.065665887,
                    0.056471818,
                    0.065287334,
                    0.032063131,
                    0.062530633,
                    0.032982907,
                    0.062108329,
                    0.064386655,
                    0.065917795,
                    0.04024349,
                    0.037532988,
                    0.043111207,
                    0.038801284,
                    0.061487533,
                    0.056351398,
                    0.05339504,
                    0.048832272,
                    0.057226054,
                    0.042832331,
                    0.051180532,
                    0.062993251,
                    0.060334448,
                    0.033985467,
                    0.038594803,
                    0.082347184,
                    0.044273065,
                    0.042647664,
                    0.038648912,
                    0.079537787,
                    0.046971746,
                    0.04191344,
                    0.046223151,
                    0.020948502,
                    0.044460127,
                    0.036620872,
                    0.040915842,
                    0.046226965,
                    0.068537358,
                    0.043900496,
                    0.034687599,
                    0.052907033,
                    0.098740888,
                    0.054194904,
                    0.047937278,
                    0.053769783,
                    0.098528047,
                    0.04092087,
                    0.017907634,
                    0.047065415,
                    0.050036561,
                    0.069740411,
                    0.071072049,
                    0.062710355,
                    0.045584046,
                    0.02819272,
                    0.038244347,
                    0.063200121,
                    0.075555556,
                    0.05872454,
                    0.112892452,
                    0
                  ],
                  "xaxis": "x",
                  "y": [
                    65000,
                    48000,
                    50000,
                    41600,
                    52000,
                    50000,
                    60000,
                    55000,
                    60000,
                    51000,
                    50000,
                    50000,
                    61000,
                    50000,
                    69000,
                    58000,
                    55000,
                    65000,
                    70000,
                    46000,
                    52000,
                    60000,
                    50000,
                    72000,
                    60000,
                    66000,
                    60000,
                    60000,
                    65000,
                    52000,
                    76000,
                    68000,
                    53000,
                    56000,
                    65000,
                    65000,
                    46000,
                    64000,
                    70000,
                    80000,
                    44000,
                    64000,
                    50000,
                    59000,
                    50000,
                    38700,
                    40000,
                    53000,
                    38000,
                    42000,
                    45000,
                    70000,
                    126000,
                    50000,
                    55000,
                    57000,
                    42000,
                    45000,
                    70000,
                    75000,
                    80000,
                    52000,
                    63000,
                    55000,
                    55000,
                    70000,
                    48700,
                    46000,
                    64000,
                    65000,
                    50000,
                    75000,
                    59000,
                    80000,
                    81000,
                    95000,
                    37000,
                    49000,
                    50000,
                    48000,
                    63000,
                    55000,
                    82000,
                    47000,
                    63000,
                    76000,
                    87000,
                    49000,
                    100000,
                    92000,
                    45500,
                    45000,
                    52000,
                    50000,
                    50000,
                    70000,
                    50000,
                    50000,
                    90000,
                    40000,
                    60000,
                    50000,
                    65000,
                    58000,
                    40000,
                    63000,
                    64000,
                    44000,
                    46400,
                    44000,
                    49000,
                    78000,
                    45000,
                    40000,
                    50000,
                    40000,
                    66000,
                    107000,
                    47000,
                    46000,
                    50000,
                    60000,
                    60000,
                    90000,
                    85000,
                    52000,
                    54000,
                    76000,
                    75000,
                    50000,
                    47000,
                    68000,
                    60000,
                    60000,
                    71900,
                    55000,
                    47000,
                    98000,
                    45000,
                    58000,
                    52000,
                    70000,
                    55000,
                    43200,
                    100000,
                    63000,
                    45000,
                    48000,
                    60000,
                    46000,
                    43000,
                    50000,
                    54000,
                    85000,
                    60000,
                    50000,
                    70000,
                    40000,
                    50000,
                    66000,
                    55000,
                    74000,
                    40000,
                    40000,
                    55000,
                    56000,
                    80000,
                    44000,
                    40000,
                    46000,
                    51000,
                    42000,
                    58000
                  ],
                  "yaxis": "y"
                },
                {
                  "hovertemplate": "<b>OLS trendline</b><br>Nongrad_median = -237071 * Nongrad_unemployment_rate + 71373.2<br>R<sup>2</sup>=0.092973<br><br>Nongrad_unemployment_rate=%{x}<br>Nongrad_median=%{y} <b>(trend)</b><extra></extra>",
                  "legendgroup": "",
                  "marker": {
                    "color": "#636efa",
                    "symbol": "circle"
                  },
                  "mode": "lines",
                  "name": "",
                  "showlegend": false,
                  "type": "scatter",
                  "x": [
                    0,
                    0,
                    0.017907634,
                    0.020948502,
                    0.021716309,
                    0.025190097,
                    0.025376782,
                    0.025592902,
                    0.026432015,
                    0.027918299,
                    0.02819272,
                    0.02941836,
                    0.030560026,
                    0.032063131,
                    0.032982907,
                    0.033985467,
                    0.034572889,
                    0.034687599,
                    0.03630878,
                    0.036620872,
                    0.037532988,
                    0.038179585,
                    0.038244347,
                    0.038372764,
                    0.038442979,
                    0.038594803,
                    0.038648912,
                    0.038706366,
                    0.038801284,
                    0.039109021,
                    0.039757939,
                    0.039798701,
                    0.040108369,
                    0.04024349,
                    0.040651879,
                    0.040689517,
                    0.040915842,
                    0.04092087,
                    0.040931564,
                    0.04146757,
                    0.041817237,
                    0.041853498,
                    0.04191344,
                    0.041980786,
                    0.042189087,
                    0.042372881,
                    0.042647664,
                    0.042832331,
                    0.043111207,
                    0.043517315,
                    0.04375708,
                    0.043900496,
                    0.044273065,
                    0.044460127,
                    0.044786316,
                    0.044940781,
                    0.045584046,
                    0.045842588,
                    0.046223151,
                    0.046226965,
                    0.046416258,
                    0.046971746,
                    0.047065415,
                    0.04714881,
                    0.047306512,
                    0.047356793,
                    0.047420571,
                    0.047588899,
                    0.047937278,
                    0.048207893,
                    0.048254654,
                    0.048422938,
                    0.04862495,
                    0.048798531,
                    0.048832272,
                    0.048934952,
                    0.04897282,
                    0.049106038,
                    0.04933456,
                    0.049409997,
                    0.049793309,
                    0.049979756,
                    0.050036561,
                    0.050589797,
                    0.050660992,
                    0.050954607,
                    0.051030882,
                    0.051180532,
                    0.051932559,
                    0.052252298,
                    0.052533293,
                    0.05259075,
                    0.052648467,
                    0.052719113,
                    0.052899774,
                    0.052907033,
                    0.053242438,
                    0.05339504,
                    0.053680358,
                    0.053769783,
                    0.054194904,
                    0.054204398,
                    0.055434666,
                    0.055632913,
                    0.055825178,
                    0.055936935,
                    0.05623694,
                    0.056334794,
                    0.056351398,
                    0.056471818,
                    0.057226054,
                    0.057297939,
                    0.058322611,
                    0.05872454,
                    0.060115524,
                    0.06023684,
                    0.060334448,
                    0.060497356,
                    0.060991552,
                    0.060999683,
                    0.061487533,
                    0.062088077,
                    0.062108329,
                    0.062530633,
                    0.062710355,
                    0.062993251,
                    0.062996528,
                    0.063200121,
                    0.063762469,
                    0.064386655,
                    0.0644131,
                    0.065025795,
                    0.065075763,
                    0.065280245,
                    0.065287334,
                    0.065665887,
                    0.065771065,
                    0.065858892,
                    0.065917795,
                    0.066013441,
                    0.066578686,
                    0.067269885,
                    0.06790868,
                    0.068385885,
                    0.068537358,
                    0.069205077,
                    0.069391449,
                    0.069740411,
                    0.071072049,
                    0.072280011,
                    0.072328826,
                    0.072800309,
                    0.073152702,
                    0.073502535,
                    0.075555556,
                    0.07597472,
                    0.07695541,
                    0.079411862,
                    0.079537787,
                    0.079710643,
                    0.07994122,
                    0.081685771,
                    0.082347184,
                    0.082621234,
                    0.08661744,
                    0.091643983,
                    0.092359362,
                    0.093842011,
                    0.098528047,
                    0.098740888,
                    0.101796407,
                    0.112892452,
                    0.160906607
                  ],
                  "xaxis": "x",
                  "y": [
                    71373.18909183021,
                    71373.18909183021,
                    67127.80478978217,
                    66406.90256049826,
                    66224.87763276059,
                    65401.34253907692,
                    65357.08490189114,
                    65305.84907389964,
                    65106.919547093115,
                    64754.56441397027,
                    64689.507097880814,
                    64398.943150909254,
                    64128.28702098265,
                    63771.944113185345,
                    63553.89171208085,
                    63316.21360866075,
                    63176.95276954165,
                    63149.75833205829,
                    62765.423005114564,
                    62691.43497980677,
                    62475.19854410304,
                    62321.90901665618,
                    62306.555811527614,
                    62276.11183909016,
                    62259.46588470175,
                    62223.472786659084,
                    62210.64510103632,
                    62197.02441224573,
                    62174.52208797543,
                    62101.56650774862,
                    61947.7267380439,
                    61938.06324174282,
                    61864.6498770266,
                    61832.61657925666,
                    61735.79930849219,
                    61726.876422623485,
                    61673.22128302431,
                    61672.02928902495,
                    61669.4940495999,
                    61542.42246335888,
                    61459.52648766806,
                    61450.93004884333,
                    61436.719526904286,
                    61420.75372979197,
                    61371.371561522225,
                    61327.79929717895,
                    61262.65616131468,
                    61218.876933812804,
                    61152.76346552224,
                    61056.48695416758,
                    60999.645577625015,
                    60965.64577424158,
                    60877.320393902126,
                    60832.9733808735,
                    60755.64336284316,
                    60719.02415975828,
                    60566.52455355363,
                    60505.23169106716,
                    60415.01116354575,
                    60414.10697398458,
                    60369.231055106204,
                    60237.54084772448,
                    60215.334625384414,
                    60195.564072564914,
                    60158.177470001916,
                    60146.25729293714,
                    60131.1373658705,
                    60091.23164472414,
                    60008.64101674038,
                    59944.485993642484,
                    59933.40030720573,
                    59893.50501719222,
                    59845.613789706484,
                    59804.4627335405,
                    59796.463714142665,
                    59772.12124320908,
                    59763.143830964116,
                    59731.561679689956,
                    59677.38569466186,
                    59659.501754461075,
                    59568.629518207716,
                    59524.428303967805,
                    59510.96147438675,
                    59379.80515135,
                    59362.92686718448,
                    59293.31920646023,
                    59275.236600592885,
                    59239.75889534151,
                    59061.474951157914,
                    58985.67404237496,
                    58919.058220209175,
                    58905.43682020498,
                    58891.75378168848,
                    58875.00564961238,
                    58832.1761293423,
                    58830.45522949318,
                    58750.94036327308,
                    58714.76282383593,
                    58647.12214286759,
                    58625.92205070519,
                    58525.13810460315,
                    58522.88735061948,
                    58231.22623812902,
                    58184.22758371559,
                    58138.647089227416,
                    58112.15272300103,
                    58041.03017730148,
                    58017.83181198462,
                    58013.8954817608,
                    57985.3473677189,
                    57806.53973325198,
                    57789.49786995766,
                    57546.577648137834,
                    57451.29185733276,
                    57121.52960967905,
                    57092.769079840924,
                    57069.62903403954,
                    57031.008238803384,
                    56913.84859948225,
                    56911.92097354574,
                    56796.26578806707,
                    56653.89410064655,
                    56649.09293468096,
                    56548.97681815254,
                    56506.369907740336,
                    56439.30341322117,
                    56438.52653089502,
                    56390.260493840266,
                    56256.94397801869,
                    56108.96745326069,
                    56102.698105346404,
                    55957.44576576076,
                    55945.59979198194,
                    55897.12299862938,
                    55895.44240088446,
                    55805.69838647735,
                    55780.76371168331,
                    55759.94245930033,
                    55745.97825433927,
                    55723.30334223455,
                    55589.30003114325,
                    55425.436653982906,
                    55273.99675604738,
                    55160.8651935049,
                    55124.955307453834,
                    54966.65836209639,
                    54922.47492819656,
                    54839.74608770254,
                    54524.05306755199,
                    54237.68006527427,
                    54226.10743459037,
                    54114.33239346084,
                    54030.79016167569,
                    53947.854832165474,
                    53461.142677719225,
                    53361.77096476241,
                    53129.27760851135,
                    52546.9235823159,
                    52517.0703913117,
                    52476.09121176655,
                    52421.4280454201,
                    52007.845244391094,
                    51851.043270028065,
                    51786.073907354235,
                    50838.68855091071,
                    49647.039964292875,
                    49477.44420548884,
                    49125.95082618216,
                    48015.02664305267,
                    47964.568171529725,
                    47240.192612077844,
                    44609.63989596701,
                    33226.86649814675
                  ],
                  "yaxis": "y"
                }
              ],
              "layout": {
                "legend": {
                  "tracegroupgap": 0
                },
                "plot_bgcolor": "rgba(255,255,255,1)",
                "template": {
                  "data": {
                    "bar": [
                      {
                        "error_x": {
                          "color": "#2a3f5f"
                        },
                        "error_y": {
                          "color": "#2a3f5f"
                        },
                        "marker": {
                          "line": {
                            "color": "#E5ECF6",
                            "width": 0.5
                          },
                          "pattern": {
                            "fillmode": "overlay",
                            "size": 10,
                            "solidity": 0.2
                          }
                        },
                        "type": "bar"
                      }
                    ],
                    "barpolar": [
                      {
                        "marker": {
                          "line": {
                            "color": "#E5ECF6",
                            "width": 0.5
                          },
                          "pattern": {
                            "fillmode": "overlay",
                            "size": 10,
                            "solidity": 0.2
                          }
                        },
                        "type": "barpolar"
                      }
                    ],
                    "carpet": [
                      {
                        "aaxis": {
                          "endlinecolor": "#2a3f5f",
                          "gridcolor": "white",
                          "linecolor": "white",
                          "minorgridcolor": "white",
                          "startlinecolor": "#2a3f5f"
                        },
                        "baxis": {
                          "endlinecolor": "#2a3f5f",
                          "gridcolor": "white",
                          "linecolor": "white",
                          "minorgridcolor": "white",
                          "startlinecolor": "#2a3f5f"
                        },
                        "type": "carpet"
                      }
                    ],
                    "choropleth": [
                      {
                        "colorbar": {
                          "outlinewidth": 0,
                          "ticks": ""
                        },
                        "type": "choropleth"
                      }
                    ],
                    "contour": [
                      {
                        "colorbar": {
                          "outlinewidth": 0,
                          "ticks": ""
                        },
                        "colorscale": [
                          [
                            0,
                            "#0d0887"
                          ],
                          [
                            0.1111111111111111,
                            "#46039f"
                          ],
                          [
                            0.2222222222222222,
                            "#7201a8"
                          ],
                          [
                            0.3333333333333333,
                            "#9c179e"
                          ],
                          [
                            0.4444444444444444,
                            "#bd3786"
                          ],
                          [
                            0.5555555555555556,
                            "#d8576b"
                          ],
                          [
                            0.6666666666666666,
                            "#ed7953"
                          ],
                          [
                            0.7777777777777778,
                            "#fb9f3a"
                          ],
                          [
                            0.8888888888888888,
                            "#fdca26"
                          ],
                          [
                            1,
                            "#f0f921"
                          ]
                        ],
                        "type": "contour"
                      }
                    ],
                    "contourcarpet": [
                      {
                        "colorbar": {
                          "outlinewidth": 0,
                          "ticks": ""
                        },
                        "type": "contourcarpet"
                      }
                    ],
                    "heatmap": [
                      {
                        "colorbar": {
                          "outlinewidth": 0,
                          "ticks": ""
                        },
                        "colorscale": [
                          [
                            0,
                            "#0d0887"
                          ],
                          [
                            0.1111111111111111,
                            "#46039f"
                          ],
                          [
                            0.2222222222222222,
                            "#7201a8"
                          ],
                          [
                            0.3333333333333333,
                            "#9c179e"
                          ],
                          [
                            0.4444444444444444,
                            "#bd3786"
                          ],
                          [
                            0.5555555555555556,
                            "#d8576b"
                          ],
                          [
                            0.6666666666666666,
                            "#ed7953"
                          ],
                          [
                            0.7777777777777778,
                            "#fb9f3a"
                          ],
                          [
                            0.8888888888888888,
                            "#fdca26"
                          ],
                          [
                            1,
                            "#f0f921"
                          ]
                        ],
                        "type": "heatmap"
                      }
                    ],
                    "heatmapgl": [
                      {
                        "colorbar": {
                          "outlinewidth": 0,
                          "ticks": ""
                        },
                        "colorscale": [
                          [
                            0,
                            "#0d0887"
                          ],
                          [
                            0.1111111111111111,
                            "#46039f"
                          ],
                          [
                            0.2222222222222222,
                            "#7201a8"
                          ],
                          [
                            0.3333333333333333,
                            "#9c179e"
                          ],
                          [
                            0.4444444444444444,
                            "#bd3786"
                          ],
                          [
                            0.5555555555555556,
                            "#d8576b"
                          ],
                          [
                            0.6666666666666666,
                            "#ed7953"
                          ],
                          [
                            0.7777777777777778,
                            "#fb9f3a"
                          ],
                          [
                            0.8888888888888888,
                            "#fdca26"
                          ],
                          [
                            1,
                            "#f0f921"
                          ]
                        ],
                        "type": "heatmapgl"
                      }
                    ],
                    "histogram": [
                      {
                        "marker": {
                          "pattern": {
                            "fillmode": "overlay",
                            "size": 10,
                            "solidity": 0.2
                          }
                        },
                        "type": "histogram"
                      }
                    ],
                    "histogram2d": [
                      {
                        "colorbar": {
                          "outlinewidth": 0,
                          "ticks": ""
                        },
                        "colorscale": [
                          [
                            0,
                            "#0d0887"
                          ],
                          [
                            0.1111111111111111,
                            "#46039f"
                          ],
                          [
                            0.2222222222222222,
                            "#7201a8"
                          ],
                          [
                            0.3333333333333333,
                            "#9c179e"
                          ],
                          [
                            0.4444444444444444,
                            "#bd3786"
                          ],
                          [
                            0.5555555555555556,
                            "#d8576b"
                          ],
                          [
                            0.6666666666666666,
                            "#ed7953"
                          ],
                          [
                            0.7777777777777778,
                            "#fb9f3a"
                          ],
                          [
                            0.8888888888888888,
                            "#fdca26"
                          ],
                          [
                            1,
                            "#f0f921"
                          ]
                        ],
                        "type": "histogram2d"
                      }
                    ],
                    "histogram2dcontour": [
                      {
                        "colorbar": {
                          "outlinewidth": 0,
                          "ticks": ""
                        },
                        "colorscale": [
                          [
                            0,
                            "#0d0887"
                          ],
                          [
                            0.1111111111111111,
                            "#46039f"
                          ],
                          [
                            0.2222222222222222,
                            "#7201a8"
                          ],
                          [
                            0.3333333333333333,
                            "#9c179e"
                          ],
                          [
                            0.4444444444444444,
                            "#bd3786"
                          ],
                          [
                            0.5555555555555556,
                            "#d8576b"
                          ],
                          [
                            0.6666666666666666,
                            "#ed7953"
                          ],
                          [
                            0.7777777777777778,
                            "#fb9f3a"
                          ],
                          [
                            0.8888888888888888,
                            "#fdca26"
                          ],
                          [
                            1,
                            "#f0f921"
                          ]
                        ],
                        "type": "histogram2dcontour"
                      }
                    ],
                    "mesh3d": [
                      {
                        "colorbar": {
                          "outlinewidth": 0,
                          "ticks": ""
                        },
                        "type": "mesh3d"
                      }
                    ],
                    "parcoords": [
                      {
                        "line": {
                          "colorbar": {
                            "outlinewidth": 0,
                            "ticks": ""
                          }
                        },
                        "type": "parcoords"
                      }
                    ],
                    "pie": [
                      {
                        "automargin": true,
                        "type": "pie"
                      }
                    ],
                    "scatter": [
                      {
                        "fillpattern": {
                          "fillmode": "overlay",
                          "size": 10,
                          "solidity": 0.2
                        },
                        "type": "scatter"
                      }
                    ],
                    "scatter3d": [
                      {
                        "line": {
                          "colorbar": {
                            "outlinewidth": 0,
                            "ticks": ""
                          }
                        },
                        "marker": {
                          "colorbar": {
                            "outlinewidth": 0,
                            "ticks": ""
                          }
                        },
                        "type": "scatter3d"
                      }
                    ],
                    "scattercarpet": [
                      {
                        "marker": {
                          "colorbar": {
                            "outlinewidth": 0,
                            "ticks": ""
                          }
                        },
                        "type": "scattercarpet"
                      }
                    ],
                    "scattergeo": [
                      {
                        "marker": {
                          "colorbar": {
                            "outlinewidth": 0,
                            "ticks": ""
                          }
                        },
                        "type": "scattergeo"
                      }
                    ],
                    "scattergl": [
                      {
                        "marker": {
                          "colorbar": {
                            "outlinewidth": 0,
                            "ticks": ""
                          }
                        },
                        "type": "scattergl"
                      }
                    ],
                    "scattermapbox": [
                      {
                        "marker": {
                          "colorbar": {
                            "outlinewidth": 0,
                            "ticks": ""
                          }
                        },
                        "type": "scattermapbox"
                      }
                    ],
                    "scatterpolar": [
                      {
                        "marker": {
                          "colorbar": {
                            "outlinewidth": 0,
                            "ticks": ""
                          }
                        },
                        "type": "scatterpolar"
                      }
                    ],
                    "scatterpolargl": [
                      {
                        "marker": {
                          "colorbar": {
                            "outlinewidth": 0,
                            "ticks": ""
                          }
                        },
                        "type": "scatterpolargl"
                      }
                    ],
                    "scatterternary": [
                      {
                        "marker": {
                          "colorbar": {
                            "outlinewidth": 0,
                            "ticks": ""
                          }
                        },
                        "type": "scatterternary"
                      }
                    ],
                    "surface": [
                      {
                        "colorbar": {
                          "outlinewidth": 0,
                          "ticks": ""
                        },
                        "colorscale": [
                          [
                            0,
                            "#0d0887"
                          ],
                          [
                            0.1111111111111111,
                            "#46039f"
                          ],
                          [
                            0.2222222222222222,
                            "#7201a8"
                          ],
                          [
                            0.3333333333333333,
                            "#9c179e"
                          ],
                          [
                            0.4444444444444444,
                            "#bd3786"
                          ],
                          [
                            0.5555555555555556,
                            "#d8576b"
                          ],
                          [
                            0.6666666666666666,
                            "#ed7953"
                          ],
                          [
                            0.7777777777777778,
                            "#fb9f3a"
                          ],
                          [
                            0.8888888888888888,
                            "#fdca26"
                          ],
                          [
                            1,
                            "#f0f921"
                          ]
                        ],
                        "type": "surface"
                      }
                    ],
                    "table": [
                      {
                        "cells": {
                          "fill": {
                            "color": "#EBF0F8"
                          },
                          "line": {
                            "color": "white"
                          }
                        },
                        "header": {
                          "fill": {
                            "color": "#C8D4E3"
                          },
                          "line": {
                            "color": "white"
                          }
                        },
                        "type": "table"
                      }
                    ]
                  },
                  "layout": {
                    "annotationdefaults": {
                      "arrowcolor": "#2a3f5f",
                      "arrowhead": 0,
                      "arrowwidth": 1
                    },
                    "autotypenumbers": "strict",
                    "coloraxis": {
                      "colorbar": {
                        "outlinewidth": 0,
                        "ticks": ""
                      }
                    },
                    "colorscale": {
                      "diverging": [
                        [
                          0,
                          "#8e0152"
                        ],
                        [
                          0.1,
                          "#c51b7d"
                        ],
                        [
                          0.2,
                          "#de77ae"
                        ],
                        [
                          0.3,
                          "#f1b6da"
                        ],
                        [
                          0.4,
                          "#fde0ef"
                        ],
                        [
                          0.5,
                          "#f7f7f7"
                        ],
                        [
                          0.6,
                          "#e6f5d0"
                        ],
                        [
                          0.7,
                          "#b8e186"
                        ],
                        [
                          0.8,
                          "#7fbc41"
                        ],
                        [
                          0.9,
                          "#4d9221"
                        ],
                        [
                          1,
                          "#276419"
                        ]
                      ],
                      "sequential": [
                        [
                          0,
                          "#0d0887"
                        ],
                        [
                          0.1111111111111111,
                          "#46039f"
                        ],
                        [
                          0.2222222222222222,
                          "#7201a8"
                        ],
                        [
                          0.3333333333333333,
                          "#9c179e"
                        ],
                        [
                          0.4444444444444444,
                          "#bd3786"
                        ],
                        [
                          0.5555555555555556,
                          "#d8576b"
                        ],
                        [
                          0.6666666666666666,
                          "#ed7953"
                        ],
                        [
                          0.7777777777777778,
                          "#fb9f3a"
                        ],
                        [
                          0.8888888888888888,
                          "#fdca26"
                        ],
                        [
                          1,
                          "#f0f921"
                        ]
                      ],
                      "sequentialminus": [
                        [
                          0,
                          "#0d0887"
                        ],
                        [
                          0.1111111111111111,
                          "#46039f"
                        ],
                        [
                          0.2222222222222222,
                          "#7201a8"
                        ],
                        [
                          0.3333333333333333,
                          "#9c179e"
                        ],
                        [
                          0.4444444444444444,
                          "#bd3786"
                        ],
                        [
                          0.5555555555555556,
                          "#d8576b"
                        ],
                        [
                          0.6666666666666666,
                          "#ed7953"
                        ],
                        [
                          0.7777777777777778,
                          "#fb9f3a"
                        ],
                        [
                          0.8888888888888888,
                          "#fdca26"
                        ],
                        [
                          1,
                          "#f0f921"
                        ]
                      ]
                    },
                    "colorway": [
                      "#636efa",
                      "#EF553B",
                      "#00cc96",
                      "#ab63fa",
                      "#FFA15A",
                      "#19d3f3",
                      "#FF6692",
                      "#B6E880",
                      "#FF97FF",
                      "#FECB52"
                    ],
                    "font": {
                      "color": "#2a3f5f"
                    },
                    "geo": {
                      "bgcolor": "white",
                      "lakecolor": "white",
                      "landcolor": "#E5ECF6",
                      "showlakes": true,
                      "showland": true,
                      "subunitcolor": "white"
                    },
                    "hoverlabel": {
                      "align": "left"
                    },
                    "hovermode": "closest",
                    "mapbox": {
                      "style": "light"
                    },
                    "paper_bgcolor": "white",
                    "plot_bgcolor": "#E5ECF6",
                    "polar": {
                      "angularaxis": {
                        "gridcolor": "white",
                        "linecolor": "white",
                        "ticks": ""
                      },
                      "bgcolor": "#E5ECF6",
                      "radialaxis": {
                        "gridcolor": "white",
                        "linecolor": "white",
                        "ticks": ""
                      }
                    },
                    "scene": {
                      "xaxis": {
                        "backgroundcolor": "#E5ECF6",
                        "gridcolor": "white",
                        "gridwidth": 2,
                        "linecolor": "white",
                        "showbackground": true,
                        "ticks": "",
                        "zerolinecolor": "white"
                      },
                      "yaxis": {
                        "backgroundcolor": "#E5ECF6",
                        "gridcolor": "white",
                        "gridwidth": 2,
                        "linecolor": "white",
                        "showbackground": true,
                        "ticks": "",
                        "zerolinecolor": "white"
                      },
                      "zaxis": {
                        "backgroundcolor": "#E5ECF6",
                        "gridcolor": "white",
                        "gridwidth": 2,
                        "linecolor": "white",
                        "showbackground": true,
                        "ticks": "",
                        "zerolinecolor": "white"
                      }
                    },
                    "shapedefaults": {
                      "line": {
                        "color": "#2a3f5f"
                      }
                    },
                    "ternary": {
                      "aaxis": {
                        "gridcolor": "white",
                        "linecolor": "white",
                        "ticks": ""
                      },
                      "baxis": {
                        "gridcolor": "white",
                        "linecolor": "white",
                        "ticks": ""
                      },
                      "bgcolor": "#E5ECF6",
                      "caxis": {
                        "gridcolor": "white",
                        "linecolor": "white",
                        "ticks": ""
                      }
                    },
                    "title": {
                      "x": 0.05
                    },
                    "xaxis": {
                      "automargin": true,
                      "gridcolor": "white",
                      "linecolor": "white",
                      "ticks": "",
                      "title": {
                        "standoff": 15
                      },
                      "zerolinecolor": "white",
                      "zerolinewidth": 2
                    },
                    "yaxis": {
                      "automargin": true,
                      "gridcolor": "white",
                      "linecolor": "white",
                      "ticks": "",
                      "title": {
                        "standoff": 15
                      },
                      "zerolinecolor": "white",
                      "zerolinewidth": 2
                    }
                  }
                },
                "title": {
                  "font": {
                    "size": 16
                  },
                  "text": "Scatter Plot of Nongrad_median by Nongrad_unemployment_rate for M-Z",
                  "x": 0.5,
                  "xanchor": "center",
                  "y": 0.9,
                  "yanchor": "top"
                },
                "xaxis": {
                  "anchor": "y",
                  "domain": [
                    0,
                    1
                  ],
                  "linecolor": "black",
                  "showgrid": false,
                  "showline": true,
                  "title": {
                    "text": "Nongrad_unemployment_rate"
                  }
                },
                "yaxis": {
                  "anchor": "x",
                  "domain": [
                    0,
                    1
                  ],
                  "linecolor": "black",
                  "showgrid": false,
                  "showline": true,
                  "title": {
                    "text": "Nongrad_median"
                  }
                }
              }
            }
          },
          "metadata": {},
          "output_type": "display_data"
        }
      ],
      "source": [
        "# Scatter plot with regression line for A-L\n",
        "scatter_al = px.scatter(\n",
        "    df, \n",
        "    x='Grad_unemployment_rate', \n",
        "    y='Grad_median',\n",
        "    title='Scatter Plot of Grad_median by Grad_unemployment_rate for A-L',\n",
        "    trendline='ols'  # Adds OLS regression line\n",
        ")\n",
        "\n",
        "# Updating layout for A-L plot\n",
        "scatter_al.update_layout(\n",
        "    plot_bgcolor='rgba(255,255,255,1)',\n",
        "    xaxis=dict(showline=True, showgrid=False, linecolor='black'),\n",
        "    yaxis=dict(showline=True, showgrid=False, linecolor='black'),\n",
        "    title={\n",
        "        'text': 'Scatter Plot of Grad_median by Grad_unemployment_rate for A-L',\n",
        "        'y':0.9,\n",
        "        'x':0.5,\n",
        "        'xanchor': 'center',\n",
        "        'yanchor': 'top',\n",
        "        'font': dict(size=16),  # Smaller title font size\n",
        "    }\n",
        ")\n",
        "\n",
        "scatter_al.show()\n",
        "\n",
        "# Scatter plot with regression line for M-Z\n",
        "scatter_mz = px.scatter(\n",
        "    df, \n",
        "    x='Nongrad_unemployment_rate', \n",
        "    y='Nongrad_median',\n",
        "    title='Scatter Plot of Nongrad_median by Nongrad_unemployment_rate for M-Z',\n",
        "    trendline='ols'  # Adds OLS regression line\n",
        ")\n",
        "\n",
        "# Updating layout for M-Z plot\n",
        "scatter_mz.update_layout(\n",
        "    plot_bgcolor='rgba(255,255,255,1)',\n",
        "    xaxis=dict(showline=True, showgrid=False, linecolor='black'),\n",
        "    yaxis=dict(showline=True, showgrid=False, linecolor='black'),\n",
        "    title={\n",
        "        'text': 'Scatter Plot of Nongrad_median by Nongrad_unemployment_rate for M-Z',\n",
        "        'y':0.9,\n",
        "        'x':0.5,\n",
        "        'xanchor': 'center',\n",
        "        'yanchor': 'top',\n",
        "        'font': dict(size=16),  # Smaller title font size\n",
        "    }\n",
        ")\n",
        "\n",
        "scatter_mz.show()"
      ]
    },
    {
      "cell_type": "code",
      "execution_count": 40,
      "metadata": {},
      "outputs": [
        {
          "name": "stdout",
          "output_type": "stream",
          "text": [
            "A-L Group:\n",
            "                         Coefficients  Standard Error\n",
            "(Constant)               81599.071787     2934.007583\n",
            "Grad_unemployment_rate -123103.883746    67139.985320\n",
            "\n",
            "M-Z Group:\n",
            "                            Coefficients  Standard Error\n",
            "(Constant)                  71373.189092     3243.892112\n",
            "Nongrad_unemployment_rate -237071.201145    56625.432472\n"
          ]
        }
      ],
      "source": [
        "# Function to fit the model and return a DataFrame with coefficients and standard errors\n",
        "def regression_results_to_dataframe(model, x_col):\n",
        "    params = model.params\n",
        "    bse = model.bse\n",
        "    return pd.DataFrame({\n",
        "        'Coefficients': params.values,\n",
        "        'Standard Error': bse.values\n",
        "    }, index=['(Constant)', x_col])\n",
        "\n",
        "# Fit the regression model for A-L group\n",
        "X_al = sm.add_constant(df['Grad_unemployment_rate'])  # Adds a constant term to the predictor\n",
        "model_al = sm.OLS(df['Grad_median'], X_al).fit()\n",
        "# Use the actual column name for the index\n",
        "results_al_df = regression_results_to_dataframe(model_al, 'Grad_unemployment_rate')\n",
        "\n",
        "# Fit the regression model for M-Z group\n",
        "X_mz = sm.add_constant(df['Nongrad_unemployment_rate'])  # Adds a constant term to the predictor\n",
        "model_mz = sm.OLS(df['Nongrad_median'], X_mz).fit()\n",
        "# Use the actual column name for the index\n",
        "results_mz_df = regression_results_to_dataframe(model_mz, 'Nongrad_unemployment_rate')\n",
        "\n",
        "# Output the DataFrames\n",
        "print(\"A-L Group:\")\n",
        "print(results_al_df)\n",
        "print(\"\\nM-Z Group:\")\n",
        "print(results_mz_df)"
      ]
    },
    {
      "cell_type": "markdown",
      "metadata": {
        "id": "BdkQcF691E74"
      },
      "source": [
        "##**QUESTION 4**\n",
        "\n",
        "Interpret the slope of the least squares regression line in the context of this study. A-L M-Z\n"
      ]
    },
    {
      "cell_type": "code",
      "execution_count": null,
      "metadata": {},
      "outputs": [],
      "source": []
    },
    {
      "cell_type": "markdown",
      "metadata": {
        "id": "A2uHwoKa0a1Y"
      },
      "source": [
        "##**QUESTION 5**\n",
        "\n",
        "Interpret the y-intercept of the least squares regression line in the context of this study. State whether the interpretation is reasonable."
      ]
    },
    {
      "cell_type": "code",
      "execution_count": null,
      "metadata": {},
      "outputs": [],
      "source": []
    },
    {
      "cell_type": "markdown",
      "metadata": {},
      "source": [
        "##**QUESTION 6**\n",
        "\n",
        "Predict the value of your dependent variable from above for Criminology majors using the actual value of the independent variable shown in the table below. Type your work below.\n",
        "\n",
        "| Last Name      | Independent Variable (x)                |\n",
        "|----------------|----------------------------------------|\n",
        "| **A-L**        | `Grad_unemployment_rate` = 0.045299817 |\n",
        "| **M-Z**        | `Nongrad_unemployment_rate` = 0.056334794 |\n"
      ]
    },
    {
      "cell_type": "code",
      "execution_count": null,
      "metadata": {},
      "outputs": [],
      "source": []
    },
    {
      "cell_type": "markdown",
      "metadata": {},
      "source": [
        "##**QUESTION 7**\n",
        "\n",
        "Look up, in the Excel or SPSS file, the actual value of your dependent variable for Criminology majors. Compare your answer in question 6 above (the predicted dependent variable) to the actual value of your dependent variable."
      ]
    },
    {
      "cell_type": "code",
      "execution_count": null,
      "metadata": {},
      "outputs": [],
      "source": []
    },
    {
      "cell_type": "markdown",
      "metadata": {},
      "source": [
        "##**QUESTION 8**\n",
        "\n",
        "Generate a paragraph of at least 100 words to address one of the following questions: <br><br>\n",
        "a. Discuss how analyzing your chosen data set using statistical methods could help you become\n",
        "better prepared for future courses in your major?<br><br>\n"
      ]
    },
    {
      "cell_type": "code",
      "execution_count": null,
      "metadata": {},
      "outputs": [],
      "source": []
    },
    {
      "cell_type": "markdown",
      "metadata": {},
      "source": [
        "b. Discuss how analyzing your chosen data set using statistical methods could be instrumental in becoming better prepared for your future career?"
      ]
    },
    {
      "cell_type": "code",
      "execution_count": null,
      "metadata": {},
      "outputs": [],
      "source": []
    }
  ],
  "metadata": {
    "colab": {
      "include_colab_link": true,
      "provenance": [],
      "toc_visible": true
    },
    "kernelspec": {
      "display_name": "Python 3",
      "name": "python3"
    },
    "language_info": {
      "codemirror_mode": {
        "name": "ipython",
        "version": 3
      },
      "file_extension": ".py",
      "mimetype": "text/x-python",
      "name": "python",
      "nbconvert_exporter": "python",
      "pygments_lexer": "ipython3",
      "version": "3.11.4"
    }
  },
  "nbformat": 4,
  "nbformat_minor": 0
}
