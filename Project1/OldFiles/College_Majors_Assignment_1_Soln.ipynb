{
  "cells": [
    {
      "cell_type": "markdown",
      "metadata": {
        "id": "WOWuLyetinsJ"
      },
      "source": [
        "#**Guide to Picking a College Major**"
      ]
    },
    {
      "cell_type": "markdown",
      "metadata": {
        "id": "RGDJ8-W2m-PM"
      },
      "source": []
    },
    {
      "cell_type": "markdown",
      "metadata": {
        "id": "AxPB-FE5lQIX"
      },
      "source": [
        "#**Importing Necessary Python Modules**\n",
        "\n",
        "Python incorporates a variety of open source add-ins called **modules** that enable us to be able to"
      ]
    },
    {
      "cell_type": "code",
      "execution_count": 1,
      "metadata": {
        "id": "DIbfBAiwmTlf"
      },
      "outputs": [],
      "source": [
        "import pandas as pd\n",
        "import numpy as np\n",
        "import plotly.express as px\n",
        "from IPython.display import Image\n",
        "import warnings\n",
        "warnings.simplefilter('ignore', FutureWarning)"
      ]
    },
    {
      "cell_type": "markdown",
      "metadata": {
        "id": "XJjnfq1hitm8"
      },
      "source": [
        "#**Context**\n",
        "\n",
        "This assignment contains the data behind the story The Economic Guide To Picking A College Major. The data is from American Community Survey 2010-2012 Public Use Microdata Series. With this dataset, you'll have the power to explore college programs and their graduates like never before and create stories of your own!"
      ]
    },
    {
      "cell_type": "code",
      "execution_count": 2,
      "metadata": {
        "colab": {
          "base_uri": "https://localhost:8080/",
          "height": 1000
        },
        "id": "oJft7wQooCFx",
        "outputId": "fcdd8eaf-9fc2-4277-cde1-9bc13944d4a1"
      },
      "outputs": [
        {
          "data": {
            "text/html": [
              "<img src=\"https://media.istockphoto.com/id/1470208665/photo/multi-ethnic-group-of-latin-and-african-american-college-students-smiling-diversity-portrait.jpg?s=2048x2048&w=is&k=20&c=zicp2F74iFTRKjJUwFBgs_Mb_Xd5vvkvdmYSVoekb1I=\"/>"
            ],
            "text/plain": [
              "<IPython.core.display.Image object>"
            ]
          },
          "execution_count": 2,
          "metadata": {},
          "output_type": "execute_result"
        }
      ],
      "source": [
        "# Replace 'image_url' with the URL of the image you want to display\n",
        "image_url = 'https://media.istockphoto.com/id/1470208665/photo/multi-ethnic-group-of-latin-and-african-american-college-students-smiling-diversity-portrait.jpg?s=2048x2048&w=is&k=20&c=zicp2F74iFTRKjJUwFBgs_Mb_Xd5vvkvdmYSVoekb1I='\n",
        "\n",
        "# Display the image\n",
        "Image(url=image_url)"
      ]
    },
    {
      "cell_type": "markdown",
      "metadata": {
        "id": "bQfu7EYxi7Md"
      },
      "source": [
        "#**About the Dataset**\n",
        "\n",
        "This dataset contains 172 rows corresponding to a random sample of people with at least some college. The variables provided are listed below:"
      ]
    },
    {
      "cell_type": "markdown",
      "metadata": {
        "id": "XusIoTTPjC87"
      },
      "source": [
        "**Variables**\n",
        "\n",
        "| Column name                 | Description                                                |\n",
        "|-----------------------------|------------------------------------------------------------|\n",
        "| Index                       | A number assigned to an individual                         |\n",
        "| Major_code                  | The code associated with the major (Integer)               |\n",
        "| Major                       | The specific major of the field of study (String)          |\n",
        "| Major_category              | The category of the major (String)                         |\n",
        "| Grad_total                  | The total number of graduates from the major (Integer)     |\n",
        "| Grad_sample_size            | The sample size of graduates from the major (Integer)      |\n",
        "| Grad_employed               | The number of graduates employed (Integer)                 |\n",
        "| Grad_full_time_year_round   | The number of graduates employed full-time year-round (Integer) |\n",
        "| Grad_unemployed             | The number of graduates unemployed (Integer)               |\n",
        "| Grad_unemployment_rate      | The unemployment rate of graduates (Float)                 |\n",
        "| Grad_median                 | The median salary of graduates (Integer)                   |\n",
        "| Grad_P25                    | The 25th percentile salary of graduates (Integer)          |\n",
        "| Grad_P75                    | The 75th percentile salary of graduates (Integer)          |\n",
        "| Nongrad_total               | The total number of non-graduates from the major (Integer) |\n",
        "| Nongrad_employed            | The number of non-graduates employed (Integer)             |\n",
        "| Nongrad_full_time_year_round| The number of non-graduates employed full-time year-round (Integer) |\n",
        "| Nongrad_unemployed          | The number of non-graduates unemployed (Integer)           |\n",
        "| Nongrad_unemployment_rate   | The unemployment rate of non-graduates (Float)             |\n",
        "| Nongrad_median              | The median salary of non-graduates (Integer)               |\n",
        "| Nongrad_P25                 | The 25th percentile salary of non-graduates (Integer)      |\n",
        "| Nongrad_P75                 | The 75th percentile salary of non-graduates (Integer)      |\n",
        "| Grad_share                  | The share of graduates in the major (Float)                |\n",
        "| Grad_premium                | The difference between the median salary of graduates and non-graduates (Integer) |\n"
      ]
    },
    {
      "cell_type": "markdown",
      "metadata": {
        "id": "dzjbhJhzktKp"
      },
      "source": [
        "*Attribution:  FiveThirtyEight.com*\n",
        "\n",
        "We can view a snippet of the data by first importing it directly from the url below[link text](https://).\n",
        "\n",
        "**Data**"
      ]
    },
    {
      "cell_type": "code",
      "execution_count": 3,
      "metadata": {
        "id": "1RtdwLBwidY4"
      },
      "outputs": [],
      "source": [
        "file_path = \"https://raw.githubusercontent.com/fivethirtyeight/data/master/college-majors/grad-students.csv\"\n",
        "df = pd.read_csv(file_path)\n"
      ]
    },
    {
      "cell_type": "markdown",
      "metadata": {
        "id": "cj8T9vdrimYo"
      },
      "source": [
        "Next, we can display the data by typing the name of the DataFrame. To ensure we can see all columns, we'll use the *pd.set_option* method."
      ]
    },
    {
      "cell_type": "code",
      "execution_count": 4,
      "metadata": {
        "colab": {
          "base_uri": "https://localhost:8080/",
          "height": 774
        },
        "id": "YT5tP1d8pQli",
        "outputId": "d0fc8a37-eacb-47d0-dfbd-ff4d75b5e813"
      },
      "outputs": [
        {
          "data": {
            "text/html": [
              "<div>\n",
              "<style scoped>\n",
              "    .dataframe tbody tr th:only-of-type {\n",
              "        vertical-align: middle;\n",
              "    }\n",
              "\n",
              "    .dataframe tbody tr th {\n",
              "        vertical-align: top;\n",
              "    }\n",
              "\n",
              "    .dataframe thead th {\n",
              "        text-align: right;\n",
              "    }\n",
              "</style>\n",
              "<table border=\"1\" class=\"dataframe\">\n",
              "  <thead>\n",
              "    <tr style=\"text-align: right;\">\n",
              "      <th></th>\n",
              "      <th>Major_code</th>\n",
              "      <th>Major</th>\n",
              "      <th>Major_category</th>\n",
              "      <th>Grad_total</th>\n",
              "      <th>Grad_sample_size</th>\n",
              "      <th>Grad_employed</th>\n",
              "      <th>Grad_full_time_year_round</th>\n",
              "      <th>Grad_unemployed</th>\n",
              "      <th>Grad_unemployment_rate</th>\n",
              "      <th>Grad_median</th>\n",
              "      <th>Grad_P25</th>\n",
              "      <th>Grad_P75</th>\n",
              "      <th>Nongrad_total</th>\n",
              "      <th>Nongrad_employed</th>\n",
              "      <th>Nongrad_full_time_year_round</th>\n",
              "      <th>Nongrad_unemployed</th>\n",
              "      <th>Nongrad_unemployment_rate</th>\n",
              "      <th>Nongrad_median</th>\n",
              "      <th>Nongrad_P25</th>\n",
              "      <th>Nongrad_P75</th>\n",
              "      <th>Grad_share</th>\n",
              "      <th>Grad_premium</th>\n",
              "    </tr>\n",
              "  </thead>\n",
              "  <tbody>\n",
              "    <tr>\n",
              "      <th>0</th>\n",
              "      <td>5601</td>\n",
              "      <td>CONSTRUCTION SERVICES</td>\n",
              "      <td>Industrial Arts &amp; Consumer Services</td>\n",
              "      <td>9173</td>\n",
              "      <td>200</td>\n",
              "      <td>7098</td>\n",
              "      <td>6511</td>\n",
              "      <td>681</td>\n",
              "      <td>0.087543</td>\n",
              "      <td>75000.0</td>\n",
              "      <td>53000</td>\n",
              "      <td>110000.0</td>\n",
              "      <td>86062</td>\n",
              "      <td>73607</td>\n",
              "      <td>62435</td>\n",
              "      <td>3928</td>\n",
              "      <td>0.050661</td>\n",
              "      <td>65000.0</td>\n",
              "      <td>47000</td>\n",
              "      <td>98000.0</td>\n",
              "      <td>0.096320</td>\n",
              "      <td>0.153846</td>\n",
              "    </tr>\n",
              "    <tr>\n",
              "      <th>1</th>\n",
              "      <td>6004</td>\n",
              "      <td>COMMERCIAL ART AND GRAPHIC DESIGN</td>\n",
              "      <td>Arts</td>\n",
              "      <td>53864</td>\n",
              "      <td>882</td>\n",
              "      <td>40492</td>\n",
              "      <td>29553</td>\n",
              "      <td>2482</td>\n",
              "      <td>0.057756</td>\n",
              "      <td>60000.0</td>\n",
              "      <td>40000</td>\n",
              "      <td>89000.0</td>\n",
              "      <td>461977</td>\n",
              "      <td>347166</td>\n",
              "      <td>250596</td>\n",
              "      <td>25484</td>\n",
              "      <td>0.068386</td>\n",
              "      <td>48000.0</td>\n",
              "      <td>34000</td>\n",
              "      <td>71000.0</td>\n",
              "      <td>0.104420</td>\n",
              "      <td>0.250000</td>\n",
              "    </tr>\n",
              "    <tr>\n",
              "      <th>2</th>\n",
              "      <td>6211</td>\n",
              "      <td>HOSPITALITY MANAGEMENT</td>\n",
              "      <td>Business</td>\n",
              "      <td>24417</td>\n",
              "      <td>437</td>\n",
              "      <td>18368</td>\n",
              "      <td>14784</td>\n",
              "      <td>1465</td>\n",
              "      <td>0.073867</td>\n",
              "      <td>65000.0</td>\n",
              "      <td>45000</td>\n",
              "      <td>100000.0</td>\n",
              "      <td>179335</td>\n",
              "      <td>145597</td>\n",
              "      <td>113579</td>\n",
              "      <td>7409</td>\n",
              "      <td>0.048423</td>\n",
              "      <td>50000.0</td>\n",
              "      <td>35000</td>\n",
              "      <td>75000.0</td>\n",
              "      <td>0.119837</td>\n",
              "      <td>0.300000</td>\n",
              "    </tr>\n",
              "    <tr>\n",
              "      <th>3</th>\n",
              "      <td>2201</td>\n",
              "      <td>COSMETOLOGY SERVICES AND CULINARY ARTS</td>\n",
              "      <td>Industrial Arts &amp; Consumer Services</td>\n",
              "      <td>5411</td>\n",
              "      <td>72</td>\n",
              "      <td>3590</td>\n",
              "      <td>2701</td>\n",
              "      <td>316</td>\n",
              "      <td>0.080901</td>\n",
              "      <td>47000.0</td>\n",
              "      <td>24500</td>\n",
              "      <td>85000.0</td>\n",
              "      <td>37575</td>\n",
              "      <td>29738</td>\n",
              "      <td>23249</td>\n",
              "      <td>1661</td>\n",
              "      <td>0.052900</td>\n",
              "      <td>41600.0</td>\n",
              "      <td>29000</td>\n",
              "      <td>60000.0</td>\n",
              "      <td>0.125878</td>\n",
              "      <td>0.129808</td>\n",
              "    </tr>\n",
              "    <tr>\n",
              "      <th>4</th>\n",
              "      <td>2001</td>\n",
              "      <td>COMMUNICATION TECHNOLOGIES</td>\n",
              "      <td>Computers &amp; Mathematics</td>\n",
              "      <td>9109</td>\n",
              "      <td>171</td>\n",
              "      <td>7512</td>\n",
              "      <td>5622</td>\n",
              "      <td>466</td>\n",
              "      <td>0.058411</td>\n",
              "      <td>57000.0</td>\n",
              "      <td>40600</td>\n",
              "      <td>83700.0</td>\n",
              "      <td>53819</td>\n",
              "      <td>43163</td>\n",
              "      <td>34231</td>\n",
              "      <td>3389</td>\n",
              "      <td>0.072800</td>\n",
              "      <td>52000.0</td>\n",
              "      <td>36000</td>\n",
              "      <td>78000.0</td>\n",
              "      <td>0.144753</td>\n",
              "      <td>0.096154</td>\n",
              "    </tr>\n",
              "    <tr>\n",
              "      <th>...</th>\n",
              "      <td>...</td>\n",
              "      <td>...</td>\n",
              "      <td>...</td>\n",
              "      <td>...</td>\n",
              "      <td>...</td>\n",
              "      <td>...</td>\n",
              "      <td>...</td>\n",
              "      <td>...</td>\n",
              "      <td>...</td>\n",
              "      <td>...</td>\n",
              "      <td>...</td>\n",
              "      <td>...</td>\n",
              "      <td>...</td>\n",
              "      <td>...</td>\n",
              "      <td>...</td>\n",
              "      <td>...</td>\n",
              "      <td>...</td>\n",
              "      <td>...</td>\n",
              "      <td>...</td>\n",
              "      <td>...</td>\n",
              "      <td>...</td>\n",
              "      <td>...</td>\n",
              "    </tr>\n",
              "    <tr>\n",
              "      <th>168</th>\n",
              "      <td>5203</td>\n",
              "      <td>COUNSELING PSYCHOLOGY</td>\n",
              "      <td>Psychology &amp; Social Work</td>\n",
              "      <td>51812</td>\n",
              "      <td>724</td>\n",
              "      <td>38468</td>\n",
              "      <td>28808</td>\n",
              "      <td>1420</td>\n",
              "      <td>0.035600</td>\n",
              "      <td>50000.0</td>\n",
              "      <td>36000</td>\n",
              "      <td>65000.0</td>\n",
              "      <td>16781</td>\n",
              "      <td>12377</td>\n",
              "      <td>8502</td>\n",
              "      <td>835</td>\n",
              "      <td>0.063200</td>\n",
              "      <td>40000.0</td>\n",
              "      <td>25000</td>\n",
              "      <td>50000.0</td>\n",
              "      <td>0.755354</td>\n",
              "      <td>0.250000</td>\n",
              "    </tr>\n",
              "    <tr>\n",
              "      <th>169</th>\n",
              "      <td>5202</td>\n",
              "      <td>CLINICAL PSYCHOLOGY</td>\n",
              "      <td>Psychology &amp; Social Work</td>\n",
              "      <td>22716</td>\n",
              "      <td>355</td>\n",
              "      <td>16612</td>\n",
              "      <td>12022</td>\n",
              "      <td>782</td>\n",
              "      <td>0.044958</td>\n",
              "      <td>70000.0</td>\n",
              "      <td>47000</td>\n",
              "      <td>95000.0</td>\n",
              "      <td>6519</td>\n",
              "      <td>4368</td>\n",
              "      <td>3033</td>\n",
              "      <td>357</td>\n",
              "      <td>0.075556</td>\n",
              "      <td>46000.0</td>\n",
              "      <td>30000</td>\n",
              "      <td>70000.0</td>\n",
              "      <td>0.777014</td>\n",
              "      <td>0.521739</td>\n",
              "    </tr>\n",
              "    <tr>\n",
              "      <th>170</th>\n",
              "      <td>6106</td>\n",
              "      <td>HEALTH AND MEDICAL PREPARATORY PROGRAMS</td>\n",
              "      <td>Health</td>\n",
              "      <td>114971</td>\n",
              "      <td>1766</td>\n",
              "      <td>78132</td>\n",
              "      <td>58825</td>\n",
              "      <td>1732</td>\n",
              "      <td>0.021687</td>\n",
              "      <td>135000.0</td>\n",
              "      <td>70000</td>\n",
              "      <td>294000.0</td>\n",
              "      <td>26320</td>\n",
              "      <td>16221</td>\n",
              "      <td>12185</td>\n",
              "      <td>1012</td>\n",
              "      <td>0.058725</td>\n",
              "      <td>51000.0</td>\n",
              "      <td>35000</td>\n",
              "      <td>87000.0</td>\n",
              "      <td>0.813718</td>\n",
              "      <td>1.647059</td>\n",
              "    </tr>\n",
              "    <tr>\n",
              "      <th>171</th>\n",
              "      <td>2303</td>\n",
              "      <td>SCHOOL STUDENT COUNSELING</td>\n",
              "      <td>Education</td>\n",
              "      <td>19841</td>\n",
              "      <td>260</td>\n",
              "      <td>11313</td>\n",
              "      <td>8130</td>\n",
              "      <td>613</td>\n",
              "      <td>0.051400</td>\n",
              "      <td>56000.0</td>\n",
              "      <td>42000</td>\n",
              "      <td>70000.0</td>\n",
              "      <td>2232</td>\n",
              "      <td>1328</td>\n",
              "      <td>980</td>\n",
              "      <td>169</td>\n",
              "      <td>0.112892</td>\n",
              "      <td>42000.0</td>\n",
              "      <td>27000</td>\n",
              "      <td>51000.0</td>\n",
              "      <td>0.898881</td>\n",
              "      <td>0.333333</td>\n",
              "    </tr>\n",
              "    <tr>\n",
              "      <th>172</th>\n",
              "      <td>2301</td>\n",
              "      <td>EDUCATIONAL ADMINISTRATION AND SUPERVISION</td>\n",
              "      <td>Education</td>\n",
              "      <td>54159</td>\n",
              "      <td>841</td>\n",
              "      <td>34142</td>\n",
              "      <td>26850</td>\n",
              "      <td>582</td>\n",
              "      <td>0.016761</td>\n",
              "      <td>65000.0</td>\n",
              "      <td>50000</td>\n",
              "      <td>86000.0</td>\n",
              "      <td>4003</td>\n",
              "      <td>3079</td>\n",
              "      <td>2434</td>\n",
              "      <td>0</td>\n",
              "      <td>0.000000</td>\n",
              "      <td>58000.0</td>\n",
              "      <td>45000</td>\n",
              "      <td>79000.0</td>\n",
              "      <td>0.931175</td>\n",
              "      <td>0.120690</td>\n",
              "    </tr>\n",
              "  </tbody>\n",
              "</table>\n",
              "<p>173 rows × 22 columns</p>\n",
              "</div>"
            ],
            "text/plain": [
              "     Major_code                                       Major  \\\n",
              "0          5601                       CONSTRUCTION SERVICES   \n",
              "1          6004           COMMERCIAL ART AND GRAPHIC DESIGN   \n",
              "2          6211                      HOSPITALITY MANAGEMENT   \n",
              "3          2201      COSMETOLOGY SERVICES AND CULINARY ARTS   \n",
              "4          2001                  COMMUNICATION TECHNOLOGIES   \n",
              "..          ...                                         ...   \n",
              "168        5203                       COUNSELING PSYCHOLOGY   \n",
              "169        5202                         CLINICAL PSYCHOLOGY   \n",
              "170        6106     HEALTH AND MEDICAL PREPARATORY PROGRAMS   \n",
              "171        2303                   SCHOOL STUDENT COUNSELING   \n",
              "172        2301  EDUCATIONAL ADMINISTRATION AND SUPERVISION   \n",
              "\n",
              "                          Major_category  Grad_total  Grad_sample_size  \\\n",
              "0    Industrial Arts & Consumer Services        9173               200   \n",
              "1                                   Arts       53864               882   \n",
              "2                               Business       24417               437   \n",
              "3    Industrial Arts & Consumer Services        5411                72   \n",
              "4                Computers & Mathematics        9109               171   \n",
              "..                                   ...         ...               ...   \n",
              "168             Psychology & Social Work       51812               724   \n",
              "169             Psychology & Social Work       22716               355   \n",
              "170                               Health      114971              1766   \n",
              "171                            Education       19841               260   \n",
              "172                            Education       54159               841   \n",
              "\n",
              "     Grad_employed  Grad_full_time_year_round  Grad_unemployed  \\\n",
              "0             7098                       6511              681   \n",
              "1            40492                      29553             2482   \n",
              "2            18368                      14784             1465   \n",
              "3             3590                       2701              316   \n",
              "4             7512                       5622              466   \n",
              "..             ...                        ...              ...   \n",
              "168          38468                      28808             1420   \n",
              "169          16612                      12022              782   \n",
              "170          78132                      58825             1732   \n",
              "171          11313                       8130              613   \n",
              "172          34142                      26850              582   \n",
              "\n",
              "     Grad_unemployment_rate  Grad_median  Grad_P25  Grad_P75  Nongrad_total  \\\n",
              "0                  0.087543      75000.0     53000  110000.0          86062   \n",
              "1                  0.057756      60000.0     40000   89000.0         461977   \n",
              "2                  0.073867      65000.0     45000  100000.0         179335   \n",
              "3                  0.080901      47000.0     24500   85000.0          37575   \n",
              "4                  0.058411      57000.0     40600   83700.0          53819   \n",
              "..                      ...          ...       ...       ...            ...   \n",
              "168                0.035600      50000.0     36000   65000.0          16781   \n",
              "169                0.044958      70000.0     47000   95000.0           6519   \n",
              "170                0.021687     135000.0     70000  294000.0          26320   \n",
              "171                0.051400      56000.0     42000   70000.0           2232   \n",
              "172                0.016761      65000.0     50000   86000.0           4003   \n",
              "\n",
              "     Nongrad_employed  Nongrad_full_time_year_round  Nongrad_unemployed  \\\n",
              "0               73607                         62435                3928   \n",
              "1              347166                        250596               25484   \n",
              "2              145597                        113579                7409   \n",
              "3               29738                         23249                1661   \n",
              "4               43163                         34231                3389   \n",
              "..                ...                           ...                 ...   \n",
              "168             12377                          8502                 835   \n",
              "169              4368                          3033                 357   \n",
              "170             16221                         12185                1012   \n",
              "171              1328                           980                 169   \n",
              "172              3079                          2434                   0   \n",
              "\n",
              "     Nongrad_unemployment_rate  Nongrad_median  Nongrad_P25  Nongrad_P75  \\\n",
              "0                     0.050661         65000.0        47000      98000.0   \n",
              "1                     0.068386         48000.0        34000      71000.0   \n",
              "2                     0.048423         50000.0        35000      75000.0   \n",
              "3                     0.052900         41600.0        29000      60000.0   \n",
              "4                     0.072800         52000.0        36000      78000.0   \n",
              "..                         ...             ...          ...          ...   \n",
              "168                   0.063200         40000.0        25000      50000.0   \n",
              "169                   0.075556         46000.0        30000      70000.0   \n",
              "170                   0.058725         51000.0        35000      87000.0   \n",
              "171                   0.112892         42000.0        27000      51000.0   \n",
              "172                   0.000000         58000.0        45000      79000.0   \n",
              "\n",
              "     Grad_share  Grad_premium  \n",
              "0      0.096320      0.153846  \n",
              "1      0.104420      0.250000  \n",
              "2      0.119837      0.300000  \n",
              "3      0.125878      0.129808  \n",
              "4      0.144753      0.096154  \n",
              "..          ...           ...  \n",
              "168    0.755354      0.250000  \n",
              "169    0.777014      0.521739  \n",
              "170    0.813718      1.647059  \n",
              "171    0.898881      0.333333  \n",
              "172    0.931175      0.120690  \n",
              "\n",
              "[173 rows x 22 columns]"
            ]
          },
          "execution_count": 4,
          "metadata": {},
          "output_type": "execute_result"
        }
      ],
      "source": [
        "# Set display options to show all columns\n",
        "pd.set_option('display.max_columns', None)\n",
        "df"
      ]
    },
    {
      "cell_type": "markdown",
      "metadata": {
        "id": "U7JAQ1iOyzty"
      },
      "source": [
        "#**ASSIGNMENT 1 - Descriptive Statistics: Graphical and Numerical Summary**"
      ]
    },
    {
      "cell_type": "markdown",
      "metadata": {
        "id": "VEm2KmlyzJGY"
      },
      "source": [
        "**INSTRUCTIONS**\n",
        "\n",
        "Use Python to analyze the data set and complete each of the following. As appropriate, copy the SPSS output and paste it in the correct part below. For problems that require a written response, type the answer below."
      ]
    },
    {
      "cell_type": "markdown",
      "metadata": {
        "id": "xkEtDHs70CzZ"
      },
      "source": [
        "##**QUESTION 1**\n",
        "\n",
        "Determine whether the three variables below are qualitative or quantitative. If they are quantitative, specify whether they are continuous or discrete."
      ]
    },
    {
      "cell_type": "markdown",
      "metadata": {
        "id": "c_N4nnLD3O_Y"
      },
      "source": [
        "| Variable         | Qual or Quant | Dis, Con, or Neither |\n",
        "|------------------|---------------|----------------------|\n",
        "| **Major**              | Qual or Quant  | Dis, Con, or Neither              |\n",
        "| **Grad_unemployment_rate**           | Qual or Quant   | Dis, Con, or Neither              |\n",
        "| **Grad_Median**           | Qual or Quant  | Dis, Con, or Neither           |\n"
      ]
    },
    {
      "cell_type": "markdown",
      "metadata": {
        "id": "Hjz7Oc8N0acy"
      },
      "source": [
        "##**QUESTION 2**\n",
        "\n",
        "Construct a frequency table, relative frequency table, and relative frequency bar chart to describe the distribution of Major_category. State any fact that jumps out to you."
      ]
    },
    {
      "cell_type": "code",
      "execution_count": 5,
      "metadata": {
        "colab": {
          "base_uri": "https://localhost:8080/"
        },
        "id": "P4qIa7po3Sms",
        "outputId": "4d6ee76f-8f49-41b6-b34e-fda4e9f3ee68"
      },
      "outputs": [
        {
          "data": {
            "text/plain": [
              "Engineering                            29\n",
              "Education                              16\n",
              "Humanities & Liberal Arts              15\n",
              "Biology & Life Science                 14\n",
              "Business                               13\n",
              "Health                                 12\n",
              "Computers & Mathematics                11\n",
              "Agriculture & Natural Resources        10\n",
              "Physical Sciences                      10\n",
              "Social Science                          9\n",
              "Psychology & Social Work                9\n",
              "Arts                                    8\n",
              "Industrial Arts & Consumer Services     7\n",
              "Law & Public Policy                     5\n",
              "Communications & Journalism             4\n",
              "Interdisciplinary                       1\n",
              "Name: Major_category, dtype: int64"
            ]
          },
          "execution_count": 5,
          "metadata": {},
          "output_type": "execute_result"
        }
      ],
      "source": [
        "#Frequency table\n",
        "freq_table = pd.value_counts(df['Major_category'])\n",
        "freq_table"
      ]
    },
    {
      "cell_type": "code",
      "execution_count": 6,
      "metadata": {
        "colab": {
          "base_uri": "https://localhost:8080/"
        },
        "id": "W-jbsBHh77Ju",
        "outputId": "7829dd8d-1f13-418f-846f-775fb4691907"
      },
      "outputs": [
        {
          "data": {
            "text/plain": [
              "Engineering                            0.167630\n",
              "Education                              0.092486\n",
              "Humanities & Liberal Arts              0.086705\n",
              "Biology & Life Science                 0.080925\n",
              "Business                               0.075145\n",
              "Health                                 0.069364\n",
              "Computers & Mathematics                0.063584\n",
              "Agriculture & Natural Resources        0.057803\n",
              "Physical Sciences                      0.057803\n",
              "Social Science                         0.052023\n",
              "Psychology & Social Work               0.052023\n",
              "Arts                                   0.046243\n",
              "Industrial Arts & Consumer Services    0.040462\n",
              "Law & Public Policy                    0.028902\n",
              "Communications & Journalism            0.023121\n",
              "Interdisciplinary                      0.005780\n",
              "Name: Major_category, dtype: float64"
            ]
          },
          "execution_count": 6,
          "metadata": {},
          "output_type": "execute_result"
        }
      ],
      "source": [
        "#Relative frequency table\n",
        "freq_table/len(df)"
      ]
    },
    {
      "cell_type": "code",
      "execution_count": 12,
      "metadata": {},
      "outputs": [
        {
          "data": {
            "text/html": [
              "<div>\n",
              "<style scoped>\n",
              "    .dataframe tbody tr th:only-of-type {\n",
              "        vertical-align: middle;\n",
              "    }\n",
              "\n",
              "    .dataframe tbody tr th {\n",
              "        vertical-align: top;\n",
              "    }\n",
              "\n",
              "    .dataframe thead th {\n",
              "        text-align: right;\n",
              "    }\n",
              "</style>\n",
              "<table border=\"1\" class=\"dataframe\">\n",
              "  <thead>\n",
              "    <tr style=\"text-align: right;\">\n",
              "      <th></th>\n",
              "      <th>Major_category</th>\n",
              "    </tr>\n",
              "  </thead>\n",
              "  <tbody>\n",
              "    <tr>\n",
              "      <th>Engineering</th>\n",
              "      <td>29</td>\n",
              "    </tr>\n",
              "    <tr>\n",
              "      <th>Education</th>\n",
              "      <td>16</td>\n",
              "    </tr>\n",
              "    <tr>\n",
              "      <th>Humanities &amp; Liberal Arts</th>\n",
              "      <td>15</td>\n",
              "    </tr>\n",
              "    <tr>\n",
              "      <th>Biology &amp; Life Science</th>\n",
              "      <td>14</td>\n",
              "    </tr>\n",
              "    <tr>\n",
              "      <th>Business</th>\n",
              "      <td>13</td>\n",
              "    </tr>\n",
              "    <tr>\n",
              "      <th>Health</th>\n",
              "      <td>12</td>\n",
              "    </tr>\n",
              "    <tr>\n",
              "      <th>Computers &amp; Mathematics</th>\n",
              "      <td>11</td>\n",
              "    </tr>\n",
              "    <tr>\n",
              "      <th>Agriculture &amp; Natural Resources</th>\n",
              "      <td>10</td>\n",
              "    </tr>\n",
              "    <tr>\n",
              "      <th>Physical Sciences</th>\n",
              "      <td>10</td>\n",
              "    </tr>\n",
              "    <tr>\n",
              "      <th>Social Science</th>\n",
              "      <td>9</td>\n",
              "    </tr>\n",
              "    <tr>\n",
              "      <th>Psychology &amp; Social Work</th>\n",
              "      <td>9</td>\n",
              "    </tr>\n",
              "    <tr>\n",
              "      <th>Arts</th>\n",
              "      <td>8</td>\n",
              "    </tr>\n",
              "    <tr>\n",
              "      <th>Industrial Arts &amp; Consumer Services</th>\n",
              "      <td>7</td>\n",
              "    </tr>\n",
              "    <tr>\n",
              "      <th>Law &amp; Public Policy</th>\n",
              "      <td>5</td>\n",
              "    </tr>\n",
              "    <tr>\n",
              "      <th>Communications &amp; Journalism</th>\n",
              "      <td>4</td>\n",
              "    </tr>\n",
              "    <tr>\n",
              "      <th>Interdisciplinary</th>\n",
              "      <td>1</td>\n",
              "    </tr>\n",
              "  </tbody>\n",
              "</table>\n",
              "</div>"
            ],
            "text/plain": [
              "                                     Major_category\n",
              "Engineering                                      29\n",
              "Education                                        16\n",
              "Humanities & Liberal Arts                        15\n",
              "Biology & Life Science                           14\n",
              "Business                                         13\n",
              "Health                                           12\n",
              "Computers & Mathematics                          11\n",
              "Agriculture & Natural Resources                  10\n",
              "Physical Sciences                                10\n",
              "Social Science                                    9\n",
              "Psychology & Social Work                          9\n",
              "Arts                                              8\n",
              "Industrial Arts & Consumer Services               7\n",
              "Law & Public Policy                               5\n",
              "Communications & Journalism                       4\n",
              "Interdisciplinary                                 1"
            ]
          },
          "execution_count": 12,
          "metadata": {},
          "output_type": "execute_result"
        }
      ],
      "source": [
        "dfrf"
      ]
    },
    {
      "cell_type": "code",
      "execution_count": 17,
      "metadata": {
        "colab": {
          "base_uri": "https://localhost:8080/",
          "height": 542
        },
        "id": "jus81uvHAOzo",
        "outputId": "662dcb35-836b-4858-8666-525d3b5b8bca"
      },
      "outputs": [
        {
          "ename": "ValueError",
          "evalue": "Mime type rendering requires nbformat>=4.2.0 but it is not installed",
          "output_type": "error",
          "traceback": [
            "\u001b[0;31m---------------------------------------------------------------------------\u001b[0m",
            "\u001b[0;31mValueError\u001b[0m                                Traceback (most recent call last)",
            "Cell \u001b[0;32mIn [17], line 4\u001b[0m\n\u001b[1;32m      1\u001b[0m dfrf \u001b[38;5;241m=\u001b[39m pd\u001b[38;5;241m.\u001b[39mDataFrame(freq_table)\n\u001b[1;32m      2\u001b[0m fig \u001b[38;5;241m=\u001b[39m px\u001b[38;5;241m.\u001b[39mbar(x\u001b[38;5;241m=\u001b[39mdfrf\u001b[38;5;241m.\u001b[39mindex, y\u001b[38;5;241m=\u001b[39mdfrf[\u001b[38;5;124m'\u001b[39m\u001b[38;5;124mMajor_category\u001b[39m\u001b[38;5;124m'\u001b[39m], barmode\u001b[38;5;241m=\u001b[39m\u001b[38;5;124m'\u001b[39m\u001b[38;5;124mgroup\u001b[39m\u001b[38;5;124m'\u001b[39m,\n\u001b[1;32m      3\u001b[0m              title\u001b[38;5;241m=\u001b[39m\u001b[38;5;124m'\u001b[39m\u001b[38;5;124mFrequency Distribution Bar Chart\u001b[39m\u001b[38;5;124m'\u001b[39m)\n\u001b[0;32m----> 4\u001b[0m \u001b[43mfig\u001b[49m\u001b[38;5;241;43m.\u001b[39;49m\u001b[43mshow\u001b[49m\u001b[43m(\u001b[49m\u001b[43m)\u001b[49m\n",
            "File \u001b[0;32m/usr/local/lib/python3.10/site-packages/plotly/basedatatypes.py:3409\u001b[0m, in \u001b[0;36mBaseFigure.show\u001b[0;34m(self, *args, **kwargs)\u001b[0m\n\u001b[1;32m   3376\u001b[0m \u001b[38;5;124;03m\"\"\"\u001b[39;00m\n\u001b[1;32m   3377\u001b[0m \u001b[38;5;124;03mShow a figure using either the default renderer(s) or the renderer(s)\u001b[39;00m\n\u001b[1;32m   3378\u001b[0m \u001b[38;5;124;03mspecified by the renderer argument\u001b[39;00m\n\u001b[0;32m   (...)\u001b[0m\n\u001b[1;32m   3405\u001b[0m \u001b[38;5;124;03mNone\u001b[39;00m\n\u001b[1;32m   3406\u001b[0m \u001b[38;5;124;03m\"\"\"\u001b[39;00m\n\u001b[1;32m   3407\u001b[0m \u001b[38;5;28;01mimport\u001b[39;00m \u001b[38;5;21;01mplotly\u001b[39;00m\u001b[38;5;21;01m.\u001b[39;00m\u001b[38;5;21;01mio\u001b[39;00m \u001b[38;5;28;01mas\u001b[39;00m \u001b[38;5;21;01mpio\u001b[39;00m\n\u001b[0;32m-> 3409\u001b[0m \u001b[38;5;28;01mreturn\u001b[39;00m \u001b[43mpio\u001b[49m\u001b[38;5;241;43m.\u001b[39;49m\u001b[43mshow\u001b[49m\u001b[43m(\u001b[49m\u001b[38;5;28;43mself\u001b[39;49m\u001b[43m,\u001b[49m\u001b[43m \u001b[49m\u001b[38;5;241;43m*\u001b[39;49m\u001b[43margs\u001b[49m\u001b[43m,\u001b[49m\u001b[43m \u001b[49m\u001b[38;5;241;43m*\u001b[39;49m\u001b[38;5;241;43m*\u001b[39;49m\u001b[43mkwargs\u001b[49m\u001b[43m)\u001b[49m\n",
            "File \u001b[0;32m/usr/local/lib/python3.10/site-packages/plotly/io/_renderers.py:396\u001b[0m, in \u001b[0;36mshow\u001b[0;34m(fig, renderer, validate, **kwargs)\u001b[0m\n\u001b[1;32m    391\u001b[0m         \u001b[38;5;28;01mraise\u001b[39;00m \u001b[38;5;167;01mValueError\u001b[39;00m(\n\u001b[1;32m    392\u001b[0m             \u001b[38;5;124m\"\u001b[39m\u001b[38;5;124mMime type rendering requires ipython but it is not installed\u001b[39m\u001b[38;5;124m\"\u001b[39m\n\u001b[1;32m    393\u001b[0m         )\n\u001b[1;32m    395\u001b[0m     \u001b[38;5;28;01mif\u001b[39;00m \u001b[38;5;129;01mnot\u001b[39;00m nbformat \u001b[38;5;129;01mor\u001b[39;00m Version(nbformat\u001b[38;5;241m.\u001b[39m__version__) \u001b[38;5;241m<\u001b[39m Version(\u001b[38;5;124m\"\u001b[39m\u001b[38;5;124m4.2.0\u001b[39m\u001b[38;5;124m\"\u001b[39m):\n\u001b[0;32m--> 396\u001b[0m         \u001b[38;5;28;01mraise\u001b[39;00m \u001b[38;5;167;01mValueError\u001b[39;00m(\n\u001b[1;32m    397\u001b[0m             \u001b[38;5;124m\"\u001b[39m\u001b[38;5;124mMime type rendering requires nbformat>=4.2.0 but it is not installed\u001b[39m\u001b[38;5;124m\"\u001b[39m\n\u001b[1;32m    398\u001b[0m         )\n\u001b[1;32m    400\u001b[0m     ipython_display\u001b[38;5;241m.\u001b[39mdisplay(bundle, raw\u001b[38;5;241m=\u001b[39m\u001b[38;5;28;01mTrue\u001b[39;00m)\n\u001b[1;32m    402\u001b[0m \u001b[38;5;66;03m# external renderers\u001b[39;00m\n",
            "\u001b[0;31mValueError\u001b[0m: Mime type rendering requires nbformat>=4.2.0 but it is not installed"
          ]
        }
      ],
      "source": [
        "dfrf = pd.DataFrame(freq_table)\n",
        "fig = px.bar(x=dfrf.index, y=dfrf['Major_category'], barmode='group',\n",
        "             title='Frequency Distribution Bar Chart')\n",
        "fig.show()"
      ]
    },
    {
      "cell_type": "code",
      "execution_count": 18,
      "metadata": {},
      "outputs": [
        {
          "name": "stdout",
          "output_type": "stream",
          "text": [
            "Requirement already satisfied: nbformat in /usr/local/lib/python3.10/site-packages (5.10.4)\n",
            "Requirement already satisfied: traitlets>=5.1 in /Users/kagbasuaray/Library/Python/3.10/lib/python/site-packages (from nbformat) (5.5.0)\n",
            "Requirement already satisfied: fastjsonschema>=2.15 in /usr/local/lib/python3.10/site-packages (from nbformat) (2.20.0)\n",
            "Requirement already satisfied: jsonschema>=2.6 in /usr/local/lib/python3.10/site-packages (from nbformat) (4.23.0)\n",
            "Requirement already satisfied: jupyter-core!=5.0.*,>=4.12 in /usr/local/lib/python3.10/site-packages (from nbformat) (5.7.2)\n",
            "Requirement already satisfied: referencing>=0.28.4 in /usr/local/lib/python3.10/site-packages (from jsonschema>=2.6->nbformat) (0.35.1)\n",
            "Requirement already satisfied: rpds-py>=0.7.1 in /usr/local/lib/python3.10/site-packages (from jsonschema>=2.6->nbformat) (0.20.0)\n",
            "Requirement already satisfied: attrs>=22.2.0 in /usr/local/lib/python3.10/site-packages (from jsonschema>=2.6->nbformat) (23.1.0)\n",
            "Requirement already satisfied: jsonschema-specifications>=2023.03.6 in /usr/local/lib/python3.10/site-packages (from jsonschema>=2.6->nbformat) (2023.12.1)\n",
            "Requirement already satisfied: platformdirs>=2.5 in /usr/local/lib/python3.10/site-packages (from jupyter-core!=5.0.*,>=4.12->nbformat) (4.2.2)\n",
            "\n",
            "\u001b[1m[\u001b[0m\u001b[34;49mnotice\u001b[0m\u001b[1;39;49m]\u001b[0m\u001b[39;49m A new release of pip is available: \u001b[0m\u001b[31;49m23.0.1\u001b[0m\u001b[39;49m -> \u001b[0m\u001b[32;49m24.2\u001b[0m\n",
            "\u001b[1m[\u001b[0m\u001b[34;49mnotice\u001b[0m\u001b[1;39;49m]\u001b[0m\u001b[39;49m To update, run: \u001b[0m\u001b[32;49mpython3.10 -m pip install --upgrade pip\u001b[0m\n"
          ]
        }
      ],
      "source": [
        "!pip install --upgrade nbformat\n"
      ]
    },
    {
      "cell_type": "markdown",
      "metadata": {
        "id": "BdkQcF691E74"
      },
      "source": [
        "## **QUESTIONS 3-6**\n",
        "\n",
        "For questions 3-6: Find your variable based on your last name and use that variable when answering questions #3 to #6.  \n",
        "\n",
        "| Last Name | Variable                  |\n",
        "|-----------|---------------------------|\n",
        "| A-F       | Grad_unemployment_rate    |\n",
        "| G-M       | Grad_median               |\n",
        "| N-S       | Nongrad_unemployment_rate |\n",
        "| T-Z       | Nongrad_median            |\n"
      ]
    },
    {
      "cell_type": "markdown",
      "metadata": {
        "id": "A2uHwoKa0a1Y"
      },
      "source": [
        "###**QUESTION 3**\n",
        "\n",
        "Construct a histogram for your variable. Use Number of Intervals = 12."
      ]
    },
    {
      "cell_type": "code",
      "execution_count": null,
      "metadata": {
        "colab": {
          "base_uri": "https://localhost:8080/",
          "height": 542
        },
        "id": "GOOXz_eQAmcE",
        "outputId": "ebe4b261-c0d4-48f6-e2ff-51d1057d5fb5"
      },
      "outputs": [
        {
          "data": {
            "text/html": [
              "<html>\n",
              "<head><meta charset=\"utf-8\" /></head>\n",
              "<body>\n",
              "    <div>            <script src=\"https://cdnjs.cloudflare.com/ajax/libs/mathjax/2.7.5/MathJax.js?config=TeX-AMS-MML_SVG\"></script><script type=\"text/javascript\">if (window.MathJax && window.MathJax.Hub && window.MathJax.Hub.Config) {window.MathJax.Hub.Config({SVG: {font: \"STIX-Web\"}});}</script>                <script type=\"text/javascript\">window.PlotlyConfig = {MathJaxConfig: 'local'};</script>\n",
              "        <script charset=\"utf-8\" src=\"https://cdn.plot.ly/plotly-2.24.1.min.js\"></script>                <div id=\"a3645ffc-65ce-438f-982c-861228718f4a\" class=\"plotly-graph-div\" style=\"height:525px; width:100%;\"></div>            <script type=\"text/javascript\">                                    window.PLOTLYENV=window.PLOTLYENV || {};                                    if (document.getElementById(\"a3645ffc-65ce-438f-982c-861228718f4a\")) {                    Plotly.newPlot(                        \"a3645ffc-65ce-438f-982c-861228718f4a\",                        [{\"alignmentgroup\":\"True\",\"bingroup\":\"x\",\"hovertemplate\":\"x=%{x}\\u003cbr\\u003ecount=%{y}\\u003cextra\\u003e\\u003c\\u002fextra\\u003e\",\"legendgroup\":\"\",\"marker\":{\"color\":\"#636efa\",\"pattern\":{\"shape\":\"\"}},\"name\":\"\",\"nbinsx\":12,\"offsetgroup\":\"\",\"orientation\":\"v\",\"showlegend\":false,\"x\":[0.087543386,0.057755852,0.073866788,0.080901178,0.058410629,0.0,0.052059489,0.03483833,0.024612203,0.030561599,0.096472931,0.13851498,0.06523569,0.051641334,0.046633357,0.081605691,0.04661565,0.031697819,0.039270596,0.038461538,0.041004871,0.049032311,0.045299817,0.038714642,0.059586631,0.022848321,0.040894931,0.025552736,0.040049214,0.048657665,0.074243813,0.054460646,0.042023298,0.025342834,0.045358331,0.041857347,0.06100455,0.021266734,0.049995759,0.058903313,0.020124913,0.00886918,0.029324923,0.041296423,0.042111271,0.060061499,0.038421666,0.029495955,0.050362239,0.037142695,0.025317882,0.044092513,0.019471488,0.031253986,0.064715966,0.054889566,0.038852808,0.067667237,0.051253413,0.094637671,0.036198118,0.051940026,0.019985196,0.035276229,0.031130244,0.034601202,0.036654034,0.059671887,0.070332221,0.014667817,0.038918793,0.035998475,0.0281065,0.034229499,0.021300793,0.056908862,0.027165944,0.041878308,0.058474838,0.012326529,0.017415354,0.086452468,0.035449332,0.059329069,0.032956266,0.038624622,0.028706395,0.061080658,0.03189197,0.102890173,0.053657509,0.027305449,0.022057897,0.063924979,0.024018146,0.043768425,0.027885303,0.030152487,0.036230513,0.032938452,0.022218272,0.034637345,0.039702942,0.058849492,0.020362893,0.04530453,0.054545455,0.033349858,0.041472011,0.028403487,0.05083188,0.051283916,0.049701157,0.037570891,0.040584103,0.018759683,0.027408238,0.024823638,0.043523065,0.03755603,0.044817237,0.037818182,0.026647178,0.03857466,0.027931687,0.038975831,0.048050929,0.02863239,0.042357586,0.038578048,0.031756946,0.037644956,0.038808906,0.045280779,0.045745654,0.025860949,0.030555665,0.022906378,0.022291055,0.0176851,0.02606824,0.028967718,0.04534244,0.031074409,0.011538018,0.031226486,0.014248162,0.022187594,0.032159086,0.038890238,0.022464859,0.033210059,0.021104706,0.020028612,0.029981368,0.020920664,0.018447581,0.029936779,0.028207488,0.024229927,0.020927973,0.035411851,0.017611146,0.025600246,0.024211872,0.019423853,0.021777281,0.0142862,0.035599679,0.044958032,0.021686868,0.051400302,0.016760742],\"xaxis\":\"x\",\"yaxis\":\"y\",\"type\":\"histogram\"}],                        {\"template\":{\"data\":{\"histogram2dcontour\":[{\"type\":\"histogram2dcontour\",\"colorbar\":{\"outlinewidth\":0,\"ticks\":\"\"},\"colorscale\":[[0.0,\"#0d0887\"],[0.1111111111111111,\"#46039f\"],[0.2222222222222222,\"#7201a8\"],[0.3333333333333333,\"#9c179e\"],[0.4444444444444444,\"#bd3786\"],[0.5555555555555556,\"#d8576b\"],[0.6666666666666666,\"#ed7953\"],[0.7777777777777778,\"#fb9f3a\"],[0.8888888888888888,\"#fdca26\"],[1.0,\"#f0f921\"]]}],\"choropleth\":[{\"type\":\"choropleth\",\"colorbar\":{\"outlinewidth\":0,\"ticks\":\"\"}}],\"histogram2d\":[{\"type\":\"histogram2d\",\"colorbar\":{\"outlinewidth\":0,\"ticks\":\"\"},\"colorscale\":[[0.0,\"#0d0887\"],[0.1111111111111111,\"#46039f\"],[0.2222222222222222,\"#7201a8\"],[0.3333333333333333,\"#9c179e\"],[0.4444444444444444,\"#bd3786\"],[0.5555555555555556,\"#d8576b\"],[0.6666666666666666,\"#ed7953\"],[0.7777777777777778,\"#fb9f3a\"],[0.8888888888888888,\"#fdca26\"],[1.0,\"#f0f921\"]]}],\"heatmap\":[{\"type\":\"heatmap\",\"colorbar\":{\"outlinewidth\":0,\"ticks\":\"\"},\"colorscale\":[[0.0,\"#0d0887\"],[0.1111111111111111,\"#46039f\"],[0.2222222222222222,\"#7201a8\"],[0.3333333333333333,\"#9c179e\"],[0.4444444444444444,\"#bd3786\"],[0.5555555555555556,\"#d8576b\"],[0.6666666666666666,\"#ed7953\"],[0.7777777777777778,\"#fb9f3a\"],[0.8888888888888888,\"#fdca26\"],[1.0,\"#f0f921\"]]}],\"heatmapgl\":[{\"type\":\"heatmapgl\",\"colorbar\":{\"outlinewidth\":0,\"ticks\":\"\"},\"colorscale\":[[0.0,\"#0d0887\"],[0.1111111111111111,\"#46039f\"],[0.2222222222222222,\"#7201a8\"],[0.3333333333333333,\"#9c179e\"],[0.4444444444444444,\"#bd3786\"],[0.5555555555555556,\"#d8576b\"],[0.6666666666666666,\"#ed7953\"],[0.7777777777777778,\"#fb9f3a\"],[0.8888888888888888,\"#fdca26\"],[1.0,\"#f0f921\"]]}],\"contourcarpet\":[{\"type\":\"contourcarpet\",\"colorbar\":{\"outlinewidth\":0,\"ticks\":\"\"}}],\"contour\":[{\"type\":\"contour\",\"colorbar\":{\"outlinewidth\":0,\"ticks\":\"\"},\"colorscale\":[[0.0,\"#0d0887\"],[0.1111111111111111,\"#46039f\"],[0.2222222222222222,\"#7201a8\"],[0.3333333333333333,\"#9c179e\"],[0.4444444444444444,\"#bd3786\"],[0.5555555555555556,\"#d8576b\"],[0.6666666666666666,\"#ed7953\"],[0.7777777777777778,\"#fb9f3a\"],[0.8888888888888888,\"#fdca26\"],[1.0,\"#f0f921\"]]}],\"surface\":[{\"type\":\"surface\",\"colorbar\":{\"outlinewidth\":0,\"ticks\":\"\"},\"colorscale\":[[0.0,\"#0d0887\"],[0.1111111111111111,\"#46039f\"],[0.2222222222222222,\"#7201a8\"],[0.3333333333333333,\"#9c179e\"],[0.4444444444444444,\"#bd3786\"],[0.5555555555555556,\"#d8576b\"],[0.6666666666666666,\"#ed7953\"],[0.7777777777777778,\"#fb9f3a\"],[0.8888888888888888,\"#fdca26\"],[1.0,\"#f0f921\"]]}],\"mesh3d\":[{\"type\":\"mesh3d\",\"colorbar\":{\"outlinewidth\":0,\"ticks\":\"\"}}],\"scatter\":[{\"fillpattern\":{\"fillmode\":\"overlay\",\"size\":10,\"solidity\":0.2},\"type\":\"scatter\"}],\"parcoords\":[{\"type\":\"parcoords\",\"line\":{\"colorbar\":{\"outlinewidth\":0,\"ticks\":\"\"}}}],\"scatterpolargl\":[{\"type\":\"scatterpolargl\",\"marker\":{\"colorbar\":{\"outlinewidth\":0,\"ticks\":\"\"}}}],\"bar\":[{\"error_x\":{\"color\":\"#2a3f5f\"},\"error_y\":{\"color\":\"#2a3f5f\"},\"marker\":{\"line\":{\"color\":\"#E5ECF6\",\"width\":0.5},\"pattern\":{\"fillmode\":\"overlay\",\"size\":10,\"solidity\":0.2}},\"type\":\"bar\"}],\"scattergeo\":[{\"type\":\"scattergeo\",\"marker\":{\"colorbar\":{\"outlinewidth\":0,\"ticks\":\"\"}}}],\"scatterpolar\":[{\"type\":\"scatterpolar\",\"marker\":{\"colorbar\":{\"outlinewidth\":0,\"ticks\":\"\"}}}],\"histogram\":[{\"marker\":{\"pattern\":{\"fillmode\":\"overlay\",\"size\":10,\"solidity\":0.2}},\"type\":\"histogram\"}],\"scattergl\":[{\"type\":\"scattergl\",\"marker\":{\"colorbar\":{\"outlinewidth\":0,\"ticks\":\"\"}}}],\"scatter3d\":[{\"type\":\"scatter3d\",\"line\":{\"colorbar\":{\"outlinewidth\":0,\"ticks\":\"\"}},\"marker\":{\"colorbar\":{\"outlinewidth\":0,\"ticks\":\"\"}}}],\"scattermapbox\":[{\"type\":\"scattermapbox\",\"marker\":{\"colorbar\":{\"outlinewidth\":0,\"ticks\":\"\"}}}],\"scatterternary\":[{\"type\":\"scatterternary\",\"marker\":{\"colorbar\":{\"outlinewidth\":0,\"ticks\":\"\"}}}],\"scattercarpet\":[{\"type\":\"scattercarpet\",\"marker\":{\"colorbar\":{\"outlinewidth\":0,\"ticks\":\"\"}}}],\"carpet\":[{\"aaxis\":{\"endlinecolor\":\"#2a3f5f\",\"gridcolor\":\"white\",\"linecolor\":\"white\",\"minorgridcolor\":\"white\",\"startlinecolor\":\"#2a3f5f\"},\"baxis\":{\"endlinecolor\":\"#2a3f5f\",\"gridcolor\":\"white\",\"linecolor\":\"white\",\"minorgridcolor\":\"white\",\"startlinecolor\":\"#2a3f5f\"},\"type\":\"carpet\"}],\"table\":[{\"cells\":{\"fill\":{\"color\":\"#EBF0F8\"},\"line\":{\"color\":\"white\"}},\"header\":{\"fill\":{\"color\":\"#C8D4E3\"},\"line\":{\"color\":\"white\"}},\"type\":\"table\"}],\"barpolar\":[{\"marker\":{\"line\":{\"color\":\"#E5ECF6\",\"width\":0.5},\"pattern\":{\"fillmode\":\"overlay\",\"size\":10,\"solidity\":0.2}},\"type\":\"barpolar\"}],\"pie\":[{\"automargin\":true,\"type\":\"pie\"}]},\"layout\":{\"autotypenumbers\":\"strict\",\"colorway\":[\"#636efa\",\"#EF553B\",\"#00cc96\",\"#ab63fa\",\"#FFA15A\",\"#19d3f3\",\"#FF6692\",\"#B6E880\",\"#FF97FF\",\"#FECB52\"],\"font\":{\"color\":\"#2a3f5f\"},\"hovermode\":\"closest\",\"hoverlabel\":{\"align\":\"left\"},\"paper_bgcolor\":\"white\",\"plot_bgcolor\":\"#E5ECF6\",\"polar\":{\"bgcolor\":\"#E5ECF6\",\"angularaxis\":{\"gridcolor\":\"white\",\"linecolor\":\"white\",\"ticks\":\"\"},\"radialaxis\":{\"gridcolor\":\"white\",\"linecolor\":\"white\",\"ticks\":\"\"}},\"ternary\":{\"bgcolor\":\"#E5ECF6\",\"aaxis\":{\"gridcolor\":\"white\",\"linecolor\":\"white\",\"ticks\":\"\"},\"baxis\":{\"gridcolor\":\"white\",\"linecolor\":\"white\",\"ticks\":\"\"},\"caxis\":{\"gridcolor\":\"white\",\"linecolor\":\"white\",\"ticks\":\"\"}},\"coloraxis\":{\"colorbar\":{\"outlinewidth\":0,\"ticks\":\"\"}},\"colorscale\":{\"sequential\":[[0.0,\"#0d0887\"],[0.1111111111111111,\"#46039f\"],[0.2222222222222222,\"#7201a8\"],[0.3333333333333333,\"#9c179e\"],[0.4444444444444444,\"#bd3786\"],[0.5555555555555556,\"#d8576b\"],[0.6666666666666666,\"#ed7953\"],[0.7777777777777778,\"#fb9f3a\"],[0.8888888888888888,\"#fdca26\"],[1.0,\"#f0f921\"]],\"sequentialminus\":[[0.0,\"#0d0887\"],[0.1111111111111111,\"#46039f\"],[0.2222222222222222,\"#7201a8\"],[0.3333333333333333,\"#9c179e\"],[0.4444444444444444,\"#bd3786\"],[0.5555555555555556,\"#d8576b\"],[0.6666666666666666,\"#ed7953\"],[0.7777777777777778,\"#fb9f3a\"],[0.8888888888888888,\"#fdca26\"],[1.0,\"#f0f921\"]],\"diverging\":[[0,\"#8e0152\"],[0.1,\"#c51b7d\"],[0.2,\"#de77ae\"],[0.3,\"#f1b6da\"],[0.4,\"#fde0ef\"],[0.5,\"#f7f7f7\"],[0.6,\"#e6f5d0\"],[0.7,\"#b8e186\"],[0.8,\"#7fbc41\"],[0.9,\"#4d9221\"],[1,\"#276419\"]]},\"xaxis\":{\"gridcolor\":\"white\",\"linecolor\":\"white\",\"ticks\":\"\",\"title\":{\"standoff\":15},\"zerolinecolor\":\"white\",\"automargin\":true,\"zerolinewidth\":2},\"yaxis\":{\"gridcolor\":\"white\",\"linecolor\":\"white\",\"ticks\":\"\",\"title\":{\"standoff\":15},\"zerolinecolor\":\"white\",\"automargin\":true,\"zerolinewidth\":2},\"scene\":{\"xaxis\":{\"backgroundcolor\":\"#E5ECF6\",\"gridcolor\":\"white\",\"linecolor\":\"white\",\"showbackground\":true,\"ticks\":\"\",\"zerolinecolor\":\"white\",\"gridwidth\":2},\"yaxis\":{\"backgroundcolor\":\"#E5ECF6\",\"gridcolor\":\"white\",\"linecolor\":\"white\",\"showbackground\":true,\"ticks\":\"\",\"zerolinecolor\":\"white\",\"gridwidth\":2},\"zaxis\":{\"backgroundcolor\":\"#E5ECF6\",\"gridcolor\":\"white\",\"linecolor\":\"white\",\"showbackground\":true,\"ticks\":\"\",\"zerolinecolor\":\"white\",\"gridwidth\":2}},\"shapedefaults\":{\"line\":{\"color\":\"#2a3f5f\"}},\"annotationdefaults\":{\"arrowcolor\":\"#2a3f5f\",\"arrowhead\":0,\"arrowwidth\":1},\"geo\":{\"bgcolor\":\"white\",\"landcolor\":\"#E5ECF6\",\"subunitcolor\":\"white\",\"showland\":true,\"showlakes\":true,\"lakecolor\":\"white\"},\"title\":{\"x\":0.05},\"mapbox\":{\"style\":\"light\"}}},\"xaxis\":{\"anchor\":\"y\",\"domain\":[0.0,1.0],\"title\":{\"text\":\"x\"}},\"yaxis\":{\"anchor\":\"x\",\"domain\":[0.0,1.0],\"title\":{\"text\":\"count\"}},\"legend\":{\"tracegroupgap\":0},\"margin\":{\"t\":60},\"barmode\":\"relative\"},                        {\"responsive\": true}                    ).then(function(){\n",
              "                            \n",
              "var gd = document.getElementById('a3645ffc-65ce-438f-982c-861228718f4a');\n",
              "var x = new MutationObserver(function (mutations, observer) {{\n",
              "        var display = window.getComputedStyle(gd).display;\n",
              "        if (!display || display === 'none') {{\n",
              "            console.log([gd, 'removed!']);\n",
              "            Plotly.purge(gd);\n",
              "            observer.disconnect();\n",
              "        }}\n",
              "}});\n",
              "\n",
              "// Listen for the removal of the full notebook cells\n",
              "var notebookContainer = gd.closest('#notebook-container');\n",
              "if (notebookContainer) {{\n",
              "    x.observe(notebookContainer, {childList: true});\n",
              "}}\n",
              "\n",
              "// Listen for the clearing of the current output cell\n",
              "var outputEl = gd.closest('.output');\n",
              "if (outputEl) {{\n",
              "    x.observe(outputEl, {childList: true});\n",
              "}}\n",
              "\n",
              "                        })                };                            </script>        </div>\n",
              "</body>\n",
              "</html>"
            ]
          },
          "metadata": {},
          "output_type": "display_data"
        }
      ],
      "source": [
        "fig = px.histogram(x=df['Grad_unemployment_rate'],nbins = 12)\n",
        "fig.show()"
      ]
    },
    {
      "cell_type": "markdown",
      "metadata": {
        "id": "Ks7CG_AJ0bOf"
      },
      "source": [
        "###**QUESTION 4**\n",
        "\n",
        "Construct a boxplot for your variable.  "
      ]
    },
    {
      "cell_type": "code",
      "execution_count": null,
      "metadata": {
        "colab": {
          "base_uri": "https://localhost:8080/",
          "height": 542
        },
        "id": "oaAb93lbA1IH",
        "outputId": "9215fdfa-8a3e-4d7e-9a61-1d0bfc2a5482"
      },
      "outputs": [
        {
          "data": {
            "text/html": [
              "<html>\n",
              "<head><meta charset=\"utf-8\" /></head>\n",
              "<body>\n",
              "    <div>            <script src=\"https://cdnjs.cloudflare.com/ajax/libs/mathjax/2.7.5/MathJax.js?config=TeX-AMS-MML_SVG\"></script><script type=\"text/javascript\">if (window.MathJax && window.MathJax.Hub && window.MathJax.Hub.Config) {window.MathJax.Hub.Config({SVG: {font: \"STIX-Web\"}});}</script>                <script type=\"text/javascript\">window.PlotlyConfig = {MathJaxConfig: 'local'};</script>\n",
              "        <script charset=\"utf-8\" src=\"https://cdn.plot.ly/plotly-2.24.1.min.js\"></script>                <div id=\"2c287606-e77e-41fd-b6e3-76bc14cec096\" class=\"plotly-graph-div\" style=\"height:525px; width:100%;\"></div>            <script type=\"text/javascript\">                                    window.PLOTLYENV=window.PLOTLYENV || {};                                    if (document.getElementById(\"2c287606-e77e-41fd-b6e3-76bc14cec096\")) {                    Plotly.newPlot(                        \"2c287606-e77e-41fd-b6e3-76bc14cec096\",                        [{\"alignmentgroup\":\"True\",\"hovertemplate\":\"x=%{x}\\u003cextra\\u003e\\u003c\\u002fextra\\u003e\",\"legendgroup\":\"\",\"marker\":{\"color\":\"#636efa\"},\"name\":\"\",\"notched\":false,\"offsetgroup\":\"\",\"orientation\":\"h\",\"showlegend\":false,\"x\":[0.087543386,0.057755852,0.073866788,0.080901178,0.058410629,0.0,0.052059489,0.03483833,0.024612203,0.030561599,0.096472931,0.13851498,0.06523569,0.051641334,0.046633357,0.081605691,0.04661565,0.031697819,0.039270596,0.038461538,0.041004871,0.049032311,0.045299817,0.038714642,0.059586631,0.022848321,0.040894931,0.025552736,0.040049214,0.048657665,0.074243813,0.054460646,0.042023298,0.025342834,0.045358331,0.041857347,0.06100455,0.021266734,0.049995759,0.058903313,0.020124913,0.00886918,0.029324923,0.041296423,0.042111271,0.060061499,0.038421666,0.029495955,0.050362239,0.037142695,0.025317882,0.044092513,0.019471488,0.031253986,0.064715966,0.054889566,0.038852808,0.067667237,0.051253413,0.094637671,0.036198118,0.051940026,0.019985196,0.035276229,0.031130244,0.034601202,0.036654034,0.059671887,0.070332221,0.014667817,0.038918793,0.035998475,0.0281065,0.034229499,0.021300793,0.056908862,0.027165944,0.041878308,0.058474838,0.012326529,0.017415354,0.086452468,0.035449332,0.059329069,0.032956266,0.038624622,0.028706395,0.061080658,0.03189197,0.102890173,0.053657509,0.027305449,0.022057897,0.063924979,0.024018146,0.043768425,0.027885303,0.030152487,0.036230513,0.032938452,0.022218272,0.034637345,0.039702942,0.058849492,0.020362893,0.04530453,0.054545455,0.033349858,0.041472011,0.028403487,0.05083188,0.051283916,0.049701157,0.037570891,0.040584103,0.018759683,0.027408238,0.024823638,0.043523065,0.03755603,0.044817237,0.037818182,0.026647178,0.03857466,0.027931687,0.038975831,0.048050929,0.02863239,0.042357586,0.038578048,0.031756946,0.037644956,0.038808906,0.045280779,0.045745654,0.025860949,0.030555665,0.022906378,0.022291055,0.0176851,0.02606824,0.028967718,0.04534244,0.031074409,0.011538018,0.031226486,0.014248162,0.022187594,0.032159086,0.038890238,0.022464859,0.033210059,0.021104706,0.020028612,0.029981368,0.020920664,0.018447581,0.029936779,0.028207488,0.024229927,0.020927973,0.035411851,0.017611146,0.025600246,0.024211872,0.019423853,0.021777281,0.0142862,0.035599679,0.044958032,0.021686868,0.051400302,0.016760742],\"x0\":\" \",\"xaxis\":\"x\",\"y0\":\" \",\"yaxis\":\"y\",\"type\":\"box\"}],                        {\"template\":{\"data\":{\"histogram2dcontour\":[{\"type\":\"histogram2dcontour\",\"colorbar\":{\"outlinewidth\":0,\"ticks\":\"\"},\"colorscale\":[[0.0,\"#0d0887\"],[0.1111111111111111,\"#46039f\"],[0.2222222222222222,\"#7201a8\"],[0.3333333333333333,\"#9c179e\"],[0.4444444444444444,\"#bd3786\"],[0.5555555555555556,\"#d8576b\"],[0.6666666666666666,\"#ed7953\"],[0.7777777777777778,\"#fb9f3a\"],[0.8888888888888888,\"#fdca26\"],[1.0,\"#f0f921\"]]}],\"choropleth\":[{\"type\":\"choropleth\",\"colorbar\":{\"outlinewidth\":0,\"ticks\":\"\"}}],\"histogram2d\":[{\"type\":\"histogram2d\",\"colorbar\":{\"outlinewidth\":0,\"ticks\":\"\"},\"colorscale\":[[0.0,\"#0d0887\"],[0.1111111111111111,\"#46039f\"],[0.2222222222222222,\"#7201a8\"],[0.3333333333333333,\"#9c179e\"],[0.4444444444444444,\"#bd3786\"],[0.5555555555555556,\"#d8576b\"],[0.6666666666666666,\"#ed7953\"],[0.7777777777777778,\"#fb9f3a\"],[0.8888888888888888,\"#fdca26\"],[1.0,\"#f0f921\"]]}],\"heatmap\":[{\"type\":\"heatmap\",\"colorbar\":{\"outlinewidth\":0,\"ticks\":\"\"},\"colorscale\":[[0.0,\"#0d0887\"],[0.1111111111111111,\"#46039f\"],[0.2222222222222222,\"#7201a8\"],[0.3333333333333333,\"#9c179e\"],[0.4444444444444444,\"#bd3786\"],[0.5555555555555556,\"#d8576b\"],[0.6666666666666666,\"#ed7953\"],[0.7777777777777778,\"#fb9f3a\"],[0.8888888888888888,\"#fdca26\"],[1.0,\"#f0f921\"]]}],\"heatmapgl\":[{\"type\":\"heatmapgl\",\"colorbar\":{\"outlinewidth\":0,\"ticks\":\"\"},\"colorscale\":[[0.0,\"#0d0887\"],[0.1111111111111111,\"#46039f\"],[0.2222222222222222,\"#7201a8\"],[0.3333333333333333,\"#9c179e\"],[0.4444444444444444,\"#bd3786\"],[0.5555555555555556,\"#d8576b\"],[0.6666666666666666,\"#ed7953\"],[0.7777777777777778,\"#fb9f3a\"],[0.8888888888888888,\"#fdca26\"],[1.0,\"#f0f921\"]]}],\"contourcarpet\":[{\"type\":\"contourcarpet\",\"colorbar\":{\"outlinewidth\":0,\"ticks\":\"\"}}],\"contour\":[{\"type\":\"contour\",\"colorbar\":{\"outlinewidth\":0,\"ticks\":\"\"},\"colorscale\":[[0.0,\"#0d0887\"],[0.1111111111111111,\"#46039f\"],[0.2222222222222222,\"#7201a8\"],[0.3333333333333333,\"#9c179e\"],[0.4444444444444444,\"#bd3786\"],[0.5555555555555556,\"#d8576b\"],[0.6666666666666666,\"#ed7953\"],[0.7777777777777778,\"#fb9f3a\"],[0.8888888888888888,\"#fdca26\"],[1.0,\"#f0f921\"]]}],\"surface\":[{\"type\":\"surface\",\"colorbar\":{\"outlinewidth\":0,\"ticks\":\"\"},\"colorscale\":[[0.0,\"#0d0887\"],[0.1111111111111111,\"#46039f\"],[0.2222222222222222,\"#7201a8\"],[0.3333333333333333,\"#9c179e\"],[0.4444444444444444,\"#bd3786\"],[0.5555555555555556,\"#d8576b\"],[0.6666666666666666,\"#ed7953\"],[0.7777777777777778,\"#fb9f3a\"],[0.8888888888888888,\"#fdca26\"],[1.0,\"#f0f921\"]]}],\"mesh3d\":[{\"type\":\"mesh3d\",\"colorbar\":{\"outlinewidth\":0,\"ticks\":\"\"}}],\"scatter\":[{\"fillpattern\":{\"fillmode\":\"overlay\",\"size\":10,\"solidity\":0.2},\"type\":\"scatter\"}],\"parcoords\":[{\"type\":\"parcoords\",\"line\":{\"colorbar\":{\"outlinewidth\":0,\"ticks\":\"\"}}}],\"scatterpolargl\":[{\"type\":\"scatterpolargl\",\"marker\":{\"colorbar\":{\"outlinewidth\":0,\"ticks\":\"\"}}}],\"bar\":[{\"error_x\":{\"color\":\"#2a3f5f\"},\"error_y\":{\"color\":\"#2a3f5f\"},\"marker\":{\"line\":{\"color\":\"#E5ECF6\",\"width\":0.5},\"pattern\":{\"fillmode\":\"overlay\",\"size\":10,\"solidity\":0.2}},\"type\":\"bar\"}],\"scattergeo\":[{\"type\":\"scattergeo\",\"marker\":{\"colorbar\":{\"outlinewidth\":0,\"ticks\":\"\"}}}],\"scatterpolar\":[{\"type\":\"scatterpolar\",\"marker\":{\"colorbar\":{\"outlinewidth\":0,\"ticks\":\"\"}}}],\"histogram\":[{\"marker\":{\"pattern\":{\"fillmode\":\"overlay\",\"size\":10,\"solidity\":0.2}},\"type\":\"histogram\"}],\"scattergl\":[{\"type\":\"scattergl\",\"marker\":{\"colorbar\":{\"outlinewidth\":0,\"ticks\":\"\"}}}],\"scatter3d\":[{\"type\":\"scatter3d\",\"line\":{\"colorbar\":{\"outlinewidth\":0,\"ticks\":\"\"}},\"marker\":{\"colorbar\":{\"outlinewidth\":0,\"ticks\":\"\"}}}],\"scattermapbox\":[{\"type\":\"scattermapbox\",\"marker\":{\"colorbar\":{\"outlinewidth\":0,\"ticks\":\"\"}}}],\"scatterternary\":[{\"type\":\"scatterternary\",\"marker\":{\"colorbar\":{\"outlinewidth\":0,\"ticks\":\"\"}}}],\"scattercarpet\":[{\"type\":\"scattercarpet\",\"marker\":{\"colorbar\":{\"outlinewidth\":0,\"ticks\":\"\"}}}],\"carpet\":[{\"aaxis\":{\"endlinecolor\":\"#2a3f5f\",\"gridcolor\":\"white\",\"linecolor\":\"white\",\"minorgridcolor\":\"white\",\"startlinecolor\":\"#2a3f5f\"},\"baxis\":{\"endlinecolor\":\"#2a3f5f\",\"gridcolor\":\"white\",\"linecolor\":\"white\",\"minorgridcolor\":\"white\",\"startlinecolor\":\"#2a3f5f\"},\"type\":\"carpet\"}],\"table\":[{\"cells\":{\"fill\":{\"color\":\"#EBF0F8\"},\"line\":{\"color\":\"white\"}},\"header\":{\"fill\":{\"color\":\"#C8D4E3\"},\"line\":{\"color\":\"white\"}},\"type\":\"table\"}],\"barpolar\":[{\"marker\":{\"line\":{\"color\":\"#E5ECF6\",\"width\":0.5},\"pattern\":{\"fillmode\":\"overlay\",\"size\":10,\"solidity\":0.2}},\"type\":\"barpolar\"}],\"pie\":[{\"automargin\":true,\"type\":\"pie\"}]},\"layout\":{\"autotypenumbers\":\"strict\",\"colorway\":[\"#636efa\",\"#EF553B\",\"#00cc96\",\"#ab63fa\",\"#FFA15A\",\"#19d3f3\",\"#FF6692\",\"#B6E880\",\"#FF97FF\",\"#FECB52\"],\"font\":{\"color\":\"#2a3f5f\"},\"hovermode\":\"closest\",\"hoverlabel\":{\"align\":\"left\"},\"paper_bgcolor\":\"white\",\"plot_bgcolor\":\"#E5ECF6\",\"polar\":{\"bgcolor\":\"#E5ECF6\",\"angularaxis\":{\"gridcolor\":\"white\",\"linecolor\":\"white\",\"ticks\":\"\"},\"radialaxis\":{\"gridcolor\":\"white\",\"linecolor\":\"white\",\"ticks\":\"\"}},\"ternary\":{\"bgcolor\":\"#E5ECF6\",\"aaxis\":{\"gridcolor\":\"white\",\"linecolor\":\"white\",\"ticks\":\"\"},\"baxis\":{\"gridcolor\":\"white\",\"linecolor\":\"white\",\"ticks\":\"\"},\"caxis\":{\"gridcolor\":\"white\",\"linecolor\":\"white\",\"ticks\":\"\"}},\"coloraxis\":{\"colorbar\":{\"outlinewidth\":0,\"ticks\":\"\"}},\"colorscale\":{\"sequential\":[[0.0,\"#0d0887\"],[0.1111111111111111,\"#46039f\"],[0.2222222222222222,\"#7201a8\"],[0.3333333333333333,\"#9c179e\"],[0.4444444444444444,\"#bd3786\"],[0.5555555555555556,\"#d8576b\"],[0.6666666666666666,\"#ed7953\"],[0.7777777777777778,\"#fb9f3a\"],[0.8888888888888888,\"#fdca26\"],[1.0,\"#f0f921\"]],\"sequentialminus\":[[0.0,\"#0d0887\"],[0.1111111111111111,\"#46039f\"],[0.2222222222222222,\"#7201a8\"],[0.3333333333333333,\"#9c179e\"],[0.4444444444444444,\"#bd3786\"],[0.5555555555555556,\"#d8576b\"],[0.6666666666666666,\"#ed7953\"],[0.7777777777777778,\"#fb9f3a\"],[0.8888888888888888,\"#fdca26\"],[1.0,\"#f0f921\"]],\"diverging\":[[0,\"#8e0152\"],[0.1,\"#c51b7d\"],[0.2,\"#de77ae\"],[0.3,\"#f1b6da\"],[0.4,\"#fde0ef\"],[0.5,\"#f7f7f7\"],[0.6,\"#e6f5d0\"],[0.7,\"#b8e186\"],[0.8,\"#7fbc41\"],[0.9,\"#4d9221\"],[1,\"#276419\"]]},\"xaxis\":{\"gridcolor\":\"white\",\"linecolor\":\"white\",\"ticks\":\"\",\"title\":{\"standoff\":15},\"zerolinecolor\":\"white\",\"automargin\":true,\"zerolinewidth\":2},\"yaxis\":{\"gridcolor\":\"white\",\"linecolor\":\"white\",\"ticks\":\"\",\"title\":{\"standoff\":15},\"zerolinecolor\":\"white\",\"automargin\":true,\"zerolinewidth\":2},\"scene\":{\"xaxis\":{\"backgroundcolor\":\"#E5ECF6\",\"gridcolor\":\"white\",\"linecolor\":\"white\",\"showbackground\":true,\"ticks\":\"\",\"zerolinecolor\":\"white\",\"gridwidth\":2},\"yaxis\":{\"backgroundcolor\":\"#E5ECF6\",\"gridcolor\":\"white\",\"linecolor\":\"white\",\"showbackground\":true,\"ticks\":\"\",\"zerolinecolor\":\"white\",\"gridwidth\":2},\"zaxis\":{\"backgroundcolor\":\"#E5ECF6\",\"gridcolor\":\"white\",\"linecolor\":\"white\",\"showbackground\":true,\"ticks\":\"\",\"zerolinecolor\":\"white\",\"gridwidth\":2}},\"shapedefaults\":{\"line\":{\"color\":\"#2a3f5f\"}},\"annotationdefaults\":{\"arrowcolor\":\"#2a3f5f\",\"arrowhead\":0,\"arrowwidth\":1},\"geo\":{\"bgcolor\":\"white\",\"landcolor\":\"#E5ECF6\",\"subunitcolor\":\"white\",\"showland\":true,\"showlakes\":true,\"lakecolor\":\"white\"},\"title\":{\"x\":0.05},\"mapbox\":{\"style\":\"light\"}}},\"xaxis\":{\"anchor\":\"y\",\"domain\":[0.0,1.0],\"title\":{\"text\":\"x\"}},\"yaxis\":{\"anchor\":\"x\",\"domain\":[0.0,1.0]},\"legend\":{\"tracegroupgap\":0},\"margin\":{\"t\":60},\"boxmode\":\"group\"},                        {\"responsive\": true}                    ).then(function(){\n",
              "                            \n",
              "var gd = document.getElementById('2c287606-e77e-41fd-b6e3-76bc14cec096');\n",
              "var x = new MutationObserver(function (mutations, observer) {{\n",
              "        var display = window.getComputedStyle(gd).display;\n",
              "        if (!display || display === 'none') {{\n",
              "            console.log([gd, 'removed!']);\n",
              "            Plotly.purge(gd);\n",
              "            observer.disconnect();\n",
              "        }}\n",
              "}});\n",
              "\n",
              "// Listen for the removal of the full notebook cells\n",
              "var notebookContainer = gd.closest('#notebook-container');\n",
              "if (notebookContainer) {{\n",
              "    x.observe(notebookContainer, {childList: true});\n",
              "}}\n",
              "\n",
              "// Listen for the clearing of the current output cell\n",
              "var outputEl = gd.closest('.output');\n",
              "if (outputEl) {{\n",
              "    x.observe(outputEl, {childList: true});\n",
              "}}\n",
              "\n",
              "                        })                };                            </script>        </div>\n",
              "</body>\n",
              "</html>"
            ]
          },
          "metadata": {},
          "output_type": "display_data"
        }
      ],
      "source": [
        "px.box(x=df['Grad_unemployment_rate'])"
      ]
    },
    {
      "cell_type": "markdown",
      "metadata": {
        "id": "9BCskrHU0blp"
      },
      "source": [
        "###**QUESTION 5**\n",
        "\n",
        "Calculate the following summary statistics for your variable: minimum, maximum, mean, median, standard deviation, Q1, and Q3. Paste the output below."
      ]
    },
    {
      "cell_type": "markdown",
      "metadata": {
        "id": "kSnkHZWO0cti"
      },
      "source": [
        "###**QUESTION 6**\n",
        "\n",
        "Use information from questions #3, #4, and #5 to describe your variable in terms of shape, center, spread, and outliers. Interpret your findings."
      ]
    },
    {
      "cell_type": "markdown",
      "metadata": {
        "id": "nul2GHpi0chf"
      },
      "source": [
        "##**QUESTION 7**\n",
        "\n",
        "Calculate and state the unemployment rate for graduates, the median salary for graduates, the unemployment rate for non-graduates, and the median salary for non-graduates for your major or intended major. Compare the results."
      ]
    },
    {
      "cell_type": "markdown",
      "metadata": {
        "id": "vtlNs1kL0cAr"
      },
      "source": [
        "##**QUESTION 8**\n",
        "\n",
        "Generate a paragraph of at least 100 words to address one of the following questions:"
      ]
    },
    {
      "cell_type": "markdown",
      "metadata": {
        "id": "mD2fvvY42sS-"
      },
      "source": [
        "### **QUESTION 8a**\n",
        "\n",
        "Discuss how analyzing your chosen data set using statistical methods could help you become better prepared for future courses in your major?"
      ]
    },
    {
      "cell_type": "markdown",
      "metadata": {
        "id": "XCveGKan26ly"
      },
      "source": [
        "### **QUESTION 8b**\n",
        "\n",
        "Discuss how analyzing your chosen data set using statistical methods could be instrumental in becoming better prepared for your future career?"
      ]
    }
  ],
  "metadata": {
    "colab": {
      "authorship_tag": "ABX9TyOpu1dWbnZelLJr6Tiqv/XY",
      "include_colab_link": true,
      "provenance": [],
      "toc_visible": true
    },
    "kernelspec": {
      "display_name": "Python 3",
      "name": "python3"
    },
    "language_info": {
      "name": "python",
      "version": "2.7.undefined"
    }
  },
  "nbformat": 4,
  "nbformat_minor": 0
}
