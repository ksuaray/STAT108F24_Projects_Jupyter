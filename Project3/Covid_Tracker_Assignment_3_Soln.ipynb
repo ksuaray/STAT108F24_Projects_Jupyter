{
  "cells": [
    {
      "cell_type": "markdown",
      "metadata": {
        "colab_type": "text",
        "id": "view-in-github"
      },
      "source": [
        "<a href=\"https://colab.research.google.com/github/ksuaray/LAEP_S24/blob/Covid/Covid_Tracker_Assignment.ipynb\" target=\"_parent\"><img src=\"https://colab.research.google.com/assets/colab-badge.svg\" alt=\"Open In Colab\"/></a>"
      ]
    },
    {
      "cell_type": "markdown",
      "metadata": {
        "id": "WOWuLyetinsJ"
      },
      "source": [
        "**Covid-19 Case Tracker**"
      ]
    },
    {
      "cell_type": "markdown",
      "metadata": {
        "id": "AxPB-FE5lQIX"
      },
      "source": [
        "#**Importing Necessary Python Modules**\n",
        "\n",
        "Python incorporates a variety of open source add-ins called **modules** that enable us to be able to"
      ]
    },
    {
      "cell_type": "code",
      "execution_count": 3,
      "metadata": {},
      "outputs": [
        {
          "name": "stdout",
          "output_type": "stream",
          "text": [
            "Requirement already satisfied: plotly in /Users/ahmadmardini/Desktop/untitled folder 13/.venv/lib/python3.11/site-packages (5.20.0)\n",
            "Requirement already satisfied: pandas in /Users/ahmadmardini/Desktop/untitled folder 13/.venv/lib/python3.11/site-packages (2.1.4)\n",
            "Requirement already satisfied: numpy in /Users/ahmadmardini/Desktop/untitled folder 13/.venv/lib/python3.11/site-packages (1.26.2)\n",
            "Requirement already satisfied: statsmodels in /Users/ahmadmardini/Desktop/untitled folder 13/.venv/lib/python3.11/site-packages (0.14.1)\n",
            "Collecting ssl\n",
            "  Using cached ssl-1.16.tar.gz (33 kB)\n",
            "  Installing build dependencies ... \u001b[?25ldone\n",
            "\u001b[?25h  Getting requirements to build wheel ... \u001b[?25lerror\n",
            "  \u001b[1;31merror\u001b[0m: \u001b[1msubprocess-exited-with-error\u001b[0m\n",
            "  \n",
            "  \u001b[31m×\u001b[0m \u001b[32mGetting requirements to build wheel\u001b[0m did not run successfully.\n",
            "  \u001b[31m│\u001b[0m exit code: \u001b[1;36m1\u001b[0m\n",
            "  \u001b[31m╰─>\u001b[0m \u001b[31m[22 lines of output]\u001b[0m\n",
            "  \u001b[31m   \u001b[0m Traceback (most recent call last):\n",
            "  \u001b[31m   \u001b[0m   File \"/Users/ahmadmardini/Desktop/untitled folder 13/.venv/lib/python3.11/site-packages/pip/_vendor/pyproject_hooks/_in_process/_in_process.py\", line 353, in <module>\n",
            "  \u001b[31m   \u001b[0m     main()\n",
            "  \u001b[31m   \u001b[0m   File \"/Users/ahmadmardini/Desktop/untitled folder 13/.venv/lib/python3.11/site-packages/pip/_vendor/pyproject_hooks/_in_process/_in_process.py\", line 335, in main\n",
            "  \u001b[31m   \u001b[0m     json_out['return_val'] = hook(**hook_input['kwargs'])\n",
            "  \u001b[31m   \u001b[0m                              ^^^^^^^^^^^^^^^^^^^^^^^^^^^^\n",
            "  \u001b[31m   \u001b[0m   File \"/Users/ahmadmardini/Desktop/untitled folder 13/.venv/lib/python3.11/site-packages/pip/_vendor/pyproject_hooks/_in_process/_in_process.py\", line 118, in get_requires_for_build_wheel\n",
            "  \u001b[31m   \u001b[0m     return hook(config_settings)\n",
            "  \u001b[31m   \u001b[0m            ^^^^^^^^^^^^^^^^^^^^^\n",
            "  \u001b[31m   \u001b[0m   File \"/private/var/folders/gz/4nnsw0xx24l8374gbjt1k7jh0000gn/T/pip-build-env-8exbxbw9/overlay/lib/python3.11/site-packages/setuptools/build_meta.py\", line 325, in get_requires_for_build_wheel\n",
            "  \u001b[31m   \u001b[0m     return self._get_build_requires(config_settings, requirements=['wheel'])\n",
            "  \u001b[31m   \u001b[0m            ^^^^^^^^^^^^^^^^^^^^^^^^^^^^^^^^^^^^^^^^^^^^^^^^^^^^^^^^^^^^^^^^^\n",
            "  \u001b[31m   \u001b[0m   File \"/private/var/folders/gz/4nnsw0xx24l8374gbjt1k7jh0000gn/T/pip-build-env-8exbxbw9/overlay/lib/python3.11/site-packages/setuptools/build_meta.py\", line 295, in _get_build_requires\n",
            "  \u001b[31m   \u001b[0m     self.run_setup()\n",
            "  \u001b[31m   \u001b[0m   File \"/private/var/folders/gz/4nnsw0xx24l8374gbjt1k7jh0000gn/T/pip-build-env-8exbxbw9/overlay/lib/python3.11/site-packages/setuptools/build_meta.py\", line 487, in run_setup\n",
            "  \u001b[31m   \u001b[0m     super().run_setup(setup_script=setup_script)\n",
            "  \u001b[31m   \u001b[0m   File \"/private/var/folders/gz/4nnsw0xx24l8374gbjt1k7jh0000gn/T/pip-build-env-8exbxbw9/overlay/lib/python3.11/site-packages/setuptools/build_meta.py\", line 311, in run_setup\n",
            "  \u001b[31m   \u001b[0m     exec(code, locals())\n",
            "  \u001b[31m   \u001b[0m   File \"<string>\", line 33\n",
            "  \u001b[31m   \u001b[0m     print 'looking for', f\n",
            "  \u001b[31m   \u001b[0m     ^^^^^^^^^^^^^^^^^^^^^^\n",
            "  \u001b[31m   \u001b[0m SyntaxError: Missing parentheses in call to 'print'. Did you mean print(...)?\n",
            "  \u001b[31m   \u001b[0m \u001b[31m[end of output]\u001b[0m\n",
            "  \n",
            "  \u001b[1;35mnote\u001b[0m: This error originates from a subprocess, and is likely not a problem with pip.\n",
            "\u001b[?25h\u001b[1;31merror\u001b[0m: \u001b[1msubprocess-exited-with-error\u001b[0m\n",
            "\n",
            "\u001b[31m×\u001b[0m \u001b[32mGetting requirements to build wheel\u001b[0m did not run successfully.\n",
            "\u001b[31m│\u001b[0m exit code: \u001b[1;36m1\u001b[0m\n",
            "\u001b[31m╰─>\u001b[0m See above for output.\n",
            "\n",
            "\u001b[1;35mnote\u001b[0m: This error originates from a subprocess, and is likely not a problem with pip.\n",
            "\n",
            "\u001b[1m[\u001b[0m\u001b[34;49mnotice\u001b[0m\u001b[1;39;49m]\u001b[0m\u001b[39;49m A new release of pip is available: \u001b[0m\u001b[31;49m23.3.2\u001b[0m\u001b[39;49m -> \u001b[0m\u001b[32;49m24.0\u001b[0m\n",
            "\u001b[1m[\u001b[0m\u001b[34;49mnotice\u001b[0m\u001b[1;39;49m]\u001b[0m\u001b[39;49m To update, run: \u001b[0m\u001b[32;49mpip install --upgrade pip\u001b[0m\n",
            "Note: you may need to restart the kernel to use updated packages.\n"
          ]
        }
      ],
      "source": [
        "!pip install plotly pandas numpy statsmodels ssl scipy"
      ]
    },
    {
      "cell_type": "code",
      "execution_count": 2,
      "metadata": {
        "id": "DIbfBAiwmTlf"
      },
      "outputs": [],
      "source": [
        "import pandas as pd\n",
        "import numpy as np\n",
        "import plotly.express as px\n",
        "from IPython.display import Image\n",
        "import statsmodels.api as sm\n",
        "import ssl\n",
        "from scipy import stats\n"
      ]
    },
    {
      "cell_type": "markdown",
      "metadata": {
        "id": "XJjnfq1hitm8"
      },
      "source": [
        "#**Context**\n",
        "\n",
        "The Associated Press (AP) is using data collected by the Johns Hopkins University Center for Systems Science and Engineering as our source for outbreak caseloads and death counts for the United States and globally.\n",
        "\n",
        "The Hopkins data is available at the county level in the United States. The AP has paired this data with population figures and county rural/urban designations, and has calculated caseload and death rates per 100,000 people. Be aware that caseloads may reflect the availability of tests -and the ability to turn around test results quickly -- rather than actual disease spread or true infection rates.\n",
        "\n",
        "This data is from the [Hopkins dashboard](https://www.arcgis.com/apps/dashboards/bda7594740fd40299423467b48e9ecf6) that is updated regularly throughout the day. Like all organizations dealing with data, Hopkins is constantly refining and cleaning up their feed, so there may be brief moments where data does not appear correctly. At [this link](https://github.com/CSSEGISandData/COVID-19/tree/master/csse_covid_19_data), you’ll find the Hopkins daily data reports, and a clean version of their feed.\n",
        "\n",
        "The AP is updates this dataset hourly at 45 minutes past the hour.\n",
        "\n",
        "To learn more about AP's data journalism capabilities for publishers, corporations and financial institutions, go [here](http://https/www.ap.org/en-us/formats/data-journalism) or email kromano@ap.org.\n",
        "\n",
        "Attribution: Johns Hopkins University COVID-19 tracking project"
      ]
    },
    {
      "cell_type": "code",
      "execution_count": 7,
      "metadata": {
        "colab": {
          "base_uri": "https://localhost:8080/",
          "height": 1000
        },
        "id": "oJft7wQooCFx",
        "outputId": "fcdd8eaf-9fc2-4277-cde1-9bc13944d4a1"
      },
      "outputs": [
        {
          "data": {
            "text/html": [
              "<img src=\"https://t3.ftcdn.net/jpg/03/33/03/90/240_F_333039083_vkw5CtEmwFSv4ibMFpOpmv49pPTawcDh.jpg\"/>"
            ],
            "text/plain": [
              "<IPython.core.display.Image object>"
            ]
          },
          "execution_count": 7,
          "metadata": {},
          "output_type": "execute_result"
        }
      ],
      "source": [
        "# Replace 'image_url' with the URL of the image you want to display\n",
        "image_url = 'https://t3.ftcdn.net/jpg/03/33/03/90/240_F_333039083_vkw5CtEmwFSv4ibMFpOpmv49pPTawcDh.jpg'\n",
        "\n",
        "# Display the image\n",
        "Image(url=image_url)"
      ]
    },
    {
      "cell_type": "markdown",
      "metadata": {
        "id": "bQfu7EYxi7Md"
      },
      "source": [
        "#**About the Dataset**\n",
        "\n",
        "This dataset contains 142 rows corresponding to a random sample of counties. A total of 7 variables are provided as listed below:"
      ]
    },
    {
      "cell_type": "markdown",
      "metadata": {
        "id": "XusIoTTPjC87"
      },
      "source": [
        "**Variables**\n",
        "\n",
        "| Variable Name(s)  | Description |\n",
        "|-------------------|-------------|\n",
        "| County_name       | The name of the county |\n",
        "| state             | State in which the county is located |\n",
        "| nchs_urbanization | Urban-Rural category. For more details see [CDC Urban-Rural Classification Scheme for Counties](https://www.cdc.gov/nchs/data/series/sr_02/sr02_166.pdf) |\n",
        "| total_population  | County population |\n",
        "| confirmed         | Number of confirmed covid-19 cases in county |\n",
        "| confirmed_per_100000 | Population adjusted confirmed covid-19 case rate per 100000 people |\n",
        "| deaths            | Number of deaths in county due to covid-19 |\n",
        "| deaths_per_100000 | Population adjusted covid-19 death rate per 100000 people |\n",
        "\n"
      ]
    },
    {
      "cell_type": "markdown",
      "metadata": {
        "id": "dzjbhJhzktKp"
      },
      "source": [
        "*Attribution:  FiveThirtyEight.com*\n",
        "\n",
        "We can view a snippet of the data by first importing it directly from the url below[link text](https://).\n",
        "\n",
        "**Data**"
      ]
    },
    {
      "cell_type": "code",
      "execution_count": 7,
      "metadata": {
        "id": "1RtdwLBwidY4"
      },
      "outputs": [],
      "source": [
        "# This creates an unverified SSL context\n",
        "ssl._create_default_https_context = ssl._create_unverified_context\n",
        "file_path = \"https://raw.githubusercontent.com/ksuaray/LAEP_S24/Covid/covid_cases23.csv\"\n",
        "df = pd.read_csv(file_path)\n"
      ]
    },
    {
      "cell_type": "markdown",
      "metadata": {
        "id": "cj8T9vdrimYo"
      },
      "source": [
        "Next, we can display the data by typing the name of the DataFrame. To ensure we can see all columns, we'll use the *pd.set_option* method."
      ]
    },
    {
      "cell_type": "code",
      "execution_count": 8,
      "metadata": {
        "colab": {
          "base_uri": "https://localhost:8080/",
          "height": 774
        },
        "id": "YT5tP1d8pQli",
        "outputId": "d0fc8a37-eacb-47d0-dfbd-ff4d75b5e813"
      },
      "outputs": [
        {
          "data": {
            "text/html": [
              "<div>\n",
              "<style scoped>\n",
              "    .dataframe tbody tr th:only-of-type {\n",
              "        vertical-align: middle;\n",
              "    }\n",
              "\n",
              "    .dataframe tbody tr th {\n",
              "        vertical-align: top;\n",
              "    }\n",
              "\n",
              "    .dataframe thead th {\n",
              "        text-align: right;\n",
              "    }\n",
              "</style>\n",
              "<table border=\"1\" class=\"dataframe\">\n",
              "  <thead>\n",
              "    <tr style=\"text-align: right;\">\n",
              "      <th></th>\n",
              "      <th>county_name</th>\n",
              "      <th>state</th>\n",
              "      <th>nchs_urbanization</th>\n",
              "      <th>total_population</th>\n",
              "      <th>confirmed</th>\n",
              "      <th>confirmed_per_100000</th>\n",
              "      <th>deaths</th>\n",
              "      <th>deaths_per_100000</th>\n",
              "    </tr>\n",
              "  </thead>\n",
              "  <tbody>\n",
              "    <tr>\n",
              "      <th>0</th>\n",
              "      <td>Lowndes</td>\n",
              "      <td>Alabama</td>\n",
              "      <td>Medium metro</td>\n",
              "      <td>10236</td>\n",
              "      <td>3251</td>\n",
              "      <td>31760.45</td>\n",
              "      <td>80</td>\n",
              "      <td>781.56</td>\n",
              "    </tr>\n",
              "    <tr>\n",
              "      <th>1</th>\n",
              "      <td>Ontario</td>\n",
              "      <td>New York</td>\n",
              "      <td>Large fringe metro</td>\n",
              "      <td>109472</td>\n",
              "      <td>25821</td>\n",
              "      <td>23586.85</td>\n",
              "      <td>212</td>\n",
              "      <td>193.66</td>\n",
              "    </tr>\n",
              "    <tr>\n",
              "      <th>2</th>\n",
              "      <td>Waukesha</td>\n",
              "      <td>Wisconsin</td>\n",
              "      <td>Large fringe metro</td>\n",
              "      <td>398879</td>\n",
              "      <td>137985</td>\n",
              "      <td>34593.20</td>\n",
              "      <td>1216</td>\n",
              "      <td>304.85</td>\n",
              "    </tr>\n",
              "    <tr>\n",
              "      <th>3</th>\n",
              "      <td>Escambia</td>\n",
              "      <td>Florida</td>\n",
              "      <td>Medium metro</td>\n",
              "      <td>311522</td>\n",
              "      <td>96194</td>\n",
              "      <td>30878.72</td>\n",
              "      <td>1452</td>\n",
              "      <td>466.10</td>\n",
              "    </tr>\n",
              "    <tr>\n",
              "      <th>4</th>\n",
              "      <td>Greenbrier</td>\n",
              "      <td>West Virginia</td>\n",
              "      <td>Non-core</td>\n",
              "      <td>35347</td>\n",
              "      <td>12633</td>\n",
              "      <td>35739.95</td>\n",
              "      <td>182</td>\n",
              "      <td>514.90</td>\n",
              "    </tr>\n",
              "    <tr>\n",
              "      <th>...</th>\n",
              "      <td>...</td>\n",
              "      <td>...</td>\n",
              "      <td>...</td>\n",
              "      <td>...</td>\n",
              "      <td>...</td>\n",
              "      <td>...</td>\n",
              "      <td>...</td>\n",
              "      <td>...</td>\n",
              "    </tr>\n",
              "    <tr>\n",
              "      <th>137</th>\n",
              "      <td>Bourbon</td>\n",
              "      <td>Kentucky</td>\n",
              "      <td>Medium metro</td>\n",
              "      <td>20144</td>\n",
              "      <td>7688</td>\n",
              "      <td>38165.21</td>\n",
              "      <td>73</td>\n",
              "      <td>362.39</td>\n",
              "    </tr>\n",
              "    <tr>\n",
              "      <th>138</th>\n",
              "      <td>Schley</td>\n",
              "      <td>Georgia</td>\n",
              "      <td>Micropolitan</td>\n",
              "      <td>5211</td>\n",
              "      <td>1387</td>\n",
              "      <td>26616.77</td>\n",
              "      <td>11</td>\n",
              "      <td>211.09</td>\n",
              "    </tr>\n",
              "    <tr>\n",
              "      <th>139</th>\n",
              "      <td>Neshoba</td>\n",
              "      <td>Mississippi</td>\n",
              "      <td>Non-core</td>\n",
              "      <td>29376</td>\n",
              "      <td>12475</td>\n",
              "      <td>42466.64</td>\n",
              "      <td>247</td>\n",
              "      <td>840.82</td>\n",
              "    </tr>\n",
              "    <tr>\n",
              "      <th>140</th>\n",
              "      <td>Wise</td>\n",
              "      <td>Virginia</td>\n",
              "      <td>Micropolitan</td>\n",
              "      <td>39025</td>\n",
              "      <td>13596</td>\n",
              "      <td>34839.21</td>\n",
              "      <td>225</td>\n",
              "      <td>576.55</td>\n",
              "    </tr>\n",
              "    <tr>\n",
              "      <th>141</th>\n",
              "      <td>Cottonwood</td>\n",
              "      <td>Minnesota</td>\n",
              "      <td>Non-core</td>\n",
              "      <td>11372</td>\n",
              "      <td>3714</td>\n",
              "      <td>32659.16</td>\n",
              "      <td>42</td>\n",
              "      <td>369.33</td>\n",
              "    </tr>\n",
              "  </tbody>\n",
              "</table>\n",
              "<p>142 rows × 8 columns</p>\n",
              "</div>"
            ],
            "text/plain": [
              "    county_name          state   nchs_urbanization  total_population  \\\n",
              "0       Lowndes        Alabama        Medium metro             10236   \n",
              "1       Ontario       New York  Large fringe metro            109472   \n",
              "2      Waukesha      Wisconsin  Large fringe metro            398879   \n",
              "3      Escambia        Florida        Medium metro            311522   \n",
              "4    Greenbrier  West Virginia            Non-core             35347   \n",
              "..          ...            ...                 ...               ...   \n",
              "137     Bourbon       Kentucky        Medium metro             20144   \n",
              "138      Schley        Georgia        Micropolitan              5211   \n",
              "139     Neshoba    Mississippi            Non-core             29376   \n",
              "140        Wise       Virginia        Micropolitan             39025   \n",
              "141  Cottonwood      Minnesota            Non-core             11372   \n",
              "\n",
              "     confirmed  confirmed_per_100000  deaths  deaths_per_100000  \n",
              "0         3251              31760.45      80             781.56  \n",
              "1        25821              23586.85     212             193.66  \n",
              "2       137985              34593.20    1216             304.85  \n",
              "3        96194              30878.72    1452             466.10  \n",
              "4        12633              35739.95     182             514.90  \n",
              "..         ...                   ...     ...                ...  \n",
              "137       7688              38165.21      73             362.39  \n",
              "138       1387              26616.77      11             211.09  \n",
              "139      12475              42466.64     247             840.82  \n",
              "140      13596              34839.21     225             576.55  \n",
              "141       3714              32659.16      42             369.33  \n",
              "\n",
              "[142 rows x 8 columns]"
            ]
          },
          "execution_count": 8,
          "metadata": {},
          "output_type": "execute_result"
        }
      ],
      "source": [
        "# Set display options to show all columns\n",
        "pd.set_option('display.max_columns', None)\n",
        "df"
      ]
    },
    {
      "cell_type": "markdown",
      "metadata": {
        "id": "U7JAQ1iOyzty"
      },
      "source": [
        "**Assignment 3**\n",
        "\n",
        "Statistical Inference for One Sample Proportion and Mean"
      ]
    },
    {
      "cell_type": "markdown",
      "metadata": {},
      "source": [
        "**Instruction**\n",
        "\n",
        "This assignment is on inferential statistics. Use SPSS to conduct the analysis and complete each of the following questions. As appropriate, copy the SPSS output and paste it into the correct part below. For problems that require a written response, type the answer below."
      ]
    },
    {
      "cell_type": "markdown",
      "metadata": {},
      "source": [
        "**QUESTION 1 - LAST NAME: A-L**\n",
        "\n",
        "Construct and interpret the 98% confidence interval for the true proportion of counties with NCHS Urbanization regions categorized as Large fringe metro. Write up the solution using the PMACC procedure."
      ]
    },
    {
      "cell_type": "markdown",
      "metadata": {},
      "source": [
        "Parameter"
      ]
    },
    {
      "cell_type": "markdown",
      "metadata": {},
      "source": [
        "True Proportion (p): This is the actual proportion of all counties that fall into the \"Large fringe metro\" category according to the NCHS Urbanization classification. This proportion \n",
        "\n",
        "p is what the sample proportion \n",
        "$\\hat{p}$ is estimating, and the confidence interval is constructed around \n",
        "$\\hat{p}$ to capture p with a certain level of confidence"
      ]
    },
    {
      "cell_type": "markdown",
      "metadata": {},
      "source": [
        "Method"
      ]
    },
    {
      "cell_type": "markdown",
      "metadata": {},
      "source": [
        "\n",
        "Identify the sample size (\n",
        "n) and the number of successes (\n",
        "x), where a success is a county being classified as \"Large fringe metro\".\n",
        "Calculate the sample proportion \n",
        "$\\hat{p}$ as $\\frac{x}{n}$.\n",
        "Use the z-score for the desired confidence level (98%) to determine the confidence interval width."
      ]
    },
    {
      "cell_type": "markdown",
      "metadata": {},
      "source": [
        "Assumption"
      ]
    },
    {
      "cell_type": "markdown",
      "metadata": {},
      "source": [
        "Random Sampling: The counties are assumed to be randomly sampled.\n",
        "Large Sample Size: The sample is large enough for the normal approximation to be valid (typically \n",
        "np≥10 and \n",
        "n(1−p)≥10).\n",
        "Independence: Each county's classification is independent of others (valid if sampling without replacement is less than 10% of the population)."
      ]
    },
    {
      "cell_type": "markdown",
      "metadata": {},
      "source": [
        "Calculation"
      ]
    },
    {
      "cell_type": "code",
      "execution_count": 17,
      "metadata": {},
      "outputs": [
        {
          "name": "stdout",
          "output_type": "stream",
          "text": [
            "98% CI for the proportion of 'Large fringe metro' counties: [0.0673, 0.2003], p_hat: 0.1338\n"
          ]
        }
      ],
      "source": [
        "# Filter for 'Large fringe metro' counties in NCHS Urbanization\n",
        "large_fringe_metro_counties = df[df['nchs_urbanization'] == 'Large fringe metro']\n",
        "\n",
        "# Calculate the proportion of counties that are 'Large fringe metro'\n",
        "total_counties = len(df)\n",
        "large_fringe_metro_counties_count = len(large_fringe_metro_counties)\n",
        "p_hat = large_fringe_metro_counties_count / total_counties\n",
        "\n",
        "# The sample size is the total number of counties\n",
        "n = total_counties\n",
        "\n",
        "# Z-score for 98% confidence\n",
        "Z = stats.norm.ppf(0.99)  # 0.99 because 98% confidence level leaves 1% in the upper tail\n",
        "\n",
        "# Standard error for the proportion\n",
        "SE = np.sqrt(p_hat * (1 - p_hat) / n)\n",
        "\n",
        "# Confidence interval for the proportion\n",
        "CI_lower = p_hat - Z * SE\n",
        "CI_upper = p_hat + Z * SE\n",
        "\n",
        "print(f\"98% CI for the proportion of 'Large fringe metro' counties: [{CI_lower:.4f}, {CI_upper:.4f}], p_hat: {p_hat:.4f}\")"
      ]
    },
    {
      "cell_type": "markdown",
      "metadata": {},
      "source": [
        "Communicate results:"
      ]
    },
    {
      "cell_type": "markdown",
      "metadata": {},
      "source": [
        "The 98% confidence interval for the proportion of all counties categorized as \"Large fringe metro\" is calculated as shown. We interpret this interval by stating that based on our sample, we are 98% confident that the actual proportion of counties categorized as \"Large fringe metro\" in the NCHS Urbanization regions falls between the lower and upper bounds of the interval. This provides a statistically reliable estimate of how widespread the \"Large fringe metro\" classification is among U.S. counties."
      ]
    },
    {
      "cell_type": "markdown",
      "metadata": {},
      "source": [
        "**QUESTION 2**\n",
        "\n",
        "Is there convincing evidence that the population mean graduate median salary is more than $70,000? Conduct a hypothesis test using α = 0.1. Write up the solution using the PMACC procedure.\n",
        "\n",
        "Parameter:\n",
        "\n",
        "Method:\n",
        "\n",
        "Assumptions:\n",
        "\n",
        "Calculations:\n",
        "\n",
        "Communicate results:"
      ]
    },
    {
      "cell_type": "markdown",
      "metadata": {},
      "source": [
        "Parameter"
      ]
    },
    {
      "cell_type": "markdown",
      "metadata": {},
      "source": [
        "Population Mean (\n",
        "μ): This is the parameter we are interested in, specifically the mean graduate median salary across all graduates."
      ]
    },
    {
      "cell_type": "markdown",
      "metadata": {},
      "source": [
        "Method"
      ]
    },
    {
      "cell_type": "markdown",
      "metadata": {},
      "source": [
        "Hypothesis Test:\n",
        "Null Hypothesis (H0): The population mean graduate median salary is $70,000 or less (μ≤70,000).\n",
        "Alternative Hypothesis (H 1): The population mean graduate median salary is more than $70,000 (μ>70,000).\n",
        "We will use a one-sample t-test if the sample size is small or population variance is unknown, and the Z-test if the sample size is large and the population variance is known."
      ]
    },
    {
      "cell_type": "markdown",
      "metadata": {},
      "source": [
        "Assumption"
      ]
    },
    {
      "cell_type": "markdown",
      "metadata": {},
      "source": [
        "Normality: The distribution of the graduate median salary should be approximately normal. This assumption is crucial especially if the sample size is small. If the sample size is large, the Central Limit Theorem allows us to use the t-test regardless of the distribution’s shape.\n",
        "Independence: The salaries are assumed to be independently collected, with no two salaries influencing each other.\n",
        "Random Sampling: The data should be collected from a random sample of graduates.\n"
      ]
    },
    {
      "cell_type": "markdown",
      "metadata": {},
      "source": [
        "Calculation"
      ]
    },
    {
      "cell_type": "code",
      "execution_count": 13,
      "metadata": {},
      "outputs": [
        {
          "name": "stdout",
          "output_type": "stream",
          "text": [
            "T-statistic: -0.7477124071896145\n",
            "P-value: 0.7720605693872986\n"
          ]
        }
      ],
      "source": [
        "# Sample data: number of confirmed cases per 100k\n",
        "cases_per_100k = df['confirmed_per_100000'].dropna()  # Assume this is the relevant column\n",
        "\n",
        "# Hypothesized population mean\n",
        "mu = 30000\n",
        "\n",
        "# Conduct the one-sample t-test\n",
        "t_statistic, p_value = stats.ttest_1samp(cases_per_100k, mu)\n",
        "\n",
        "# Adjust the p-value for a one-tailed test (if testing for greater than)\n",
        "if t_statistic > 0:\n",
        "    p_value /= 2\n",
        "else:\n",
        "    p_value = 1 - (p_value / 2)\n",
        "\n",
        "# Output the results\n",
        "print(f\"T-statistic: {t_statistic}\")\n",
        "print(f\"P-value: {p_value}\")"
      ]
    },
    {
      "cell_type": "markdown",
      "metadata": {},
      "source": [
        "Communicate results:"
      ]
    },
    {
      "cell_type": "markdown",
      "metadata": {},
      "source": [
        "The t-statistic of -0.7477124071896145 indicates that the sample mean is lower than the hypothesized population mean under \n",
        "H\n",
        "0​\t\n",
        "  (it is negative because the sample mean is less than $70,000). Since we are conducting a right-tailed test, a negative t-statistic would not lead to rejecting \n",
        "H\n",
        "0\n",
        "​\t\n",
        " ."
      ]
    },
    {
      "cell_type": "markdown",
      "metadata": {},
      "source": [
        "##**QUESTION 3**\n",
        "\n",
        "Generate a paragraph of at least 100 words to address one of the following questions:  \n",
        "\n",
        "1. Discuss how analyzing your chosen data set using statistical methods could help you become better prepared for future courses in your major. \n",
        "\n",
        "2. Discuss how analyzing your chosen data set using statistical methods could be instrumental in becoming better prepared for your future career.\n"
      ]
    },
    {
      "cell_type": "markdown",
      "metadata": {},
      "source": []
    },
    {
      "cell_type": "markdown",
      "metadata": {},
      "source": [
        "**QUESTION 1 - LAST NAME: M-Z**\n",
        "\n",
        "Construct and interpret the 95% confidence interval for the population mean number of deaths in each county. Write up the solution using the PMACC procedure."
      ]
    },
    {
      "cell_type": "markdown",
      "metadata": {},
      "source": [
        "Parameter"
      ]
    },
    {
      "cell_type": "markdown",
      "metadata": {},
      "source": [
        "Population Mean (\n",
        "μ): The average number of deaths in each county."
      ]
    },
    {
      "cell_type": "markdown",
      "metadata": {},
      "source": [
        "Method"
      ]
    },
    {
      "cell_type": "markdown",
      "metadata": {},
      "source": [
        "Confidence Interval Calculation:\n",
        "Using a t-distribution to construct the confidence interval for the mean. This is appropriate when dealing with population means and the population standard deviation is unknown.\n"
      ]
    },
    {
      "cell_type": "markdown",
      "metadata": {},
      "source": [
        "Assumption"
      ]
    },
    {
      "cell_type": "markdown",
      "metadata": {},
      "source": [
        "Normality: The number of deaths per county is assumed to be normally distributed, especially important if the sample size is small. If the sample size is large, the Central Limit Theorem supports the normality assumption.\n",
        "Random Sampling: The data on deaths per county is assumed to be collected randomly.\n",
        "Independence: The number of deaths in one county is assumed to be independent of the number of deaths in another."
      ]
    },
    {
      "cell_type": "markdown",
      "metadata": {},
      "source": [
        "Calculation"
      ]
    },
    {
      "cell_type": "code",
      "execution_count": 16,
      "metadata": {},
      "outputs": [
        {
          "name": "stdout",
          "output_type": "stream",
          "text": [
            "95% CI for the mean number of deaths: [241.79, 449.39]\n"
          ]
        }
      ],
      "source": [
        "num_deaths = df['deaths'].dropna()  # Remove NaN values to ensure accuracy\n",
        "\n",
        "# Calculate sample mean and standard deviation\n",
        "sample_mean = np.mean(num_deaths)\n",
        "sample_std = np.std(num_deaths, ddof=1)  # Use ddof=1 for sample standard deviation\n",
        "n = len(num_deaths)\n",
        "\n",
        "# Z-score for 95% confidence\n",
        "Z = stats.norm.ppf(0.975)  # 0.975 because 95% CI leaves 2.5% in each tail\n",
        "\n",
        "# Calculate the margin of error\n",
        "margin_of_error = Z * (sample_std / np.sqrt(n))\n",
        "\n",
        "# Calculate the confidence interval\n",
        "CI_lower = sample_mean - margin_of_error\n",
        "CI_upper = sample_mean + margin_of_error\n",
        "\n",
        "print(f\"95% CI for the mean number of deaths: [{CI_lower:.2f}, {CI_upper:.2f}]\")"
      ]
    },
    {
      "cell_type": "markdown",
      "metadata": {},
      "source": [
        "Communicate results:"
      ]
    },
    {
      "cell_type": "markdown",
      "metadata": {},
      "source": [
        "The 95% confidence interval suggests that we are 95% confident that the true average number of deaths in each county lies between approximately 241.79 and 449.39. This range provides an estimate of the mean number of deaths across all counties under consideration."
      ]
    },
    {
      "cell_type": "markdown",
      "metadata": {},
      "source": [
        "**QUESTION 2**\n",
        "\n",
        "Is there convincing evidence that the true proportion of counties with NCHS Urbanization regions categorized as Small metro is different from 20%? Use α=0.05. Write up the solution using the PMACC procedure."
      ]
    },
    {
      "cell_type": "markdown",
      "metadata": {},
      "source": [
        "Parameter"
      ]
    },
    {
      "cell_type": "markdown",
      "metadata": {},
      "source": [
        "Population Proportion (p): This is the proportion of all counties categorized as \"Small metro\" within the NCHS Urbanization classification."
      ]
    },
    {
      "cell_type": "markdown",
      "metadata": {},
      "source": [
        "Method"
      ]
    },
    {
      "cell_type": "markdown",
      "metadata": {},
      "source": [
        "Null Hypothesis (H0): The true proportion of counties that are categorized as \"Small metro\" is 20% (\n",
        "p=0.20).Alternative Hypothesis (H1): The true proportion of counties that are categorized as \"Small metro\" is not 20% (\n",
        "p\n",
        "≠\n",
        "0.20).\n",
        "We will use a two-tailed Z-test for the proportion because we want to check if the actual proportion is either less than or greater than 20%."
      ]
    },
    {
      "cell_type": "markdown",
      "metadata": {},
      "source": [
        "Assumption"
      ]
    },
    {
      "cell_type": "markdown",
      "metadata": {},
      "source": [
        "Binomial Distribution: The variable of interest (being a \"Small metro\" county or not) follows a binomial distribution.\n",
        "Normal Approximation: The sample size is large enough for the normal approximation to the binomial distribution to be valid. This is generally assumed to be adequate if \n",
        "np≥5 and\n",
        "n(1−p)≥5.\n",
        "Random Sampling: The sample of counties is randomly selected.\n",
        "Independence: The categorization of one county as \"Small metro\" is independent of another."
      ]
    },
    {
      "cell_type": "markdown",
      "metadata": {},
      "source": [
        "Calculation"
      ]
    },
    {
      "cell_type": "code",
      "execution_count": 18,
      "metadata": {},
      "outputs": [
        {
          "name": "stdout",
          "output_type": "stream",
          "text": [
            "Z-statistic: -2.3917\n",
            "P-value: 0.0168\n"
          ]
        }
      ],
      "source": [
        "# Filter for 'Small metro' counties in NCHS Urbanization\n",
        "small_metro_counties_count = df[df['nchs_urbanization'] == 'Small metro'].shape[0]\n",
        "total_counties = df.shape[0]\n",
        "\n",
        "# Calculate the sample proportion (p_hat) for 'Small metro'\n",
        "p_hat = small_metro_counties_count / total_counties\n",
        "p_0 = 0.20  # Hypothesized population proportion of 'Small metro'\n",
        "\n",
        "# Sample size\n",
        "n = total_counties\n",
        "\n",
        "# Calculating the z-statistic\n",
        "z = (p_hat - p_0) / ((p_0 * (1 - p_0) / n) ** 0.5)\n",
        "\n",
        "# Calculating the p-value for a two-tailed test\n",
        "p_value = 2 * (1 - stats.norm.cdf(abs(z)))\n",
        "\n",
        "# Print the results\n",
        "print(f\"Z-statistic: {z:.4f}\")\n",
        "print(f\"P-value: {p_value:.4f}\")"
      ]
    },
    {
      "cell_type": "markdown",
      "metadata": {},
      "source": [
        "Communicate results:"
      ]
    },
    {
      "cell_type": "markdown",
      "metadata": {},
      "source": [
        "The Z-statistic and P-value are used to determine whether to reject the null hypothesis \n",
        "H0, which states that the true proportion of counties categorized as \"Small metro\" is 20% (\n",
        "p=0.20)."
      ]
    },
    {
      "cell_type": "markdown",
      "metadata": {},
      "source": [
        "##**QUESTION 3**\n",
        "\n",
        "Generate a paragraph of at least 100 words to address one of the following questions:  \n",
        "\n",
        "1. Discuss how analyzing your chosen data set using statistical methods could help you become better prepared for future courses in your major. \n",
        "\n",
        "2. Discuss how analyzing your chosen data set using statistical methods could be instrumental in becoming better prepared for your future career.\n"
      ]
    }
  ],
  "metadata": {
    "colab": {
      "include_colab_link": true,
      "provenance": [],
      "toc_visible": true
    },
    "kernelspec": {
      "display_name": "Python 3",
      "name": "python3"
    },
    "language_info": {
      "codemirror_mode": {
        "name": "ipython",
        "version": 3
      },
      "file_extension": ".py",
      "mimetype": "text/x-python",
      "name": "python",
      "nbconvert_exporter": "python",
      "pygments_lexer": "ipython3",
      "version": "3.11.4"
    }
  },
  "nbformat": 4,
  "nbformat_minor": 0
}
