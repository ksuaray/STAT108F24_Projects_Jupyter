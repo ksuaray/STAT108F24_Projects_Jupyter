{
  "cells": [
    {
      "cell_type": "markdown",
      "metadata": {
        "id": "WOWuLyetinsJ"
      },
      "source": [
        "# **Guide to Picking a College Major - Project 3**\n",
        "## Inference for the Population Proportion"
      ]
    },
    {
      "cell_type": "markdown",
      "metadata": {
        "id": "AxPB-FE5lQIX"
      },
      "source": [
        "# **Importing Necessary Python Modules**\n",
        "\n",
        "Python incorporates a variety of open source add-ins called **modules** that add extra features to the basic setup. The name of the modules is after the `import` or `from` statement, and the purpose is in a non-code comment after the hashtag (#)."
      ]
    },
    {
      "cell_type": "code",
      "execution_count": null,
      "metadata": {
        "id": "DIbfBAiwmTlf"
      },
      "outputs": [],
      "source": [
        "import pandas as pd                 #Data analysis\n",
        "import numpy as np                  #Calculations\n",
        "from IPython.display import Image   #Display images\n",
        "from scipy.stats import norm        #Confidence Interval"
      ]
    },
    {
      "cell_type": "code",
      "execution_count": 2,
      "metadata": {
        "id": "oJft7wQooCFx"
      },
      "outputs": [],
      "source": [
        "# Assigns the URL of the image to display to the name 'image_url'.\n",
        "image_url = 'https://media.istockphoto.com/id/1470208665/photo/multi-ethnic-group-of-latin-and-african-american-college-students-smiling-diversity-portrait.jpg?s=2048x2048&w=is&k=20&c=zicp2F74iFTRKjJUwFBgs_Mb_Xd5vvkvdmYSVoekb1I='\n",
        "\n",
        "# Display the image\n",
        "Image(url=image_url, width=500)\n"
      ]
    },
    {
      "cell_type": "markdown",
      "metadata": {
        "id": "XJjnfq1hitm8"
      },
      "source": [
        "# **Context**\n",
        "\n",
        "The webiste FiveThirtyEight.com published an article, *The Economic Guide To Picking A College Major*, in 2014 which looked at the earnings of verious college majors. The data analyzed by the author, Ben Casselman, came from the American Community Survey (ACS) 2010-2012 Public Use Microdata Series (PUMS). According to their website, the ACS, part of the U.S. Census Bureau, \"is the premier source for detailed population and housing information in our nation.\"\n",
        "\n",
        "With this dataset, you have the power to explore college programs and their graduates like never before and create stories of your own!\n",
        "\n",
        "https://fivethirtyeight.com/features/the-economic-guide-to-picking-a-college-major/\n",
        "\n",
        "https://www.census.gov/programs-surveys/acs"
      ]
    },
    {
      "cell_type": "markdown",
      "metadata": {
        "id": "bQfu7EYxi7Md"
      },
      "source": [
        "# **About the Dataset**\n",
        "\n",
        "This dataset contains 172 rows corresponding to a random sample of people with at least some college education. The data consists of one identifier variable, index, and 22 other variables associated with 172 college majors. Descriptions of the variables are listed below:"
      ]
    },
    {
      "cell_type": "markdown",
      "metadata": {
        "id": "XusIoTTPjC87"
      },
      "source": [
        "**Variables**\n",
        "\n",
        "| Column name                 | Description                                                |\n",
        "|-----------------------------|------------------------------------------------------------|\n",
        "| Index                       | A number assigned to an individual                         |\n",
        "| Major_code                  | The code associated with the major (Integer)               |\n",
        "| Major                       | The specific major of the field of study (String)          |\n",
        "| Major_category              | The category of the major (String)                         |\n",
        "| Grad_total                  | The total number of graduates from the major (Integer)     |\n",
        "| Grad_sample_size            | The sample size of graduates from the major (Integer)      |\n",
        "| Grad_employed               | The number of graduates employed (Integer)                 |\n",
        "| Grad_full_time_year_round   | The number of graduates employed full-time year-round (Integer) |\n",
        "| Grad_unemployed             | The number of graduates unemployed (Integer)               |\n",
        "| Grad_unemployment_rate      | The unemployment rate of graduates (Float)                 |\n",
        "| Grad_median                 | The median salary of graduates (Integer)                   |\n",
        "| Grad_P25                    | The 25th percentile salary of graduates (Integer)          |\n",
        "| Grad_P75                    | The 75th percentile salary of graduates (Integer)          |\n",
        "| Nongrad_total               | The total number of non-graduates from the major (Integer) |\n",
        "| Nongrad_employed            | The number of non-graduates employed (Integer)             |\n",
        "| Nongrad_full_time_year_round| The number of non-graduates employed full-time year-round (Integer) |\n",
        "| Nongrad_unemployed          | The number of non-graduates unemployed (Integer)           |\n",
        "| Nongrad_unemployment_rate   | The unemployment rate of non-graduates (Float)             |\n",
        "| Nongrad_median              | The median salary of non-graduates (Integer)               |\n",
        "| Nongrad_P25                 | The 25th percentile salary of non-graduates (Integer)      |\n",
        "| Nongrad_P75                 | The 75th percentile salary of non-graduates (Integer)      |\n",
        "| Grad_share                  | The share of graduates in the major (Float)                |\n",
        "| Grad_premium                | The difference between the median salary of graduates and non-graduates (Integer) |\n"
      ]
    },
    {
      "cell_type": "markdown",
      "metadata": {
        "id": "dzjbhJhzktKp"
      },
      "source": [
        "# **A Snippet of the Data**"
      ]
    },
    {
      "cell_type": "markdown",
      "metadata": {
        "id": "C7rwsCbWcrXi"
      },
      "source": [
        "Let's take a look at the data. To do this, first we import it directly from the url."
      ]
    },
    {
      "cell_type": "code",
      "execution_count": 3,
      "metadata": {
        "id": "1RtdwLBwidY4"
      },
      "outputs": [],
      "source": [
        "# Assigns the URL where the data file is stored to 'file_path'.\n",
        "file_path = \"https://raw.githubusercontent.com/fivethirtyeight/data/master/college-majors/grad-students.csv\"\n",
        "\n",
        "# Reads in the CSV data file and assigns it to the DataFrame 'df'.\n",
        "df = pd.read_csv(file_path)\n"
      ]
    },
    {
      "cell_type": "markdown",
      "metadata": {
        "id": "cj8T9vdrimYo"
      },
      "source": [
        "Next, we can display the data by typing the name of the DataFrame. To ensure we can see all columns, we'll use the *pd.set_option* method."
      ]
    },
    {
      "cell_type": "code",
      "execution_count": null,
      "metadata": {
        "id": "YT5tP1d8pQli"
      },
      "outputs": [],
      "source": [
        "# Set display options to show all columns\n",
        "pd.set_option('display.max_columns', None)\n",
        "\n",
        "# When you type the object name, the object gets printed.\n",
        "df"
      ]
    },
    {
      "cell_type": "markdown",
      "metadata": {
        "id": "tx98lQoCoDkO"
      },
      "source": [
        "# **INSTRUCTIONS**\n",
        "\n",
        "* Use Python to analyze the data set and complete each of the following.\n",
        "* Replace ellipsis (...) with the relavent names or code.  \n",
        "* For problems that require a written response, replace the ellipsis (...) by double clicking the text box to start typing.\n",
        "* Reference the tutorial from activity for assistance.\n",
        "* If you still need help:\n",
        " * Watch the video.\n",
        " * Attend office hours."
      ]
    },
    {
      "cell_type": "markdown",
      "metadata": {
        "id": "WZAwPtWdJtjB"
      },
      "source": [
        "# **The variable to analyze**\n",
        "You will analyze a category of major category. Based on the first initial of your LAST name, analyze the category of the variable listed in the table. Use this category for the entire project.\n",
        "\n",
        "| Last Name | Variable |\n",
        "|-----------|-------------------------------|\n",
        "| A-L       | Major Category = Engineering |\n",
        "| M-Z       | Major Category = Business |"
      ]
    },
    {
      "cell_type": "code",
      "source": [
        "#Print all the category names.\n",
        "#Use this list to ensure correct spelling of your category.\n",
        "print(\"Major Category categories\")\n",
        "print(\"--------------------------------\")\n",
        "for category in df['Major_category'].unique():\n",
        "    print(category)\n",
        "\n",
        "freq_table = pd.Series(df['Major_category']).value_counts()\n",
        "freq_table"
      ],
      "metadata": {
        "id": "IROToDNfZVFw"
      },
      "execution_count": null,
      "outputs": []
    },
    {
      "cell_type": "markdown",
      "metadata": {
        "id": "xkEtDHs70CzZ"
      },
      "source": [
        "# **QUESTION 1**\n",
        "## Confidence Interval\n",
        "\n",
        "Construct and interpret the 95% confidence interval for the population proportion of majors that fall under (your assigned category). Write up the solution using the PMACC procedure.\n",
        "\n",
        "**Last Name A-L:** Construct and interpret the 95% confidence interval for the population proportion of majors that fall under the engineering category (major category = engineering).\n",
        "\n",
        "**Last Name M-Z:** Construct and interpret the 95% confidence interval for the population proportion of majors that fall under the business category (major category = business)."
      ]
    },
    {
      "cell_type": "markdown",
      "source": [
        "**1.1) Parameter: Define the parameter, using correct notation.**\n",
        "\n",
        "**A-L:** p is the population proportion of majors that fall under the engineering category.\n",
        "\n",
        "**M-Z** p is the population proportion of majors that fall under the business category."
      ],
      "metadata": {
        "id": "bIpoT0p6JdEb"
      }
    },
    {
      "cell_type": "markdown",
      "source": [
        "**1.2) Method: Name the method you will use.**\n",
        "\n",
        "**-----ALL last names-----**\n",
        "\n",
        "1 sample z-interval for p\n",
        "\n",
        "-OR-\n",
        "\n",
        "1 proportion z-interval"
      ],
      "metadata": {
        "id": "G7uPLMIlJt2Z"
      }
    },
    {
      "cell_type": "markdown",
      "source": [
        "**1.3) Assumptions:**\n",
        "\n",
        "Complete the code below to find out how many majors fall under the category assigned to you."
      ],
      "metadata": {
        "id": "BQS1aneYKJew"
      }
    },
    {
      "cell_type": "code",
      "source": [
        "# Count total observations\n",
        "n = len(df)\n",
        "\n",
        "#Use this code for students\n",
        "# Count total successes\n",
        "# Replace the 1st ... with the variable name\n",
        "# Replace the 2nd ... with the name of the major category to be analyzed\n",
        "#obs_count = df['...'].value_counts().get('...')\n",
        "\n",
        "#print(f\"{obs_count} out of {n} majors fall under the ... category.\") #Replace ... with the name of the major you are analyzing.\n",
        "\n",
        "#---------------------------------\n",
        "#A-L\n",
        "obs_count_AL = df['Major_category'].value_counts().get('Engineering')\n",
        "print(f\"{obs_count_AL} out of {n} majors fall under the engineering category.\")\n",
        "\n",
        "#---------------------------------\n",
        "#M-Z\n",
        "obs_count_MZ = df['Major_category'].value_counts().get('Business')\n",
        "print(f\"{obs_count_MZ} out of {n} majors fall under the business category.\")"
      ],
      "metadata": {
        "id": "zImrVJ_XN-LB"
      },
      "execution_count": null,
      "outputs": []
    },
    {
      "cell_type": "markdown",
      "source": [
        "**Show that both assumptions are met.**\n",
        "\n",
        "**A-L:**\n",
        "\n",
        "1. We will assume the sample represents the population (representative sample).\n",
        "\n",
        "2. actual successes: 173(29/173) = 29 > 10\n",
        "\n",
        "   actual failures: 173(1 - 29/173) = 144 > 10\n",
        "\n",
        "   The sampling distribution of p̂ is approximately normal.\n",
        "\n",
        "--------------------------------------------------------------\n",
        "**M-Z:**\n",
        "\n",
        "1. We will assume the sample represents the population (representative sample).\n",
        "\n",
        "2. actual successes: 173(13/173) = 13 > 10\n",
        "\n",
        "   actual failures: 173(1 - 13/173) = 160 > 10\n",
        "\n",
        "   The sampling distribution of p̂ is approximately normal."
      ],
      "metadata": {
        "id": "E-r2PPtVRSZ9"
      }
    },
    {
      "cell_type": "markdown",
      "source": [
        "**1.4) Calculate: Complete the code below to calculate the sample proportion of majors that fall under the engineering category, and the confidence interval.**"
      ],
      "metadata": {
        "id": "EE0D9ba8KXO5"
      }
    },
    {
      "cell_type": "code",
      "source": [
        "# Define the confidence level\n",
        "# Replace the ... with the stated confidence level,\n",
        "#   as a decimal (ex: 0.83, not 83%)\n",
        "CL = 0.95     #CL = ...\n",
        "\n",
        "#Use this code for students\n",
        "#Calculate the values needed; p-hat, critical value (CV), and standard error (se).\n",
        "#p_hat = obs_count / n\n",
        "#cv = norm.ppf((1+CL)/2)\n",
        "#se = np.sqrt(p_hat * (1-p_hat) / n)\n",
        "\n",
        "#Calculate the bounds of the interval\n",
        "#ci_lower = (p_hat - cv * se)\n",
        "#ci_upper = (p_hat + cv * se)     #ci_upper = (...) #Replace ... with the formula for the upper bound.\n",
        "\n",
        "#print(f\"p-hat = {obs_count}/{n} = {p_hat.round(5)}\")\n",
        "#print(f\"The {CL*100}% CI is ({ci_lower.round(5)}, {ci_upper.round(5)})\")\n",
        "\n",
        "#---------------------------------\n",
        "#A-L\n",
        "#Calculate the values needed; p-hat, critical value (CV), and standard error (se).\n",
        "p_hat_AL = obs_count_AL / n\n",
        "cv = norm.ppf((1+CL)/2)\n",
        "se_AL = np.sqrt(p_hat_AL * (1-p_hat_AL) / n)\n",
        "\n",
        "#Calculate the bounds of the interval\n",
        "ci_lower_AL = (p_hat_AL - cv * se_AL)\n",
        "ci_upper_AL = (p_hat_AL + cv * se_AL)     #ci_upper = (...) #Replace ... with the formula for the upper bound.\n",
        "\n",
        "print(\"A-L:\")\n",
        "print(f\"p-hat = {obs_count_AL}/{n} = {p_hat_AL.round(5)}\")\n",
        "print(f\"The {CL*100}% CI is ({ci_lower_AL.round(5)}, {ci_upper_AL.round(5)})\")\n",
        "\n",
        "#---------------------------------\n",
        "#M-Z\n",
        "#Calculate the values needed; p-hat, critical value (CV), and standard error (se).\n",
        "p_hat_MZ = obs_count_MZ / n\n",
        "cv = norm.ppf((1+CL)/2)\n",
        "se_MZ = np.sqrt(p_hat_MZ * (1-p_hat_MZ) / n)\n",
        "\n",
        "#Calculate the bounds of the interval\n",
        "ci_lower_MZ = (p_hat_MZ - cv * se_MZ)\n",
        "ci_upper_MZ = (p_hat_MZ + cv * se_MZ)     #ci_upper = (...) #Replace ... with the formula for the upper bound.\n",
        "\n",
        "print(\"\\nM-Z:\")\n",
        "print(f\"p-hat = {obs_count_MZ}/{n} = {p_hat_MZ.round(5)}\")\n",
        "print(f\"The {CL*100}% CI is ({ci_lower_MZ.round(5)}, {ci_upper_MZ.round(5)})\")"
      ],
      "metadata": {
        "id": "P4qIa7po3Sms"
      },
      "execution_count": null,
      "outputs": []
    },
    {
      "cell_type": "markdown",
      "source": [
        "**1.5) Communicate Results: Interpret the confidence interval calculated in 1.4 above. Round to three (3) decimal places.**\n",
        "\n",
        "**A-L:** I am 95% confident that the interval 0.112 to 0.223 captures the population proportion of majors that fall under the engineering category.\n",
        "\n",
        "**M-Z:** I am 95% confident that the interval 0.036 to 0.114 captures the population proportion of majors that fall under the business category."
      ],
      "metadata": {
        "id": "xZuraSxHLLMV"
      }
    },
    {
      "cell_type": "markdown",
      "source": [
        "**1.6) Show work to calculate the margin of error. Then interpret the margin of error.**\n",
        "\n",
        "**A-L:**\n",
        "**Calculation:**\n",
        "\n",
        "ME = (0.223-0.112)/2 = 0.0555\n",
        "\n",
        "**Interpretation:**\n",
        "\n",
        "I am 95% confident that the population proportion of majors that fall under the engineering category differs from p̂ = 0.168 by at most 0.0555.\n",
        "\n",
        "-------------------------------------------------------\n",
        "**M-Z:**\n",
        "**Calculation:**\n",
        "\n",
        "ME = (0.114-0.036)/2 = 0.039\n",
        "\n",
        "**Interpretation:**\n",
        "\n",
        "I am 95% confident that the population proportion of majors that fall under the business category differs from p̂ = 0.075 by at most 0.039.\n",
        "\n"
      ],
      "metadata": {
        "id": "KzkMLURiUqWS"
      }
    },
    {
      "cell_type": "markdown",
      "source": [
        "# **Question 2**\n",
        "\n",
        "## **Hypothesis Test**\n",
        "\n",
        "**Last Name A-L:** According to the National Center for Educational Statstics, approximately 10% of all majors fall under the engineering category. Based on this data set, is there convincing evidence that the population proportion of majors that fall under the engineering category is different from 10% (0.10)? Use α=0.05. Write up the solution using the PMACC procedure.\n",
        "\n",
        "**Last Name M-Z:** A high school senior heard that 10% of all majors are engineering majors. This student is interested in a business majors and wonders if the proportion of majors that are business majors is different from the engineering proportion. Based on this data set, is there convincing evidence that the population proportion of majors that fall under the business category is different from 10% (0.10)? Use α=0.05. Write up the solution using the PMACC procedure."
      ],
      "metadata": {
        "id": "0sgRaln9V2yR"
      }
    },
    {
      "cell_type": "markdown",
      "source": [
        "**2.1) Parameter: Define the parameter, using correct notation.**\n",
        "\n",
        "**A-L:** p is the population proportion of majors that fall under the engineering category.\n",
        "\n",
        "**M-Z:** p is the population proportion of majors that fall under the business category."
      ],
      "metadata": {
        "id": "vyW2oV8NXTMl"
      }
    },
    {
      "cell_type": "markdown",
      "source": [
        "**2.2) Method: Name the method you will use, and write the hypotheses.**\n",
        "\n",
        "**-----ALL Last Names-----**\n",
        "\n",
        "**Method name:**\n",
        "\n",
        "1 sample z-test for p\n",
        "\n",
        "-OR-\n",
        "\n",
        "1 proportion z-test\n",
        "\n",
        "**Hypotheses:**\n",
        "\n",
        "H0: p = 0.1\n",
        "\n",
        "H1: p ≠ 0.1\n"
      ],
      "metadata": {
        "id": "0e1MD45JXTMm"
      }
    },
    {
      "cell_type": "markdown",
      "source": [
        "**2.3) Assumptions: Show that both assumptions are met. Do NOT round.**\n",
        "\n",
        "**-----ALL Last Names-----**\n",
        "\n",
        "1. We will assume the sample represents the population (representative sample).\n",
        "\n",
        "2. expected successes: 173(0.1) = 17.3 > 10\n",
        "\n",
        "   expected failures: 173(1 - 0.1) = 155.7 > 10\n",
        "\n",
        "   The sampling distribution of p̂ is approximately normal.\n"
      ],
      "metadata": {
        "id": "IfpbjvE4XTMm"
      }
    },
    {
      "cell_type": "markdown",
      "source": [
        "**2.4) Calculate: Complete the code below to calculate the values required.**"
      ],
      "metadata": {
        "id": "G6PVsDXiXTMn"
      }
    },
    {
      "cell_type": "code",
      "source": [
        "#Use this code for students\n",
        "#Define P0, the value in H0.\n",
        "#Replace ... with p0.\n",
        "#p_0 = ...\n",
        "\n",
        "#Calculate the values needed; p-hat, and standard error (se).\n",
        "#p_hat = obs_count / n\n",
        "#se = np.sqrt(p_0 * (1-p_0) / n)\n",
        "\n",
        "#Calculate the z-score of our p-hat, under the assumption H0 is true.\n",
        "#z_score = (p_hat - p_0) / se\n",
        "\n",
        "#Calculate the p-value for 1- and 2-sided tests\n",
        "#p_value1 = (1 - norm.cdf(abs(z_score)))\n",
        "#p_value2 = 2 * p_value1\n",
        "\n",
        "#print(f\"p-hat = {obs_count}/{n} = {p_hat.round(7)}\")\n",
        "#print(f\"z-score = {z_score.round(7)}\")\n",
        "#print(f\"1 sided p-value = {p_value1:.11f}\")\n",
        "#print(f\"2 sided p-value = {p_value2:.11f}\")\n",
        "\n",
        "#-------------------------------\n",
        "#A-L\n",
        "#Define P0, the value in H0.\n",
        "#Replace ... with p0, the value in the null hypothesis.\n",
        "p_0 = 0.1     #p_0 = ...\n",
        "\n",
        "#Calculate the values needed; p-hat, and standard error (se).\n",
        "p_hat_AL = obs_count_AL / n\n",
        "se_AL = np.sqrt(p_0 * (1-p_0) / n)\n",
        "\n",
        "#Calculate the z-score of our p-hat, under the assumption H0 is true.\n",
        "z_score_AL = (p_hat_AL - p_0) / se_AL\n",
        "\n",
        "#Calculate the p-value for 1- and 2-sided tests\n",
        "p_value1_AL = (1 - norm.cdf(abs(z_score_AL)))\n",
        "p_value2_AL = 2 * p_value1_AL\n",
        "\n",
        "print(\"A-L:\")\n",
        "print(f\"p-hat = {obs_count_AL}/{n} = {p_hat_AL.round(7)}\")\n",
        "print(f\"z-score = {z_score_AL.round(7)}\")\n",
        "print(f\"1 sided p-value = {p_value1_AL:.11f}\")\n",
        "print(f\"2 sided p-value = {p_value2_AL:.11f}\")\n",
        "\n",
        "#-------------------------------\n",
        "#M-Z\n",
        "#Define P0, the value in H0.\n",
        "#Replace ... with p0, the value in the null hypothesis.\n",
        "p_0 = 0.1     #p_0 = ...\n",
        "\n",
        "#Calculate the values needed; p-hat, and standard error (se).\n",
        "p_hat_MZ = obs_count_MZ / n\n",
        "se_MZ = np.sqrt(p_0 * (1-p_0) / n)\n",
        "\n",
        "#Calculate the z-score of our p-hat, under the assumption H0 is true.\n",
        "z_score_MZ = (p_hat_MZ - p_0) / se_MZ\n",
        "\n",
        "#Calculate the p-value for 1- and 2-sided tests\n",
        "p_value1_MZ = (1 - norm.cdf(abs(z_score_MZ)))\n",
        "p_value2_MZ = 2 * p_value1_MZ\n",
        "\n",
        "print(\"\\nM-Z\")\n",
        "print(f\"p-hat = {obs_count_MZ}/{n} = {p_hat_MZ.round(7)}\")\n",
        "print(f\"z-score = {z_score_MZ.round(7)}\")\n",
        "print(f\"1 sided p-value = {p_value1_MZ:.11f}\")\n",
        "print(f\"2 sided p-value = {p_value2_MZ:.11f}\")"
      ],
      "metadata": {
        "id": "O3ImyhXvXTMn"
      },
      "execution_count": null,
      "outputs": []
    },
    {
      "cell_type": "markdown",
      "source": [
        "**2.5) Communicate Results: What conclusion is made about the null hypothesis? And what does that mean about the alternate hypothesis?**\n",
        "\n",
        "**A-L:**\n",
        "Because p-value = 0.003 < α = 0.05, we reject H0. We do have convincing evidence the population proportion of majors that fall under the engineering category is not equal to 0.1 (10%).\n",
        "\n",
        "**M-Z:**\n",
        "Because p-value = 0.276 > α = 0.05, we fail to reject H0. We do not have convincing evidence the population proportion of majors that fall under the business category is not equal to 0.1 (10%)."
      ],
      "metadata": {
        "id": "uFJgP0tiXTMn"
      }
    },
    {
      "cell_type": "markdown",
      "source": [
        "# **Question 3**\n",
        "\n",
        "## **Do you make the same conclusion if you use the confidence interval?**\n",
        "\n",
        "**In question 2 you concluded that we either do have or do not have convincing evidence for the alternate hypothesis. Using your confidence interval from question 1, do you reach the same conclusion?**\n",
        "\n",
        "**A-L:** Yes, 0.1 is not in the 95% interval (0.11197, 0.22329), so we do have convincing evidence that the population proportion of majors that fall under the engineering category is different from 0.1.\n",
        "\n",
        "**M-Z** Yes, 0.1 is in the 95% interval (0.03586, 0.11443), so we do not have convincing evidence that the population proportion of majors that fall under the business category is different from 0.1."
      ],
      "metadata": {
        "id": "E0PJFv1ac8m6"
      }
    },
    {
      "cell_type": "markdown",
      "source": [
        "# **QUESTION 4**\n",
        "\n",
        "Generate a paragraph of at least 100 words to address one of the following questions. That is, answer only 8a or 8b, but not both.\n",
        "\n",
        "**8a)** Discuss how analyzing your chosen data set using statistical methods could help you become better prepared for future courses in your major?\n",
        "\n",
        "...\n",
        "\n",
        "--OR--\n",
        "\n",
        "**8b)** Discuss how analyzing your chosen data set using statistical methods could be instrumental in becoming better prepared for your future career?\n",
        "\n",
        "...\n"
      ],
      "metadata": {
        "id": "A4rsfgbp6r6H"
      }
    },
    {
      "cell_type": "markdown",
      "source": [
        "<br><br>\n",
        "### Once you are done and ready to submit, follow the instructions below to save as a PDF and submit to GradeScope.\n",
        "\n",
        "### Save as PDF\n",
        "Note 1: You do not have to select Print Preview. You can print directly from the notebook.\n",
        "Note 2: Image and graph sizes have been set so you should be able to see them correctly without making any changes to the browser width or the layout (portrait vs landscape).\n",
        "1. Run all code one last time and make sure your graphs can be seen.\n",
        "2. File -> Print (or ctrl-p/cmnd-p)\n",
        "3. Change the \"Desination\" to PDF.\n",
        "4. Save the PDF, taking note of where it is saved.\n",
        "\n",
        "### Submit to GradeScope\n",
        "**Watch the \"GradeScope Submission\" video for help.**\n",
        "1. Login to the Canvas course\n",
        "2. Click on GradeScope in the course navigation.\n",
        "3. If you see multiple courses in GradeScope, click on the STAT 108 course\n",
        "4. Click on the name of the assignment that matches your data set\n",
        "5. Click on \"Submit Work\", select PDF\n",
        "6. Select the PDF you just created\n",
        "7. You need to tell GradeScope which page each problem answer/output is on. You should see a list of problems on the left, and a display of pages (thumbnails) on the right. Assign pages to questions by clicking on the question number on the left, then clicking on all pages that question is on.\n",
        "8. After ALL questions have been assigned to their respective page(s), click \"Submit\"\n",
        "\n",
        "#### **Still need help? Your STAT 108 team is here to help. Take your laptop to office hours.**\n"
      ],
      "metadata": {
        "id": "KHSYrvqh66V6"
      }
    }
  ],
  "metadata": {
    "colab": {
      "provenance": []
    },
    "kernelspec": {
      "display_name": "Python 3",
      "name": "python3"
    },
    "language_info": {
      "codemirror_mode": {
        "name": "ipython",
        "version": 3
      },
      "file_extension": ".py",
      "mimetype": "text/x-python",
      "name": "python",
      "nbconvert_exporter": "python",
      "pygments_lexer": "ipython3",
      "version": "3.11.4"
    }
  },
  "nbformat": 4,
  "nbformat_minor": 0
}