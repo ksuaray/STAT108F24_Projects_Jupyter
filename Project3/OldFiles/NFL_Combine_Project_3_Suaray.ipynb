{
  "nbformat": 4,
  "nbformat_minor": 0,
  "metadata": {
    "colab": {
      "provenance": []
    },
    "kernelspec": {
      "name": "python3",
      "display_name": "Python 3"
    },
    "language_info": {
      "name": "python"
    }
  },
  "cells": [
    {
      "cell_type": "markdown",
      "metadata": {
        "id": "8t9m29KtoK2q"
      },
      "source": [
        "# **2022 NFL Combine - Project 3**\n",
        "## Inference for the Population Proportion"
      ]
    },
    {
      "cell_type": "markdown",
      "source": [
        "# **Importing Necessary Python Modules**\n",
        "\n",
        "Python incorporates a variety of open source add-ins called **modules** that add extra features to the basic setup. The name of the modules is after the `import` statement, and the purpose is in a non-code comment after thew hashtag (#).\n",
        "\n"
      ],
      "metadata": {
        "id": "AxPB-FE5lQIX"
      }
    },
    {
      "cell_type": "code",
      "source": [
        "import pandas as pd                 #Data analysis\n",
        "import numpy as np                  #Calculations\n",
        "from IPython.display import Image   #Display images\n",
        "from scipy.stats import norm        #Confidence Interval"
      ],
      "metadata": {
        "id": "DIbfBAiwmTlf"
      },
      "execution_count": null,
      "outputs": []
    },
    {
      "cell_type": "code",
      "source": [
        "# Assigns the URL of the image to display to the name 'image_url'.\n",
        "image_url = 'https://as2.ftcdn.net/v2/jpg/04/31/74/37/1000_F_431743763_in9BVVzCI36X304StR89pnxyUYzj1dwa.jpg'\n",
        "\n",
        "# Display the image\n",
        "Image(url=image_url, width = 575)"
      ],
      "metadata": {
        "id": "TL6T9o9NyP_J"
      },
      "execution_count": null,
      "outputs": []
    },
    {
      "cell_type": "markdown",
      "source": [
        "# **Context**\n",
        "\n",
        "National Invitational Camp (NIC), more commonly known as the NFL Scouting Combine, began in 1982 when National Football Scouting, Inc. first conducted a camp for its member NFL clubs in Tampa, Florida. The key purpose then, same as it is today, was to ascertain medical information on the top draft eligible prospects in college football. The inaugural NIC was attended by a total of 163 players and established a foundation for future expansion.\n",
        "\n",
        "As football and the art of evaluating players has evolved, so has the NFL Scouting Combine. While medical examinations remain the number one priority of the event, athletes will also participate in a variety of psychological and physical tests, as well as, formal and informal interviews with top executives, coaches and scouts from all 32 NFL teams. NIC is the ultimate four day job interview for the top college football players eligible for the upcoming NFL Draft.\n",
        "\n",
        "Attribution: NFLCombine.net\n"
      ],
      "metadata": {
        "id": "XJjnfq1hitm8"
      }
    },
    {
      "cell_type": "markdown",
      "source": [
        "# **About the Dataset**\n",
        "\n",
        "This dataset contains 133 rows corresponding to a random sample of drafted players. A total of 9 variables are provided as listed below:"
      ],
      "metadata": {
        "id": "bQfu7EYxi7Md"
      }
    },
    {
      "cell_type": "markdown",
      "source": [
        "| Variable Name(s)      | Description                            |\n",
        "|:----------------------|:--------------------------------------|\n",
        "| Player                | Player ID, which is the player's name  |\n",
        "| Pos                   | Position the player plays              |\n",
        "| School                | College the player attended            |\n",
        "| Ht                    | Player height (inches)                 |\n",
        "| Wt                    | Player weight (lbs)                    |\n",
        "| 40yd                  | Time to run the 40-yard dash (seconds) |\n",
        "| Vertical              | Vertical jump height (inches)          |\n",
        "| Broad Jump            | Horizontal distance covered (inches) (aka long jump) |\n",
        "| Drafted (tm/rnd/yr)   | Team, round, and year the player was drafted |\n",
        "\n"
      ],
      "metadata": {
        "id": "XusIoTTPjC87"
      }
    },
    {
      "cell_type": "markdown",
      "source": [
        "Let's take a look at the data. To do this, first we import it directly from the url below.\n",
        "\n"
      ],
      "metadata": {
        "id": "E5p5eijdPyej"
      }
    },
    {
      "cell_type": "markdown",
      "source": [
        "# **A Snippet of the Data**"
      ],
      "metadata": {
        "id": "dzjbhJhzktKp"
      }
    },
    {
      "cell_type": "code",
      "source": [
        "# Assigns the URL where the data file is stored to 'file_path'.\n",
        "url='https://raw.githubusercontent.com/thamilton562/STAT108_Projects_Students/main/DataSets/NFLCombine.csv'\n",
        "\n",
        "# Reads in the CSV data file and assigns it to the DataFrame 'df'.\n",
        "df=pd.read_csv(url)"
      ],
      "metadata": {
        "id": "TH9hHi05Rlxt"
      },
      "execution_count": null,
      "outputs": []
    },
    {
      "cell_type": "markdown",
      "source": [
        "Next, we can display the data by *typing the name* of the DataFrame. To ensure we can see all columns, we'll use the *pd.set_option* method."
      ],
      "metadata": {
        "id": "cj8T9vdrimYo"
      }
    },
    {
      "cell_type": "code",
      "source": [
        "# Set display options to show all columns\n",
        "pd.set_option('display.max_columns', None)\n",
        "\n",
        "# When you type the object name, the object gets printed.\n",
        "df"
      ],
      "metadata": {
        "id": "YT5tP1d8pQli"
      },
      "execution_count": null,
      "outputs": []
    },
    {
      "cell_type": "markdown",
      "metadata": {
        "id": "tx98lQoCoDkO"
      },
      "source": [
        "# **INSTRUCTIONS**\n",
        "\n",
        "* Use Python to analyze the data set and complete each of the following.\n",
        "* Replace ellipsis (...) with the relavent names or code.  \n",
        "* For problems that require a written response, replace the ellipsis (...) by double clicking the text box to start typing.\n",
        "* Reference the tutorial from activity for assistance.\n",
        "* If you still need help:\n",
        " * Watch the video.\n",
        " * Attend office hours."
      ]
    },
    {
      "cell_type": "markdown",
      "metadata": {
        "id": "WZAwPtWdJtjB"
      },
      "source": [
        "# **The variable to analyze**\n",
        "You will analyze a category of a qualitative variable. Based on the first initial of your LAST name, analyze the category of the variable listed in the table. Use this category for the entire project.\n",
        "\n",
        "| Last Name | Variable = Category |\n",
        "|-----------|-------------------------------|\n",
        "| A-L       | Position = Linebacker (LB)  |\n",
        "| M-Z       | Position = Wide Receiver (WR)  |"
      ]
    },
    {
      "cell_type": "code",
      "source": [
        "#Print all the category names.\n",
        "#Use this list to ensure correct spelling of your category.\n",
        "\n",
        "# Use the following code for students.\n",
        "print(\"... category names\")                #Replace ... with the variable name written out\n",
        "print(\"--------------------------------\")\n",
        "freq_table = pd.Series(df['...']).value_counts()        #Replace ... with the variable name\n",
        "print(freq_table)\n"
      ],
      "metadata": {
        "id": "IROToDNfZVFw"
      },
      "execution_count": null,
      "outputs": []
    },
    {
      "cell_type": "markdown",
      "metadata": {
        "id": "xkEtDHs70CzZ"
      },
      "source": [
        "# **QUESTION 1**\n",
        "## Confidence Interval\n",
        "\n",
        "**Last Names A-L:** Construct and interpret the 89% confidence interval for the population proportion of players at the combine who are linebackers.\n",
        "\n",
        "**Last Names M-Z:** Construct and interpret the 89% confidence interval for the population proportion of players at the combine who are wide receivers.\n",
        "\n"
      ]
    },
    {
      "cell_type": "markdown",
      "source": [
        "**1.1) Parameter: Define the parameter, using correct notation.**\n",
        "\n",
        "..."
      ],
      "metadata": {
        "id": "bIpoT0p6JdEb"
      }
    },
    {
      "cell_type": "markdown",
      "source": [
        "**1.2) Method: Name the method you will use.**\n",
        "\n",
        "..."
      ],
      "metadata": {
        "id": "G7uPLMIlJt2Z"
      }
    },
    {
      "cell_type": "markdown",
      "source": [
        "**1.3) Assumptions:**\n",
        "\n",
        "Complete the code below to find out how many majors fall under the category assigned to you."
      ],
      "metadata": {
        "id": "BQS1aneYKJew"
      }
    },
    {
      "cell_type": "code",
      "source": [
        "# Count total observations\n",
        "n = len(df)\n",
        "\n",
        "#Use this code for students\n",
        "# Count total successes\n",
        "# Replace the 1st ... with the variable name\n",
        "# Replace the 2nd ... with the name of the NCHS Urbanization category to be analyzed\n",
        "obs_count = df['...'].value_counts().get('...')\n",
        "print(f\"{obs_count} out of {n} counties are classified as ... .\") #Replace ... with your category name.\n",
        "\n"
      ],
      "metadata": {
        "id": "zImrVJ_XN-LB"
      },
      "execution_count": null,
      "outputs": []
    },
    {
      "cell_type": "markdown",
      "source": [
        "**Show that both assumptions are met.**\n",
        "\n",
        "1. We will assume the sample represents the population (representative sample).\n",
        "\n",
        "2. ...\n",
        "\n",
        "   ...\n",
        "\n",
        "   The sampling distribution of p̂ is ..."
      ],
      "metadata": {
        "id": "E-r2PPtVRSZ9"
      }
    },
    {
      "cell_type": "markdown",
      "source": [
        "**1.4) Calculate: Complete the code below to calculate the sample proportion of majors that fall under the engineering category, and the confidence interval.**"
      ],
      "metadata": {
        "id": "EE0D9ba8KXO5"
      }
    },
    {
      "cell_type": "code",
      "source": [
        "# Define the confidence level\n",
        "# Replace the ... with the stated confidence level, as a decimal (ex: 0.83, not 83%)\n",
        "CL = ...\n",
        "\n",
        "#Use this code for the student version\n",
        "p_hat = obs_count / n\n",
        "cv = norm.ppf((1+CL)/2)\n",
        "se = np.sqrt(p_hat * (1-p_hat) / n)\n",
        "\n",
        "#Calculate the bounds of the interval\n",
        "ci_lower = (p_hat - cv * se)\n",
        "ci_upper = (p_hat + cv * se)\n",
        "\n",
        "print(f\"p-hat = {obs_count}/{n} = {p_hat.round(5)}\")\n",
        "print(f\"The {CL*100}% CI is ({ci_lower.round(5)}, {ci_upper.round(5)})\")\n"
      ],
      "metadata": {
        "id": "P4qIa7po3Sms"
      },
      "execution_count": null,
      "outputs": []
    },
    {
      "cell_type": "markdown",
      "source": [
        "**1.5) Communicate Results: Interpret the confidence interval calculated in 1.4 above. Round to three (3) decimal places.**\n",
        "\n",
        "..."
      ],
      "metadata": {
        "id": "xZuraSxHLLMV"
      }
    },
    {
      "cell_type": "markdown",
      "source": [
        "**1.6) Show work to calculate the margin of error. Then interpret the margin of error.**\n",
        "\n",
        "**A-L:**\n",
        "**Calculation:**\n",
        "\n",
        "ME = ...\n",
        "\n",
        "**Interpretation:**\n",
        "\n",
        "...\n",
        "\n",
        "\n"
      ],
      "metadata": {
        "id": "KzkMLURiUqWS"
      }
    },
    {
      "cell_type": "markdown",
      "source": [
        "# **Question 2**\n",
        "\n",
        "## **Hypothesis Test**\n",
        "\n",
        "**A-L:** Is there convincing evidence that the population proportion of players at the combined who are linebackers is different from 10% (0.10)? Use α=0.11. Write up the solution using the PMACC procedure.\n",
        "\n",
        "**M-Z:** Is there convincing evidence that the population proportion of players at the combined who are wide receivers is different from 25% (0.25)? Use α=0.11. Write up the solution using the PMACC procedure."
      ],
      "metadata": {
        "id": "0sgRaln9V2yR"
      }
    },
    {
      "cell_type": "markdown",
      "source": [
        "**2.1) Parameter: Define the parameter, using correct notation.**\n",
        "\n",
        "..."
      ],
      "metadata": {
        "id": "4N-xzGtyLO9i"
      }
    },
    {
      "cell_type": "markdown",
      "source": [
        "**2.2) Method: Name the method you will use, and write the hypotheses.**\n",
        "\n",
        "**Method name:**\n",
        "\n",
        "...\n",
        "\n",
        "**Hypotheses:**\n",
        "\n",
        "H0: ...\n",
        "\n",
        "H1: ..."
      ],
      "metadata": {
        "id": "0e1MD45JXTMm"
      }
    },
    {
      "cell_type": "markdown",
      "source": [
        "**2.3) Assumptions: Show that both assumptions are met. Do not round.**\n",
        "\n",
        "1. We will assume the sample represents the population (representative sample).\n",
        "\n",
        "2. ...\n",
        "\n",
        "   ...\n",
        "\n",
        "   The sampling distribution of p̂ is ..."
      ],
      "metadata": {
        "id": "IfpbjvE4XTMm"
      }
    },
    {
      "cell_type": "markdown",
      "source": [
        "**2.4) Calculate: Complete the code below to calculate the values required.**"
      ],
      "metadata": {
        "id": "G6PVsDXiXTMn"
      }
    },
    {
      "cell_type": "code",
      "source": [
        "#Define P0, the value in H0.\n",
        "#Replace ... with p0.\n",
        "p_0 = ...\n",
        "\n",
        "#Use this code for the student version\n",
        "#Calculate the values needed; p-hat, and standard error (se).\n",
        "p_hat = obs_count / n\n",
        "se = np.sqrt(p_0 * (1-p_0) / n)\n",
        "\n",
        "#Calculate the z-score of our p-hat, under the assumption H0 is true.\n",
        "z_score = (p_hat - p_0) / se\n",
        "\n",
        "#Calculate the p-value for 1- and 2-sided tests\n",
        "p_value1 = (1 - norm.cdf(abs(z_score)))\n",
        "p_value2 = 2 * p_value1\n",
        "\n",
        "print(f\"p-hat =  {obs_count}/{n} = {p_hat.round(7)}\")\n",
        "print(f\"z-score = {z_score.round(7)}\")\n",
        "print(f\"1 sided p-value = {p_value1:.11f}\")\n",
        "print(f\"2 sided p-value = {p_value2:.11f}\")\n"
      ],
      "metadata": {
        "id": "O3ImyhXvXTMn"
      },
      "execution_count": null,
      "outputs": []
    },
    {
      "cell_type": "markdown",
      "source": [
        "**2.5) Communicate Results: What conclusion is made about the null hypothesis? And what does that mean about the alternate hypothesis?**\n",
        "\n",
        "..."
      ],
      "metadata": {
        "id": "uFJgP0tiXTMn"
      }
    },
    {
      "cell_type": "markdown",
      "source": [
        "# **Question 3**\n",
        "\n",
        "## **Do you make the same conclusion if you use the confidence interval?**\n",
        "\n",
        "**In question 2 you concluded that we either do have or do not have convincing evidence for the alternate hypothesis. Using your confidence interval from question 1, do you reach the same conclusion?**\n",
        "\n",
        "..."
      ],
      "metadata": {
        "id": "E0PJFv1ac8m6"
      }
    },
    {
      "cell_type": "markdown",
      "source": [
        "# **QUESTION 4**\n",
        "\n",
        "Generate a paragraph of at least 100 words to address one of the following questions. That is, answer only 4a or 4b, but not both.\n",
        "\n",
        "**4a)** Discuss how analyzing your chosen data set using statistical methods could help you become better prepared for future courses in your major?\n",
        "\n",
        "...\n",
        "\n",
        "--OR--\n",
        "\n",
        "**4b)** Discuss how analyzing your chosen data set using statistical methods could be instrumental in becoming better prepared for your future career?\n",
        "\n",
        "...\n"
      ],
      "metadata": {
        "id": "A4rsfgbp6r6H"
      }
    },
    {
      "cell_type": "markdown",
      "source": [
        "<br><br>\n",
        "### Once you are done and ready to submit, follow the instructions below to save as a PDF and submit to GradeScope.\n",
        "\n",
        "### Save as PDF\n",
        "Note 1: You do not have to select Print Preview. You can print directly from the notebook.\n",
        "Note 2: Image and graph sizes have been set so you should be able to see them correctly without making any changes to the browser width or the layout (portrait vs landscape).\n",
        "1. Run all code one last time and make sure your graphs can be seen.\n",
        "2. File -> Print (or ctrl-p/cmnd-p)\n",
        "3. Change the \"Desination\" to PDF.\n",
        "4. Save the PDF, taking note of where it is saved.\n",
        "\n",
        "### Submit to GradeScope\n",
        "**Watch the \"GradeScope Submission\" video for help.**\n",
        "1. Login to the Canvas course\n",
        "2. Click on GradeScope in the course navigation.\n",
        "3. If you see multiple courses in GradeScope, click on the STAT 108 course\n",
        "4. Click on the name of the assignment that matches your data set\n",
        "5. Click on \"Submit Work\", select PDF\n",
        "6. Select the PDF you just created\n",
        "7. You need to tell GradeScope which page each problem answer/output is on. You should see a list of problems on the left, and a display of pages (thumbnails) on the right. Assign pages to questions by clicking on the question number on the left, then clicking on all pages that question is on.\n",
        "8. After ALL questions have been assigned to their respective page(s), click \"Submit\"\n",
        "\n",
        "#### **Still need help? Your STAT 108 team is here to help. Take your laptop to office hours.**\n"
      ],
      "metadata": {
        "id": "KHSYrvqh66V6"
      }
    }
  ]
}