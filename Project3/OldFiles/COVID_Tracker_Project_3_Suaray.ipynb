{
  "nbformat": 4,
  "nbformat_minor": 0,
  "metadata": {
    "colab": {
      "provenance": []
    },
    "kernelspec": {
      "name": "python3",
      "display_name": "Python 3"
    },
    "language_info": {
      "name": "python"
    }
  },
  "cells": [
    {
      "cell_type": "markdown",
      "source": [
        "# **COVID Tracker - Project 3**\n",
        "## Inference for the Population Proportion"
      ],
      "metadata": {
        "id": "WOWuLyetinsJ"
      }
    },
    {
      "cell_type": "markdown",
      "source": [
        "# **Importing Necessary Python Modules**\n",
        "\n",
        "Python incorporates a variety of open source add-ins called **modules** that add extra features to the basic setup. The name of the modules is after the `import` or `from` statement, and the purpose is in a non-code comment after the hashtag (#).\n",
        "\n"
      ],
      "metadata": {
        "id": "AxPB-FE5lQIX"
      }
    },
    {
      "cell_type": "code",
      "source": [
        "import pandas as pd                 #Data analysis\n",
        "import numpy as np                  #Calculations\n",
        "from IPython.display import Image   #Display images\n",
        "from scipy.stats import norm        #Confidence Interval"
      ],
      "metadata": {
        "id": "DIbfBAiwmTlf"
      },
      "execution_count": null,
      "outputs": []
    },
    {
      "cell_type": "code",
      "source": [
        "# Assigns the URL of the image to display to the name 'image_url'.\n",
        "image_url = 'https://cdn.who.int/media/images/default-source/mca/mca-covid-19/coronavirus-2.tmb-1920v.jpg?sfvrsn=4dba955c_19'\n",
        "\n",
        "# Display the image\n",
        "Image(url=image_url, width=500)"
      ],
      "metadata": {
        "id": "TL6T9o9NyP_J"
      },
      "execution_count": null,
      "outputs": []
    },
    {
      "cell_type": "markdown",
      "source": [
        "# **Context**\n",
        "\n",
        "When reporting about COVID-19, the Associated Press (AP) used data collected by the Johns Hopkins University Center for Systems Science and Engineering as a source for outbreak caseloads and death counts for the United States and globally.\n",
        "\n",
        "The Johns Hopkins data is available at the county level in the United States. The AP has paired this data with population figures and county rural/urban designations, and has calculated caseload and death rates per 100,000 people. Be aware that caseloads may reflect the availability of tests - and the ability to turn around test results quickly -- rather than actual disease spread or true infection rates.\n",
        "\n",
        "The data you will be analyzing is from the Johns Hopkins dashboard (link below) that is updated throughout the day. Like all organizations dealing with data, Johns Hopkins is constantly refining and cleaning up their data feed, so there may be brief moments where data does not appear correctly. You can find the Johns Hopkins daily data reports at https://github.com/CSSEGISandData/COVID-19/tree/master/csse_covid_19_data.\n",
        "\n",
        "The AP updates their dataset hourly at 45 minutes past the hour.\n",
        "To learn more about AP's data journalism capabilities for publishers, corporations and financial institutions, visit https://www.ap.org/content/formats/data/.\n",
        "\n",
        "Attribution: Johns Hopkins University COVID-19 tracking project\n",
        "* Dashboard: https://www.arcgis.com/apps/dashboards/bda7594740fd40299423467b48e9ecf6\n",
        "\n",
        "\n",
        "\n"
      ],
      "metadata": {
        "id": "XJjnfq1hitm8"
      }
    },
    {
      "cell_type": "markdown",
      "source": [
        "# **About the Dataset**\n",
        "\n",
        "This dataset contains 133 rows corresponding to a random sample of drafted players. A total of 9 variables are provided as listed below:"
      ],
      "metadata": {
        "id": "bQfu7EYxi7Md"
      }
    },
    {
      "cell_type": "markdown",
      "source": [
        "| Variable Name(s)      | Description                             |\n",
        "|:----------------------|:----------------------------------------|\n",
        "| county_name           | Name of the county                      |\n",
        "| state                 | State in which the count is located     |\n",
        "| nchs_urbanization     | Urban-Rural category                    |\n",
        "| total_population      | County population size                  |\n",
        "| confirmed             | Number of confirmed cases in the county |\n",
        "| confirmed_per_100000  | Population adjusted confirmed COVID-19 cases per 100000 people |\n",
        "| deaths                | Number of deaths in county due to COVID-19 |\n",
        "| deaths_per_100000     | Population adjusted COVID-19 deaths per 100000 people |\n",
        "\n",
        "* For more information about nchs_urbanization, visit https://www.cdc.gov/nchs/data/series/sr_02/sr02_166.pdf\n",
        "* Note on \"population adjusted\": Is 1500 a lot of cases? It is certainly more significant in a population of 1500 people than in a population of 10 million people. One way to compare populations of different sizes is to calculate the rate \"as if\" there were only 100,000 people. Do that adjustment for all populations you want to compare. In class we learned to use relative frequency when comparing groups of different sizes. The population adjusted method is another way to do that.\n",
        "\n"
      ],
      "metadata": {
        "id": "XusIoTTPjC87"
      }
    },
    {
      "cell_type": "markdown",
      "source": [
        "Let's take a look at the data. To do this, first we import it directly from the url below.\n",
        "\n"
      ],
      "metadata": {
        "id": "E5p5eijdPyej"
      }
    },
    {
      "cell_type": "markdown",
      "source": [
        "# **A Snippet of the Data**"
      ],
      "metadata": {
        "id": "dzjbhJhzktKp"
      }
    },
    {
      "cell_type": "markdown",
      "metadata": {
        "id": "C7rwsCbWcrXi"
      },
      "source": [
        "Let's take a look at the data. To do this, first we import it directly from the url."
      ]
    },
    {
      "cell_type": "code",
      "source": [
        "# Assigns the URL where the data file is stored to 'file_path'.\n",
        "url='https://raw.githubusercontent.com/thamilton562/STAT108_Projects_Students/main/DataSets/COVID%20Cases.csv'\n",
        "\n",
        "# Reads in the CSV data file and assigns it to the DataFrame 'df'.\n",
        "df=pd.read_csv(url)"
      ],
      "metadata": {
        "id": "TH9hHi05Rlxt"
      },
      "execution_count": null,
      "outputs": []
    },
    {
      "cell_type": "markdown",
      "source": [
        "Next, we can display the data by *typing the name* of the DataFrame. To ensure we can see all columns, we'll use the *pd.set_option* method."
      ],
      "metadata": {
        "id": "cj8T9vdrimYo"
      }
    },
    {
      "cell_type": "code",
      "source": [
        "# Set display options to show all columns\n",
        "pd.set_option('display.max_columns', None)\n",
        "\n",
        "# When you type the object name, the object gets printed.\n",
        "df"
      ],
      "metadata": {
        "id": "YT5tP1d8pQli"
      },
      "execution_count": null,
      "outputs": []
    },
    {
      "cell_type": "markdown",
      "source": [
        "# **INSTRUCTIONS**\n",
        "\n",
        "* Use Python to analyze the data set and complete each of the following.\n",
        "* Replace ellipsis (...) with the relavent names or code.  \n",
        "* For problems that require a written response, replace the ellipsis (...) by double clicking the text box to start typing.\n",
        "* Reference the tutorial from activity for assistance.\n",
        "* If you still need help:\n",
        " * Watch the video.\n",
        " * Attend office hours."
      ],
      "metadata": {
        "id": "VEm2KmlyzJGY"
      }
    },
    {
      "cell_type": "markdown",
      "metadata": {
        "id": "WZAwPtWdJtjB"
      },
      "source": [
        "# **The variable to analyze**\n",
        "You will analyze a category of NCHS Urbanization. Based on the first initial of your LAST name, analyze the category of the variable listed in the table. Use this category for the entire project.\n",
        "\n",
        "| Last Name | Variable |\n",
        "|-----------|-------------------------------|\n",
        "| A-L       | NCHS Urbanization = Large Fringe Metro |\n",
        "| M-Z       | NCHS Urbanization = Non-Core |"
      ]
    },
    {
      "cell_type": "code",
      "source": [
        "#Print all the category names.\n",
        "#Use this list to ensure correct spelling of your category.\n",
        "\n",
        "# Use the following code for students.\n",
        "print(\"... category names\")                #Replace ... with the variable name written out\n",
        "print(\"--------------------------------\")\n",
        "freq_table = pd.Series(df['...']).value_counts()        #Replace ... with the variable name\n",
        "print(freq_table)\n"
      ],
      "metadata": {
        "id": "IROToDNfZVFw"
      },
      "execution_count": null,
      "outputs": []
    },
    {
      "cell_type": "markdown",
      "metadata": {
        "id": "xkEtDHs70CzZ"
      },
      "source": [
        "# **QUESTION 1**\n",
        "## Confidence Interval\n",
        "\n",
        "Construct and interpret the 98% confidence interval for the population proportion of counties classified as (your assigned category). Write up the solution using the PMACC procedure.\n",
        "\n",
        "**Last Names A-L**, construct and interpret the 98% confidence interval for the population proportion of counties classified as large fringe metro.\n",
        "\n",
        "**Last Names M-Z**, construct and interpret the 98% confidence interval for the population proportion of counties classified as non-core."
      ]
    },
    {
      "cell_type": "markdown",
      "source": [
        "**1.1) Parameter: Define the parameter, using correct notation.**\n",
        "\n",
        "..."
      ],
      "metadata": {
        "id": "bIpoT0p6JdEb"
      }
    },
    {
      "cell_type": "markdown",
      "source": [
        "**1.2) Method: Name the method you will use.**\n",
        "\n",
        "**ALL LAST NAMES**\n",
        "\n",
        "..."
      ],
      "metadata": {
        "id": "G7uPLMIlJt2Z"
      }
    },
    {
      "cell_type": "markdown",
      "source": [
        "**1.3) Assumptions:**\n",
        "\n",
        "Complete the code below to find out how many counties fall under the category assigned to you."
      ],
      "metadata": {
        "id": "BQS1aneYKJew"
      }
    },
    {
      "cell_type": "code",
      "source": [
        "# Count total observations\n",
        "n = len(df)\n",
        "\n",
        "#Use this code for students\n",
        "# Count total successes\n",
        "# Replace the 1st ... with the variable name\n",
        "# Replace the 2nd ... with the name of the NCHS Urbanization category to be analyzed\n",
        "obs_count = df['...'].value_counts().get('...')\n",
        "print(f\"{obs_count} out of {n} counties are classified as ... .\") #Replace ... with your category name.\n",
        "\n"
      ],
      "metadata": {
        "id": "zImrVJ_XN-LB"
      },
      "execution_count": null,
      "outputs": []
    },
    {
      "cell_type": "markdown",
      "source": [
        "**Show that both assumptions are met.**\n",
        "\n",
        "1. We will assume the sample represents the population (representative sample).\n",
        "\n",
        "2. ...\n",
        "\n",
        "   ...\n",
        "\n",
        "   The sampling distribution of p̂ is ...\n",
        "\n",
        "\n"
      ],
      "metadata": {
        "id": "E-r2PPtVRSZ9"
      }
    },
    {
      "cell_type": "markdown",
      "source": [
        "**1.4) Calculate: Complete the code below to calculate the sample proportion of majors that fall under the engineering category, and the confidence interval.**"
      ],
      "metadata": {
        "id": "EE0D9ba8KXO5"
      }
    },
    {
      "cell_type": "code",
      "source": [
        "# Define the confidence level\n",
        "# Replace the ... with the stated confidence level, as a decimal (ex: 0.83, not 83%)\n",
        "CL = ...\n",
        "\n",
        "#Use this code for the student version\n",
        "p_hat = obs_count / n\n",
        "cv = norm.ppf((1+CL)/2)\n",
        "se = np.sqrt(p_hat * (1-p_hat) / n)\n",
        "\n",
        "#Calculate the bounds of the interval\n",
        "ci_lower = (p_hat - cv * se)\n",
        "ci_upper = (p_hat + cv * se)\n",
        "\n",
        "print(f\"p-hat = {obs_count}/{n} = {p_hat.round(5)}\")\n",
        "print(f\"The {CL*100}% CI is ({ci_lower.round(5)}, {ci_upper.round(5)})\")\n"
      ],
      "metadata": {
        "id": "P4qIa7po3Sms"
      },
      "execution_count": null,
      "outputs": []
    },
    {
      "cell_type": "markdown",
      "source": [
        "**1.5) Communicate Results: Interpret the confidence interval calculated in 1.4 above. Round to three (3) decimal places.**\n",
        "\n",
        " ..."
      ],
      "metadata": {
        "id": "xZuraSxHLLMV"
      }
    },
    {
      "cell_type": "markdown",
      "source": [
        "**1.6) Show work to calculate the margin of error. Then interpret the margin of error.**\n",
        "\n",
        "\n",
        "**Calculation:**\n",
        "\n",
        "ME = ...\n",
        "\n",
        "**Interpretation:**\n",
        "\n",
        "...\n"
      ],
      "metadata": {
        "id": "KzkMLURiUqWS"
      }
    },
    {
      "cell_type": "markdown",
      "source": [
        "# **Question 2**\n",
        "\n",
        "## **Hypothesis Test**\n",
        "\n",
        "**Last Names A-L:** There are 6 NCHS Urbanization categories. Based on this data set, is there convincing evidence that the population proportion of counties classified as large fringe metro is different from 1/6? Use α=0.02. Write up the solution using the PMACC procedure. NOTE: Use 1/6, not the decimal approximation.\n",
        "\n",
        "**Last Names M-Z:** There are 6 NCHS Urbanization categories. Based on this data set, is there convincing evidence that the population proportion of counties classified as non-core is different from 1/6? Use α=0.02. Write up the solution using the PMACC procedure. NOTE: Use 1/6, not the decimal approximation."
      ],
      "metadata": {
        "id": "0sgRaln9V2yR"
      }
    },
    {
      "cell_type": "markdown",
      "source": [
        "**2.1) Parameter: Define the parameter, using correct notation.**\n",
        "\n",
        "..."
      ],
      "metadata": {
        "id": "u0fDY6xym2DS"
      }
    },
    {
      "cell_type": "markdown",
      "source": [
        "**2.2) Method: Name the method you will use, and write the hypotheses.**\n",
        "\n",
        "**-----ALL last names-----**\n",
        "\n",
        "**Method name:**\n",
        "\n",
        "...\n",
        "\n",
        "**Hypotheses:**\n",
        "\n",
        "H0: ...\n",
        "\n",
        "H1: ..."
      ],
      "metadata": {
        "id": "0e1MD45JXTMm"
      }
    },
    {
      "cell_type": "markdown",
      "source": [
        "**2.3) Assumptions: Show that both assumptions are met. Round to 1 decimal place.**\n",
        "\n",
        "1. We will assume the sample represents the population (representative sample).\n",
        "\n",
        "2. ...\n",
        "\n",
        "   ...\n",
        "\n",
        "   The sampling distribution of p̂ is ...\n"
      ],
      "metadata": {
        "id": "IfpbjvE4XTMm"
      }
    },
    {
      "cell_type": "markdown",
      "source": [
        "**2.4) Calculate: Complete the code below to calculate the values required.**"
      ],
      "metadata": {
        "id": "G6PVsDXiXTMn"
      }
    },
    {
      "cell_type": "code",
      "source": [
        "#Define P0, the value in H0.\n",
        "#Replace ... with p0.\n",
        "p_0 = ...\n",
        "\n",
        "#Use this code for the student version\n",
        "#Calculate the values needed; p-hat, and standard error (se).\n",
        "p_hat = obs_count / n\n",
        "se = np.sqrt(p_0 * (1-p_0) / n)\n",
        "\n",
        "#Calculate the z-score of our p-hat, under the assumption H0 is true.\n",
        "z_score = (p_hat - p_0) / se\n",
        "\n",
        "#Calculate the p-value for 1- and 2-sided tests\n",
        "p_value1 = (1 - norm.cdf(abs(z_score)))\n",
        "p_value2 = 2 * p_value1\n",
        "\n",
        "print(f\"p-hat =  {obs_count}/{n} = {p_hat.round(7)}\")\n",
        "print(f\"z-score = {z_score.round(7)}\")\n",
        "print(f\"1 sided p-value = {p_value1:.11f}\")\n",
        "print(f\"2 sided p-value = {p_value2:.11f}\")\n"
      ],
      "metadata": {
        "id": "O3ImyhXvXTMn"
      },
      "execution_count": null,
      "outputs": []
    },
    {
      "cell_type": "markdown",
      "source": [
        "**2.5) Communicate Results: What conclusion is made about the null hypothesis? And what does that mean about the alternate hypothesis?**\n",
        "\n",
        "..."
      ],
      "metadata": {
        "id": "uFJgP0tiXTMn"
      }
    },
    {
      "cell_type": "markdown",
      "source": [
        "# **Question 3**\n",
        "\n",
        "## **Do you make the same conclusion if you use the confidence interval?**\n",
        "\n",
        "**In question 2 you concluded that we either do have or do not have convincing evidence for the alternate hypothesis. Using your confidence interval from question 1, do you reach the same conclusion?**\n",
        "\n",
        "..."
      ],
      "metadata": {
        "id": "E0PJFv1ac8m6"
      }
    },
    {
      "cell_type": "markdown",
      "source": [
        "# **QUESTION 4**\n",
        "\n",
        "Generate a paragraph of at least 100 words to address one of the following questions. That is, answer only 4a or 4b, but not both.\n",
        "\n",
        "**4a)** Discuss how analyzing your chosen data set using statistical methods could help you become better prepared for future courses in your major?\n",
        "\n",
        "...\n",
        "\n",
        "--OR--\n",
        "\n",
        "**4b)** Discuss how analyzing your chosen data set using statistical methods could be instrumental in becoming better prepared for your future career?\n",
        "\n",
        "...\n"
      ],
      "metadata": {
        "id": "A4rsfgbp6r6H"
      }
    },
    {
      "cell_type": "markdown",
      "source": [
        "<br><br>\n",
        "### Once you are done and ready to submit, follow the instructions below to save as a PDF and submit to GradeScope.\n",
        "\n",
        "### Save as PDF\n",
        "Note 1: You do not have to select Print Preview. You can print directly from the notebook.\n",
        "Note 2: Image and graph sizes have been set so you should be able to see them correctly without making any changes to the browser width or the layout (portrait vs landscape).\n",
        "1. Run all code one last time and make sure your graphs can be seen.\n",
        "2. File -> Print (or ctrl-p/cmnd-p)\n",
        "3. Change the \"Desination\" to PDF.\n",
        "4. Save the PDF, taking note of where it is saved.\n",
        "\n",
        "### Submit to GradeScope\n",
        "**Watch the \"GradeScope Submission\" video for help.**\n",
        "1. Login to the Canvas course\n",
        "2. Click on GradeScope in the course navigation.\n",
        "3. If you see multiple courses in GradeScope, click on the STAT 108 course\n",
        "4. Click on the name of the assignment that matches your data set\n",
        "5. Click on \"Submit Work\", select PDF\n",
        "6. Select the PDF you just created\n",
        "7. You need to tell GradeScope which page each problem answer/output is on. You should see a list of problems on the left, and a display of pages (thumbnails) on the right. Assign pages to questions by clicking on the question number on the left, then clicking on all pages that question is on.\n",
        "8. After ALL questions have been assigned to their respective page(s), click \"Submit\"\n",
        "\n",
        "#### **Still need help? Your STAT 108 team is here to help. Take your laptop to office hours.**\n"
      ],
      "metadata": {
        "id": "KHSYrvqh66V6"
      }
    }
  ]
}