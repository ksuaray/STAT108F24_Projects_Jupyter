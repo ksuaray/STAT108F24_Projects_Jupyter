{
  "nbformat": 4,
  "nbformat_minor": 0,
  "metadata": {
    "colab": {
      "provenance": []
    },
    "kernelspec": {
      "name": "python3",
      "display_name": "Python 3"
    },
    "language_info": {
      "name": "python"
    }
  },
  "cells": [
    {
      "cell_type": "markdown",
      "metadata": {
        "id": "8t9m29KtoK2q"
      },
      "source": [
        "# **Heart Disease - Project 3**\n",
        "## Inference for the Population Proportion"
      ]
    },
    {
      "cell_type": "markdown",
      "metadata": {
        "id": "y3rfDZf7oK21"
      },
      "source": [
        "# **Importing Necessary Python Modules**\n",
        "\n",
        "Python incorporates a variety of open source add-ins called modules that add extra features to the basic setup. The name of the modules is after the import or from statement, and the purpose is in a non-code comment after the hashtag (#).\n",
        "\n"
      ]
    },
    {
      "cell_type": "code",
      "execution_count": null,
      "metadata": {
        "id": "C6AjYFB6oK21"
      },
      "outputs": [],
      "source": [
        "import pandas as pd                 #Data analysis\n",
        "import numpy as np                  #Calculations\n",
        "from IPython.display import Image   #Display images\n",
        "from scipy.stats import norm        #Confidence Interval"
      ]
    },
    {
      "cell_type": "code",
      "execution_count": null,
      "metadata": {
        "id": "x8eG3KAloDkL"
      },
      "outputs": [],
      "source": [
        "# Assigns the URL of the image to display to the name 'image_url'.\n",
        "image_url = 'https://my.clevelandclinic.org/-/scassets/images/org/health/articles/24129-heart-disease-illustration'\n",
        "\n",
        "# Display the image\n",
        "Image(url=image_url, width = 500)"
      ]
    },
    {
      "cell_type": "markdown",
      "metadata": {
        "id": "IzheJhAUoDkM"
      },
      "source": [
        "# **Context**\n",
        "\n",
        "Coronary heart disease (CHD), also referred to as coronary artery disease (CAD) involves the reduction of blood flow to the heart muscle due to the build-up of plaque in the arteries of the heart. It is the most common form of cardiovascular disease. Currently, invasive coronary angiography represents the gold standard for establishing the presence, location, and severity of CHD. However, this diagnostic method is costly and associated with morbidity (count of people with the disease) and mortality (count of deaths) in CHD patients. Therefore, it would be beneficial to develop a non-invasive alternative to replace the current gold standard.\n",
        "\n",
        "Other less invasive diagnostics methods have been proposed in the scientific literature including exercise electrocardiogram, thallium scintigraphy, and fluoroscopy of coronary calcification. However, the diagnostic accuracy of these tests only ranges between 35%-75%. Therefore, it would be beneficial to develop a computer-aided diagnostic tool that could utilize the combined results of these non-invasive tests in conjunction with other patient attributes to boost the diagnostic power of these non-invasive methods with the aim of ultimately replacing the current invasive gold standard.\n",
        "\n",
        "Three hundred three (303) consecutive patients referred for coronary angiography at the Cleveland Clinic between May 1981 and September 1984 participated in the experiment. No patient had a history of or electrocardiographic evidence of prior myocardial infarction or known valvular or cardiomyopathic diseases.\n"
      ]
    },
    {
      "cell_type": "markdown",
      "metadata": {
        "id": "kKarTZ9boDkN"
      },
      "source": [
        "# **About the Dataset**\n",
        "\n",
        "The dataset comprises 303 observations, 13 features, and 1 target attribute. A feature is a variable that is believed to contribute to CHD, and is also referred to as a predictive variable. A target variable is the variable you want to predict (CHD, in this situation). The 13 features include the results of the aforementioned non-invasive diagnostic tests along with other relevant patient information. The target variable includes the result of the invasive coronary angiogram which represents the presence or absence of coronary heart disease in the patient. The 14 variables (13 features and 1 target attribute) are described below."
      ]
    },
    {
      "cell_type": "markdown",
      "metadata": {
        "id": "uVZZLV3EoDkN"
      },
      "source": [
        "| **Variable**| **Description**                                          |\n",
        "|:------------|:---------------------------------------------------------|\n",
        "| AGE         | The age of the individual.                               |\n",
        "| SEX         | Gender of the individual: 0 = female, 1 = male.          |\n",
        "| CP          | The type of chest pain experienced by the individual:    |\n",
        "|             | * 0 = typical angina                                     |\n",
        "|             | * 1 = atypical angina                                    |\n",
        "|             | * 2 = non-anginal pain                                   |\n",
        "|             | * 3 = asymptomatic                                         |\n",
        "| TRESTBPS    | Resting blood pressure of an individual (mmHg)           |\n",
        "| CHOL        | Serum cholesterol in mg/dL  |\n",
        "| FBS         | Compares the fasting blood sugar value with 120mg/dL:    |\n",
        "|             | * 0: fasting blood sugar ≤ 120mg/dL                      |\n",
        "|             | * 1: fasting blood sugar >120mg/dL                       |\n",
        "| RESTECG     | Resting electrocardiographic results:                    |\n",
        "|             | * 0 = normal                                             |\n",
        "|             | * 1 = having ST-T wave abnormality                       |\n",
        "|             | * 2 = left ventricular hypertrophy                       |\n",
        "| THALACH     | Max heart rate achieved, in beats per minute (bpm)       |\n",
        "| EXANG       | Exercise-induced angina:                                 |\n",
        "|             | * 0 = No                                                 |\n",
        "|             | * 1 = Yes                                                |\n",
        "| OLDPEAK     | ST depression (mm) induced by exercise relative to rest. |\n",
        "| SLOPE       | Peak exercise ST segment:                                |\n",
        "|             | * 1 = upsloping                                          |\n",
        "|             | * 2 = flat                                               |\n",
        "|             | * 3 = downsloping                                        |\n",
        "| CA          | Number of major vessels (0-3) colored by fluoroscopy.    |\n",
        "| THAL        | Thalassemia:                                             |\n",
        "|             | * 1 = normal                                             |\n",
        "|             | * 2 = fixed defect                                       |\n",
        "|             | * 3 = reversible defect                                  |\n",
        "| TARGET      | Whether the individual is suffering from heart disease:  |\n",
        "|             | * 0 = absence                                            |\n",
        "|             | * 1 = present                                            |\n",
        "\n"
      ]
    },
    {
      "cell_type": "markdown",
      "metadata": {
        "id": "2La43aJ7oDkN"
      },
      "source": [
        "Let's take a look at the data. To do this, first we import it directly from the url below.\n",
        "\n"
      ]
    },
    {
      "cell_type": "markdown",
      "metadata": {
        "id": "QjHxSJDsoDkN"
      },
      "source": [
        "# **A Snippet of the Data**"
      ]
    },
    {
      "cell_type": "markdown",
      "metadata": {
        "id": "C7rwsCbWcrXi"
      },
      "source": [
        "Let's take a look at the data. To do this, first we import it directly from the url."
      ]
    },
    {
      "cell_type": "code",
      "execution_count": null,
      "metadata": {
        "id": "IdmZLxbroDkN"
      },
      "outputs": [],
      "source": [
        "# Assigns the URL where the data file is stored to 'file_path'.\n",
        "url='https://raw.githubusercontent.com/ksuaray/STAT108F24_Projects_Jupyter/main/ProjectDataSets/heart.csv'\n",
        "\n",
        "# Reads in the CSV data file and assigns it to the DataFrame 'df'.\n",
        "df=pd.read_csv(url)"
      ]
    },
    {
      "cell_type": "markdown",
      "metadata": {
        "id": "YYfjOebGoDkN"
      },
      "source": [
        "Next, we can display the data by *typing the name* of the DataFrame. To ensure we can see all columns, we'll use the *pd.set_option* method."
      ]
    },
    {
      "cell_type": "code",
      "source": [
        "# The variables restecg and cp are categorical variables that were coded\n",
        "# numerically. Convert both to categorical variables.\n",
        "\n",
        "df['restecg'] = df['restecg'].astype('category')\n",
        "df['restecg'] = df['restecg'].cat.rename_categories({\n",
        "    0: 'Normal',\n",
        "    1: 'ST-T wave abnormality',\n",
        "    2: 'Left ventricular hypertrophy'\n",
        "})\n",
        "\n",
        "df['cp'] = df['cp'].astype('category')\n",
        "df['cp'] = df['cp'].cat.rename_categories({\n",
        "    0: 'Typical angina',\n",
        "    1: 'Atypical angina',\n",
        "    2: 'Non-anginal pain',\n",
        "    3: 'Asymptomatic'\n",
        "})"
      ],
      "metadata": {
        "id": "GurQzkXjCpHD"
      },
      "execution_count": null,
      "outputs": []
    },
    {
      "cell_type": "code",
      "execution_count": null,
      "metadata": {
        "id": "INm8ZLJooDkO"
      },
      "outputs": [],
      "source": [
        "# Set display options to show all columns\n",
        "pd.set_option('display.max_columns', None)\n",
        "\n",
        "# When you type the object name, the object gets printed.\n",
        "df"
      ]
    },
    {
      "cell_type": "markdown",
      "metadata": {
        "id": "tx98lQoCoDkO"
      },
      "source": [
        "# **INSTRUCTIONS**\n",
        "\n",
        "* Use Python to analyze the data set and complete each of the following.\n",
        "* Replace ellipsis (...) with the relavent names or code.  \n",
        "* For problems that require a written response, replace the ellipsis (...) by double clicking the text box to start typing.\n",
        "* Reference the tutorial from activity for assistance.\n",
        "* If you still need help:\n",
        " * Watch the video.\n",
        " * Attend office hours."
      ]
    },
    {
      "cell_type": "markdown",
      "metadata": {
        "id": "WZAwPtWdJtjB"
      },
      "source": [
        "# **The variable to analyze**\n",
        "You will analyze a category of a qualitative variable. Based on the first initial of your LAST name, analyze the category of the variable listed in the table. Use this category for the entire project.\n",
        "\n",
        "| Last Name | Variable = Category |\n",
        "|-----------|-------------------------------|\n",
        "| A-L       | Resting ECG Results = Normal  |\n",
        "| M-Z       | Chest Pain = Atypical angina  |"
      ]
    },
    {
      "cell_type": "code",
      "source": [
        "#Print all the category names.\n",
        "#Use this list to ensure correct spelling of your category.\n",
        "\n",
        "# Use the following code for students.\n",
        "print(\"... category names\")                #Replace ... with the variable name written out\n",
        "print(\"--------------------------------\")\n",
        "freq_table = pd.Series(df['...']).value_counts()        #Replace ... with the variable name\n",
        "print(freq_table)"
      ],
      "metadata": {
        "id": "IROToDNfZVFw"
      },
      "execution_count": null,
      "outputs": []
    },
    {
      "cell_type": "markdown",
      "metadata": {
        "id": "xkEtDHs70CzZ"
      },
      "source": [
        "# **QUESTION 1**\n",
        "## Confidence Interval\n",
        "\n",
        "**Last Names A-L:** Construct and interpret the 92% confidence interval for the population proportion of people who have normal resting ECG results.\n",
        "\n",
        "**Last Names M-Z:** Construct and interpret the 92% confidence interval for the population proportion of people who have atypical angina chest pain."
      ]
    },
    {
      "cell_type": "markdown",
      "source": [
        "**1.1) Parameter: Define the parameter, using correct notation.**\n",
        "\n",
        "..."
      ],
      "metadata": {
        "id": "bIpoT0p6JdEb"
      }
    },
    {
      "cell_type": "markdown",
      "source": [
        "**1.2) Method: Name the method you will use.**\n",
        "\n",
        "..."
      ],
      "metadata": {
        "id": "G7uPLMIlJt2Z"
      }
    },
    {
      "cell_type": "markdown",
      "source": [
        "**1.3) Assumptions:**\n",
        "\n",
        "Complete the code below to find out how many majors fall under the category assigned to you."
      ],
      "metadata": {
        "id": "BQS1aneYKJew"
      }
    },
    {
      "cell_type": "code",
      "source": [
        "# Count total observations\n",
        "n = len(df)\n",
        "\n",
        "#Use this code for students\n",
        "# Count total successes\n",
        "# Replace the 1st ... with the variable name\n",
        "# Replace the 2nd ... with the name of the NCHS Urbanization category to be analyzed\n",
        "obs_count = df['...'].value_counts().get('...')\n",
        "print(f\"{obs_count} out of {n} counties are classified as ... .\") #Replace ... with your category name.\n",
        "\n"
      ],
      "metadata": {
        "id": "zImrVJ_XN-LB"
      },
      "execution_count": null,
      "outputs": []
    },
    {
      "cell_type": "markdown",
      "source": [
        "**Show that both assumptions are met.**\n",
        "\n",
        "1. We will assume the sample represents the population (representative sample).\n",
        "\n",
        "2. ...\n",
        "\n",
        "   ...\n",
        "\n",
        "   The sampling distribution of p̂ is ..."
      ],
      "metadata": {
        "id": "E-r2PPtVRSZ9"
      }
    },
    {
      "cell_type": "markdown",
      "source": [
        "**1.4) Calculate: Complete the code below to calculate the sample proportion of majors that fall under the engineering category, and the confidence interval.**"
      ],
      "metadata": {
        "id": "EE0D9ba8KXO5"
      }
    },
    {
      "cell_type": "code",
      "source": [
        "# Define the confidence level\n",
        "# Replace the ... with the stated confidence level, as a decimal (ex: 0.83, not 83%)\n",
        "CL = ...\n",
        "\n",
        "#Use this code for the student version\n",
        "p_hat = obs_count / n\n",
        "cv = norm.ppf((1+CL)/2)\n",
        "se = np.sqrt(p_hat * (1-p_hat) / n)\n",
        "\n",
        "#Calculate the bounds of the interval\n",
        "ci_lower = (p_hat - cv * se)\n",
        "ci_upper = (p_hat + cv * se)\n",
        "\n",
        "print(f\"p-hat = {obs_count}/{n} = {p_hat.round(5)}\")\n",
        "print(f\"The {CL*100}% CI is ({ci_lower.round(5)}, {ci_upper.round(5)})\")\n"
      ],
      "metadata": {
        "id": "P4qIa7po3Sms"
      },
      "execution_count": null,
      "outputs": []
    },
    {
      "cell_type": "markdown",
      "source": [
        "**1.5) Communicate Results: Interpret the confidence interval calculated in 1.4 above. Round to three (3) decimal places.**\n",
        "\n",
        "..."
      ],
      "metadata": {
        "id": "xZuraSxHLLMV"
      }
    },
    {
      "cell_type": "markdown",
      "source": [
        "**1.6) Show work to calculate the margin of error. Then interpret the margin of error.**\n",
        "\n",
        "**A-L:**\n",
        "**Calculation:**\n",
        "\n",
        "ME = ...\n",
        "\n",
        "**Interpretation:**\n",
        "\n",
        "...\n",
        "\n"
      ],
      "metadata": {
        "id": "KzkMLURiUqWS"
      }
    },
    {
      "cell_type": "markdown",
      "source": [
        "# **Question 2**\n",
        "\n",
        "## **Hypothesis Test**\n",
        "\n",
        "**A-L:** After learning that 40% of people have normal blood pressure, an aspiring nurse wonders if the proportion of individuals who have normal resting ECG results is different? Based on this data set, is there convincing evidence that the population proportion of individuals who have normal resting ECG results is different from 40% (0.4)? Use α=0.08. Write up the solution using the PMACC procedure.\n",
        "\n",
        "**M-Z:** There are 4 types of chest pain. If each type was equally likely, then 25% of individuals would have atypical angina. Based on this data set, is there convincing evidence that the population proportion of individuals who have atypical angina is different from 25% (0.25)? Use α=0.08. Write up the solution using the PMACC procedure."
      ],
      "metadata": {
        "id": "0sgRaln9V2yR"
      }
    },
    {
      "cell_type": "markdown",
      "source": [
        "**2.1) Parameter: Define the parameter, using correct notation.**\n",
        "\n",
        "..."
      ],
      "metadata": {
        "id": "vyW2oV8NXTMl"
      }
    },
    {
      "cell_type": "markdown",
      "source": [
        "**2.2) Method: Name the method you will use, and write the hypotheses.**\n",
        "\n",
        "**Method name:**\n",
        "\n",
        "...\n",
        "\n",
        "**Hypotheses:**\n",
        "\n",
        "H0: ...\n",
        "\n",
        "H1: ..."
      ],
      "metadata": {
        "id": "0e1MD45JXTMm"
      }
    },
    {
      "cell_type": "markdown",
      "source": [
        "**2.3) Assumptions: Show that both assumptions are met. Do NOT round.**\n",
        "\n",
        "1. We will assume the sample represents the population (representative sample).\n",
        "\n",
        "2. ...\n",
        "\n",
        "   ...\n",
        "\n",
        "   The sampling distribution of p̂ is ...\n"
      ],
      "metadata": {
        "id": "IfpbjvE4XTMm"
      }
    },
    {
      "cell_type": "markdown",
      "source": [
        "**2.4) Calculate: Complete the code below to calculate the values required.**"
      ],
      "metadata": {
        "id": "G6PVsDXiXTMn"
      }
    },
    {
      "cell_type": "code",
      "source": [
        "#Define P0, the value in H0.\n",
        "#Replace ... with p0.\n",
        "p_0 = ...\n",
        "\n",
        "#Use this code for the student version\n",
        "#Calculate the values needed; p-hat, and standard error (se).\n",
        "p_hat = obs_count / n\n",
        "se = np.sqrt(p_0 * (1-p_0) / n)\n",
        "\n",
        "#Calculate the z-score of our p-hat, under the assumption H0 is true.\n",
        "z_score = (p_hat - p_0) / se\n",
        "\n",
        "#Calculate the p-value for 1- and 2-sided tests\n",
        "p_value1 = (1 - norm.cdf(abs(z_score)))\n",
        "p_value2 = 2 * p_value1\n",
        "\n",
        "print(f\"p-hat =  {obs_count}/{n} = {p_hat.round(7)}\")\n",
        "print(f\"z-score = {z_score.round(7)}\")\n",
        "print(f\"1 sided p-value = {p_value1:.11f}\")\n",
        "print(f\"2 sided p-value = {p_value2:.11f}\")\n"
      ],
      "metadata": {
        "id": "O3ImyhXvXTMn"
      },
      "execution_count": null,
      "outputs": []
    },
    {
      "cell_type": "markdown",
      "source": [
        "**2.5) Communicate Results: What conclusion is made about the null hypothesis? And what does that mean about the alternate hypothesis?**\n",
        "\n",
        "..."
      ],
      "metadata": {
        "id": "uFJgP0tiXTMn"
      }
    },
    {
      "cell_type": "markdown",
      "source": [
        "# **Question 3**\n",
        "\n",
        "## **Do you make the same conclusion if you use the confidence interval?**\n",
        "\n",
        "**In question 2 you concluded that we either do have or do not have convincing evidence for the alternate hypothesis. Using your confidence interval from question 1, do you reach the same conclusion?**\n",
        "\n",
        "..."
      ],
      "metadata": {
        "id": "E0PJFv1ac8m6"
      }
    },
    {
      "cell_type": "markdown",
      "source": [
        "# **QUESTION 4**\n",
        "\n",
        "Generate a paragraph of at least 100 words to address one of the following questions. That is, answer only 4a or 4b, but not both.\n",
        "\n",
        "**8a)** Discuss how analyzing your chosen data set using statistical methods could help you become better prepared for future courses in your major?\n",
        "\n",
        "...\n",
        "\n",
        "--OR--\n",
        "\n",
        "**8b)** Discuss how analyzing your chosen data set using statistical methods could be instrumental in becoming better prepared for your future career?\n",
        "\n",
        "...\n"
      ],
      "metadata": {
        "id": "A4rsfgbp6r6H"
      }
    },
    {
      "cell_type": "markdown",
      "source": [
        "<br><br>\n",
        "### Once you are done and ready to submit, follow the instructions below to save as a PDF and submit to GradeScope.\n",
        "\n",
        "### Save as PDF\n",
        "Note 1: You do not have to select Print Preview. You can print directly from the notebook.\n",
        "Note 2: Image and graph sizes have been set so you should be able to see them correctly without making any changes to the browser width or the layout (portrait vs landscape).\n",
        "1. Run all code one last time and make sure your graphs can be seen.\n",
        "2. File -> Print (or ctrl-p/cmnd-p)\n",
        "3. Change the \"Desination\" to PDF.\n",
        "4. Save the PDF, taking note of where it is saved.\n",
        "\n",
        "### Submit to GradeScope\n",
        "**Watch the \"GradeScope Submission\" video for help.**\n",
        "1. Login to the Canvas course\n",
        "2. Click on GradeScope in the course navigation.\n",
        "3. If you see multiple courses in GradeScope, click on the STAT 108 course\n",
        "4. Click on the name of the assignment that matches your data set\n",
        "5. Click on \"Submit Work\", select PDF\n",
        "6. Select the PDF you just created\n",
        "7. You need to tell GradeScope which page each problem answer/output is on. You should see a list of problems on the left, and a display of pages (thumbnails) on the right. Assign pages to questions by clicking on the question number on the left, then clicking on all pages that question is on.\n",
        "8. After ALL questions have been assigned to their respective page(s), click \"Submit\"\n",
        "\n",
        "#### **Still need help? Your STAT 108 team is here to help. Take your laptop to office hours.**\n"
      ],
      "metadata": {
        "id": "KHSYrvqh66V6"
      }
    }
  ]
}