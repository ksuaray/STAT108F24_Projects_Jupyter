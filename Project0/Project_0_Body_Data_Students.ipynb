{
 "cells": [
  {
   "cell_type": "code",
   "execution_count": null,
   "metadata": {
    "deletable": false,
    "editable": false
   },
   "outputs": [],
   "source": [
    "# Initialize Otter\n",
    "import otter\n",
    "grader = otter.Notebook(\"Project_0_Body_Data.ipynb\")"
   ]
  },
  {
   "cell_type": "markdown",
   "metadata": {
    "id": "WOWuLyetinsJ"
   },
   "source": [
    "# **Body Data**\n",
    "\n"
   ]
  },
  {
   "cell_type": "markdown",
   "metadata": {
    "id": "AxPB-FE5lQIX"
   },
   "source": [
    "## **Importing Necessary Python Modules**\n",
    "\n",
    "Python incorporates a variety of open source add-ins called **modules** that enable us to run the code."
   ]
  },
  {
   "cell_type": "code",
   "execution_count": null,
   "metadata": {
    "id": "DIbfBAiwmTlf"
   },
   "outputs": [],
   "source": [
    "import pandas as pd\n",
    "import numpy as np\n",
    "import plotly.express as px\n",
    "from IPython.display import Image\n",
    "import warnings\n",
    "warnings.simplefilter('ignore', FutureWarning)"
   ]
  },
  {
   "cell_type": "markdown",
   "metadata": {
    "id": "XJjnfq1hitm8"
   },
   "source": [
    "## **Context**\n",
    "\n",
    "\n",
    "The National Center for Health Statistics (NCHS) offers downloadable public-use data files through the Centers for Disease Control and Prevention's (CDC) FTP file server. Users of this service have access to data sets, documentation, and questionnaires from NCHS surveys and data collection systems.\n",
    "\n",
    "Public-use data files are prepared and disseminated to provide access to the full scope of the data. This allows researchers to manipulate the data in a format appropriate for their analyses. NCHS makes every effort to release data collected through its surveys and data systems in a timely manner.\n",
    "\n",
    "More information can be found at https://www.cdc.gov/nchs/data_access/ftp_data.htm."
   ]
  },
  {
   "cell_type": "code",
   "execution_count": null,
   "metadata": {
    "colab": {
     "base_uri": "https://localhost:8080/",
     "height": 429
    },
    "id": "oJft7wQooCFx",
    "outputId": "9160d122-1f39-445d-b8bb-95d9696ff464"
   },
   "outputs": [],
   "source": [
    "# Replace 'image_url' with the URL of the image you want to display\n",
    "image_url = 'https://media.istockphoto.com/id/456054995/photo/dna-molecules-and-virtuvian-man.jpg?s=612x612&w=0&k=20&c=v5qZJ5Ty4RwDbyGRx_v-tYd1-LfTZwTi-Aend5Q_sqA='\n",
    "\n",
    "# Display the image\n",
    "Image(url=image_url)\n"
   ]
  },
  {
   "cell_type": "markdown",
   "metadata": {
    "id": "bQfu7EYxi7Md"
   },
   "source": [
    "## **About the Dataset**\n",
    "This dataset contains 301 rows corresponding to a sample of Americans. A total of 16 variables are provided as listed below:\n",
    "\n"
   ]
  },
  {
   "cell_type": "markdown",
   "metadata": {
    "id": "XusIoTTPjC87"
   },
   "source": [
    "**Variables**\n",
    "\n",
    "| Column     | Description                                                                 |\n",
    "|------------|-----------------------------------------------------------------------------|\n",
    "| AGE        | Age in years|\n",
    "| GENDER     | Gender: 0=female, 1=male|\n",
    "| PULSE      | Pulse rate in beats per minute (bpm)|\n",
    "| SYSTOLIC   | Systolic blood pressure (mm Hg)|\n",
    "| DIASTOLIC  | Diastolic blood pressure (mm Hg)|\n",
    "| CATEGORY   | Blood Pressure Category based on the table below from the American Heart Association|\n",
    "| HDL        | HDL cholesterol (mg/dL)|\n",
    "| LDL        | LDL cholesterol (mg/dL)|\n",
    "| WHITE      | White blood cell count (1000 cells/µL) |\n",
    "| RED        | Red blood cell count (million cells/µL)|\n",
    "| PLATE      | Platelet count (1000 cells/µL)|\n",
    "| WEIGHT     | Weight (kg)|\n",
    "| HEIGHT     | Height (cm)|\n",
    "| WAIST      | Waist circumference (cm)|\n",
    "| ARM CIRC   | Arm circumference (cm)|\n",
    "| BMI        | Body mass index (kg/m²)|"
   ]
  },
  {
   "cell_type": "markdown",
   "metadata": {
    "id": "K6Ec7iTdr-ry"
   },
   "source": [
    "## **Blood Pressure Category Table**\n",
    "\n",
    "The table below from the American Heart Association classifies blood pressure into five (5) categories based on a combination of the individual's systolic and diastolic blood pressure."
   ]
  },
  {
   "cell_type": "code",
   "execution_count": null,
   "metadata": {
    "colab": {
     "base_uri": "https://localhost:8080/",
     "height": 391
    },
    "id": "M58NT0yaoQxP",
    "outputId": "4c6b9477-5387-4a88-fbfd-30787b04d2ae"
   },
   "outputs": [],
   "source": [
    "# Replace 'image_url' with the URL of the image you want to display\n",
    "image_url = 'https://www.heart.org/-/media/Images/Health-Topics/High-Blood-Pressure/Rainbow-Chart/blood-pressure-readings-chart.jpg?h=294&iar=0&mw=440&w=440&sc_lang=en'\n",
    "# Display the image\n",
    "Image(url=image_url)\n"
   ]
  },
  {
   "cell_type": "markdown",
   "metadata": {
    "id": "dzjbhJhzktKp"
   },
   "source": [
    "## **A Snippet of the Data**\n",
    "\n",
    "First let's load the data by importing it directly from the url below.\n"
   ]
  },
  {
   "cell_type": "code",
   "execution_count": null,
   "metadata": {
    "id": "1RtdwLBwidY4"
   },
   "outputs": [],
   "source": [
    "#Check the file path for any errors\n",
    "file_path = \"https://raw.githubusercontent.com/ksuaray/STAT108F24_Projects_Jupyter/main/Project0/Body%20Data.csv\"\n",
    "df = pd.read_csv(file_path)\n"
   ]
  },
  {
   "cell_type": "markdown",
   "metadata": {
    "id": "cj8T9vdrimYo"
   },
   "source": [
    "Next, we can display the data by typing the name of the DataFrame. To ensure we can see all columns, we'll use the *pd.set_option* method."
   ]
  },
  {
   "cell_type": "code",
   "execution_count": null,
   "metadata": {
    "colab": {
     "base_uri": "https://localhost:8080/",
     "height": 424
    },
    "id": "YT5tP1d8pQli",
    "outputId": "3a462dc3-c8e8-4101-a592-3ca06036da1e"
   },
   "outputs": [],
   "source": [
    "# Set display options to show all columns\n",
    "pd.set_option('display.max_columns', None)\n",
    "df"
   ]
  },
  {
   "cell_type": "markdown",
   "metadata": {
    "id": "U7JAQ1iOyzty"
   },
   "source": [
    "# **ASSIGNMENT 0 - Learning How To Use the Jupyter Notebook**"
   ]
  },
  {
   "cell_type": "markdown",
   "metadata": {
    "id": "lGEGFhhHOt2i"
   },
   "source": [
    "**INSTRUCTIONS**\n",
    "Complete the following questions."
   ]
  },
  {
   "cell_type": "markdown",
   "metadata": {
    "deletable": false,
    "editable": false,
    "id": "xkEtDHs70CzZ"
   },
   "source": [
    "## **1. Categorize Variables**\n",
    "Determine whether the variables below are qualitative or quantitative. If they are quantitative, specify whether they are continuous or discrete."
   ]
  },
  {
   "cell_type": "markdown",
   "metadata": {
    "deletable": false,
    "editable": false,
    "id": "c_N4nnLD3O_Y"
   },
   "source": [
    "| Variable         | Qual or Quant | Disc., Cont., or Neither |\n",
    "|------------------|---------------|--------------------------|\n",
    "| **Age**          |               |                          |\n",
    "| **Gender**       |               |                          |\n",
    "| **Waist**        |               |                          |\n",
    "| **Category**     |               |                          |"
   ]
  },
  {
   "cell_type": "markdown",
   "metadata": {
    "deletable": false,
    "editable": false,
    "id": "Hjz7Oc8N0acy"
   },
   "source": [
    "## **2. Frequency Table**\n",
    "\n",
    "Construct a frequency table for the CATEGORY variable."
   ]
  },
  {
   "cell_type": "code",
   "execution_count": null,
   "metadata": {
    "colab": {
     "base_uri": "https://localhost:8080/",
     "height": 272
    },
    "id": "P4qIa7po3Sms",
    "outputId": "26b051c9-f4f9-4966-9c81-a3734d809aa2",
    "tags": []
   },
   "outputs": [],
   "source": [
    "#Frequency table\n",
    "mc = ...\n",
    "freq_table = pd.value_counts(mc)\n",
    "freq_table "
   ]
  },
  {
   "cell_type": "code",
   "execution_count": null,
   "metadata": {
    "deletable": false,
    "editable": false
   },
   "outputs": [],
   "source": [
    "grader.check(\"q2\")"
   ]
  },
  {
   "cell_type": "markdown",
   "metadata": {
    "deletable": false,
    "editable": false,
    "id": "3QDTwtJy3wiC"
   },
   "source": [
    "## **3. Relative Frequency Table**\n",
    "Create a relative frequency table for the CATEGORY variable."
   ]
  },
  {
   "cell_type": "code",
   "execution_count": null,
   "metadata": {
    "colab": {
     "base_uri": "https://localhost:8080/",
     "height": 272
    },
    "id": "W-jbsBHh77Ju",
    "outputId": "a4ad63fe-108a-4169-e7ef-50ea279ac067",
    "tags": []
   },
   "outputs": [],
   "source": [
    "#Relative frequency table\n",
    "rel_freq_table = ...\n",
    "rel_freq_table"
   ]
  },
  {
   "cell_type": "code",
   "execution_count": null,
   "metadata": {
    "deletable": false,
    "editable": false
   },
   "outputs": [],
   "source": [
    "grader.check(\"q3\")"
   ]
  },
  {
   "cell_type": "markdown",
   "metadata": {
    "deletable": false,
    "editable": false,
    "id": "lS3kZoiO4MqS"
   },
   "source": [
    "## **4. Frequency Distribution Bar Chart**\n",
    "Create a frequency distribtuion bar chart for the CATEGORY variable."
   ]
  },
  {
   "cell_type": "code",
   "execution_count": null,
   "metadata": {
    "colab": {
     "base_uri": "https://localhost:8080/",
     "height": 547
    },
    "id": "jus81uvHAOzo",
    "outputId": "016b9d98-1fea-480d-be0b-ad84944022f5",
    "tags": []
   },
   "outputs": [],
   "source": [
    "dfrf = pd.DataFrame(freq_table)\n",
    "fig = px.bar(x=dfrf.index, y=dfrf['count'], barmode='group',\n",
    "             title='Frequency Distribution Bar Chart')\n",
    "fig.update_layout(xaxis_title=\"Blood Pressure Category\")\n",
    "fig.update_layout(yaxis_title=\"Frequency\")\n",
    "fig.show()\n"
   ]
  },
  {
   "cell_type": "code",
   "execution_count": null,
   "metadata": {
    "deletable": false,
    "editable": false
   },
   "outputs": [],
   "source": [
    "grader.check(\"q4\")"
   ]
  },
  {
   "cell_type": "markdown",
   "metadata": {
    "id": "AE1zG25Y4miV"
   },
   "source": [
    "## **5. Describe the Distribution**\n",
    "Write a few sentences about the distribution of blood pressure category for these individuals."
   ]
  },
  {
   "cell_type": "markdown",
   "metadata": {},
   "source": [
    "# **ON YOUR OWN**"
   ]
  },
  {
   "cell_type": "markdown",
   "metadata": {
    "deletable": false,
    "editable": false,
    "id": "dmrVDLMVUJt9"
   },
   "source": [
    "## **6. Frequency Table**\n",
    "\n",
    "Change the variable name in the code below to construct a frequency table for the GENDER variable."
   ]
  },
  {
   "cell_type": "code",
   "execution_count": null,
   "metadata": {
    "colab": {
     "base_uri": "https://localhost:8080/",
     "height": 547
    },
    "id": "QYqvFTrQUoBz",
    "outputId": "e566feef-3e77-4e89-cff2-0a86b774c943",
    "tags": []
   },
   "outputs": [],
   "source": [
    "#Frequency table\n",
    "mc_1 = ...\n",
    "freq_table_1 = pd.value_counts(mc_1)\n",
    "freq_table_1"
   ]
  },
  {
   "cell_type": "code",
   "execution_count": null,
   "metadata": {
    "deletable": false,
    "editable": false
   },
   "outputs": [],
   "source": [
    "grader.check(\"q6\")"
   ]
  },
  {
   "cell_type": "markdown",
   "metadata": {
    "deletable": false,
    "editable": false,
    "id": "4pJnu8ZhU1Bg"
   },
   "source": [
    "## **7. Relative Frequency Table**\n",
    "Run the code below to construct a relative frequency table for the GENDER variable."
   ]
  },
  {
   "cell_type": "code",
   "execution_count": null,
   "metadata": {
    "colab": {
     "base_uri": "https://localhost:8080/",
     "height": 272
    },
    "id": "Gk3xtkKyVGbY",
    "outputId": "e834d6c8-bf88-4ca9-9bd8-1d945080d3a9",
    "tags": []
   },
   "outputs": [],
   "source": [
    "#Relative frequency table\n",
    "rel_freq_table_1 = ...\n",
    "rel_freq_table_1"
   ]
  },
  {
   "cell_type": "code",
   "execution_count": null,
   "metadata": {
    "deletable": false,
    "editable": false
   },
   "outputs": [],
   "source": [
    "grader.check(\"q7\")"
   ]
  },
  {
   "cell_type": "markdown",
   "metadata": {
    "deletable": false,
    "editable": false,
    "id": "Lpt7cwqiVc-m"
   },
   "source": [
    "## **8. Frequency Distribution Bar Chart**\n",
    "Create a RELATIVE frequency distribtuion bar chart for the GENDER variable."
   ]
  },
  {
   "cell_type": "code",
   "execution_count": null,
   "metadata": {
    "colab": {
     "base_uri": "https://localhost:8080/",
     "height": 547
    },
    "id": "ixTUdJRYVrGD",
    "outputId": "2e38a194-25c8-4eac-e759-e2b1d24ba7ad",
    "tags": []
   },
   "outputs": [],
   "source": [
    "dfrf_1 = pd.DataFrame(rel_freq_table_1)\n",
    "fig = px.bar(x=dfrf_1.index, y=dfrf_1['count'], barmode='group',\n",
    "             title='Frequency Distribution Bar Chart')\n",
    "fig.update_layout(xaxis_title=\"Gender (1=Male)\")\n",
    "#For your solution, label the vertical axis correctly on the line below\n",
    "...\n",
    "fig.show()"
   ]
  },
  {
   "cell_type": "code",
   "execution_count": null,
   "metadata": {
    "deletable": false,
    "editable": false
   },
   "outputs": [],
   "source": [
    "grader.check(\"q8\")"
   ]
  },
  {
   "cell_type": "markdown",
   "metadata": {
    "id": "0RkgFZfSV0gt"
   },
   "source": [
    "## **9. Describe the Distribution**\n",
    "Write a few sentences about the distribution of gender for these individuals."
   ]
  },
  {
   "cell_type": "markdown",
   "metadata": {
    "id": "mvIUrDNcZzri"
   },
   "source": [
    "## **10. Save and Turn In**\n",
    "* After completing 1-9 above, save this as a PDF. Note where you save it.\n",
    "* Go to Canvas, find the Project 0 assignment, upload the PDF, then Submit.\n"
   ]
  },
  {
   "cell_type": "markdown",
   "metadata": {
    "deletable": false,
    "editable": false
   },
   "source": [
    "## Submission\n",
    "\n",
    "Make sure you have run all cells in your notebook in order before running the cell below, so that all images/graphs appear in the output. The cell below will generate a zip file for you to submit. **Please save before exporting!**"
   ]
  },
  {
   "cell_type": "code",
   "execution_count": null,
   "metadata": {
    "deletable": false,
    "editable": false
   },
   "outputs": [],
   "source": [
    "# Save your notebook first, then run this cell to export your submission.\n",
    "grader.export(run_tests=True)"
   ]
  },
  {
   "cell_type": "markdown",
   "metadata": {},
   "source": [
    " "
   ]
  }
 ],
 "metadata": {
  "colab": {
   "provenance": []
  },
  "kernelspec": {
   "display_name": "Python 3 (ipykernel)",
   "language": "python",
   "name": "python3"
  },
  "language_info": {
   "codemirror_mode": {
    "name": "ipython",
    "version": 3
   },
   "file_extension": ".py",
   "mimetype": "text/x-python",
   "name": "python",
   "nbconvert_exporter": "python",
   "pygments_lexer": "ipython3",
   "version": "3.10.11"
  },
  "otter": {
   "OK_FORMAT": true,
   "tests": {
    "q2": {
     "name": "q2",
     "points": [
      0
     ],
     "suites": [
      {
       "cases": [
        {
         "code": ">>> len(freq_table) == 5\nTrue",
         "hidden": false,
         "locked": false
        }
       ],
       "scored": true,
       "setup": "",
       "teardown": "",
       "type": "doctest"
      }
     ]
    },
    "q3": {
     "name": "q3",
     "points": [
      0
     ],
     "suites": [
      {
       "cases": [
        {
         "code": ">>> sum(rel_freq_table)\n>>> np.allclose(sum(rel_freq_table), 1, rtol=0.001, atol=0.001)\nTrue",
         "hidden": false,
         "locked": false
        }
       ],
       "scored": true,
       "setup": "",
       "teardown": "",
       "type": "doctest"
      }
     ]
    },
    "q4": {
     "name": "q4",
     "points": [
      0
     ],
     "suites": [
      {
       "cases": [
        {
         "code": ">>> len(freq_table) == 5\nTrue",
         "hidden": false,
         "locked": false
        }
       ],
       "scored": true,
       "setup": "",
       "teardown": "",
       "type": "doctest"
      }
     ]
    },
    "q6": {
     "name": "q6",
     "points": [
      0
     ],
     "suites": [
      {
       "cases": [
        {
         "code": ">>> len(freq_table_1) == 2\nTrue",
         "hidden": false,
         "locked": false
        }
       ],
       "scored": true,
       "setup": "",
       "teardown": "",
       "type": "doctest"
      }
     ]
    },
    "q7": {
     "name": "q7",
     "points": [
      0
     ],
     "suites": [
      {
       "cases": [
        {
         "code": ">>> np.allclose(sum(rel_freq_table_1), 1, rtol=0.001, atol=0.001)\nTrue",
         "hidden": false,
         "locked": false
        }
       ],
       "scored": true,
       "setup": "",
       "teardown": "",
       "type": "doctest"
      }
     ]
    },
    "q8": {
     "name": "q8",
     "points": [
      0
     ],
     "suites": [
      {
       "cases": [
        {
         "code": ">>> len(dfrf_1) == 2\nTrue",
         "hidden": false,
         "locked": false
        }
       ],
       "scored": true,
       "setup": "",
       "teardown": "",
       "type": "doctest"
      }
     ]
    }
   }
  }
 },
 "nbformat": 4,
 "nbformat_minor": 4
}
