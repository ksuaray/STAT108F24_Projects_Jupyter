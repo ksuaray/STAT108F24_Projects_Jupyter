{
  "cells": [
    {
      "cell_type": "raw",
      "metadata": {
        "id": "C7Tskn1POt2a",
        "vscode": {
          "languageId": "raw"
        }
      },
      "source": [
        "# ASSIGNMENT CONFIG\n",
        "init_cell: true\n",
        "export_cell: true\n",
        "export_cell:\n",
        "    pdf: true\n",
        "    force_save: false\n",
        "solutions_pdf: false\n",
        "template_pdf: false\n",
        "generate:\n",
        "    points_possible: 10.0\n",
        "    show_stdout: true\n",
        "    filtering: true\n",
        "    pagebreaks: true\n",
        "    zips: false"
      ]
    },
    {
      "cell_type": "markdown",
      "metadata": {
        "id": "WOWuLyetinsJ"
      },
      "source": [
        "# **Body Data**\n",
        "\n"
      ]
    },
    {
      "cell_type": "markdown",
      "metadata": {
        "id": "AxPB-FE5lQIX"
      },
      "source": [
        "## **Importing Necessary Python Modules**\n",
        "\n",
        "Python incorporates a variety of open source add-ins called **modules** that enable us to run the code."
      ]
    },
    {
      "cell_type": "code",
      "execution_count": 1,
      "metadata": {
        "id": "DIbfBAiwmTlf"
      },
      "outputs": [],
      "source": [
        "import pandas as pd\n",
        "import numpy as np\n",
        "import plotly.express as px\n",
        "from IPython.display import Image\n",
        "import warnings\n",
        "warnings.simplefilter('ignore', FutureWarning)"
      ]
    },
    {
      "cell_type": "markdown",
      "metadata": {
        "id": "XJjnfq1hitm8"
      },
      "source": [
        "## **Context**\n",
        "\n",
        "\n",
        "The National Center for Health Statistics (NCHS) offers downloadable public-use data files through the Centers for Disease Control and Prevention's (CDC) FTP file server. Users of this service have access to data sets, documentation, and questionnaires from NCHS surveys and data collection systems.\n",
        "\n",
        "Public-use data files are prepared and disseminated to provide access to the full scope of the data. This allows researchers to manipulate the data in a format appropriate for their analyses. NCHS makes every effort to release data collected through its surveys and data systems in a timely manner.\n",
        "\n",
        "More information can be found at https://www.cdc.gov/nchs/data_access/ftp_data.htm."
      ]
    },
    {
      "cell_type": "code",
      "execution_count": 2,
      "metadata": {
        "colab": {
          "base_uri": "https://localhost:8080/",
          "height": 429
        },
        "id": "oJft7wQooCFx",
        "outputId": "9160d122-1f39-445d-b8bb-95d9696ff464"
      },
      "outputs": [
        {
          "data": {
            "text/html": [
              "<img src=\"https://media.istockphoto.com/id/456054995/photo/dna-molecules-and-virtuvian-man.jpg?s=612x612&w=0&k=20&c=v5qZJ5Ty4RwDbyGRx_v-tYd1-LfTZwTi-Aend5Q_sqA=\"/>"
            ],
            "text/plain": [
              "<IPython.core.display.Image object>"
            ]
          },
          "execution_count": 2,
          "metadata": {},
          "output_type": "execute_result"
        }
      ],
      "source": [
        "# Replace 'image_url' with the URL of the image you want to display\n",
        "image_url = 'https://media.istockphoto.com/id/456054995/photo/dna-molecules-and-virtuvian-man.jpg?s=612x612&w=0&k=20&c=v5qZJ5Ty4RwDbyGRx_v-tYd1-LfTZwTi-Aend5Q_sqA='\n",
        "\n",
        "# Display the image\n",
        "Image(url=image_url)\n"
      ]
    },
    {
      "cell_type": "markdown",
      "metadata": {
        "id": "bQfu7EYxi7Md"
      },
      "source": [
        "## **About the Dataset**\n",
        "This dataset contains 301 rows corresponding to a sample of Americans. A total of 16 variables are provided as listed below:\n",
        "\n"
      ]
    },
    {
      "cell_type": "markdown",
      "metadata": {
        "id": "XusIoTTPjC87"
      },
      "source": [
        "**Variables**\n",
        "\n",
        "| Column     | Description                                                                 |\n",
        "|------------|-----------------------------------------------------------------------------|\n",
        "| AGE        | Age in years|\n",
        "| GENDER     | Gender: 0=female, 1=male|\n",
        "| PULSE      | Pulse rate in beats per minute (bpm)|\n",
        "| SYSTOLIC   | Systolic blood pressure (mm Hg)|\n",
        "| DIASTOLIC  | Diastolic blood pressure (mm Hg)|\n",
        "| CATEGORY   | Blood Pressure Category based on the table below from the American Heart Association|\n",
        "| HDL        | HDL cholesterol (mg/dL)|\n",
        "| LDL        | LDL cholesterol (mg/dL)|\n",
        "| WHITE      | White blood cell count (1000 cells/µL) |\n",
        "| RED        | Red blood cell count (million cells/µL)|\n",
        "| PLATE      | Platelet count (1000 cells/µL)|\n",
        "| WEIGHT     | Weight (kg)|\n",
        "| HEIGHT     | Height (cm)|\n",
        "| WAIST      | Waist circumference (cm)|\n",
        "| ARM CIRC   | Arm circumference (cm)|\n",
        "| BMI        | Body mass index (kg/m²)|"
      ]
    },
    {
      "cell_type": "markdown",
      "metadata": {
        "id": "K6Ec7iTdr-ry"
      },
      "source": [
        "## **Blood Pressure Category Table**\n",
        "\n",
        "The table below from the American Heart Association classifies blood pressure into five (5) categories based on a combination of the individual's systolic and diastolic blood pressure."
      ]
    },
    {
      "cell_type": "code",
      "execution_count": 3,
      "metadata": {
        "colab": {
          "base_uri": "https://localhost:8080/",
          "height": 391
        },
        "id": "M58NT0yaoQxP",
        "outputId": "4c6b9477-5387-4a88-fbfd-30787b04d2ae"
      },
      "outputs": [
        {
          "data": {
            "text/html": [
              "<img src=\"https://www.heart.org/-/media/Images/Health-Topics/High-Blood-Pressure/Rainbow-Chart/blood-pressure-readings-chart.jpg?h=294&iar=0&mw=440&w=440&sc_lang=en\"/>"
            ],
            "text/plain": [
              "<IPython.core.display.Image object>"
            ]
          },
          "execution_count": 3,
          "metadata": {},
          "output_type": "execute_result"
        }
      ],
      "source": [
        "# Replace 'image_url' with the URL of the image you want to display\n",
        "image_url = 'https://www.heart.org/-/media/Images/Health-Topics/High-Blood-Pressure/Rainbow-Chart/blood-pressure-readings-chart.jpg?h=294&iar=0&mw=440&w=440&sc_lang=en'\n",
        "# Display the image\n",
        "Image(url=image_url)\n"
      ]
    },
    {
      "cell_type": "markdown",
      "metadata": {
        "id": "dzjbhJhzktKp"
      },
      "source": [
        "## **A Snippet of the Data**\n",
        "\n",
        "First let's load the data by importing it directly from the url below.\n"
      ]
    },
    {
      "cell_type": "code",
      "execution_count": 4,
      "metadata": {
        "id": "1RtdwLBwidY4"
      },
      "outputs": [],
      "source": [
        "#Check the file path for any errors\n",
        "file_path = \"https://raw.githubusercontent.com/ksuaray/STAT108F24_Projects_Jupyter/main/Project0/Body%20Data.csv\"\n",
        "df = pd.read_csv(file_path)\n"
      ]
    },
    {
      "cell_type": "markdown",
      "metadata": {
        "id": "cj8T9vdrimYo"
      },
      "source": [
        "Next, we can display the data by typing the name of the DataFrame. To ensure we can see all columns, we'll use the *pd.set_option* method."
      ]
    },
    {
      "cell_type": "code",
      "execution_count": 5,
      "metadata": {
        "colab": {
          "base_uri": "https://localhost:8080/",
          "height": 424
        },
        "id": "YT5tP1d8pQli",
        "outputId": "3a462dc3-c8e8-4101-a592-3ca06036da1e"
      },
      "outputs": [
        {
          "data": {
            "text/html": [
              "<div>\n",
              "<style scoped>\n",
              "    .dataframe tbody tr th:only-of-type {\n",
              "        vertical-align: middle;\n",
              "    }\n",
              "\n",
              "    .dataframe tbody tr th {\n",
              "        vertical-align: top;\n",
              "    }\n",
              "\n",
              "    .dataframe thead th {\n",
              "        text-align: right;\n",
              "    }\n",
              "</style>\n",
              "<table border=\"1\" class=\"dataframe\">\n",
              "  <thead>\n",
              "    <tr style=\"text-align: right;\">\n",
              "      <th></th>\n",
              "      <th>AGE</th>\n",
              "      <th>GENDER (1=M)</th>\n",
              "      <th>PULSE</th>\n",
              "      <th>SYSTOLIC</th>\n",
              "      <th>DIASTOLIC</th>\n",
              "      <th>CATEGORY</th>\n",
              "      <th>HDL</th>\n",
              "      <th>LDL</th>\n",
              "      <th>WHITE</th>\n",
              "      <th>RED</th>\n",
              "      <th>PLATE</th>\n",
              "      <th>WEIGHT</th>\n",
              "      <th>HEIGHT</th>\n",
              "      <th>WAIST</th>\n",
              "      <th>ARM CIRC</th>\n",
              "      <th>BMI</th>\n",
              "    </tr>\n",
              "  </thead>\n",
              "  <tbody>\n",
              "    <tr>\n",
              "      <th>0</th>\n",
              "      <td>43</td>\n",
              "      <td>0</td>\n",
              "      <td>80</td>\n",
              "      <td>100</td>\n",
              "      <td>70</td>\n",
              "      <td>NORMAL</td>\n",
              "      <td>73</td>\n",
              "      <td>68</td>\n",
              "      <td>8.7</td>\n",
              "      <td>4.80</td>\n",
              "      <td>319</td>\n",
              "      <td>98.6</td>\n",
              "      <td>172.0</td>\n",
              "      <td>120.4</td>\n",
              "      <td>40.7</td>\n",
              "      <td>33.3</td>\n",
              "    </tr>\n",
              "    <tr>\n",
              "      <th>1</th>\n",
              "      <td>38</td>\n",
              "      <td>0</td>\n",
              "      <td>94</td>\n",
              "      <td>134</td>\n",
              "      <td>94</td>\n",
              "      <td>HYPERTENSION STAGE 2</td>\n",
              "      <td>36</td>\n",
              "      <td>223</td>\n",
              "      <td>6.9</td>\n",
              "      <td>4.47</td>\n",
              "      <td>297</td>\n",
              "      <td>108.2</td>\n",
              "      <td>154.4</td>\n",
              "      <td>120.3</td>\n",
              "      <td>44.3</td>\n",
              "      <td>45.4</td>\n",
              "    </tr>\n",
              "    <tr>\n",
              "      <th>2</th>\n",
              "      <td>69</td>\n",
              "      <td>0</td>\n",
              "      <td>58</td>\n",
              "      <td>138</td>\n",
              "      <td>80</td>\n",
              "      <td>HYPERTENSION STAGE 1</td>\n",
              "      <td>40</td>\n",
              "      <td>140</td>\n",
              "      <td>8.1</td>\n",
              "      <td>4.60</td>\n",
              "      <td>286</td>\n",
              "      <td>79.2</td>\n",
              "      <td>155.7</td>\n",
              "      <td>103.5</td>\n",
              "      <td>34.2</td>\n",
              "      <td>32.7</td>\n",
              "    </tr>\n",
              "    <tr>\n",
              "      <th>3</th>\n",
              "      <td>44</td>\n",
              "      <td>0</td>\n",
              "      <td>66</td>\n",
              "      <td>114</td>\n",
              "      <td>66</td>\n",
              "      <td>NORMAL</td>\n",
              "      <td>45</td>\n",
              "      <td>136</td>\n",
              "      <td>8.0</td>\n",
              "      <td>4.09</td>\n",
              "      <td>263</td>\n",
              "      <td>64.2</td>\n",
              "      <td>157.6</td>\n",
              "      <td>89.7</td>\n",
              "      <td>32.5</td>\n",
              "      <td>25.8</td>\n",
              "    </tr>\n",
              "    <tr>\n",
              "      <th>4</th>\n",
              "      <td>72</td>\n",
              "      <td>0</td>\n",
              "      <td>56</td>\n",
              "      <td>110</td>\n",
              "      <td>72</td>\n",
              "      <td>NORMAL</td>\n",
              "      <td>53</td>\n",
              "      <td>102</td>\n",
              "      <td>6.9</td>\n",
              "      <td>4.15</td>\n",
              "      <td>215</td>\n",
              "      <td>98.2</td>\n",
              "      <td>168.6</td>\n",
              "      <td>115.3</td>\n",
              "      <td>38.5</td>\n",
              "      <td>34.5</td>\n",
              "    </tr>\n",
              "    <tr>\n",
              "      <th>...</th>\n",
              "      <td>...</td>\n",
              "      <td>...</td>\n",
              "      <td>...</td>\n",
              "      <td>...</td>\n",
              "      <td>...</td>\n",
              "      <td>...</td>\n",
              "      <td>...</td>\n",
              "      <td>...</td>\n",
              "      <td>...</td>\n",
              "      <td>...</td>\n",
              "      <td>...</td>\n",
              "      <td>...</td>\n",
              "      <td>...</td>\n",
              "      <td>...</td>\n",
              "      <td>...</td>\n",
              "      <td>...</td>\n",
              "    </tr>\n",
              "    <tr>\n",
              "      <th>295</th>\n",
              "      <td>18</td>\n",
              "      <td>1</td>\n",
              "      <td>72</td>\n",
              "      <td>106</td>\n",
              "      <td>44</td>\n",
              "      <td>NORMAL</td>\n",
              "      <td>40</td>\n",
              "      <td>124</td>\n",
              "      <td>4.0</td>\n",
              "      <td>5.17</td>\n",
              "      <td>221</td>\n",
              "      <td>71.6</td>\n",
              "      <td>172.8</td>\n",
              "      <td>78.1</td>\n",
              "      <td>31.0</td>\n",
              "      <td>24.0</td>\n",
              "    </tr>\n",
              "    <tr>\n",
              "      <th>296</th>\n",
              "      <td>67</td>\n",
              "      <td>1</td>\n",
              "      <td>62</td>\n",
              "      <td>136</td>\n",
              "      <td>82</td>\n",
              "      <td>HYPERTENSION STAGE 1</td>\n",
              "      <td>39</td>\n",
              "      <td>62</td>\n",
              "      <td>7.7</td>\n",
              "      <td>3.90</td>\n",
              "      <td>305</td>\n",
              "      <td>110.2</td>\n",
              "      <td>169.1</td>\n",
              "      <td>125.5</td>\n",
              "      <td>39.0</td>\n",
              "      <td>38.5</td>\n",
              "    </tr>\n",
              "    <tr>\n",
              "      <th>297</th>\n",
              "      <td>24</td>\n",
              "      <td>1</td>\n",
              "      <td>94</td>\n",
              "      <td>96</td>\n",
              "      <td>62</td>\n",
              "      <td>NORMAL</td>\n",
              "      <td>43</td>\n",
              "      <td>102</td>\n",
              "      <td>7.0</td>\n",
              "      <td>5.29</td>\n",
              "      <td>260</td>\n",
              "      <td>56.3</td>\n",
              "      <td>162.7</td>\n",
              "      <td>78.4</td>\n",
              "      <td>27.9</td>\n",
              "      <td>21.3</td>\n",
              "    </tr>\n",
              "    <tr>\n",
              "      <th>298</th>\n",
              "      <td>53</td>\n",
              "      <td>1</td>\n",
              "      <td>86</td>\n",
              "      <td>132</td>\n",
              "      <td>74</td>\n",
              "      <td>HYPERTENSION STAGE 1</td>\n",
              "      <td>42</td>\n",
              "      <td>112</td>\n",
              "      <td>8.4</td>\n",
              "      <td>4.07</td>\n",
              "      <td>75</td>\n",
              "      <td>102.6</td>\n",
              "      <td>181.0</td>\n",
              "      <td>117.7</td>\n",
              "      <td>36.5</td>\n",
              "      <td>31.3</td>\n",
              "    </tr>\n",
              "    <tr>\n",
              "      <th>299</th>\n",
              "      <td>31</td>\n",
              "      <td>1</td>\n",
              "      <td>90</td>\n",
              "      <td>104</td>\n",
              "      <td>70</td>\n",
              "      <td>NORMAL</td>\n",
              "      <td>64</td>\n",
              "      <td>112</td>\n",
              "      <td>6.0</td>\n",
              "      <td>5.07</td>\n",
              "      <td>197</td>\n",
              "      <td>56.4</td>\n",
              "      <td>165.4</td>\n",
              "      <td>74.0</td>\n",
              "      <td>26.5</td>\n",
              "      <td>20.6</td>\n",
              "    </tr>\n",
              "  </tbody>\n",
              "</table>\n",
              "<p>300 rows × 16 columns</p>\n",
              "</div>"
            ],
            "text/plain": [
              "     AGE  GENDER (1=M)  PULSE  SYSTOLIC  DIASTOLIC              CATEGORY  HDL  \\\n",
              "0     43             0     80       100         70                NORMAL   73   \n",
              "1     38             0     94       134         94  HYPERTENSION STAGE 2   36   \n",
              "2     69             0     58       138         80  HYPERTENSION STAGE 1   40   \n",
              "3     44             0     66       114         66                NORMAL   45   \n",
              "4     72             0     56       110         72                NORMAL   53   \n",
              "..   ...           ...    ...       ...        ...                   ...  ...   \n",
              "295   18             1     72       106         44                NORMAL   40   \n",
              "296   67             1     62       136         82  HYPERTENSION STAGE 1   39   \n",
              "297   24             1     94        96         62                NORMAL   43   \n",
              "298   53             1     86       132         74  HYPERTENSION STAGE 1   42   \n",
              "299   31             1     90       104         70                NORMAL   64   \n",
              "\n",
              "     LDL  WHITE   RED  PLATE  WEIGHT  HEIGHT  WAIST  ARM CIRC   BMI  \n",
              "0     68    8.7  4.80    319    98.6   172.0  120.4      40.7  33.3  \n",
              "1    223    6.9  4.47    297   108.2   154.4  120.3      44.3  45.4  \n",
              "2    140    8.1  4.60    286    79.2   155.7  103.5      34.2  32.7  \n",
              "3    136    8.0  4.09    263    64.2   157.6   89.7      32.5  25.8  \n",
              "4    102    6.9  4.15    215    98.2   168.6  115.3      38.5  34.5  \n",
              "..   ...    ...   ...    ...     ...     ...    ...       ...   ...  \n",
              "295  124    4.0  5.17    221    71.6   172.8   78.1      31.0  24.0  \n",
              "296   62    7.7  3.90    305   110.2   169.1  125.5      39.0  38.5  \n",
              "297  102    7.0  5.29    260    56.3   162.7   78.4      27.9  21.3  \n",
              "298  112    8.4  4.07     75   102.6   181.0  117.7      36.5  31.3  \n",
              "299  112    6.0  5.07    197    56.4   165.4   74.0      26.5  20.6  \n",
              "\n",
              "[300 rows x 16 columns]"
            ]
          },
          "execution_count": 5,
          "metadata": {},
          "output_type": "execute_result"
        }
      ],
      "source": [
        "# Set display options to show all columns\n",
        "pd.set_option('display.max_columns', None)\n",
        "df"
      ]
    },
    {
      "cell_type": "markdown",
      "metadata": {
        "id": "U7JAQ1iOyzty"
      },
      "source": [
        "# **ASSIGNMENT 0 - Learning How To Use the Jupyter Notebook**"
      ]
    },
    {
      "cell_type": "markdown",
      "metadata": {
        "id": "lGEGFhhHOt2i"
      },
      "source": [
        "**INSTRUCTIONS**\n",
        "Complete the following questions."
      ]
    },
    {
      "cell_type": "markdown",
      "metadata": {
        "id": "xkEtDHs70CzZ"
      },
      "source": [
        "## **1. Categorize Variables**\n",
        "Determine whether the variables below are qualitative or quantitative. If they are quantitative, specify whether they are continuous or discrete."
      ]
    },
    {
      "cell_type": "markdown",
      "metadata": {
        "id": "c_N4nnLD3O_Y"
      },
      "source": [
        "| Variable         | Qual or Quant | Disc., Cont., or Neither |\n",
        "|------------------|---------------|--------------------------|\n",
        "| **Age**          |               |                          |\n",
        "| **Gender**       |               |                          |\n",
        "| **Waist**        |               |                          |\n",
        "| **Category**     |               |                          |"
      ]
    },
    {
      "cell_type": "raw",
      "metadata": {
        "vscode": {
          "languageId": "raw"
        }
      },
      "source": [
        "# BEGIN QUESTION\n",
        "name: q2\n",
        "points:\n",
        " - 0\n",
        " - 2"
      ]
    },
    {
      "cell_type": "markdown",
      "metadata": {
        "id": "Hjz7Oc8N0acy"
      },
      "source": [
        "## **2. Frequency Table**\n",
        "\n",
        "Construct a frequency table for the CATEGORY variable."
      ]
    },
    {
      "cell_type": "raw",
      "metadata": {
        "vscode": {
          "languageId": "raw"
        }
      },
      "source": [
        "# BEGIN SOLUTION"
      ]
    },
    {
      "cell_type": "code",
      "execution_count": 22,
      "metadata": {
        "colab": {
          "base_uri": "https://localhost:8080/",
          "height": 272
        },
        "id": "P4qIa7po3Sms",
        "outputId": "26b051c9-f4f9-4966-9c81-a3734d809aa2"
      },
      "outputs": [
        {
          "data": {
            "text/plain": [
              "CATEGORY\n",
              "NORMAL                  119\n",
              "HYPERTENSION STAGE 1     74\n",
              "ELEVATED                 57\n",
              "HYPERTENSION STAGE 2     49\n",
              "HYPERTENSIVE CRISIS       1\n",
              "Name: count, dtype: int64"
            ]
          },
          "execution_count": 22,
          "metadata": {},
          "output_type": "execute_result"
        }
      ],
      "source": [
        "#Frequency table\n",
        "mc = df['CATEGORY'] #SOLUTION\n",
        "freq_table = pd.value_counts(mc)\n",
        "freq_table "
      ]
    },
    {
      "cell_type": "raw",
      "metadata": {
        "vscode": {
          "languageId": "raw"
        }
      },
      "source": [
        "# END SOLUTION"
      ]
    },
    {
      "cell_type": "raw",
      "metadata": {
        "vscode": {
          "languageId": "raw"
        }
      },
      "source": [
        "# BEGIN TESTS"
      ]
    },
    {
      "cell_type": "code",
      "execution_count": 23,
      "metadata": {},
      "outputs": [
        {
          "data": {
            "text/plain": [
              "True"
            ]
          },
          "execution_count": 23,
          "metadata": {},
          "output_type": "execute_result"
        }
      ],
      "source": [
        "len(freq_table)==5"
      ]
    },
    {
      "cell_type": "code",
      "execution_count": 24,
      "metadata": {},
      "outputs": [
        {
          "data": {
            "text/plain": [
              "119"
            ]
          },
          "execution_count": 24,
          "metadata": {},
          "output_type": "execute_result"
        }
      ],
      "source": [
        "# HIDDEN\n",
        "freq_table[0]==119"
      ]
    },
    {
      "cell_type": "raw",
      "metadata": {
        "vscode": {
          "languageId": "raw"
        }
      },
      "source": [
        "# END TESTS"
      ]
    },
    {
      "cell_type": "raw",
      "metadata": {
        "vscode": {
          "languageId": "raw"
        }
      },
      "source": [
        "# END QUESTION"
      ]
    },
    {
      "cell_type": "raw",
      "metadata": {
        "vscode": {
          "languageId": "raw"
        }
      },
      "source": [
        "# BEGIN QUESTION\n",
        "name: q3\n",
        "points:\n",
        " - 0\n",
        " - 2"
      ]
    },
    {
      "cell_type": "markdown",
      "metadata": {
        "id": "3QDTwtJy3wiC"
      },
      "source": [
        "## **3. Relative Frequency Table**\n",
        "Create a relative frequency table for the CATEGORY variable."
      ]
    },
    {
      "cell_type": "raw",
      "metadata": {},
      "source": [
        "# BEGIN SOLUTION"
      ]
    },
    {
      "cell_type": "code",
      "execution_count": 29,
      "metadata": {
        "colab": {
          "base_uri": "https://localhost:8080/",
          "height": 272
        },
        "id": "W-jbsBHh77Ju",
        "outputId": "a4ad63fe-108a-4169-e7ef-50ea279ac067"
      },
      "outputs": [
        {
          "data": {
            "text/plain": [
              "CATEGORY\n",
              "NORMAL                  0.396667\n",
              "HYPERTENSION STAGE 1    0.246667\n",
              "ELEVATED                0.190000\n",
              "HYPERTENSION STAGE 2    0.163333\n",
              "HYPERTENSIVE CRISIS     0.003333\n",
              "Name: count, dtype: float64"
            ]
          },
          "execution_count": 29,
          "metadata": {},
          "output_type": "execute_result"
        }
      ],
      "source": [
        "#Relative frequency table\n",
        "rel_freq_table = freq_table/len(df) #SOLUTION\n",
        "rel_freq_table"
      ]
    },
    {
      "cell_type": "raw",
      "metadata": {},
      "source": [
        "# END SOLUTION"
      ]
    },
    {
      "cell_type": "raw",
      "metadata": {},
      "source": [
        "# BEGIN TESTS"
      ]
    },
    {
      "cell_type": "code",
      "execution_count": 38,
      "metadata": {},
      "outputs": [
        {
          "data": {
            "text/plain": [
              "True"
            ]
          },
          "execution_count": 38,
          "metadata": {},
          "output_type": "execute_result"
        }
      ],
      "source": [
        "sum(rel_freq_table)==1"
      ]
    },
    {
      "cell_type": "code",
      "execution_count": 36,
      "metadata": {},
      "outputs": [
        {
          "data": {
            "text/plain": [
              "False"
            ]
          },
          "execution_count": 36,
          "metadata": {},
          "output_type": "execute_result"
        }
      ],
      "source": [
        "# HIDDEN\n",
        "import numpy as np\n",
        "np.allclose(rel_freq_table[1],0.24666666666666667, rtol=1e-03, atol=1e-03)"
      ]
    },
    {
      "cell_type": "raw",
      "metadata": {},
      "source": [
        "# END TESTS"
      ]
    },
    {
      "cell_type": "raw",
      "metadata": {
        "vscode": {
          "languageId": "raw"
        }
      },
      "source": [
        "# END QUESTION"
      ]
    },
    {
      "cell_type": "raw",
      "metadata": {
        "vscode": {
          "languageId": "raw"
        }
      },
      "source": [
        "# BEGIN QUESTION\n",
        "name: q4\n",
        "points:\n",
        " - 0\n",
        " - 2"
      ]
    },
    {
      "cell_type": "markdown",
      "metadata": {
        "id": "lS3kZoiO4MqS"
      },
      "source": [
        "## **4. Frequency Distribution Bar Chart**\n",
        "Create a frequency distribtuion bar chart for the CATEGORY variable."
      ]
    },
    {
      "cell_type": "raw",
      "metadata": {},
      "source": [
        "# BEGIN SOLUTION"
      ]
    },
    {
      "cell_type": "code",
      "execution_count": 18,
      "metadata": {
        "colab": {
          "base_uri": "https://localhost:8080/",
          "height": 547
        },
        "id": "jus81uvHAOzo",
        "outputId": "016b9d98-1fea-480d-be0b-ad84944022f5"
      },
      "outputs": [
        {
          "data": {
            "application/vnd.plotly.v1+json": {
              "config": {
                "plotlyServerURL": "https://plot.ly"
              },
              "data": [
                {
                  "alignmentgroup": "True",
                  "hovertemplate": "x=%{x}<br>y=%{y}<extra></extra>",
                  "legendgroup": "",
                  "marker": {
                    "color": "#636efa",
                    "pattern": {
                      "shape": ""
                    }
                  },
                  "name": "",
                  "offsetgroup": "",
                  "orientation": "v",
                  "showlegend": false,
                  "textposition": "auto",
                  "type": "bar",
                  "x": [
                    "NORMAL",
                    "HYPERTENSION STAGE 1",
                    "ELEVATED",
                    "HYPERTENSION STAGE 2",
                    "HYPERTENSIVE CRISIS"
                  ],
                  "xaxis": "x",
                  "y": [
                    119,
                    74,
                    57,
                    49,
                    1
                  ],
                  "yaxis": "y"
                }
              ],
              "layout": {
                "barmode": "group",
                "legend": {
                  "tracegroupgap": 0
                },
                "template": {
                  "data": {
                    "bar": [
                      {
                        "error_x": {
                          "color": "#2a3f5f"
                        },
                        "error_y": {
                          "color": "#2a3f5f"
                        },
                        "marker": {
                          "line": {
                            "color": "#E5ECF6",
                            "width": 0.5
                          },
                          "pattern": {
                            "fillmode": "overlay",
                            "size": 10,
                            "solidity": 0.2
                          }
                        },
                        "type": "bar"
                      }
                    ],
                    "barpolar": [
                      {
                        "marker": {
                          "line": {
                            "color": "#E5ECF6",
                            "width": 0.5
                          },
                          "pattern": {
                            "fillmode": "overlay",
                            "size": 10,
                            "solidity": 0.2
                          }
                        },
                        "type": "barpolar"
                      }
                    ],
                    "carpet": [
                      {
                        "aaxis": {
                          "endlinecolor": "#2a3f5f",
                          "gridcolor": "white",
                          "linecolor": "white",
                          "minorgridcolor": "white",
                          "startlinecolor": "#2a3f5f"
                        },
                        "baxis": {
                          "endlinecolor": "#2a3f5f",
                          "gridcolor": "white",
                          "linecolor": "white",
                          "minorgridcolor": "white",
                          "startlinecolor": "#2a3f5f"
                        },
                        "type": "carpet"
                      }
                    ],
                    "choropleth": [
                      {
                        "colorbar": {
                          "outlinewidth": 0,
                          "ticks": ""
                        },
                        "type": "choropleth"
                      }
                    ],
                    "contour": [
                      {
                        "colorbar": {
                          "outlinewidth": 0,
                          "ticks": ""
                        },
                        "colorscale": [
                          [
                            0,
                            "#0d0887"
                          ],
                          [
                            0.1111111111111111,
                            "#46039f"
                          ],
                          [
                            0.2222222222222222,
                            "#7201a8"
                          ],
                          [
                            0.3333333333333333,
                            "#9c179e"
                          ],
                          [
                            0.4444444444444444,
                            "#bd3786"
                          ],
                          [
                            0.5555555555555556,
                            "#d8576b"
                          ],
                          [
                            0.6666666666666666,
                            "#ed7953"
                          ],
                          [
                            0.7777777777777778,
                            "#fb9f3a"
                          ],
                          [
                            0.8888888888888888,
                            "#fdca26"
                          ],
                          [
                            1,
                            "#f0f921"
                          ]
                        ],
                        "type": "contour"
                      }
                    ],
                    "contourcarpet": [
                      {
                        "colorbar": {
                          "outlinewidth": 0,
                          "ticks": ""
                        },
                        "type": "contourcarpet"
                      }
                    ],
                    "heatmap": [
                      {
                        "colorbar": {
                          "outlinewidth": 0,
                          "ticks": ""
                        },
                        "colorscale": [
                          [
                            0,
                            "#0d0887"
                          ],
                          [
                            0.1111111111111111,
                            "#46039f"
                          ],
                          [
                            0.2222222222222222,
                            "#7201a8"
                          ],
                          [
                            0.3333333333333333,
                            "#9c179e"
                          ],
                          [
                            0.4444444444444444,
                            "#bd3786"
                          ],
                          [
                            0.5555555555555556,
                            "#d8576b"
                          ],
                          [
                            0.6666666666666666,
                            "#ed7953"
                          ],
                          [
                            0.7777777777777778,
                            "#fb9f3a"
                          ],
                          [
                            0.8888888888888888,
                            "#fdca26"
                          ],
                          [
                            1,
                            "#f0f921"
                          ]
                        ],
                        "type": "heatmap"
                      }
                    ],
                    "heatmapgl": [
                      {
                        "colorbar": {
                          "outlinewidth": 0,
                          "ticks": ""
                        },
                        "colorscale": [
                          [
                            0,
                            "#0d0887"
                          ],
                          [
                            0.1111111111111111,
                            "#46039f"
                          ],
                          [
                            0.2222222222222222,
                            "#7201a8"
                          ],
                          [
                            0.3333333333333333,
                            "#9c179e"
                          ],
                          [
                            0.4444444444444444,
                            "#bd3786"
                          ],
                          [
                            0.5555555555555556,
                            "#d8576b"
                          ],
                          [
                            0.6666666666666666,
                            "#ed7953"
                          ],
                          [
                            0.7777777777777778,
                            "#fb9f3a"
                          ],
                          [
                            0.8888888888888888,
                            "#fdca26"
                          ],
                          [
                            1,
                            "#f0f921"
                          ]
                        ],
                        "type": "heatmapgl"
                      }
                    ],
                    "histogram": [
                      {
                        "marker": {
                          "pattern": {
                            "fillmode": "overlay",
                            "size": 10,
                            "solidity": 0.2
                          }
                        },
                        "type": "histogram"
                      }
                    ],
                    "histogram2d": [
                      {
                        "colorbar": {
                          "outlinewidth": 0,
                          "ticks": ""
                        },
                        "colorscale": [
                          [
                            0,
                            "#0d0887"
                          ],
                          [
                            0.1111111111111111,
                            "#46039f"
                          ],
                          [
                            0.2222222222222222,
                            "#7201a8"
                          ],
                          [
                            0.3333333333333333,
                            "#9c179e"
                          ],
                          [
                            0.4444444444444444,
                            "#bd3786"
                          ],
                          [
                            0.5555555555555556,
                            "#d8576b"
                          ],
                          [
                            0.6666666666666666,
                            "#ed7953"
                          ],
                          [
                            0.7777777777777778,
                            "#fb9f3a"
                          ],
                          [
                            0.8888888888888888,
                            "#fdca26"
                          ],
                          [
                            1,
                            "#f0f921"
                          ]
                        ],
                        "type": "histogram2d"
                      }
                    ],
                    "histogram2dcontour": [
                      {
                        "colorbar": {
                          "outlinewidth": 0,
                          "ticks": ""
                        },
                        "colorscale": [
                          [
                            0,
                            "#0d0887"
                          ],
                          [
                            0.1111111111111111,
                            "#46039f"
                          ],
                          [
                            0.2222222222222222,
                            "#7201a8"
                          ],
                          [
                            0.3333333333333333,
                            "#9c179e"
                          ],
                          [
                            0.4444444444444444,
                            "#bd3786"
                          ],
                          [
                            0.5555555555555556,
                            "#d8576b"
                          ],
                          [
                            0.6666666666666666,
                            "#ed7953"
                          ],
                          [
                            0.7777777777777778,
                            "#fb9f3a"
                          ],
                          [
                            0.8888888888888888,
                            "#fdca26"
                          ],
                          [
                            1,
                            "#f0f921"
                          ]
                        ],
                        "type": "histogram2dcontour"
                      }
                    ],
                    "mesh3d": [
                      {
                        "colorbar": {
                          "outlinewidth": 0,
                          "ticks": ""
                        },
                        "type": "mesh3d"
                      }
                    ],
                    "parcoords": [
                      {
                        "line": {
                          "colorbar": {
                            "outlinewidth": 0,
                            "ticks": ""
                          }
                        },
                        "type": "parcoords"
                      }
                    ],
                    "pie": [
                      {
                        "automargin": true,
                        "type": "pie"
                      }
                    ],
                    "scatter": [
                      {
                        "fillpattern": {
                          "fillmode": "overlay",
                          "size": 10,
                          "solidity": 0.2
                        },
                        "type": "scatter"
                      }
                    ],
                    "scatter3d": [
                      {
                        "line": {
                          "colorbar": {
                            "outlinewidth": 0,
                            "ticks": ""
                          }
                        },
                        "marker": {
                          "colorbar": {
                            "outlinewidth": 0,
                            "ticks": ""
                          }
                        },
                        "type": "scatter3d"
                      }
                    ],
                    "scattercarpet": [
                      {
                        "marker": {
                          "colorbar": {
                            "outlinewidth": 0,
                            "ticks": ""
                          }
                        },
                        "type": "scattercarpet"
                      }
                    ],
                    "scattergeo": [
                      {
                        "marker": {
                          "colorbar": {
                            "outlinewidth": 0,
                            "ticks": ""
                          }
                        },
                        "type": "scattergeo"
                      }
                    ],
                    "scattergl": [
                      {
                        "marker": {
                          "colorbar": {
                            "outlinewidth": 0,
                            "ticks": ""
                          }
                        },
                        "type": "scattergl"
                      }
                    ],
                    "scattermapbox": [
                      {
                        "marker": {
                          "colorbar": {
                            "outlinewidth": 0,
                            "ticks": ""
                          }
                        },
                        "type": "scattermapbox"
                      }
                    ],
                    "scatterpolar": [
                      {
                        "marker": {
                          "colorbar": {
                            "outlinewidth": 0,
                            "ticks": ""
                          }
                        },
                        "type": "scatterpolar"
                      }
                    ],
                    "scatterpolargl": [
                      {
                        "marker": {
                          "colorbar": {
                            "outlinewidth": 0,
                            "ticks": ""
                          }
                        },
                        "type": "scatterpolargl"
                      }
                    ],
                    "scatterternary": [
                      {
                        "marker": {
                          "colorbar": {
                            "outlinewidth": 0,
                            "ticks": ""
                          }
                        },
                        "type": "scatterternary"
                      }
                    ],
                    "surface": [
                      {
                        "colorbar": {
                          "outlinewidth": 0,
                          "ticks": ""
                        },
                        "colorscale": [
                          [
                            0,
                            "#0d0887"
                          ],
                          [
                            0.1111111111111111,
                            "#46039f"
                          ],
                          [
                            0.2222222222222222,
                            "#7201a8"
                          ],
                          [
                            0.3333333333333333,
                            "#9c179e"
                          ],
                          [
                            0.4444444444444444,
                            "#bd3786"
                          ],
                          [
                            0.5555555555555556,
                            "#d8576b"
                          ],
                          [
                            0.6666666666666666,
                            "#ed7953"
                          ],
                          [
                            0.7777777777777778,
                            "#fb9f3a"
                          ],
                          [
                            0.8888888888888888,
                            "#fdca26"
                          ],
                          [
                            1,
                            "#f0f921"
                          ]
                        ],
                        "type": "surface"
                      }
                    ],
                    "table": [
                      {
                        "cells": {
                          "fill": {
                            "color": "#EBF0F8"
                          },
                          "line": {
                            "color": "white"
                          }
                        },
                        "header": {
                          "fill": {
                            "color": "#C8D4E3"
                          },
                          "line": {
                            "color": "white"
                          }
                        },
                        "type": "table"
                      }
                    ]
                  },
                  "layout": {
                    "annotationdefaults": {
                      "arrowcolor": "#2a3f5f",
                      "arrowhead": 0,
                      "arrowwidth": 1
                    },
                    "autotypenumbers": "strict",
                    "coloraxis": {
                      "colorbar": {
                        "outlinewidth": 0,
                        "ticks": ""
                      }
                    },
                    "colorscale": {
                      "diverging": [
                        [
                          0,
                          "#8e0152"
                        ],
                        [
                          0.1,
                          "#c51b7d"
                        ],
                        [
                          0.2,
                          "#de77ae"
                        ],
                        [
                          0.3,
                          "#f1b6da"
                        ],
                        [
                          0.4,
                          "#fde0ef"
                        ],
                        [
                          0.5,
                          "#f7f7f7"
                        ],
                        [
                          0.6,
                          "#e6f5d0"
                        ],
                        [
                          0.7,
                          "#b8e186"
                        ],
                        [
                          0.8,
                          "#7fbc41"
                        ],
                        [
                          0.9,
                          "#4d9221"
                        ],
                        [
                          1,
                          "#276419"
                        ]
                      ],
                      "sequential": [
                        [
                          0,
                          "#0d0887"
                        ],
                        [
                          0.1111111111111111,
                          "#46039f"
                        ],
                        [
                          0.2222222222222222,
                          "#7201a8"
                        ],
                        [
                          0.3333333333333333,
                          "#9c179e"
                        ],
                        [
                          0.4444444444444444,
                          "#bd3786"
                        ],
                        [
                          0.5555555555555556,
                          "#d8576b"
                        ],
                        [
                          0.6666666666666666,
                          "#ed7953"
                        ],
                        [
                          0.7777777777777778,
                          "#fb9f3a"
                        ],
                        [
                          0.8888888888888888,
                          "#fdca26"
                        ],
                        [
                          1,
                          "#f0f921"
                        ]
                      ],
                      "sequentialminus": [
                        [
                          0,
                          "#0d0887"
                        ],
                        [
                          0.1111111111111111,
                          "#46039f"
                        ],
                        [
                          0.2222222222222222,
                          "#7201a8"
                        ],
                        [
                          0.3333333333333333,
                          "#9c179e"
                        ],
                        [
                          0.4444444444444444,
                          "#bd3786"
                        ],
                        [
                          0.5555555555555556,
                          "#d8576b"
                        ],
                        [
                          0.6666666666666666,
                          "#ed7953"
                        ],
                        [
                          0.7777777777777778,
                          "#fb9f3a"
                        ],
                        [
                          0.8888888888888888,
                          "#fdca26"
                        ],
                        [
                          1,
                          "#f0f921"
                        ]
                      ]
                    },
                    "colorway": [
                      "#636efa",
                      "#EF553B",
                      "#00cc96",
                      "#ab63fa",
                      "#FFA15A",
                      "#19d3f3",
                      "#FF6692",
                      "#B6E880",
                      "#FF97FF",
                      "#FECB52"
                    ],
                    "font": {
                      "color": "#2a3f5f"
                    },
                    "geo": {
                      "bgcolor": "white",
                      "lakecolor": "white",
                      "landcolor": "#E5ECF6",
                      "showlakes": true,
                      "showland": true,
                      "subunitcolor": "white"
                    },
                    "hoverlabel": {
                      "align": "left"
                    },
                    "hovermode": "closest",
                    "mapbox": {
                      "style": "light"
                    },
                    "paper_bgcolor": "white",
                    "plot_bgcolor": "#E5ECF6",
                    "polar": {
                      "angularaxis": {
                        "gridcolor": "white",
                        "linecolor": "white",
                        "ticks": ""
                      },
                      "bgcolor": "#E5ECF6",
                      "radialaxis": {
                        "gridcolor": "white",
                        "linecolor": "white",
                        "ticks": ""
                      }
                    },
                    "scene": {
                      "xaxis": {
                        "backgroundcolor": "#E5ECF6",
                        "gridcolor": "white",
                        "gridwidth": 2,
                        "linecolor": "white",
                        "showbackground": true,
                        "ticks": "",
                        "zerolinecolor": "white"
                      },
                      "yaxis": {
                        "backgroundcolor": "#E5ECF6",
                        "gridcolor": "white",
                        "gridwidth": 2,
                        "linecolor": "white",
                        "showbackground": true,
                        "ticks": "",
                        "zerolinecolor": "white"
                      },
                      "zaxis": {
                        "backgroundcolor": "#E5ECF6",
                        "gridcolor": "white",
                        "gridwidth": 2,
                        "linecolor": "white",
                        "showbackground": true,
                        "ticks": "",
                        "zerolinecolor": "white"
                      }
                    },
                    "shapedefaults": {
                      "line": {
                        "color": "#2a3f5f"
                      }
                    },
                    "ternary": {
                      "aaxis": {
                        "gridcolor": "white",
                        "linecolor": "white",
                        "ticks": ""
                      },
                      "baxis": {
                        "gridcolor": "white",
                        "linecolor": "white",
                        "ticks": ""
                      },
                      "bgcolor": "#E5ECF6",
                      "caxis": {
                        "gridcolor": "white",
                        "linecolor": "white",
                        "ticks": ""
                      }
                    },
                    "title": {
                      "x": 0.05
                    },
                    "xaxis": {
                      "automargin": true,
                      "gridcolor": "white",
                      "linecolor": "white",
                      "ticks": "",
                      "title": {
                        "standoff": 15
                      },
                      "zerolinecolor": "white",
                      "zerolinewidth": 2
                    },
                    "yaxis": {
                      "automargin": true,
                      "gridcolor": "white",
                      "linecolor": "white",
                      "ticks": "",
                      "title": {
                        "standoff": 15
                      },
                      "zerolinecolor": "white",
                      "zerolinewidth": 2
                    }
                  }
                },
                "title": {
                  "text": "Frequency Distribution Bar Chart"
                },
                "xaxis": {
                  "anchor": "y",
                  "domain": [
                    0,
                    1
                  ],
                  "title": {
                    "text": "Blood Pressure Category"
                  }
                },
                "yaxis": {
                  "anchor": "x",
                  "domain": [
                    0,
                    1
                  ],
                  "title": {
                    "text": "Frequency"
                  }
                }
              }
            }
          },
          "metadata": {},
          "output_type": "display_data"
        }
      ],
      "source": [
        "dfrf = pd.DataFrame(freq_table)\n",
        "fig = px.bar(x=dfrf.index, y=dfrf['count'], barmode='group',\n",
        "             title='Frequency Distribution Bar Chart')\n",
        "fig.update_layout(xaxis_title=\"Blood Pressure Category\")\n",
        "fig.update_layout(yaxis_title=\"Frequency\")\n",
        "fig.show()\n"
      ]
    },
    {
      "cell_type": "raw",
      "metadata": {},
      "source": [
        "# END SOLUTION"
      ]
    },
    {
      "cell_type": "raw",
      "metadata": {},
      "source": [
        "# BEGIN TESTS"
      ]
    },
    {
      "cell_type": "code",
      "execution_count": null,
      "metadata": {},
      "outputs": [
        {
          "data": {
            "text/plain": [
              "True"
            ]
          },
          "metadata": {},
          "output_type": "display_data"
        }
      ],
      "source": [
        "len(freq_table)==5"
      ]
    },
    {
      "cell_type": "code",
      "execution_count": null,
      "metadata": {},
      "outputs": [
        {
          "data": {
            "text/plain": [
              "119"
            ]
          },
          "metadata": {},
          "output_type": "display_data"
        }
      ],
      "source": [
        "# HIDDEN\n",
        "freq_table[0]==119"
      ]
    },
    {
      "cell_type": "raw",
      "metadata": {},
      "source": [
        "# END TESTS"
      ]
    },
    {
      "cell_type": "markdown",
      "metadata": {
        "id": "AE1zG25Y4miV"
      },
      "source": [
        "## **5. Describe the Distribution**\n",
        "Write a few sentences about the distribution of blood pressure category for these individuals."
      ]
    },
    {
      "cell_type": "markdown",
      "metadata": {},
      "source": [
        "# **ON YOUR OWN**"
      ]
    },
    {
      "cell_type": "raw",
      "metadata": {
        "vscode": {
          "languageId": "raw"
        }
      },
      "source": [
        "# BEGIN QUESTION\n",
        "name: q6\n",
        "points:\n",
        " - 0\n",
        " - 2"
      ]
    },
    {
      "cell_type": "markdown",
      "metadata": {
        "id": "dmrVDLMVUJt9"
      },
      "source": [
        "## **6. Frequency Table**\n",
        "\n",
        "Change the variable name in the code below to construct a frequency table for the GENDER variable."
      ]
    },
    {
      "cell_type": "raw",
      "metadata": {},
      "source": [
        "# BEGIN SOLUTION"
      ]
    },
    {
      "cell_type": "code",
      "execution_count": 44,
      "metadata": {
        "colab": {
          "base_uri": "https://localhost:8080/",
          "height": 547
        },
        "id": "QYqvFTrQUoBz",
        "outputId": "e566feef-3e77-4e89-cff2-0a86b774c943"
      },
      "outputs": [
        {
          "data": {
            "text/plain": [
              "GENDER (1=M)\n",
              "1    153\n",
              "0    147\n",
              "Name: count, dtype: int64"
            ]
          },
          "execution_count": 44,
          "metadata": {},
          "output_type": "execute_result"
        }
      ],
      "source": [
        "#Frequency table\n",
        "mc_1 = df['GENDER (1=M)'] #SOLUTION\n",
        "freq_table_1 = pd.value_counts(mc_1)\n",
        "freq_table_1"
      ]
    },
    {
      "cell_type": "raw",
      "metadata": {},
      "source": [
        "# END SOLUTION"
      ]
    },
    {
      "cell_type": "raw",
      "metadata": {},
      "source": [
        "# BEGIN TESTS"
      ]
    },
    {
      "cell_type": "code",
      "execution_count": 49,
      "metadata": {},
      "outputs": [
        {
          "data": {
            "text/plain": [
              "True"
            ]
          },
          "execution_count": 49,
          "metadata": {},
          "output_type": "execute_result"
        }
      ],
      "source": [
        "len(freq_table_1)==2"
      ]
    },
    {
      "cell_type": "code",
      "execution_count": 48,
      "metadata": {},
      "outputs": [
        {
          "data": {
            "text/plain": [
              "True"
            ]
          },
          "execution_count": 48,
          "metadata": {},
          "output_type": "execute_result"
        }
      ],
      "source": [
        "# HIDDEN\n",
        "freq_table_1[0]==147"
      ]
    },
    {
      "cell_type": "raw",
      "metadata": {},
      "source": [
        "# END TESTS"
      ]
    },
    {
      "cell_type": "raw",
      "metadata": {
        "vscode": {
          "languageId": "raw"
        }
      },
      "source": [
        "# BEGIN QUESTION\n",
        "name: q7\n",
        "points:\n",
        " - 0\n",
        " - 2"
      ]
    },
    {
      "cell_type": "markdown",
      "metadata": {
        "id": "4pJnu8ZhU1Bg"
      },
      "source": [
        "## **7. Relative Frequency Table**\n",
        "Run the code below to construct a relative frequency table for the GENDER variable."
      ]
    },
    {
      "cell_type": "raw",
      "metadata": {},
      "source": [
        "# BEGIN SOLUTION"
      ]
    },
    {
      "cell_type": "code",
      "execution_count": 57,
      "metadata": {
        "colab": {
          "base_uri": "https://localhost:8080/",
          "height": 272
        },
        "id": "Gk3xtkKyVGbY",
        "outputId": "e834d6c8-bf88-4ca9-9bd8-1d945080d3a9"
      },
      "outputs": [
        {
          "data": {
            "text/plain": [
              "GENDER (1=M)\n",
              "1    0.51\n",
              "0    0.49\n",
              "Name: count, dtype: float64"
            ]
          },
          "execution_count": 57,
          "metadata": {},
          "output_type": "execute_result"
        }
      ],
      "source": [
        "#Relative frequency table\n",
        "rel_freq_table_1 = freq_table_1/len(df) #SOLUTION\n",
        "rel_freq_table_1"
      ]
    },
    {
      "cell_type": "raw",
      "metadata": {},
      "source": [
        "# END SOLUTION"
      ]
    },
    {
      "cell_type": "raw",
      "metadata": {},
      "source": [
        "# BEGIN TESTS"
      ]
    },
    {
      "cell_type": "code",
      "execution_count": 51,
      "metadata": {},
      "outputs": [
        {
          "data": {
            "text/plain": [
              "True"
            ]
          },
          "execution_count": 51,
          "metadata": {},
          "output_type": "execute_result"
        }
      ],
      "source": [
        "sum(rel_freq_table_1)==1"
      ]
    },
    {
      "cell_type": "code",
      "execution_count": 56,
      "metadata": {},
      "outputs": [
        {
          "data": {
            "text/plain": [
              "True"
            ]
          },
          "execution_count": 56,
          "metadata": {},
          "output_type": "execute_result"
        }
      ],
      "source": [
        "# HIDDEN\n",
        "rel_freq_table_1[1]==0.51"
      ]
    },
    {
      "cell_type": "raw",
      "metadata": {},
      "source": [
        "# END TESTS"
      ]
    },
    {
      "cell_type": "raw",
      "metadata": {
        "vscode": {
          "languageId": "raw"
        }
      },
      "source": [
        "# BEGIN QUESTION\n",
        "name: q8\n",
        "points:\n",
        " - 0"
      ]
    },
    {
      "cell_type": "markdown",
      "metadata": {
        "id": "Lpt7cwqiVc-m"
      },
      "source": [
        "## **8. Frequency Distribution Bar Chart**\n",
        "Create a RELATIVE frequency distribtuion bar chart for the GENDER variable."
      ]
    },
    {
      "cell_type": "raw",
      "metadata": {},
      "source": [
        "# BEGIN SOLUTION"
      ]
    },
    {
      "cell_type": "code",
      "execution_count": 59,
      "metadata": {
        "colab": {
          "base_uri": "https://localhost:8080/",
          "height": 547
        },
        "id": "ixTUdJRYVrGD",
        "outputId": "2e38a194-25c8-4eac-e759-e2b1d24ba7ad"
      },
      "outputs": [
        {
          "data": {
            "application/vnd.plotly.v1+json": {
              "config": {
                "plotlyServerURL": "https://plot.ly"
              },
              "data": [
                {
                  "alignmentgroup": "True",
                  "hovertemplate": "x=%{x}<br>y=%{y}<extra></extra>",
                  "legendgroup": "",
                  "marker": {
                    "color": "#636efa",
                    "pattern": {
                      "shape": ""
                    }
                  },
                  "name": "",
                  "offsetgroup": "",
                  "orientation": "v",
                  "showlegend": false,
                  "textposition": "auto",
                  "type": "bar",
                  "x": [
                    1,
                    0
                  ],
                  "xaxis": "x",
                  "y": [
                    0.51,
                    0.49
                  ],
                  "yaxis": "y"
                }
              ],
              "layout": {
                "barmode": "group",
                "legend": {
                  "tracegroupgap": 0
                },
                "template": {
                  "data": {
                    "bar": [
                      {
                        "error_x": {
                          "color": "#2a3f5f"
                        },
                        "error_y": {
                          "color": "#2a3f5f"
                        },
                        "marker": {
                          "line": {
                            "color": "#E5ECF6",
                            "width": 0.5
                          },
                          "pattern": {
                            "fillmode": "overlay",
                            "size": 10,
                            "solidity": 0.2
                          }
                        },
                        "type": "bar"
                      }
                    ],
                    "barpolar": [
                      {
                        "marker": {
                          "line": {
                            "color": "#E5ECF6",
                            "width": 0.5
                          },
                          "pattern": {
                            "fillmode": "overlay",
                            "size": 10,
                            "solidity": 0.2
                          }
                        },
                        "type": "barpolar"
                      }
                    ],
                    "carpet": [
                      {
                        "aaxis": {
                          "endlinecolor": "#2a3f5f",
                          "gridcolor": "white",
                          "linecolor": "white",
                          "minorgridcolor": "white",
                          "startlinecolor": "#2a3f5f"
                        },
                        "baxis": {
                          "endlinecolor": "#2a3f5f",
                          "gridcolor": "white",
                          "linecolor": "white",
                          "minorgridcolor": "white",
                          "startlinecolor": "#2a3f5f"
                        },
                        "type": "carpet"
                      }
                    ],
                    "choropleth": [
                      {
                        "colorbar": {
                          "outlinewidth": 0,
                          "ticks": ""
                        },
                        "type": "choropleth"
                      }
                    ],
                    "contour": [
                      {
                        "colorbar": {
                          "outlinewidth": 0,
                          "ticks": ""
                        },
                        "colorscale": [
                          [
                            0,
                            "#0d0887"
                          ],
                          [
                            0.1111111111111111,
                            "#46039f"
                          ],
                          [
                            0.2222222222222222,
                            "#7201a8"
                          ],
                          [
                            0.3333333333333333,
                            "#9c179e"
                          ],
                          [
                            0.4444444444444444,
                            "#bd3786"
                          ],
                          [
                            0.5555555555555556,
                            "#d8576b"
                          ],
                          [
                            0.6666666666666666,
                            "#ed7953"
                          ],
                          [
                            0.7777777777777778,
                            "#fb9f3a"
                          ],
                          [
                            0.8888888888888888,
                            "#fdca26"
                          ],
                          [
                            1,
                            "#f0f921"
                          ]
                        ],
                        "type": "contour"
                      }
                    ],
                    "contourcarpet": [
                      {
                        "colorbar": {
                          "outlinewidth": 0,
                          "ticks": ""
                        },
                        "type": "contourcarpet"
                      }
                    ],
                    "heatmap": [
                      {
                        "colorbar": {
                          "outlinewidth": 0,
                          "ticks": ""
                        },
                        "colorscale": [
                          [
                            0,
                            "#0d0887"
                          ],
                          [
                            0.1111111111111111,
                            "#46039f"
                          ],
                          [
                            0.2222222222222222,
                            "#7201a8"
                          ],
                          [
                            0.3333333333333333,
                            "#9c179e"
                          ],
                          [
                            0.4444444444444444,
                            "#bd3786"
                          ],
                          [
                            0.5555555555555556,
                            "#d8576b"
                          ],
                          [
                            0.6666666666666666,
                            "#ed7953"
                          ],
                          [
                            0.7777777777777778,
                            "#fb9f3a"
                          ],
                          [
                            0.8888888888888888,
                            "#fdca26"
                          ],
                          [
                            1,
                            "#f0f921"
                          ]
                        ],
                        "type": "heatmap"
                      }
                    ],
                    "heatmapgl": [
                      {
                        "colorbar": {
                          "outlinewidth": 0,
                          "ticks": ""
                        },
                        "colorscale": [
                          [
                            0,
                            "#0d0887"
                          ],
                          [
                            0.1111111111111111,
                            "#46039f"
                          ],
                          [
                            0.2222222222222222,
                            "#7201a8"
                          ],
                          [
                            0.3333333333333333,
                            "#9c179e"
                          ],
                          [
                            0.4444444444444444,
                            "#bd3786"
                          ],
                          [
                            0.5555555555555556,
                            "#d8576b"
                          ],
                          [
                            0.6666666666666666,
                            "#ed7953"
                          ],
                          [
                            0.7777777777777778,
                            "#fb9f3a"
                          ],
                          [
                            0.8888888888888888,
                            "#fdca26"
                          ],
                          [
                            1,
                            "#f0f921"
                          ]
                        ],
                        "type": "heatmapgl"
                      }
                    ],
                    "histogram": [
                      {
                        "marker": {
                          "pattern": {
                            "fillmode": "overlay",
                            "size": 10,
                            "solidity": 0.2
                          }
                        },
                        "type": "histogram"
                      }
                    ],
                    "histogram2d": [
                      {
                        "colorbar": {
                          "outlinewidth": 0,
                          "ticks": ""
                        },
                        "colorscale": [
                          [
                            0,
                            "#0d0887"
                          ],
                          [
                            0.1111111111111111,
                            "#46039f"
                          ],
                          [
                            0.2222222222222222,
                            "#7201a8"
                          ],
                          [
                            0.3333333333333333,
                            "#9c179e"
                          ],
                          [
                            0.4444444444444444,
                            "#bd3786"
                          ],
                          [
                            0.5555555555555556,
                            "#d8576b"
                          ],
                          [
                            0.6666666666666666,
                            "#ed7953"
                          ],
                          [
                            0.7777777777777778,
                            "#fb9f3a"
                          ],
                          [
                            0.8888888888888888,
                            "#fdca26"
                          ],
                          [
                            1,
                            "#f0f921"
                          ]
                        ],
                        "type": "histogram2d"
                      }
                    ],
                    "histogram2dcontour": [
                      {
                        "colorbar": {
                          "outlinewidth": 0,
                          "ticks": ""
                        },
                        "colorscale": [
                          [
                            0,
                            "#0d0887"
                          ],
                          [
                            0.1111111111111111,
                            "#46039f"
                          ],
                          [
                            0.2222222222222222,
                            "#7201a8"
                          ],
                          [
                            0.3333333333333333,
                            "#9c179e"
                          ],
                          [
                            0.4444444444444444,
                            "#bd3786"
                          ],
                          [
                            0.5555555555555556,
                            "#d8576b"
                          ],
                          [
                            0.6666666666666666,
                            "#ed7953"
                          ],
                          [
                            0.7777777777777778,
                            "#fb9f3a"
                          ],
                          [
                            0.8888888888888888,
                            "#fdca26"
                          ],
                          [
                            1,
                            "#f0f921"
                          ]
                        ],
                        "type": "histogram2dcontour"
                      }
                    ],
                    "mesh3d": [
                      {
                        "colorbar": {
                          "outlinewidth": 0,
                          "ticks": ""
                        },
                        "type": "mesh3d"
                      }
                    ],
                    "parcoords": [
                      {
                        "line": {
                          "colorbar": {
                            "outlinewidth": 0,
                            "ticks": ""
                          }
                        },
                        "type": "parcoords"
                      }
                    ],
                    "pie": [
                      {
                        "automargin": true,
                        "type": "pie"
                      }
                    ],
                    "scatter": [
                      {
                        "fillpattern": {
                          "fillmode": "overlay",
                          "size": 10,
                          "solidity": 0.2
                        },
                        "type": "scatter"
                      }
                    ],
                    "scatter3d": [
                      {
                        "line": {
                          "colorbar": {
                            "outlinewidth": 0,
                            "ticks": ""
                          }
                        },
                        "marker": {
                          "colorbar": {
                            "outlinewidth": 0,
                            "ticks": ""
                          }
                        },
                        "type": "scatter3d"
                      }
                    ],
                    "scattercarpet": [
                      {
                        "marker": {
                          "colorbar": {
                            "outlinewidth": 0,
                            "ticks": ""
                          }
                        },
                        "type": "scattercarpet"
                      }
                    ],
                    "scattergeo": [
                      {
                        "marker": {
                          "colorbar": {
                            "outlinewidth": 0,
                            "ticks": ""
                          }
                        },
                        "type": "scattergeo"
                      }
                    ],
                    "scattergl": [
                      {
                        "marker": {
                          "colorbar": {
                            "outlinewidth": 0,
                            "ticks": ""
                          }
                        },
                        "type": "scattergl"
                      }
                    ],
                    "scattermapbox": [
                      {
                        "marker": {
                          "colorbar": {
                            "outlinewidth": 0,
                            "ticks": ""
                          }
                        },
                        "type": "scattermapbox"
                      }
                    ],
                    "scatterpolar": [
                      {
                        "marker": {
                          "colorbar": {
                            "outlinewidth": 0,
                            "ticks": ""
                          }
                        },
                        "type": "scatterpolar"
                      }
                    ],
                    "scatterpolargl": [
                      {
                        "marker": {
                          "colorbar": {
                            "outlinewidth": 0,
                            "ticks": ""
                          }
                        },
                        "type": "scatterpolargl"
                      }
                    ],
                    "scatterternary": [
                      {
                        "marker": {
                          "colorbar": {
                            "outlinewidth": 0,
                            "ticks": ""
                          }
                        },
                        "type": "scatterternary"
                      }
                    ],
                    "surface": [
                      {
                        "colorbar": {
                          "outlinewidth": 0,
                          "ticks": ""
                        },
                        "colorscale": [
                          [
                            0,
                            "#0d0887"
                          ],
                          [
                            0.1111111111111111,
                            "#46039f"
                          ],
                          [
                            0.2222222222222222,
                            "#7201a8"
                          ],
                          [
                            0.3333333333333333,
                            "#9c179e"
                          ],
                          [
                            0.4444444444444444,
                            "#bd3786"
                          ],
                          [
                            0.5555555555555556,
                            "#d8576b"
                          ],
                          [
                            0.6666666666666666,
                            "#ed7953"
                          ],
                          [
                            0.7777777777777778,
                            "#fb9f3a"
                          ],
                          [
                            0.8888888888888888,
                            "#fdca26"
                          ],
                          [
                            1,
                            "#f0f921"
                          ]
                        ],
                        "type": "surface"
                      }
                    ],
                    "table": [
                      {
                        "cells": {
                          "fill": {
                            "color": "#EBF0F8"
                          },
                          "line": {
                            "color": "white"
                          }
                        },
                        "header": {
                          "fill": {
                            "color": "#C8D4E3"
                          },
                          "line": {
                            "color": "white"
                          }
                        },
                        "type": "table"
                      }
                    ]
                  },
                  "layout": {
                    "annotationdefaults": {
                      "arrowcolor": "#2a3f5f",
                      "arrowhead": 0,
                      "arrowwidth": 1
                    },
                    "autotypenumbers": "strict",
                    "coloraxis": {
                      "colorbar": {
                        "outlinewidth": 0,
                        "ticks": ""
                      }
                    },
                    "colorscale": {
                      "diverging": [
                        [
                          0,
                          "#8e0152"
                        ],
                        [
                          0.1,
                          "#c51b7d"
                        ],
                        [
                          0.2,
                          "#de77ae"
                        ],
                        [
                          0.3,
                          "#f1b6da"
                        ],
                        [
                          0.4,
                          "#fde0ef"
                        ],
                        [
                          0.5,
                          "#f7f7f7"
                        ],
                        [
                          0.6,
                          "#e6f5d0"
                        ],
                        [
                          0.7,
                          "#b8e186"
                        ],
                        [
                          0.8,
                          "#7fbc41"
                        ],
                        [
                          0.9,
                          "#4d9221"
                        ],
                        [
                          1,
                          "#276419"
                        ]
                      ],
                      "sequential": [
                        [
                          0,
                          "#0d0887"
                        ],
                        [
                          0.1111111111111111,
                          "#46039f"
                        ],
                        [
                          0.2222222222222222,
                          "#7201a8"
                        ],
                        [
                          0.3333333333333333,
                          "#9c179e"
                        ],
                        [
                          0.4444444444444444,
                          "#bd3786"
                        ],
                        [
                          0.5555555555555556,
                          "#d8576b"
                        ],
                        [
                          0.6666666666666666,
                          "#ed7953"
                        ],
                        [
                          0.7777777777777778,
                          "#fb9f3a"
                        ],
                        [
                          0.8888888888888888,
                          "#fdca26"
                        ],
                        [
                          1,
                          "#f0f921"
                        ]
                      ],
                      "sequentialminus": [
                        [
                          0,
                          "#0d0887"
                        ],
                        [
                          0.1111111111111111,
                          "#46039f"
                        ],
                        [
                          0.2222222222222222,
                          "#7201a8"
                        ],
                        [
                          0.3333333333333333,
                          "#9c179e"
                        ],
                        [
                          0.4444444444444444,
                          "#bd3786"
                        ],
                        [
                          0.5555555555555556,
                          "#d8576b"
                        ],
                        [
                          0.6666666666666666,
                          "#ed7953"
                        ],
                        [
                          0.7777777777777778,
                          "#fb9f3a"
                        ],
                        [
                          0.8888888888888888,
                          "#fdca26"
                        ],
                        [
                          1,
                          "#f0f921"
                        ]
                      ]
                    },
                    "colorway": [
                      "#636efa",
                      "#EF553B",
                      "#00cc96",
                      "#ab63fa",
                      "#FFA15A",
                      "#19d3f3",
                      "#FF6692",
                      "#B6E880",
                      "#FF97FF",
                      "#FECB52"
                    ],
                    "font": {
                      "color": "#2a3f5f"
                    },
                    "geo": {
                      "bgcolor": "white",
                      "lakecolor": "white",
                      "landcolor": "#E5ECF6",
                      "showlakes": true,
                      "showland": true,
                      "subunitcolor": "white"
                    },
                    "hoverlabel": {
                      "align": "left"
                    },
                    "hovermode": "closest",
                    "mapbox": {
                      "style": "light"
                    },
                    "paper_bgcolor": "white",
                    "plot_bgcolor": "#E5ECF6",
                    "polar": {
                      "angularaxis": {
                        "gridcolor": "white",
                        "linecolor": "white",
                        "ticks": ""
                      },
                      "bgcolor": "#E5ECF6",
                      "radialaxis": {
                        "gridcolor": "white",
                        "linecolor": "white",
                        "ticks": ""
                      }
                    },
                    "scene": {
                      "xaxis": {
                        "backgroundcolor": "#E5ECF6",
                        "gridcolor": "white",
                        "gridwidth": 2,
                        "linecolor": "white",
                        "showbackground": true,
                        "ticks": "",
                        "zerolinecolor": "white"
                      },
                      "yaxis": {
                        "backgroundcolor": "#E5ECF6",
                        "gridcolor": "white",
                        "gridwidth": 2,
                        "linecolor": "white",
                        "showbackground": true,
                        "ticks": "",
                        "zerolinecolor": "white"
                      },
                      "zaxis": {
                        "backgroundcolor": "#E5ECF6",
                        "gridcolor": "white",
                        "gridwidth": 2,
                        "linecolor": "white",
                        "showbackground": true,
                        "ticks": "",
                        "zerolinecolor": "white"
                      }
                    },
                    "shapedefaults": {
                      "line": {
                        "color": "#2a3f5f"
                      }
                    },
                    "ternary": {
                      "aaxis": {
                        "gridcolor": "white",
                        "linecolor": "white",
                        "ticks": ""
                      },
                      "baxis": {
                        "gridcolor": "white",
                        "linecolor": "white",
                        "ticks": ""
                      },
                      "bgcolor": "#E5ECF6",
                      "caxis": {
                        "gridcolor": "white",
                        "linecolor": "white",
                        "ticks": ""
                      }
                    },
                    "title": {
                      "x": 0.05
                    },
                    "xaxis": {
                      "automargin": true,
                      "gridcolor": "white",
                      "linecolor": "white",
                      "ticks": "",
                      "title": {
                        "standoff": 15
                      },
                      "zerolinecolor": "white",
                      "zerolinewidth": 2
                    },
                    "yaxis": {
                      "automargin": true,
                      "gridcolor": "white",
                      "linecolor": "white",
                      "ticks": "",
                      "title": {
                        "standoff": 15
                      },
                      "zerolinecolor": "white",
                      "zerolinewidth": 2
                    }
                  }
                },
                "title": {
                  "text": "Frequency Distribution Bar Chart"
                },
                "xaxis": {
                  "anchor": "y",
                  "domain": [
                    0,
                    1
                  ],
                  "title": {
                    "text": "Gender (1=Male)"
                  }
                },
                "yaxis": {
                  "anchor": "x",
                  "domain": [
                    0,
                    1
                  ],
                  "title": {
                    "text": "Relative Frequency"
                  }
                }
              }
            }
          },
          "metadata": {},
          "output_type": "display_data"
        }
      ],
      "source": [
        "dfrf_1 = pd.DataFrame(rel_freq_table_1)\n",
        "fig = px.bar(x=dfrf_1.index, y=dfrf_1['count'], barmode='group',\n",
        "             title='Frequency Distribution Bar Chart')\n",
        "fig.update_layout(xaxis_title=\"Gender (1=Male)\")\n",
        "#For your solution, label the vertical axis correctly on the line below\n",
        "fig.update_layout(yaxis_title=\"Relative Frequency\") #SOLUTION\n",
        "fig.show()"
      ]
    },
    {
      "cell_type": "raw",
      "metadata": {},
      "source": [
        "# END SOLUTION"
      ]
    },
    {
      "cell_type": "raw",
      "metadata": {},
      "source": [
        "# BEGIN TESTS"
      ]
    },
    {
      "cell_type": "code",
      "execution_count": 61,
      "metadata": {},
      "outputs": [
        {
          "data": {
            "text/plain": [
              "True"
            ]
          },
          "execution_count": 61,
          "metadata": {},
          "output_type": "execute_result"
        }
      ],
      "source": [
        "len(dfrf_1)==2"
      ]
    },
    {
      "cell_type": "raw",
      "metadata": {},
      "source": [
        "# END TESTS"
      ]
    },
    {
      "cell_type": "markdown",
      "metadata": {
        "id": "0RkgFZfSV0gt"
      },
      "source": [
        "## **9. Describe the Distribution**\n",
        "Write a few sentences about the distribution of gender for these individuals."
      ]
    },
    {
      "cell_type": "markdown",
      "metadata": {
        "id": "mvIUrDNcZzri"
      },
      "source": [
        "## **10. Save and Turn In**\n",
        "* After completing 1-9 above, save this as a PDF. Note where you save it.\n",
        "* Go to Canvas, find the Project 0 assignment, upload the PDF, then Submit.\n"
      ]
    }
  ],
  "metadata": {
    "colab": {
      "provenance": []
    },
    "kernelspec": {
      "display_name": "Python 3 (ipykernel)",
      "language": "python",
      "name": "python3"
    },
    "language_info": {
      "codemirror_mode": {
        "name": "ipython",
        "version": 3
      },
      "file_extension": ".py",
      "mimetype": "text/x-python",
      "name": "python",
      "nbconvert_exporter": "python",
      "pygments_lexer": "ipython3",
      "version": "3.12.3"
    }
  },
  "nbformat": 4,
  "nbformat_minor": 0
}
